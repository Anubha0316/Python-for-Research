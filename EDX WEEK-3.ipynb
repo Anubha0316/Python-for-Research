{
 "cells": [
  {
   "cell_type": "markdown",
   "id": "f84922c6",
   "metadata": {},
   "source": [
    "# EDX WEEK-3 CASE STUDY-1"
   ]
  },
  {
   "cell_type": "code",
   "execution_count": 1,
   "id": "257431ce",
   "metadata": {},
   "outputs": [
    {
     "data": {
      "text/plain": [
       "'C:\\\\Users\\\\ANUBHA\\\\Python'"
      ]
     },
     "execution_count": 1,
     "metadata": {},
     "output_type": "execute_result"
    }
   ],
   "source": [
    "pwd"
   ]
  },
  {
   "cell_type": "code",
   "execution_count": 2,
   "id": "d756b4a5",
   "metadata": {},
   "outputs": [],
   "source": [
    "inputfile = \"translation.txt\"\n",
    "f = open(inputfile, \"r\")\n",
    "seq = f.read()"
   ]
  },
  {
   "cell_type": "code",
   "execution_count": 3,
   "id": "9ee8e1c3",
   "metadata": {},
   "outputs": [
    {
     "data": {
      "text/plain": [
       "'GGTCAGAAAAAGCCCTCTCCATGTCTACTCACGATACATCCCTGAAAACCACTGAGGAAGTGGCTTTTCA\\nGATCATCTTGCTTTGCCAGTTTGGGGTTGGGACTTTTGCCAATGTATTTCTCTTTGTCTATAATTTCTCT\\nCCAATCTCGACTGGTTCTAAACAGAGGCCCAGACAAGTGATTTTAAGACACATGGCTGTGGCCAATGCCT\\nTAACTCTCTTCCTCACTATATTTCCAAACAACATGATGACTTTTGCTCCAATTATTCCTCAAACTGACCT\\nCAAATGTAAATTAGAATTCTTCACTCGCCTCGTGGCAAGAAGCACAAACTTGTGTTCAACTTGTGTTCTG\\nAGTATCCATCAGTTTGTCACACTTGTTCCTGTTAATTCAGGTAAAGGAATACTCAGAGCAAGTGTCACAA\\nACATGGCAAGTTATTCTTGTTACAGTTGTTGGTTCTTCAGTGTCTTAAATAACATCTACATTCCAATTAA\\nGGTCACTGGTCCACAGTTAACAGACAATAACAATAACTCTAAAAGCAAGTTGTTCTGTTCCACTTCTGAT\\nTTCAGTGTAGGCATTGTCTTCTTGAGGTTTGCCCATGATGCCACATTCATGAGCATCATGGTCTGGACCA\\nGTGTCTCCATGGTACTTCTCCTCCATAGACATTGTCAGAGAATGCAGTACATATTCACTCTCAATCAGGA\\nCCCCAGGGGCCAAGCAGAGACCACAGCAACCCATACTATCCTGATGCTGGTAGTCACATTTGTTGGCTTT\\nTATCTTCTAAGTCTTATTTGTATCATCTTTTACACCTATTTTATATATTCTCATCATTCCCTGAGGCATT\\nGCAATGACATTTTGGTTTCGGGTTTCCCTACAATTTCTCCTTTACTGTTGACCTTCAGAGACCCTAAGGG\\nTCCTTGTTCTGTGTTCTTCAACTGTTGAAAGCCAGAGTCACTAAAAATGCCAAACACAGAAGACAGCTTT\\nGCTAATACCATTAAATACTTTATTCCATAAATATGTTTTTAAAAGCTTGTATGAACAAGGTATGGTGCTC\\nACTGCTATACTTATAAAAGAGTAAGGTTATAATCACTTGTTGATATGAAAAGATTTCTGGTTGGAATCTG\\nATTGAAACAGTGAGTTATTCACCACCCTCCATTCTCT'"
      ]
     },
     "execution_count": 3,
     "metadata": {},
     "output_type": "execute_result"
    }
   ],
   "source": [
    "seq"
   ]
  },
  {
   "cell_type": "code",
   "execution_count": 4,
   "id": "def3f286",
   "metadata": {},
   "outputs": [
    {
     "name": "stdout",
     "output_type": "stream",
     "text": [
      "GGTCAGAAAAAGCCCTCTCCATGTCTACTCACGATACATCCCTGAAAACCACTGAGGAAGTGGCTTTTCA\n",
      "GATCATCTTGCTTTGCCAGTTTGGGGTTGGGACTTTTGCCAATGTATTTCTCTTTGTCTATAATTTCTCT\n",
      "CCAATCTCGACTGGTTCTAAACAGAGGCCCAGACAAGTGATTTTAAGACACATGGCTGTGGCCAATGCCT\n",
      "TAACTCTCTTCCTCACTATATTTCCAAACAACATGATGACTTTTGCTCCAATTATTCCTCAAACTGACCT\n",
      "CAAATGTAAATTAGAATTCTTCACTCGCCTCGTGGCAAGAAGCACAAACTTGTGTTCAACTTGTGTTCTG\n",
      "AGTATCCATCAGTTTGTCACACTTGTTCCTGTTAATTCAGGTAAAGGAATACTCAGAGCAAGTGTCACAA\n",
      "ACATGGCAAGTTATTCTTGTTACAGTTGTTGGTTCTTCAGTGTCTTAAATAACATCTACATTCCAATTAA\n",
      "GGTCACTGGTCCACAGTTAACAGACAATAACAATAACTCTAAAAGCAAGTTGTTCTGTTCCACTTCTGAT\n",
      "TTCAGTGTAGGCATTGTCTTCTTGAGGTTTGCCCATGATGCCACATTCATGAGCATCATGGTCTGGACCA\n",
      "GTGTCTCCATGGTACTTCTCCTCCATAGACATTGTCAGAGAATGCAGTACATATTCACTCTCAATCAGGA\n",
      "CCCCAGGGGCCAAGCAGAGACCACAGCAACCCATACTATCCTGATGCTGGTAGTCACATTTGTTGGCTTT\n",
      "TATCTTCTAAGTCTTATTTGTATCATCTTTTACACCTATTTTATATATTCTCATCATTCCCTGAGGCATT\n",
      "GCAATGACATTTTGGTTTCGGGTTTCCCTACAATTTCTCCTTTACTGTTGACCTTCAGAGACCCTAAGGG\n",
      "TCCTTGTTCTGTGTTCTTCAACTGTTGAAAGCCAGAGTCACTAAAAATGCCAAACACAGAAGACAGCTTT\n",
      "GCTAATACCATTAAATACTTTATTCCATAAATATGTTTTTAAAAGCTTGTATGAACAAGGTATGGTGCTC\n",
      "ACTGCTATACTTATAAAAGAGTAAGGTTATAATCACTTGTTGATATGAAAAGATTTCTGGTTGGAATCTG\n",
      "ATTGAAACAGTGAGTTATTCACCACCCTCCATTCTCT\n"
     ]
    }
   ],
   "source": [
    "print(seq)"
   ]
  },
  {
   "cell_type": "code",
   "execution_count": 5,
   "id": "0cd25683",
   "metadata": {},
   "outputs": [],
   "source": [
    "seq = seq.replace(\"\\n\",\"\")"
   ]
  },
  {
   "cell_type": "code",
   "execution_count": 6,
   "id": "05f279c5",
   "metadata": {},
   "outputs": [
    {
     "data": {
      "text/plain": [
       "'GGTCAGAAAAAGCCCTCTCCATGTCTACTCACGATACATCCCTGAAAACCACTGAGGAAGTGGCTTTTCAGATCATCTTGCTTTGCCAGTTTGGGGTTGGGACTTTTGCCAATGTATTTCTCTTTGTCTATAATTTCTCTCCAATCTCGACTGGTTCTAAACAGAGGCCCAGACAAGTGATTTTAAGACACATGGCTGTGGCCAATGCCTTAACTCTCTTCCTCACTATATTTCCAAACAACATGATGACTTTTGCTCCAATTATTCCTCAAACTGACCTCAAATGTAAATTAGAATTCTTCACTCGCCTCGTGGCAAGAAGCACAAACTTGTGTTCAACTTGTGTTCTGAGTATCCATCAGTTTGTCACACTTGTTCCTGTTAATTCAGGTAAAGGAATACTCAGAGCAAGTGTCACAAACATGGCAAGTTATTCTTGTTACAGTTGTTGGTTCTTCAGTGTCTTAAATAACATCTACATTCCAATTAAGGTCACTGGTCCACAGTTAACAGACAATAACAATAACTCTAAAAGCAAGTTGTTCTGTTCCACTTCTGATTTCAGTGTAGGCATTGTCTTCTTGAGGTTTGCCCATGATGCCACATTCATGAGCATCATGGTCTGGACCAGTGTCTCCATGGTACTTCTCCTCCATAGACATTGTCAGAGAATGCAGTACATATTCACTCTCAATCAGGACCCCAGGGGCCAAGCAGAGACCACAGCAACCCATACTATCCTGATGCTGGTAGTCACATTTGTTGGCTTTTATCTTCTAAGTCTTATTTGTATCATCTTTTACACCTATTTTATATATTCTCATCATTCCCTGAGGCATTGCAATGACATTTTGGTTTCGGGTTTCCCTACAATTTCTCCTTTACTGTTGACCTTCAGAGACCCTAAGGGTCCTTGTTCTGTGTTCTTCAACTGTTGAAAGCCAGAGTCACTAAAAATGCCAAACACAGAAGACAGCTTTGCTAATACCATTAAATACTTTATTCCATAAATATGTTTTTAAAAGCTTGTATGAACAAGGTATGGTGCTCACTGCTATACTTATAAAAGAGTAAGGTTATAATCACTTGTTGATATGAAAAGATTTCTGGTTGGAATCTGATTGAAACAGTGAGTTATTCACCACCCTCCATTCTCT'"
      ]
     },
     "execution_count": 6,
     "metadata": {},
     "output_type": "execute_result"
    }
   ],
   "source": [
    "seq"
   ]
  },
  {
   "cell_type": "code",
   "execution_count": 7,
   "id": "c210afd0",
   "metadata": {},
   "outputs": [],
   "source": [
    "seq = seq.replace(\"\\r\",\"\")"
   ]
  },
  {
   "cell_type": "code",
   "execution_count": 8,
   "id": "f3491742",
   "metadata": {},
   "outputs": [
    {
     "data": {
      "text/plain": [
       "'GGTCAGAAAAAGCCCTCTCCATGTCTACTCACGATACATCCCTGAAAACCACTGAGGAAGTGGCTTTTCAGATCATCTTGCTTTGCCAGTTTGGGGTTGGGACTTTTGCCAATGTATTTCTCTTTGTCTATAATTTCTCTCCAATCTCGACTGGTTCTAAACAGAGGCCCAGACAAGTGATTTTAAGACACATGGCTGTGGCCAATGCCTTAACTCTCTTCCTCACTATATTTCCAAACAACATGATGACTTTTGCTCCAATTATTCCTCAAACTGACCTCAAATGTAAATTAGAATTCTTCACTCGCCTCGTGGCAAGAAGCACAAACTTGTGTTCAACTTGTGTTCTGAGTATCCATCAGTTTGTCACACTTGTTCCTGTTAATTCAGGTAAAGGAATACTCAGAGCAAGTGTCACAAACATGGCAAGTTATTCTTGTTACAGTTGTTGGTTCTTCAGTGTCTTAAATAACATCTACATTCCAATTAAGGTCACTGGTCCACAGTTAACAGACAATAACAATAACTCTAAAAGCAAGTTGTTCTGTTCCACTTCTGATTTCAGTGTAGGCATTGTCTTCTTGAGGTTTGCCCATGATGCCACATTCATGAGCATCATGGTCTGGACCAGTGTCTCCATGGTACTTCTCCTCCATAGACATTGTCAGAGAATGCAGTACATATTCACTCTCAATCAGGACCCCAGGGGCCAAGCAGAGACCACAGCAACCCATACTATCCTGATGCTGGTAGTCACATTTGTTGGCTTTTATCTTCTAAGTCTTATTTGTATCATCTTTTACACCTATTTTATATATTCTCATCATTCCCTGAGGCATTGCAATGACATTTTGGTTTCGGGTTTCCCTACAATTTCTCCTTTACTGTTGACCTTCAGAGACCCTAAGGGTCCTTGTTCTGTGTTCTTCAACTGTTGAAAGCCAGAGTCACTAAAAATGCCAAACACAGAAGACAGCTTTGCTAATACCATTAAATACTTTATTCCATAAATATGTTTTTAAAAGCTTGTATGAACAAGGTATGGTGCTCACTGCTATACTTATAAAAGAGTAAGGTTATAATCACTTGTTGATATGAAAAGATTTCTGGTTGGAATCTGATTGAAACAGTGAGTTATTCACCACCCTCCATTCTCT'"
      ]
     },
     "execution_count": 8,
     "metadata": {},
     "output_type": "execute_result"
    }
   ],
   "source": [
    "seq"
   ]
  },
  {
   "cell_type": "code",
   "execution_count": 9,
   "id": "dea6dae7",
   "metadata": {},
   "outputs": [],
   "source": [
    "table = {\n",
    "    'ATA':'I', 'ATC':'I', 'ATT':'I', 'ATG':'M',\n",
    "    'ACA':'T', 'ACC':'T', 'ACG':'T', 'ACT':'T',\n",
    "    'AAC':'N', 'AAT':'N', 'AAA':'K', 'AAG':'K',\n",
    "    'AGC':'S', 'AGT':'S', 'AGA':'R', 'AGG':'R',\n",
    "    'CTA':'L', 'CTC':'L', 'CTG':'L', 'CTT':'L',\n",
    "    'CCA':'P', 'CCC':'P', 'CCG':'P', 'CCT':'P',\n",
    "    'CAC':'H', 'CAT':'H', 'CAA':'Q', 'CAG':'Q',\n",
    "    'CGA':'R', 'CGC':'R', 'CGG':'R', 'CGT':'R',\n",
    "    'GTA':'V', 'GTC':'V', 'GTG':'V', 'GTT':'V',\n",
    "    'GCA':'A', 'GCC':'A', 'GCG':'A', 'GCT':'A',\n",
    "    'GAC':'D', 'GAT':'D', 'GAA':'E', 'GAG':'E',\n",
    "    'GGA':'G', 'GGC':'G', 'GGG':'G', 'GGT':'G',\n",
    "    'TCA':'S', 'TCC':'S', 'TCG':'S', 'TCT':'S',\n",
    "    'TTC':'F', 'TTT':'F', 'TTA':'L', 'TTG':'L',\n",
    "    'TAC':'Y', 'TAT':'Y', 'TAA':'_', 'TAG':'_',\n",
    "    'TGC':'C', 'TGT':'C', 'TGA':'_', 'TGG':'W',\n",
    "}"
   ]
  },
  {
   "cell_type": "code",
   "execution_count": 10,
   "id": "a9008de6",
   "metadata": {},
   "outputs": [
    {
     "data": {
      "text/plain": [
       "'Q'"
      ]
     },
     "execution_count": 10,
     "metadata": {},
     "output_type": "execute_result"
    }
   ],
   "source": [
    "table[\"CAA\"]"
   ]
  },
  {
   "cell_type": "code",
   "execution_count": 11,
   "id": "bfcdcf6f",
   "metadata": {},
   "outputs": [
    {
     "data": {
      "text/plain": [
       "'H'"
      ]
     },
     "execution_count": 11,
     "metadata": {},
     "output_type": "execute_result"
    }
   ],
   "source": [
    "table[\"CAT\"]"
   ]
  },
  {
   "cell_type": "code",
   "execution_count": 12,
   "id": "31c6af42",
   "metadata": {},
   "outputs": [
    {
     "data": {
      "text/plain": [
       "'P'"
      ]
     },
     "execution_count": 12,
     "metadata": {},
     "output_type": "execute_result"
    }
   ],
   "source": [
    "table[\"CCT\"]"
   ]
  },
  {
   "cell_type": "code",
   "execution_count": 13,
   "id": "d44e1d45",
   "metadata": {},
   "outputs": [
    {
     "data": {
      "text/plain": [
       "'A'"
      ]
     },
     "execution_count": 13,
     "metadata": {},
     "output_type": "execute_result"
    }
   ],
   "source": [
    "table[\"GCC\"]"
   ]
  },
  {
   "cell_type": "code",
   "execution_count": 14,
   "id": "21998541",
   "metadata": {},
   "outputs": [],
   "source": [
    "#check if sequence length is divisible by 3\n",
    "#loop over the sequence\n",
    "#extract a single codon\n",
    "#loop up the codon and store the result\n",
    "protein=\"\"\n",
    "if len(seq)%3==0:\n",
    "    for i in range(0,len(seq),3):\n",
    "        codon=seq[i:i+3]\n",
    "        protein+=table[codon]"
   ]
  },
  {
   "cell_type": "code",
   "execution_count": 15,
   "id": "e6aedc83",
   "metadata": {},
   "outputs": [],
   "source": [
    "def translate(seq):\n",
    "    \"\"\"Translate a string containing a nucleotide sequence into a string containing the corresponding sequence of amino acids . Nucleotides are translated in triplets using the table dictionary; each amino acid 4 is encoded with a string of length 1. \"\"\"\n",
    "    table = {\n",
    "    'ATA':'I', 'ATC':'I', 'ATT':'I', 'ATG':'M',\n",
    "    'ACA':'T', 'ACC':'T', 'ACG':'T', 'ACT':'T',\n",
    "    'AAC':'N', 'AAT':'N', 'AAA':'K', 'AAG':'K',\n",
    "    'AGC':'S', 'AGT':'S', 'AGA':'R', 'AGG':'R',\n",
    "    'CTA':'L', 'CTC':'L', 'CTG':'L', 'CTT':'L',\n",
    "    'CCA':'P', 'CCC':'P', 'CCG':'P', 'CCT':'P',\n",
    "    'CAC':'H', 'CAT':'H', 'CAA':'Q', 'CAG':'Q',\n",
    "    'CGA':'R', 'CGC':'R', 'CGG':'R', 'CGT':'R',\n",
    "    'GTA':'V', 'GTC':'V', 'GTG':'V', 'GTT':'V',\n",
    "    'GCA':'A', 'GCC':'A', 'GCG':'A', 'GCT':'A',\n",
    "    'GAC':'D', 'GAT':'D', 'GAA':'E', 'GAG':'E',\n",
    "    'GGA':'G', 'GGC':'G', 'GGG':'G', 'GGT':'G',\n",
    "    'TCA':'S', 'TCC':'S', 'TCG':'S', 'TCT':'S',\n",
    "    'TTC':'F', 'TTT':'F', 'TTA':'L', 'TTG':'L',\n",
    "    'TAC':'Y', 'TAT':'Y', 'TAA':'_', 'TAG':'_',\n",
    "    'TGC':'C', 'TGT':'C', 'TGA':'_', 'TGG':'W',\n",
    "    }\n",
    "    \n",
    "    protein=\"\"\n",
    "    if len(seq)%3==0:\n",
    "        for i in range(0,len(seq),3):\n",
    "            codon=seq[i:i+3]\n",
    "            protein+=table[codon]\n",
    "    \n",
    "    return protein"
   ]
  },
  {
   "cell_type": "code",
   "execution_count": 16,
   "id": "d7a3a1f0",
   "metadata": {},
   "outputs": [
    {
     "name": "stdout",
     "output_type": "stream",
     "text": [
      "Help on function translate in module __main__:\n",
      "\n",
      "translate(seq)\n",
      "    Translate a string containing a nucleotide sequence into a string containing the corresponding sequence of amino acids . Nucleotides are translated in triplets using the table dictionary; each amino acid 4 is encoded with a string of length 1.\n",
      "\n"
     ]
    }
   ],
   "source": [
    "help(translate)"
   ]
  },
  {
   "cell_type": "code",
   "execution_count": 17,
   "id": "303388ff",
   "metadata": {},
   "outputs": [
    {
     "data": {
      "text/plain": [
       "'I'"
      ]
     },
     "execution_count": 17,
     "metadata": {},
     "output_type": "execute_result"
    }
   ],
   "source": [
    "translate(\"ATA\")"
   ]
  },
  {
   "cell_type": "code",
   "execution_count": 18,
   "id": "1eaed8ee",
   "metadata": {},
   "outputs": [
    {
     "name": "stdout",
     "output_type": "stream",
     "text": [
      "G\n",
      "G\n",
      "T\n",
      "C\n",
      "A\n",
      "G\n",
      "A\n",
      "A\n",
      "A\n",
      "A\n",
      "A\n",
      "G\n",
      "C\n",
      "C\n",
      "C\n",
      "T\n",
      "C\n",
      "T\n",
      "C\n",
      "C\n",
      "A\n",
      "T\n",
      "G\n",
      "T\n",
      "C\n",
      "T\n",
      "A\n",
      "C\n",
      "T\n",
      "C\n",
      "A\n",
      "C\n",
      "G\n",
      "A\n",
      "T\n",
      "A\n",
      "C\n",
      "A\n",
      "T\n",
      "C\n",
      "C\n",
      "C\n",
      "T\n",
      "G\n",
      "A\n",
      "A\n",
      "A\n",
      "A\n",
      "C\n",
      "C\n",
      "A\n",
      "C\n",
      "T\n",
      "G\n",
      "A\n",
      "G\n",
      "G\n",
      "A\n",
      "A\n",
      "G\n",
      "T\n",
      "G\n",
      "G\n",
      "C\n",
      "T\n",
      "T\n",
      "T\n",
      "T\n",
      "C\n",
      "A\n",
      "G\n",
      "A\n",
      "T\n",
      "C\n",
      "A\n",
      "T\n",
      "C\n",
      "T\n",
      "T\n",
      "G\n",
      "C\n",
      "T\n",
      "T\n",
      "T\n",
      "G\n",
      "C\n",
      "C\n",
      "A\n",
      "G\n",
      "T\n",
      "T\n",
      "T\n",
      "G\n",
      "G\n",
      "G\n",
      "G\n",
      "T\n",
      "T\n",
      "G\n",
      "G\n",
      "G\n",
      "A\n",
      "C\n",
      "T\n",
      "T\n",
      "T\n",
      "T\n",
      "G\n",
      "C\n",
      "C\n",
      "A\n",
      "A\n",
      "T\n",
      "G\n",
      "T\n",
      "A\n",
      "T\n",
      "T\n",
      "T\n",
      "C\n",
      "T\n",
      "C\n",
      "T\n",
      "T\n",
      "T\n",
      "G\n",
      "T\n",
      "C\n",
      "T\n",
      "A\n",
      "T\n",
      "A\n",
      "A\n",
      "T\n",
      "T\n",
      "T\n",
      "C\n",
      "T\n",
      "C\n",
      "T\n",
      "C\n",
      "C\n",
      "A\n",
      "A\n",
      "T\n",
      "C\n",
      "T\n",
      "C\n",
      "G\n",
      "A\n",
      "C\n",
      "T\n",
      "G\n",
      "G\n",
      "T\n",
      "T\n",
      "C\n",
      "T\n",
      "A\n",
      "A\n",
      "A\n",
      "C\n",
      "A\n",
      "G\n",
      "A\n",
      "G\n",
      "G\n",
      "C\n",
      "C\n",
      "C\n",
      "A\n",
      "G\n",
      "A\n",
      "C\n",
      "A\n",
      "A\n",
      "G\n",
      "T\n",
      "G\n",
      "A\n",
      "T\n",
      "T\n",
      "T\n",
      "T\n",
      "A\n",
      "A\n",
      "G\n",
      "A\n",
      "C\n",
      "A\n",
      "C\n",
      "A\n",
      "T\n",
      "G\n",
      "G\n",
      "C\n",
      "T\n",
      "G\n",
      "T\n",
      "G\n",
      "G\n",
      "C\n",
      "C\n",
      "A\n",
      "A\n",
      "T\n",
      "G\n",
      "C\n",
      "C\n",
      "T\n",
      "T\n",
      "A\n",
      "A\n",
      "C\n",
      "T\n",
      "C\n",
      "T\n",
      "C\n",
      "T\n",
      "T\n",
      "C\n",
      "C\n",
      "T\n",
      "C\n",
      "A\n",
      "C\n",
      "T\n",
      "A\n",
      "T\n",
      "A\n",
      "T\n",
      "T\n",
      "T\n",
      "C\n",
      "C\n",
      "A\n",
      "A\n",
      "A\n",
      "C\n",
      "A\n",
      "A\n",
      "C\n",
      "A\n",
      "T\n",
      "G\n",
      "A\n",
      "T\n",
      "G\n",
      "A\n",
      "C\n",
      "T\n",
      "T\n",
      "T\n",
      "T\n",
      "G\n",
      "C\n",
      "T\n",
      "C\n",
      "C\n",
      "A\n",
      "A\n",
      "T\n",
      "T\n",
      "A\n",
      "T\n",
      "T\n",
      "C\n",
      "C\n",
      "T\n",
      "C\n",
      "A\n",
      "A\n",
      "A\n",
      "C\n",
      "T\n",
      "G\n",
      "A\n",
      "C\n",
      "C\n",
      "T\n",
      "C\n",
      "A\n",
      "A\n",
      "A\n",
      "T\n",
      "G\n",
      "T\n",
      "A\n",
      "A\n",
      "A\n",
      "T\n",
      "T\n",
      "A\n",
      "G\n",
      "A\n",
      "A\n",
      "T\n",
      "T\n",
      "C\n",
      "T\n",
      "T\n",
      "C\n",
      "A\n",
      "C\n",
      "T\n",
      "C\n",
      "G\n",
      "C\n",
      "C\n",
      "T\n",
      "C\n",
      "G\n",
      "T\n",
      "G\n",
      "G\n",
      "C\n",
      "A\n",
      "A\n",
      "G\n",
      "A\n",
      "A\n",
      "G\n",
      "C\n",
      "A\n",
      "C\n",
      "A\n",
      "A\n",
      "A\n",
      "C\n",
      "T\n",
      "T\n",
      "G\n",
      "T\n",
      "G\n",
      "T\n",
      "T\n",
      "C\n",
      "A\n",
      "A\n",
      "C\n",
      "T\n",
      "T\n",
      "G\n",
      "T\n",
      "G\n",
      "T\n",
      "T\n",
      "C\n",
      "T\n",
      "G\n",
      "A\n",
      "G\n",
      "T\n",
      "A\n",
      "T\n",
      "C\n",
      "C\n",
      "A\n",
      "T\n",
      "C\n",
      "A\n",
      "G\n",
      "T\n",
      "T\n",
      "T\n",
      "G\n",
      "T\n",
      "C\n",
      "A\n",
      "C\n",
      "A\n",
      "C\n",
      "T\n",
      "T\n",
      "G\n",
      "T\n",
      "T\n",
      "C\n",
      "C\n",
      "T\n",
      "G\n",
      "T\n",
      "T\n",
      "A\n",
      "A\n",
      "T\n",
      "T\n",
      "C\n",
      "A\n",
      "G\n",
      "G\n",
      "T\n",
      "A\n",
      "A\n",
      "A\n",
      "G\n",
      "G\n",
      "A\n",
      "A\n",
      "T\n",
      "A\n",
      "C\n",
      "T\n",
      "C\n",
      "A\n",
      "G\n",
      "A\n",
      "G\n",
      "C\n",
      "A\n",
      "A\n",
      "G\n",
      "T\n",
      "G\n",
      "T\n",
      "C\n",
      "A\n",
      "C\n",
      "A\n",
      "A\n",
      "A\n",
      "C\n",
      "A\n",
      "T\n",
      "G\n",
      "G\n",
      "C\n",
      "A\n",
      "A\n",
      "G\n",
      "T\n",
      "T\n",
      "A\n",
      "T\n",
      "T\n",
      "C\n",
      "T\n",
      "T\n",
      "G\n",
      "T\n",
      "T\n",
      "A\n",
      "C\n",
      "A\n",
      "G\n",
      "T\n",
      "T\n",
      "G\n",
      "T\n",
      "T\n",
      "G\n",
      "G\n",
      "T\n",
      "T\n",
      "C\n",
      "T\n",
      "T\n",
      "C\n",
      "A\n",
      "G\n",
      "T\n",
      "G\n",
      "T\n",
      "C\n",
      "T\n",
      "T\n",
      "A\n",
      "A\n",
      "A\n",
      "T\n",
      "A\n",
      "A\n",
      "C\n",
      "A\n",
      "T\n",
      "C\n",
      "T\n",
      "A\n",
      "C\n",
      "A\n",
      "T\n",
      "T\n",
      "C\n",
      "C\n",
      "A\n",
      "A\n",
      "T\n",
      "T\n",
      "A\n",
      "A\n",
      "G\n",
      "G\n",
      "T\n",
      "C\n",
      "A\n",
      "C\n",
      "T\n",
      "G\n",
      "G\n",
      "T\n",
      "C\n",
      "C\n",
      "A\n",
      "C\n",
      "A\n",
      "G\n",
      "T\n",
      "T\n",
      "A\n",
      "A\n",
      "C\n",
      "A\n",
      "G\n",
      "A\n",
      "C\n",
      "A\n",
      "A\n",
      "T\n",
      "A\n",
      "A\n",
      "C\n",
      "A\n",
      "A\n",
      "T\n",
      "A\n",
      "A\n",
      "C\n",
      "T\n",
      "C\n",
      "T\n",
      "A\n",
      "A\n",
      "A\n",
      "A\n",
      "G\n",
      "C\n",
      "A\n",
      "A\n",
      "G\n",
      "T\n",
      "T\n",
      "G\n",
      "T\n",
      "T\n",
      "C\n",
      "T\n",
      "G\n",
      "T\n",
      "T\n",
      "C\n",
      "C\n",
      "A\n",
      "C\n",
      "T\n",
      "T\n",
      "C\n",
      "T\n",
      "G\n",
      "A\n",
      "T\n",
      "T\n",
      "T\n",
      "C\n",
      "A\n",
      "G\n",
      "T\n",
      "G\n",
      "T\n",
      "A\n",
      "G\n",
      "G\n",
      "C\n",
      "A\n",
      "T\n",
      "T\n",
      "G\n",
      "T\n",
      "C\n",
      "T\n",
      "T\n",
      "C\n",
      "T\n",
      "T\n",
      "G\n",
      "A\n",
      "G\n",
      "G\n",
      "T\n",
      "T\n",
      "T\n",
      "G\n",
      "C\n",
      "C\n",
      "C\n",
      "A\n",
      "T\n",
      "G\n",
      "A\n",
      "T\n",
      "G\n",
      "C\n",
      "C\n",
      "A\n",
      "C\n",
      "A\n",
      "T\n",
      "T\n",
      "C\n",
      "A\n",
      "T\n",
      "G\n",
      "A\n",
      "G\n",
      "C\n",
      "A\n",
      "T\n",
      "C\n",
      "A\n",
      "T\n",
      "G\n",
      "G\n",
      "T\n",
      "C\n",
      "T\n",
      "G\n",
      "G\n",
      "A\n",
      "C\n",
      "C\n",
      "A\n",
      "G\n",
      "T\n",
      "G\n",
      "T\n",
      "C\n",
      "T\n",
      "C\n",
      "C\n",
      "A\n",
      "T\n",
      "G\n",
      "G\n",
      "T\n",
      "A\n",
      "C\n",
      "T\n",
      "T\n",
      "C\n",
      "T\n",
      "C\n",
      "C\n",
      "T\n",
      "C\n",
      "C\n",
      "A\n",
      "T\n",
      "A\n",
      "G\n",
      "A\n",
      "C\n",
      "A\n",
      "T\n",
      "T\n",
      "G\n",
      "T\n",
      "C\n",
      "A\n",
      "G\n",
      "A\n",
      "G\n",
      "A\n",
      "A\n",
      "T\n",
      "G\n",
      "C\n",
      "A\n",
      "G\n",
      "T\n",
      "A\n",
      "C\n",
      "A\n",
      "T\n",
      "A\n",
      "T\n",
      "T\n",
      "C\n",
      "A\n",
      "C\n",
      "T\n",
      "C\n",
      "T\n",
      "C\n",
      "A\n",
      "A\n",
      "T\n",
      "C\n",
      "A\n",
      "G\n",
      "G\n",
      "A\n",
      "C\n",
      "C\n",
      "C\n",
      "C\n",
      "A\n",
      "G\n",
      "G\n",
      "G\n",
      "G\n",
      "C\n",
      "C\n",
      "A\n",
      "A\n",
      "G\n",
      "C\n",
      "A\n",
      "G\n",
      "A\n",
      "G\n",
      "A\n",
      "C\n",
      "C\n",
      "A\n",
      "C\n",
      "A\n",
      "G\n",
      "C\n",
      "A\n",
      "A\n",
      "C\n",
      "C\n",
      "C\n",
      "A\n",
      "T\n",
      "A\n",
      "C\n",
      "T\n",
      "A\n",
      "T\n",
      "C\n",
      "C\n",
      "T\n",
      "G\n",
      "A\n",
      "T\n",
      "G\n",
      "C\n",
      "T\n",
      "G\n",
      "G\n",
      "T\n",
      "A\n",
      "G\n",
      "T\n",
      "C\n",
      "A\n",
      "C\n",
      "A\n",
      "T\n",
      "T\n",
      "T\n",
      "G\n",
      "T\n",
      "T\n",
      "G\n",
      "G\n",
      "C\n",
      "T\n",
      "T\n",
      "T\n",
      "T\n",
      "A\n",
      "T\n",
      "C\n",
      "T\n",
      "T\n",
      "C\n",
      "T\n",
      "A\n",
      "A\n",
      "G\n",
      "T\n",
      "C\n",
      "T\n",
      "T\n",
      "A\n",
      "T\n",
      "T\n",
      "T\n",
      "G\n",
      "T\n",
      "A\n",
      "T\n",
      "C\n",
      "A\n",
      "T\n",
      "C\n",
      "T\n",
      "T\n",
      "T\n",
      "T\n",
      "A\n",
      "C\n",
      "A\n",
      "C\n",
      "C\n",
      "T\n",
      "A\n",
      "T\n",
      "T\n",
      "T\n",
      "T\n",
      "A\n",
      "T\n",
      "A\n",
      "T\n",
      "A\n",
      "T\n",
      "T\n",
      "C\n",
      "T\n",
      "C\n",
      "A\n",
      "T\n",
      "C\n",
      "A\n",
      "T\n",
      "T\n",
      "C\n",
      "C\n",
      "C\n",
      "T\n",
      "G\n",
      "A\n",
      "G\n",
      "G\n",
      "C\n",
      "A\n",
      "T\n",
      "T\n",
      "G\n",
      "C\n",
      "A\n",
      "A\n",
      "T\n",
      "G\n",
      "A\n",
      "C\n",
      "A\n",
      "T\n",
      "T\n",
      "T\n",
      "T\n",
      "G\n",
      "G\n",
      "T\n",
      "T\n",
      "T\n",
      "C\n",
      "G\n",
      "G\n",
      "G\n",
      "T\n",
      "T\n",
      "T\n",
      "C\n",
      "C\n",
      "C\n",
      "T\n",
      "A\n",
      "C\n",
      "A\n",
      "A\n",
      "T\n",
      "T\n",
      "T\n",
      "C\n",
      "T\n",
      "C\n",
      "C\n",
      "T\n",
      "T\n",
      "T\n",
      "A\n",
      "C\n",
      "T\n",
      "G\n",
      "T\n",
      "T\n",
      "G\n",
      "A\n",
      "C\n",
      "C\n",
      "T\n",
      "T\n",
      "C\n",
      "A\n",
      "G\n",
      "A\n",
      "G\n",
      "A\n",
      "C\n",
      "C\n",
      "C\n",
      "T\n",
      "A\n",
      "A\n",
      "G\n",
      "G\n",
      "G\n",
      "T\n",
      "C\n",
      "C\n",
      "T\n",
      "T\n",
      "G\n",
      "T\n",
      "T\n",
      "C\n",
      "T\n",
      "G\n",
      "T\n",
      "G\n",
      "T\n",
      "T\n",
      "C\n",
      "T\n",
      "T\n",
      "C\n",
      "A\n",
      "A\n",
      "C\n",
      "T\n",
      "G\n",
      "T\n",
      "T\n",
      "G\n",
      "A\n",
      "A\n",
      "A\n",
      "G\n",
      "C\n",
      "C\n",
      "A\n",
      "G\n",
      "A\n",
      "G\n",
      "T\n",
      "C\n",
      "A\n",
      "C\n",
      "T\n",
      "A\n",
      "A\n",
      "A\n",
      "A\n",
      "A\n",
      "T\n",
      "G\n",
      "C\n",
      "C\n",
      "A\n",
      "A\n",
      "A\n",
      "C\n",
      "A\n",
      "C\n",
      "A\n",
      "G\n",
      "A\n",
      "A\n",
      "G\n",
      "A\n",
      "C\n",
      "A\n",
      "G\n",
      "C\n",
      "T\n",
      "T\n",
      "T\n",
      "G\n",
      "C\n",
      "T\n",
      "A\n",
      "A\n",
      "T\n",
      "A\n",
      "C\n",
      "C\n",
      "A\n",
      "T\n",
      "T\n",
      "A\n",
      "A\n",
      "A\n",
      "T\n",
      "A\n",
      "C\n",
      "T\n",
      "T\n",
      "T\n",
      "A\n",
      "T\n",
      "T\n",
      "C\n",
      "C\n",
      "A\n",
      "T\n",
      "A\n",
      "A\n",
      "A\n",
      "T\n",
      "A\n",
      "T\n",
      "G\n",
      "T\n",
      "T\n",
      "T\n",
      "T\n",
      "T\n",
      "A\n",
      "A\n",
      "A\n",
      "A\n",
      "G\n",
      "C\n",
      "T\n",
      "T\n",
      "G\n",
      "T\n",
      "A\n",
      "T\n",
      "G\n",
      "A\n",
      "A\n",
      "C\n",
      "A\n",
      "A\n",
      "G\n",
      "G\n",
      "T\n",
      "A\n",
      "T\n",
      "G\n",
      "G\n",
      "T\n",
      "G\n",
      "C\n",
      "T\n",
      "C\n",
      "A\n",
      "C\n",
      "T\n",
      "G\n",
      "C\n",
      "T\n",
      "A\n",
      "T\n",
      "A\n",
      "C\n",
      "T\n",
      "T\n",
      "A\n",
      "T\n",
      "A\n",
      "A\n",
      "A\n",
      "A\n",
      "G\n",
      "A\n",
      "G\n",
      "T\n",
      "A\n",
      "A\n",
      "G\n",
      "G\n",
      "T\n",
      "T\n",
      "A\n",
      "T\n",
      "A\n",
      "A\n",
      "T\n",
      "C\n",
      "A\n",
      "C\n",
      "T\n",
      "T\n",
      "G\n",
      "T\n",
      "T\n",
      "G\n",
      "A\n",
      "T\n",
      "A\n",
      "T\n",
      "G\n",
      "A\n",
      "A\n",
      "A\n",
      "A\n",
      "G\n",
      "A\n",
      "T\n",
      "T\n",
      "T\n",
      "C\n",
      "T\n",
      "G\n",
      "G\n",
      "T\n",
      "T\n",
      "G\n",
      "G\n",
      "A\n",
      "A\n",
      "T\n",
      "C\n",
      "T\n",
      "G\n",
      "A\n",
      "T\n",
      "T\n",
      "G\n",
      "A\n",
      "A\n",
      "A\n",
      "C\n",
      "A\n",
      "G\n",
      "T\n",
      "G\n",
      "A\n",
      "G\n",
      "T\n",
      "T\n",
      "A\n",
      "T\n",
      "T\n",
      "C\n",
      "A\n",
      "C\n",
      "C\n",
      "A\n",
      "C\n",
      "C\n",
      "C\n",
      "T\n",
      "C\n",
      "C\n",
      "A\n",
      "T\n",
      "T\n",
      "C\n",
      "T\n",
      "C\n",
      "T\n"
     ]
    }
   ],
   "source": [
    "for s in seq:\n",
    "    print(s)"
   ]
  },
  {
   "cell_type": "code",
   "execution_count": 19,
   "id": "2377cbfc",
   "metadata": {},
   "outputs": [
    {
     "data": {
      "text/plain": [
       "'GGT'"
      ]
     },
     "execution_count": 19,
     "metadata": {},
     "output_type": "execute_result"
    }
   ],
   "source": [
    "seq[0:3]"
   ]
  },
  {
   "cell_type": "code",
   "execution_count": 20,
   "id": "455142c6",
   "metadata": {},
   "outputs": [
    {
     "data": {
      "text/plain": [
       "'CAG'"
      ]
     },
     "execution_count": 20,
     "metadata": {},
     "output_type": "execute_result"
    }
   ],
   "source": [
    "seq[3:6]"
   ]
  },
  {
   "cell_type": "code",
   "execution_count": 21,
   "id": "385e0e8f",
   "metadata": {},
   "outputs": [
    {
     "data": {
      "text/plain": [
       "'AAA'"
      ]
     },
     "execution_count": 21,
     "metadata": {},
     "output_type": "execute_result"
    }
   ],
   "source": [
    "seq[6:9]"
   ]
  },
  {
   "cell_type": "code",
   "execution_count": 22,
   "id": "3e6e21e5",
   "metadata": {},
   "outputs": [
    {
     "data": {
      "text/plain": [
       "[0, 3, 6, 9]"
      ]
     },
     "execution_count": 22,
     "metadata": {},
     "output_type": "execute_result"
    }
   ],
   "source": [
    "list(range(0,11,3))"
   ]
  },
  {
   "cell_type": "code",
   "execution_count": 23,
   "id": "544d5954",
   "metadata": {},
   "outputs": [
    {
     "data": {
      "text/plain": [
       "1157"
      ]
     },
     "execution_count": 23,
     "metadata": {},
     "output_type": "execute_result"
    }
   ],
   "source": [
    "len(seq)"
   ]
  },
  {
   "cell_type": "code",
   "execution_count": 24,
   "id": "e479471e",
   "metadata": {},
   "outputs": [
    {
     "data": {
      "text/plain": [
       "2"
      ]
     },
     "execution_count": 24,
     "metadata": {},
     "output_type": "execute_result"
    }
   ],
   "source": [
    "len(seq) % 3"
   ]
  },
  {
   "cell_type": "code",
   "execution_count": 25,
   "id": "3718b542",
   "metadata": {},
   "outputs": [
    {
     "data": {
      "text/plain": [
       "8"
      ]
     },
     "execution_count": 25,
     "metadata": {},
     "output_type": "execute_result"
    }
   ],
   "source": [
    "138 % 13"
   ]
  },
  {
   "cell_type": "markdown",
   "id": "b1a62bff",
   "metadata": {},
   "source": [
    "# Actual code:"
   ]
  },
  {
   "cell_type": "code",
   "execution_count": 26,
   "id": "ba6ae341",
   "metadata": {},
   "outputs": [],
   "source": [
    "inputfile = \"translation.txt\"\n",
    "f = open(inputfile, \"r\")\n",
    "seq = f.read()\n",
    "\n",
    "seq = seq.replace(\"\\n\",\"\")\n",
    "seq = seq.replace(\"\\r\",\"\")\n",
    "\n",
    "def translate(seq):\n",
    "    \"\"\"Translate a string containing a nucleotide sequence into a string containing the corresponding sequence of amino acids . Nucleotides are translated in triplets using the table dictionary; each amino acid 4 is encoded with a string of length 1. \"\"\"\n",
    "    table = {\n",
    "    'ATA':'I', 'ATC':'I', 'ATT':'I', 'ATG':'M',\n",
    "    'ACA':'T', 'ACC':'T', 'ACG':'T', 'ACT':'T',\n",
    "    'AAC':'N', 'AAT':'N', 'AAA':'K', 'AAG':'K',\n",
    "    'AGC':'S', 'AGT':'S', 'AGA':'R', 'AGG':'R',\n",
    "    'CTA':'L', 'CTC':'L', 'CTG':'L', 'CTT':'L',\n",
    "    'CCA':'P', 'CCC':'P', 'CCG':'P', 'CCT':'P',\n",
    "    'CAC':'H', 'CAT':'H', 'CAA':'Q', 'CAG':'Q',\n",
    "    'CGA':'R', 'CGC':'R', 'CGG':'R', 'CGT':'R',\n",
    "    'GTA':'V', 'GTC':'V', 'GTG':'V', 'GTT':'V',\n",
    "    'GCA':'A', 'GCC':'A', 'GCG':'A', 'GCT':'A',\n",
    "    'GAC':'D', 'GAT':'D', 'GAA':'E', 'GAG':'E',\n",
    "    'GGA':'G', 'GGC':'G', 'GGG':'G', 'GGT':'G',\n",
    "    'TCA':'S', 'TCC':'S', 'TCG':'S', 'TCT':'S',\n",
    "    'TTC':'F', 'TTT':'F', 'TTA':'L', 'TTG':'L',\n",
    "    'TAC':'Y', 'TAT':'Y', 'TAA':'_', 'TAG':'_',\n",
    "    'TGC':'C', 'TGT':'C', 'TGA':'_', 'TGG':'W',\n",
    "    }\n",
    "    \n",
    "    protein=\"\"\n",
    "    if len(seq)%3==0:\n",
    "        for i in range(0,len(seq),3):\n",
    "            codon=seq[i:i+3]\n",
    "            protein+=table[codon]\n",
    "    \n",
    "    return protein"
   ]
  },
  {
   "cell_type": "code",
   "execution_count": 27,
   "id": "6d2718be",
   "metadata": {},
   "outputs": [
    {
     "data": {
      "text/plain": [
       "'F'"
      ]
     },
     "execution_count": 27,
     "metadata": {},
     "output_type": "execute_result"
    }
   ],
   "source": [
    "translate(\"TTT\")"
   ]
  },
  {
   "cell_type": "markdown",
   "id": "8b3f4fdd",
   "metadata": {},
   "source": [
    "# Using with statement"
   ]
  },
  {
   "cell_type": "code",
   "execution_count": 28,
   "id": "a5fc42a7",
   "metadata": {},
   "outputs": [],
   "source": [
    "def read_seq(inputfile):\n",
    "    \"\"\"Reads and return input sequence with special characters removed\"\"\"\n",
    "    with open(inputfile, \"r\") as f:\n",
    "        seq = f.read()\n",
    "        seq = seq.replace(\"\\n\",\"\")\n",
    "        seq = seq.replace(\"\\r\",\"\")\n",
    "    return seq\n",
    "\n",
    "inputfile = \"translation.txt\"\n",
    "with open(inputfile, \"r\") as f:\n",
    "    seq = f.read()\n",
    "\n",
    "seq = seq.replace(\"\\n\",\"\")\n",
    "seq = seq.replace(\"\\r\",\"\")\n",
    "\n",
    "def translate(seq):\n",
    "    \"\"\"Translate a string containing a nucleotide sequence into a string containing the corresponding sequence of amino acids . Nucleotides are translated in triplets using the table dictionary; each amino acid 4 is encoded with a string of length 1. \"\"\"\n",
    "    table = {\n",
    "    'ATA':'I', 'ATC':'I', 'ATT':'I', 'ATG':'M',\n",
    "    'ACA':'T', 'ACC':'T', 'ACG':'T', 'ACT':'T',\n",
    "    'AAC':'N', 'AAT':'N', 'AAA':'K', 'AAG':'K',\n",
    "    'AGC':'S', 'AGT':'S', 'AGA':'R', 'AGG':'R',\n",
    "    'CTA':'L', 'CTC':'L', 'CTG':'L', 'CTT':'L',\n",
    "    'CCA':'P', 'CCC':'P', 'CCG':'P', 'CCT':'P',\n",
    "    'CAC':'H', 'CAT':'H', 'CAA':'Q', 'CAG':'Q',\n",
    "    'CGA':'R', 'CGC':'R', 'CGG':'R', 'CGT':'R',\n",
    "    'GTA':'V', 'GTC':'V', 'GTG':'V', 'GTT':'V',\n",
    "    'GCA':'A', 'GCC':'A', 'GCG':'A', 'GCT':'A',\n",
    "    'GAC':'D', 'GAT':'D', 'GAA':'E', 'GAG':'E',\n",
    "    'GGA':'G', 'GGC':'G', 'GGG':'G', 'GGT':'G',\n",
    "    'TCA':'S', 'TCC':'S', 'TCG':'S', 'TCT':'S',\n",
    "    'TTC':'F', 'TTT':'F', 'TTA':'L', 'TTG':'L',\n",
    "    'TAC':'Y', 'TAT':'Y', 'TAA':'_', 'TAG':'_',\n",
    "    'TGC':'C', 'TGT':'C', 'TGA':'_', 'TGG':'W',\n",
    "    }\n",
    "    \n",
    "    protein=\"\"\n",
    "    if len(seq)%3==0:\n",
    "        for i in range(0,len(seq),3):\n",
    "            codon=seq[i:i+3]\n",
    "            protein+=table[codon]\n",
    "    \n",
    "    return protein"
   ]
  },
  {
   "cell_type": "code",
   "execution_count": 29,
   "id": "f1e54056",
   "metadata": {},
   "outputs": [],
   "source": [
    "prt = read_seq(\"protein.txt\")"
   ]
  },
  {
   "cell_type": "code",
   "execution_count": 30,
   "id": "5ea93e09",
   "metadata": {},
   "outputs": [],
   "source": [
    "dna = read_seq(\"translation.txt\")"
   ]
  },
  {
   "cell_type": "code",
   "execution_count": 31,
   "id": "b4bc364a",
   "metadata": {},
   "outputs": [
    {
     "data": {
      "text/plain": [
       "''"
      ]
     },
     "execution_count": 31,
     "metadata": {},
     "output_type": "execute_result"
    }
   ],
   "source": [
    "translate(dna)"
   ]
  },
  {
   "cell_type": "code",
   "execution_count": 32,
   "id": "4a54e444",
   "metadata": {},
   "outputs": [
    {
     "data": {
      "text/plain": [
       "2"
      ]
     },
     "execution_count": 32,
     "metadata": {},
     "output_type": "execute_result"
    }
   ],
   "source": [
    "len(dna)%3"
   ]
  },
  {
   "cell_type": "code",
   "execution_count": 33,
   "id": "07c54830",
   "metadata": {},
   "outputs": [
    {
     "data": {
      "text/plain": [
       "'MSTHDTSLKTTEEVAFQIILLCQFGVGTFANVFLFVYNFSPISTGSKQRPRQVILRHMAVANALTLFLTIFPNNMMTFAPIIPQTDLKCKLEFFTRLVARSTNLCSTCVLSIHQFVTLVPVNSGKGILRASVTNMASYSCYSCWFFSVLNNIYIPIKVTGPQLTDNNNNSKSKLFCSTSDFSVGIVFLRFAHDATFMSIMVWTSVSMVLLLHRHCQRMQYIFTLNQDPRGQAETTATHTILMLVVTFVGFYLLSLICIIFYTYFIYSHHSLRHCNDILVSGFPTISPLLLTFRDPKGPCSVFFNC_'"
      ]
     },
     "execution_count": 33,
     "metadata": {},
     "output_type": "execute_result"
    }
   ],
   "source": [
    "translate(dna[20:938])"
   ]
  },
  {
   "cell_type": "code",
   "execution_count": 34,
   "id": "a4d350da",
   "metadata": {},
   "outputs": [
    {
     "data": {
      "text/plain": [
       "'MSTHDTSLKTTEEVAFQIILLCQFGVGTFANVFLFVYNFSPISTGSKQRPRQVILRHMAVANALTLFLTIFPNNMMTFAPIIPQTDLKCKLEFFTRLVARSTNLCSTCVLSIHQFVTLVPVNSGKGILRASVTNMASYSCYSCWFFSVLNNIYIPIKVTGPQLTDNNNNSKSKLFCSTSDFSVGIVFLRFAHDATFMSIMVWTSVSMVLLLHRHCQRMQYIFTLNQDPRGQAETTATHTILMLVVTFVGFYLLSLICIIFYTYFIYSHHSLRHCNDILVSGFPTISPLLLTFRDPKGPCSVFFNC'"
      ]
     },
     "execution_count": 34,
     "metadata": {},
     "output_type": "execute_result"
    }
   ],
   "source": [
    "prt"
   ]
  },
  {
   "cell_type": "code",
   "execution_count": 35,
   "id": "ff2b1bce",
   "metadata": {},
   "outputs": [
    {
     "data": {
      "text/plain": [
       "'MSTHDTSLKTTEEVAFQIILLCQFGVGTFANVFLFVYNFSPISTGSKQRPRQVILRHMAVANALTLFLTIFPNNMMTFAPIIPQTDLKCKLEFFTRLVARSTNLCSTCVLSIHQFVTLVPVNSGKGILRASVTNMASYSCYSCWFFSVLNNIYIPIKVTGPQLTDNNNNSKSKLFCSTSDFSVGIVFLRFAHDATFMSIMVWTSVSMVLLLHRHCQRMQYIFTLNQDPRGQAETTATHTILMLVVTFVGFYLLSLICIIFYTYFIYSHHSLRHCNDILVSGFPTISPLLLTFRDPKGPCSVFFNC'"
      ]
     },
     "execution_count": 35,
     "metadata": {},
     "output_type": "execute_result"
    }
   ],
   "source": [
    "translate(dna[20:935])"
   ]
  },
  {
   "cell_type": "code",
   "execution_count": 36,
   "id": "e4d8d089",
   "metadata": {},
   "outputs": [
    {
     "data": {
      "text/plain": [
       "True"
      ]
     },
     "execution_count": 36,
     "metadata": {},
     "output_type": "execute_result"
    }
   ],
   "source": [
    "prt == translate(dna[20:935])"
   ]
  },
  {
   "cell_type": "code",
   "execution_count": 37,
   "id": "73aadfcc",
   "metadata": {},
   "outputs": [
    {
     "data": {
      "text/plain": [
       "True"
      ]
     },
     "execution_count": 37,
     "metadata": {},
     "output_type": "execute_result"
    }
   ],
   "source": [
    "prt == translate(dna[20:938])[:-1]"
   ]
  },
  {
   "cell_type": "code",
   "execution_count": 38,
   "id": "93251aa6",
   "metadata": {},
   "outputs": [
    {
     "data": {
      "text/plain": [
       "True"
      ]
     },
     "execution_count": 38,
     "metadata": {},
     "output_type": "execute_result"
    }
   ],
   "source": [
    "translate(dna[20:938])[:-1] == translate(dna[20:935])"
   ]
  },
  {
   "cell_type": "markdown",
   "id": "07e1a7a2",
   "metadata": {},
   "source": [
    "# EDX WEEK-3 CASE STUDY-2"
   ]
  },
  {
   "cell_type": "code",
   "execution_count": 80,
   "id": "aed7b7b3",
   "metadata": {},
   "outputs": [
    {
     "data": {
      "text/plain": [
       "{'this': 2,\n",
       " 'is': 1,\n",
       " 'my': 1,\n",
       " 'test': 1,\n",
       " 'text': 2,\n",
       " 'were': 1,\n",
       " 'keeping': 1,\n",
       " 'short': 1,\n",
       " 'to': 1,\n",
       " 'keep': 1,\n",
       " 'things': 1,\n",
       " 'manageable': 1}"
      ]
     },
     "execution_count": 80,
     "metadata": {},
     "output_type": "execute_result"
    }
   ],
   "source": [
    "text = \"This is my test text. We're keeping this text short to keep things manageable.\"\n",
    "\n",
    "def count_words(text):\n",
    "    \"\"\"Count the number of times each word occurs in text(str). Returns dictionary where keys are unique words and values are word counts\"\"\"\n",
    "    text = text.lower()\n",
    "    skips = [\".\", \",\", \";\", \":\", \"'\", '\"']\n",
    "    for ch in skips:\n",
    "        text = text.replace(ch,\"\")\n",
    "        \n",
    "    word_counts = {}\n",
    "    for word in text.split(\" \"):\n",
    "        if word in word_counts:\n",
    "            word_counts[word] += 1\n",
    "        else:\n",
    "            word_counts[word] = 1\n",
    "            \n",
    "    return word_counts\n",
    "\n",
    "count_words(text)"
   ]
  },
  {
   "cell_type": "code",
   "execution_count": 81,
   "id": "6be7f0d7",
   "metadata": {},
   "outputs": [],
   "source": [
    "from collections import Counter\n",
    "\n",
    "def count_words_fast(text):\n",
    "    \"\"\"Count the number of times each word occurs in text(str). Returns dictionary where keys are unique words and values are word counts\"\"\"\n",
    "    text = text.lower()\n",
    "    skips = [\".\", \",\", \";\", \":\", \"'\", '\"']\n",
    "    for ch in skips:\n",
    "        text = text.replace(ch,\"\")\n",
    "        \n",
    "    word_counts = Counter(text.split(\" \"))\n",
    "    return word_counts"
   ]
  },
  {
   "cell_type": "code",
   "execution_count": 82,
   "id": "3819a2d2",
   "metadata": {},
   "outputs": [
    {
     "data": {
      "text/plain": [
       "Counter({'this': 2,\n",
       "         'is': 1,\n",
       "         'my': 1,\n",
       "         'test': 1,\n",
       "         'text': 2,\n",
       "         'were': 1,\n",
       "         'keeping': 1,\n",
       "         'short': 1,\n",
       "         'to': 1,\n",
       "         'keep': 1,\n",
       "         'things': 1,\n",
       "         'manageable': 1})"
      ]
     },
     "execution_count": 82,
     "metadata": {},
     "output_type": "execute_result"
    }
   ],
   "source": [
    "count_words_fast(text)"
   ]
  },
  {
   "cell_type": "code",
   "execution_count": 83,
   "id": "c0a6dddf",
   "metadata": {},
   "outputs": [
    {
     "data": {
      "text/plain": [
       "True"
      ]
     },
     "execution_count": 83,
     "metadata": {},
     "output_type": "execute_result"
    }
   ],
   "source": [
    "count_words(text)==count_words_fast(text)"
   ]
  },
  {
   "cell_type": "code",
   "execution_count": 84,
   "id": "53a9947c",
   "metadata": {},
   "outputs": [
    {
     "data": {
      "text/plain": [
       "6"
      ]
     },
     "execution_count": 84,
     "metadata": {},
     "output_type": "execute_result"
    }
   ],
   "source": [
    "len(count_words(\"This comprehension check is to check for comprehension.\"))"
   ]
  },
  {
   "cell_type": "code",
   "execution_count": 85,
   "id": "1ef8d100",
   "metadata": {},
   "outputs": [
    {
     "data": {
      "text/plain": [
       "False"
      ]
     },
     "execution_count": 85,
     "metadata": {},
     "output_type": "execute_result"
    }
   ],
   "source": [
    "count_words(text) is count_words_fast(text)"
   ]
  },
  {
   "cell_type": "code",
   "execution_count": 86,
   "id": "acc0c4ae",
   "metadata": {},
   "outputs": [],
   "source": [
    "def read_book(title_path):\n",
    "    \"\"\"read a book and return it as string\"\"\"\n",
    "    with open(title_path, \"r\", encoding=\"utf8\") as current_file:\n",
    "        text=current_file.read()\n",
    "        text.replace(\"\\n\",\"\").replace(\"\\r\", \"\")\n",
    "    return text"
   ]
  },
  {
   "cell_type": "code",
   "execution_count": 87,
   "id": "f45fc1ad",
   "metadata": {},
   "outputs": [],
   "source": [
    "text = read_book(\".\\Books_EngFr\\English\\shakespeare\\Romeo and Juliet.txt\")"
   ]
  },
  {
   "cell_type": "code",
   "execution_count": 88,
   "id": "c018a283",
   "metadata": {},
   "outputs": [
    {
     "data": {
      "text/plain": [
       "174128"
      ]
     },
     "execution_count": 88,
     "metadata": {},
     "output_type": "execute_result"
    }
   ],
   "source": [
    "len(text)"
   ]
  },
  {
   "cell_type": "code",
   "execution_count": 89,
   "id": "884d7514",
   "metadata": {},
   "outputs": [],
   "source": [
    "ind = text.find(\"What's in a name?\")"
   ]
  },
  {
   "cell_type": "code",
   "execution_count": 90,
   "id": "c5aeab0b",
   "metadata": {},
   "outputs": [],
   "source": [
    "sample_text = text[ind:ind+1000]"
   ]
  },
  {
   "cell_type": "code",
   "execution_count": 91,
   "id": "93da0c17",
   "metadata": {},
   "outputs": [
    {
     "data": {
      "text/plain": [
       "\"What's in a name? That which we call a rose\\n    By any other name would smell as sweet.\\n    So Romeo would, were he not Romeo call'd,\\n    Retain that dear perfection which he owes\\n    Without that title. Romeo, doff thy name;\\n    And for that name, which is no part of thee,\\n    Take all myself.\\n\\n  Rom. I take thee at thy word.\\n    Call me but love, and I'll be new baptiz'd;\\n    Henceforth I never will be Romeo.\\n\\n  Jul. What man art thou that, thus bescreen'd in night,\\n    So stumblest on my counsel?\\n\\n  Rom. By a name\\n    I know not how to tell thee who I am.\\n    My name, dear saint, is hateful to myself,\\n    Because it is an enemy to thee.\\n    Had I it written, I would tear the word.\\n\\n  Jul. My ears have yet not drunk a hundred words\\n    Of that tongue's utterance, yet I know the sound.\\n    Art thou not Romeo, and a Montague?\\n\\n  Rom. Neither, fair saint, if either thee dislike.\\n\\n  Jul. How cam'st thou hither, tell me, and wherefore?\\n    The orchard walls are high and hard to climb,\\n   \""
      ]
     },
     "execution_count": 91,
     "metadata": {},
     "output_type": "execute_result"
    }
   ],
   "source": [
    "sample_text"
   ]
  },
  {
   "cell_type": "code",
   "execution_count": 92,
   "id": "bf3d2454",
   "metadata": {},
   "outputs": [],
   "source": [
    "def word_stats(word_counts):\n",
    "    \"\"\"return no.of unique words and word frequencies\"\"\"\n",
    "    num_unique = len(word_counts)\n",
    "    counts = word_counts.values()\n",
    "    return (num_unique, counts)"
   ]
  },
  {
   "cell_type": "code",
   "execution_count": 93,
   "id": "e50b6fe0",
   "metadata": {},
   "outputs": [],
   "source": [
    "text = read_book(\".\\Books_EngFr\\English\\shakespeare\\Romeo and Juliet.txt\")"
   ]
  },
  {
   "cell_type": "code",
   "execution_count": 94,
   "id": "2864c1bc",
   "metadata": {},
   "outputs": [],
   "source": [
    "word_counts = count_words(text)"
   ]
  },
  {
   "cell_type": "code",
   "execution_count": 95,
   "id": "69f2f5f4",
   "metadata": {},
   "outputs": [],
   "source": [
    "(num_unique, counts) = word_stats(word_counts) "
   ]
  },
  {
   "cell_type": "code",
   "execution_count": 96,
   "id": "f7b1f141",
   "metadata": {},
   "outputs": [
    {
     "data": {
      "text/plain": [
       "6251"
      ]
     },
     "execution_count": 96,
     "metadata": {},
     "output_type": "execute_result"
    }
   ],
   "source": [
    "num_unique"
   ]
  },
  {
   "cell_type": "code",
   "execution_count": 97,
   "id": "d31e0ac2",
   "metadata": {},
   "outputs": [
    {
     "data": {
      "text/plain": [
       "40776"
      ]
     },
     "execution_count": 97,
     "metadata": {},
     "output_type": "execute_result"
    }
   ],
   "source": [
    "sum(counts)"
   ]
  },
  {
   "cell_type": "code",
   "execution_count": 98,
   "id": "2753cc8b",
   "metadata": {},
   "outputs": [
    {
     "name": "stdout",
     "output_type": "stream",
     "text": [
      "6251 40776\n",
      "7564 20311\n"
     ]
    }
   ],
   "source": [
    "def word_stats(word_counts):\n",
    "    \"\"\"return no.of unique words and word frequencies\"\"\"\n",
    "    num_unique = len(word_counts)\n",
    "    counts = word_counts.values()\n",
    "    return (num_unique, counts)\n",
    "\n",
    "text = read_book(\".\\Books_EngFr\\English\\shakespeare\\Romeo and Juliet.txt\")\n",
    "word_counts = count_words(text)\n",
    "(num_unique, counts) = word_stats(word_counts) \n",
    "print(num_unique, sum(counts))\n",
    "\n",
    "text = read_book(\".\\Books_GerPort\\German\\shakespeare\\Romeo und Julia.txt\")\n",
    "word_counts = count_words(text)\n",
    "(num_unique, counts) = word_stats(word_counts) \n",
    "print(num_unique, sum(counts))"
   ]
  },
  {
   "cell_type": "code",
   "execution_count": 107,
   "id": "4ece1576",
   "metadata": {},
   "outputs": [],
   "source": [
    "import os\n",
    "book_dir = \"./Books\""
   ]
  },
  {
   "cell_type": "code",
   "execution_count": 108,
   "id": "3bc57d06",
   "metadata": {},
   "outputs": [
    {
     "data": {
      "text/plain": [
       "['English', 'French', 'German', 'Portuguese']"
      ]
     },
     "execution_count": 108,
     "metadata": {},
     "output_type": "execute_result"
    }
   ],
   "source": [
    "os.listdir(book_dir)"
   ]
  },
  {
   "cell_type": "code",
   "execution_count": 109,
   "id": "6794ce7a",
   "metadata": {},
   "outputs": [
    {
     "name": "stdout",
     "output_type": "stream",
     "text": [
      "./Books/English/shakespeare/A Midsummer Night's Dream.txt\n",
      "./Books/English/shakespeare/Hamlet.txt\n",
      "./Books/English/shakespeare/Macbeth.txt\n",
      "./Books/English/shakespeare/Othello.txt\n",
      "./Books/English/shakespeare/Richard III.txt\n",
      "./Books/English/shakespeare/Romeo and Juliet.txt\n",
      "./Books/English/shakespeare/The Merchant of Venice.txt\n",
      "./Books/French/chevalier/L'enfer et le paradis de l'autre monde.txt\n",
      "./Books/French/chevalier/La capitaine.txt\n",
      "./Books/French/chevalier/La fille des indiens rouges.txt\n",
      "./Books/French/chevalier/La fille du pirate.txt\n",
      "./Books/French/chevalier/Le chasseur noir.txt\n",
      "./Books/French/chevalier/Les derniers Iroquois.txt\n",
      "./Books/French/de Maupassant/Boule de Suif.txt\n",
      "./Books/French/de Maupassant/Claire de Lune.txt\n",
      "./Books/French/de Maupassant/Contes de la Becasse.txt\n",
      "./Books/French/de Maupassant/La Main Gauche.txt\n",
      "./Books/French/de Maupassant/La Maison Tellier.txt\n",
      "./Books/French/de Maupassant/La petite roque.txt\n",
      "./Books/French/de Maupassant/Le Horla.txt\n",
      "./Books/French/diderot/Ceci n'est pas un conte.txt\n",
      "./Books/French/diderot/L'oiseau blanc.txt\n",
      "./Books/French/diderot/Les deux amis de Bourbonne.txt\n",
      "./Books/French/diderot/Regrets sur ma vieille robe de chambre.txt\n",
      "./Books/French/sand/cora.txt\n",
      "./Books/French/sand/L' Orco.txt\n",
      "./Books/French/sand/La Marquise.txt\n",
      "./Books/French/sand/Le Piccinino.txt\n",
      "./Books/French/sand/Mattea.txt\n",
      "./Books/French/sand/Metella.txt\n",
      "./Books/French/sand/Pauline.txt\n",
      "./Books/German/lessing/der freigeist.txt\n",
      "./Books/German/lessing/der junge gelehrte.txt\n",
      "./Books/German/lessing/die juden.txt\n",
      "./Books/German/lessing/emilia galotti.txt\n",
      "./Books/German/lessing/hamburgische dramaturgie.txt\n",
      "./Books/German/lessing/minna von barnhelm.txt\n",
      "./Books/German/lessing/miss sara sampson.txt\n",
      "./Books/German/lessing/philotas.txt\n",
      "./Books/German/raimund/Der Barometermacher auf der Zauberinsel.txt\n",
      "./Books/German/raimund/Der Verschwender.txt\n",
      "./Books/German/raimund/Die gefesselte Phantasie.txt\n",
      "./Books/German/raimund/Die unheilbringende Krone.txt\n",
      "./Books/German/raimund/Moisasurs Zauberfluch.txt\n",
      "./Books/German/schiller/Der Neffe als Onkel.txt\n",
      "./Books/German/schiller/die braut von messina.txt\n",
      "./Books/German/schiller/Die Jungfrau von Orleans.txt\n",
      "./Books/German/schiller/Die Piccolomini.txt\n",
      "./Books/German/schiller/Kabale und Liebe.txt\n",
      "./Books/German/schiller/Turandot, Prinzessin von China.txt\n",
      "./Books/German/schiller/Wallensteins Lager.txt\n",
      "./Books/German/schiller/Wallensteins Tod.txt\n",
      "./Books/German/shakespeare/Der Kaufmann von Venedig.txt\n",
      "./Books/German/shakespeare/Ein Sommernachtstraum.txt\n",
      "./Books/German/shakespeare/Hamlet.txt\n",
      "./Books/German/shakespeare/Macbeth.txt\n",
      "./Books/German/shakespeare/Othello.txt\n",
      "./Books/German/shakespeare/Richard III.txt\n",
      "./Books/German/shakespeare/Romeo und Julia.txt\n",
      "./Books/Portuguese/branco/A Filha do Arcediago.txt\n",
      "./Books/Portuguese/branco/A Neta do Arcediago.txt\n",
      "./Books/Portuguese/branco/A Queda d'um Anjo.txt\n",
      "./Books/Portuguese/branco/Agulha em Palheiro.txt\n",
      "./Books/Portuguese/branco/Annos de Prosa.txt\n",
      "./Books/Portuguese/branco/Carlota Angela.txt\n",
      "./Books/Portuguese/branco/Estrellas Funestas.txt\n",
      "./Books/Portuguese/branco/O Olho de Vidro.txt\n",
      "./Books/Portuguese/branco/O que fazem mulheres.txt\n",
      "./Books/Portuguese/branco/O Regicida.txt\n",
      "./Books/Portuguese/branco/Scenas Contemporaneas.txt\n",
      "./Books/Portuguese/dinis/A Morgadinha dos Cannaviaes.txt\n",
      "./Books/Portuguese/dinis/Os fidalgos da Casa Mourisca.txt\n",
      "./Books/Portuguese/shakespeare/Hamlet.txt\n"
     ]
    }
   ],
   "source": [
    "for language in os.listdir(book_dir):\n",
    "    for author in os.listdir(book_dir + \"/\" + language):\n",
    "        for title in os.listdir(book_dir + \"/\" + language + \"/\" + author):\n",
    "            inputfile = book_dir + \"/\" + language + \"/\" + author + \"/\" + title\n",
    "            print(inputfile)\n",
    "            text = read_book(inputfile)\n",
    "            (num_unique, counts) = word_stats(count_words(text))                                        "
   ]
  },
  {
   "cell_type": "code",
   "execution_count": 110,
   "id": "aafaa7c7",
   "metadata": {},
   "outputs": [],
   "source": [
    "import pandas as pd"
   ]
  },
  {
   "cell_type": "code",
   "execution_count": 111,
   "id": "9f67f9ff",
   "metadata": {},
   "outputs": [],
   "source": [
    "table = pd.DataFrame(columns = (\"name\", \"age\"))"
   ]
  },
  {
   "cell_type": "code",
   "execution_count": 117,
   "id": "e28e1574",
   "metadata": {},
   "outputs": [],
   "source": [
    "table.loc[1] = \"James\", 22"
   ]
  },
  {
   "cell_type": "code",
   "execution_count": 118,
   "id": "a698d6a1",
   "metadata": {},
   "outputs": [],
   "source": [
    "table.loc[2] = \"Jess\", 32"
   ]
  },
  {
   "cell_type": "code",
   "execution_count": 119,
   "id": "7b5504ab",
   "metadata": {},
   "outputs": [
    {
     "data": {
      "text/html": [
       "<div>\n",
       "<style scoped>\n",
       "    .dataframe tbody tr th:only-of-type {\n",
       "        vertical-align: middle;\n",
       "    }\n",
       "\n",
       "    .dataframe tbody tr th {\n",
       "        vertical-align: top;\n",
       "    }\n",
       "\n",
       "    .dataframe thead th {\n",
       "        text-align: right;\n",
       "    }\n",
       "</style>\n",
       "<table border=\"1\" class=\"dataframe\">\n",
       "  <thead>\n",
       "    <tr style=\"text-align: right;\">\n",
       "      <th></th>\n",
       "      <th>name</th>\n",
       "      <th>age</th>\n",
       "    </tr>\n",
       "  </thead>\n",
       "  <tbody>\n",
       "    <tr>\n",
       "      <th>1</th>\n",
       "      <td>James</td>\n",
       "      <td>22</td>\n",
       "    </tr>\n",
       "    <tr>\n",
       "      <th>2</th>\n",
       "      <td>Jess</td>\n",
       "      <td>32</td>\n",
       "    </tr>\n",
       "  </tbody>\n",
       "</table>\n",
       "</div>"
      ],
      "text/plain": [
       "    name age\n",
       "1  James  22\n",
       "2   Jess  32"
      ]
     },
     "execution_count": 119,
     "metadata": {},
     "output_type": "execute_result"
    }
   ],
   "source": [
    "table"
   ]
  },
  {
   "cell_type": "code",
   "execution_count": 120,
   "id": "db270010",
   "metadata": {},
   "outputs": [
    {
     "data": {
      "text/plain": [
       "Index(['name', 'age'], dtype='object')"
      ]
     },
     "execution_count": 120,
     "metadata": {},
     "output_type": "execute_result"
    }
   ],
   "source": [
    "table.columns"
   ]
  },
  {
   "cell_type": "code",
   "execution_count": 126,
   "id": "1b11a291",
   "metadata": {},
   "outputs": [
    {
     "name": "stdout",
     "output_type": "stream",
     "text": [
      "./Books/English/shakespeare/A Midsummer Night's Dream.txt\n",
      "./Books/English/shakespeare/Hamlet.txt\n",
      "./Books/English/shakespeare/Macbeth.txt\n",
      "./Books/English/shakespeare/Othello.txt\n",
      "./Books/English/shakespeare/Richard III.txt\n",
      "./Books/English/shakespeare/Romeo and Juliet.txt\n",
      "./Books/English/shakespeare/The Merchant of Venice.txt\n",
      "./Books/French/chevalier/L'enfer et le paradis de l'autre monde.txt\n",
      "./Books/French/chevalier/La capitaine.txt\n",
      "./Books/French/chevalier/La fille des indiens rouges.txt\n",
      "./Books/French/chevalier/La fille du pirate.txt\n",
      "./Books/French/chevalier/Le chasseur noir.txt\n",
      "./Books/French/chevalier/Les derniers Iroquois.txt\n",
      "./Books/French/de Maupassant/Boule de Suif.txt\n",
      "./Books/French/de Maupassant/Claire de Lune.txt\n",
      "./Books/French/de Maupassant/Contes de la Becasse.txt\n",
      "./Books/French/de Maupassant/La Main Gauche.txt\n",
      "./Books/French/de Maupassant/La Maison Tellier.txt\n",
      "./Books/French/de Maupassant/La petite roque.txt\n",
      "./Books/French/de Maupassant/Le Horla.txt\n",
      "./Books/French/diderot/Ceci n'est pas un conte.txt\n",
      "./Books/French/diderot/L'oiseau blanc.txt\n",
      "./Books/French/diderot/Les deux amis de Bourbonne.txt\n",
      "./Books/French/diderot/Regrets sur ma vieille robe de chambre.txt\n",
      "./Books/French/sand/cora.txt\n",
      "./Books/French/sand/L' Orco.txt\n",
      "./Books/French/sand/La Marquise.txt\n",
      "./Books/French/sand/Le Piccinino.txt\n",
      "./Books/French/sand/Mattea.txt\n",
      "./Books/French/sand/Metella.txt\n",
      "./Books/French/sand/Pauline.txt\n",
      "./Books/German/lessing/der freigeist.txt\n",
      "./Books/German/lessing/der junge gelehrte.txt\n",
      "./Books/German/lessing/die juden.txt\n",
      "./Books/German/lessing/emilia galotti.txt\n",
      "./Books/German/lessing/hamburgische dramaturgie.txt\n",
      "./Books/German/lessing/minna von barnhelm.txt\n",
      "./Books/German/lessing/miss sara sampson.txt\n",
      "./Books/German/lessing/philotas.txt\n",
      "./Books/German/raimund/Der Barometermacher auf der Zauberinsel.txt\n",
      "./Books/German/raimund/Der Verschwender.txt\n",
      "./Books/German/raimund/Die gefesselte Phantasie.txt\n",
      "./Books/German/raimund/Die unheilbringende Krone.txt\n",
      "./Books/German/raimund/Moisasurs Zauberfluch.txt\n",
      "./Books/German/schiller/Der Neffe als Onkel.txt\n",
      "./Books/German/schiller/die braut von messina.txt\n",
      "./Books/German/schiller/Die Jungfrau von Orleans.txt\n",
      "./Books/German/schiller/Die Piccolomini.txt\n",
      "./Books/German/schiller/Kabale und Liebe.txt\n",
      "./Books/German/schiller/Turandot, Prinzessin von China.txt\n",
      "./Books/German/schiller/Wallensteins Lager.txt\n",
      "./Books/German/schiller/Wallensteins Tod.txt\n",
      "./Books/German/shakespeare/Der Kaufmann von Venedig.txt\n",
      "./Books/German/shakespeare/Ein Sommernachtstraum.txt\n",
      "./Books/German/shakespeare/Hamlet.txt\n",
      "./Books/German/shakespeare/Macbeth.txt\n",
      "./Books/German/shakespeare/Othello.txt\n",
      "./Books/German/shakespeare/Richard III.txt\n",
      "./Books/German/shakespeare/Romeo und Julia.txt\n",
      "./Books/Portuguese/branco/A Filha do Arcediago.txt\n",
      "./Books/Portuguese/branco/A Neta do Arcediago.txt\n",
      "./Books/Portuguese/branco/A Queda d'um Anjo.txt\n",
      "./Books/Portuguese/branco/Agulha em Palheiro.txt\n",
      "./Books/Portuguese/branco/Annos de Prosa.txt\n",
      "./Books/Portuguese/branco/Carlota Angela.txt\n",
      "./Books/Portuguese/branco/Estrellas Funestas.txt\n",
      "./Books/Portuguese/branco/O Olho de Vidro.txt\n",
      "./Books/Portuguese/branco/O que fazem mulheres.txt\n",
      "./Books/Portuguese/branco/O Regicida.txt\n",
      "./Books/Portuguese/branco/Scenas Contemporaneas.txt\n",
      "./Books/Portuguese/dinis/A Morgadinha dos Cannaviaes.txt\n",
      "./Books/Portuguese/dinis/Os fidalgos da Casa Mourisca.txt\n",
      "./Books/Portuguese/shakespeare/Hamlet.txt\n"
     ]
    }
   ],
   "source": [
    "import os\n",
    "book_dir = \"./Books\"\n",
    "import pandas as pd\n",
    "stats = pd.DataFrame(columns = (\"Language\", \"Author\", \"Title\", \"Length\", \"Unique\"))\n",
    "title_num = 1\n",
    "for language in os.listdir(book_dir):\n",
    "    for author in os.listdir(book_dir + \"/\" + language):\n",
    "        for title in os.listdir(book_dir + \"/\" + language + \"/\" + author):\n",
    "            inputfile = book_dir + \"/\" + language + \"/\" + author + \"/\" + title\n",
    "            print(inputfile)\n",
    "            text = read_book(inputfile)\n",
    "            (num_unique, counts) = word_stats(count_words(text)) \n",
    "            stats.loc[title_num]=language, author.capitalize(), title.replace(\".txt\",\"\"), sum(counts) , num_unique\n",
    "            title_num+=1"
   ]
  },
  {
   "cell_type": "code",
   "execution_count": 127,
   "id": "5a2a04b6",
   "metadata": {},
   "outputs": [
    {
     "data": {
      "text/html": [
       "<div>\n",
       "<style scoped>\n",
       "    .dataframe tbody tr th:only-of-type {\n",
       "        vertical-align: middle;\n",
       "    }\n",
       "\n",
       "    .dataframe tbody tr th {\n",
       "        vertical-align: top;\n",
       "    }\n",
       "\n",
       "    .dataframe thead th {\n",
       "        text-align: right;\n",
       "    }\n",
       "</style>\n",
       "<table border=\"1\" class=\"dataframe\">\n",
       "  <thead>\n",
       "    <tr style=\"text-align: right;\">\n",
       "      <th></th>\n",
       "      <th>Language</th>\n",
       "      <th>Author</th>\n",
       "      <th>Title</th>\n",
       "      <th>Length</th>\n",
       "      <th>Unique</th>\n",
       "    </tr>\n",
       "  </thead>\n",
       "  <tbody>\n",
       "    <tr>\n",
       "      <th>1</th>\n",
       "      <td>English</td>\n",
       "      <td>Shakespeare</td>\n",
       "      <td>A Midsummer Night's Dream</td>\n",
       "      <td>16103</td>\n",
       "      <td>4602</td>\n",
       "    </tr>\n",
       "    <tr>\n",
       "      <th>2</th>\n",
       "      <td>English</td>\n",
       "      <td>Shakespeare</td>\n",
       "      <td>Hamlet</td>\n",
       "      <td>28551</td>\n",
       "      <td>7236</td>\n",
       "    </tr>\n",
       "    <tr>\n",
       "      <th>3</th>\n",
       "      <td>English</td>\n",
       "      <td>Shakespeare</td>\n",
       "      <td>Macbeth</td>\n",
       "      <td>16874</td>\n",
       "      <td>5109</td>\n",
       "    </tr>\n",
       "    <tr>\n",
       "      <th>4</th>\n",
       "      <td>English</td>\n",
       "      <td>Shakespeare</td>\n",
       "      <td>Othello</td>\n",
       "      <td>26590</td>\n",
       "      <td>6350</td>\n",
       "    </tr>\n",
       "    <tr>\n",
       "      <th>5</th>\n",
       "      <td>English</td>\n",
       "      <td>Shakespeare</td>\n",
       "      <td>Richard III</td>\n",
       "      <td>48315</td>\n",
       "      <td>6508</td>\n",
       "    </tr>\n",
       "    <tr>\n",
       "      <th>...</th>\n",
       "      <td>...</td>\n",
       "      <td>...</td>\n",
       "      <td>...</td>\n",
       "      <td>...</td>\n",
       "      <td>...</td>\n",
       "    </tr>\n",
       "    <tr>\n",
       "      <th>69</th>\n",
       "      <td>Portuguese</td>\n",
       "      <td>Branco</td>\n",
       "      <td>O Regicida</td>\n",
       "      <td>50751</td>\n",
       "      <td>14874</td>\n",
       "    </tr>\n",
       "    <tr>\n",
       "      <th>70</th>\n",
       "      <td>Portuguese</td>\n",
       "      <td>Branco</td>\n",
       "      <td>Scenas Contemporaneas</td>\n",
       "      <td>48889</td>\n",
       "      <td>14450</td>\n",
       "    </tr>\n",
       "    <tr>\n",
       "      <th>71</th>\n",
       "      <td>Portuguese</td>\n",
       "      <td>Dinis</td>\n",
       "      <td>A Morgadinha dos Cannaviaes</td>\n",
       "      <td>134382</td>\n",
       "      <td>31006</td>\n",
       "    </tr>\n",
       "    <tr>\n",
       "      <th>72</th>\n",
       "      <td>Portuguese</td>\n",
       "      <td>Dinis</td>\n",
       "      <td>Os fidalgos da Casa Mourisca</td>\n",
       "      <td>130834</td>\n",
       "      <td>28044</td>\n",
       "    </tr>\n",
       "    <tr>\n",
       "      <th>73</th>\n",
       "      <td>Portuguese</td>\n",
       "      <td>Shakespeare</td>\n",
       "      <td>Hamlet</td>\n",
       "      <td>30567</td>\n",
       "      <td>9832</td>\n",
       "    </tr>\n",
       "  </tbody>\n",
       "</table>\n",
       "<p>73 rows × 5 columns</p>\n",
       "</div>"
      ],
      "text/plain": [
       "      Language       Author                         Title  Length Unique\n",
       "1      English  Shakespeare     A Midsummer Night's Dream   16103   4602\n",
       "2      English  Shakespeare                        Hamlet   28551   7236\n",
       "3      English  Shakespeare                       Macbeth   16874   5109\n",
       "4      English  Shakespeare                       Othello   26590   6350\n",
       "5      English  Shakespeare                   Richard III   48315   6508\n",
       "..         ...          ...                           ...     ...    ...\n",
       "69  Portuguese       Branco                    O Regicida   50751  14874\n",
       "70  Portuguese       Branco         Scenas Contemporaneas   48889  14450\n",
       "71  Portuguese        Dinis   A Morgadinha dos Cannaviaes  134382  31006\n",
       "72  Portuguese        Dinis  Os fidalgos da Casa Mourisca  130834  28044\n",
       "73  Portuguese  Shakespeare                        Hamlet   30567   9832\n",
       "\n",
       "[73 rows x 5 columns]"
      ]
     },
     "execution_count": 127,
     "metadata": {},
     "output_type": "execute_result"
    }
   ],
   "source": [
    "stats"
   ]
  },
  {
   "cell_type": "code",
   "execution_count": 128,
   "id": "fc7aa7da",
   "metadata": {},
   "outputs": [
    {
     "data": {
      "text/html": [
       "<div>\n",
       "<style scoped>\n",
       "    .dataframe tbody tr th:only-of-type {\n",
       "        vertical-align: middle;\n",
       "    }\n",
       "\n",
       "    .dataframe tbody tr th {\n",
       "        vertical-align: top;\n",
       "    }\n",
       "\n",
       "    .dataframe thead th {\n",
       "        text-align: right;\n",
       "    }\n",
       "</style>\n",
       "<table border=\"1\" class=\"dataframe\">\n",
       "  <thead>\n",
       "    <tr style=\"text-align: right;\">\n",
       "      <th></th>\n",
       "      <th>Language</th>\n",
       "      <th>Author</th>\n",
       "      <th>Title</th>\n",
       "      <th>Length</th>\n",
       "      <th>Unique</th>\n",
       "    </tr>\n",
       "  </thead>\n",
       "  <tbody>\n",
       "    <tr>\n",
       "      <th>1</th>\n",
       "      <td>English</td>\n",
       "      <td>Shakespeare</td>\n",
       "      <td>A Midsummer Night's Dream</td>\n",
       "      <td>16103</td>\n",
       "      <td>4602</td>\n",
       "    </tr>\n",
       "    <tr>\n",
       "      <th>2</th>\n",
       "      <td>English</td>\n",
       "      <td>Shakespeare</td>\n",
       "      <td>Hamlet</td>\n",
       "      <td>28551</td>\n",
       "      <td>7236</td>\n",
       "    </tr>\n",
       "    <tr>\n",
       "      <th>3</th>\n",
       "      <td>English</td>\n",
       "      <td>Shakespeare</td>\n",
       "      <td>Macbeth</td>\n",
       "      <td>16874</td>\n",
       "      <td>5109</td>\n",
       "    </tr>\n",
       "    <tr>\n",
       "      <th>4</th>\n",
       "      <td>English</td>\n",
       "      <td>Shakespeare</td>\n",
       "      <td>Othello</td>\n",
       "      <td>26590</td>\n",
       "      <td>6350</td>\n",
       "    </tr>\n",
       "    <tr>\n",
       "      <th>5</th>\n",
       "      <td>English</td>\n",
       "      <td>Shakespeare</td>\n",
       "      <td>Richard III</td>\n",
       "      <td>48315</td>\n",
       "      <td>6508</td>\n",
       "    </tr>\n",
       "  </tbody>\n",
       "</table>\n",
       "</div>"
      ],
      "text/plain": [
       "  Language       Author                      Title Length Unique\n",
       "1  English  Shakespeare  A Midsummer Night's Dream  16103   4602\n",
       "2  English  Shakespeare                     Hamlet  28551   7236\n",
       "3  English  Shakespeare                    Macbeth  16874   5109\n",
       "4  English  Shakespeare                    Othello  26590   6350\n",
       "5  English  Shakespeare                Richard III  48315   6508"
      ]
     },
     "execution_count": 128,
     "metadata": {},
     "output_type": "execute_result"
    }
   ],
   "source": [
    "stats.head()"
   ]
  },
  {
   "cell_type": "code",
   "execution_count": 129,
   "id": "c68cdaa5",
   "metadata": {},
   "outputs": [
    {
     "data": {
      "text/html": [
       "<div>\n",
       "<style scoped>\n",
       "    .dataframe tbody tr th:only-of-type {\n",
       "        vertical-align: middle;\n",
       "    }\n",
       "\n",
       "    .dataframe tbody tr th {\n",
       "        vertical-align: top;\n",
       "    }\n",
       "\n",
       "    .dataframe thead th {\n",
       "        text-align: right;\n",
       "    }\n",
       "</style>\n",
       "<table border=\"1\" class=\"dataframe\">\n",
       "  <thead>\n",
       "    <tr style=\"text-align: right;\">\n",
       "      <th></th>\n",
       "      <th>Language</th>\n",
       "      <th>Author</th>\n",
       "      <th>Title</th>\n",
       "      <th>Length</th>\n",
       "      <th>Unique</th>\n",
       "    </tr>\n",
       "  </thead>\n",
       "  <tbody>\n",
       "    <tr>\n",
       "      <th>69</th>\n",
       "      <td>Portuguese</td>\n",
       "      <td>Branco</td>\n",
       "      <td>O Regicida</td>\n",
       "      <td>50751</td>\n",
       "      <td>14874</td>\n",
       "    </tr>\n",
       "    <tr>\n",
       "      <th>70</th>\n",
       "      <td>Portuguese</td>\n",
       "      <td>Branco</td>\n",
       "      <td>Scenas Contemporaneas</td>\n",
       "      <td>48889</td>\n",
       "      <td>14450</td>\n",
       "    </tr>\n",
       "    <tr>\n",
       "      <th>71</th>\n",
       "      <td>Portuguese</td>\n",
       "      <td>Dinis</td>\n",
       "      <td>A Morgadinha dos Cannaviaes</td>\n",
       "      <td>134382</td>\n",
       "      <td>31006</td>\n",
       "    </tr>\n",
       "    <tr>\n",
       "      <th>72</th>\n",
       "      <td>Portuguese</td>\n",
       "      <td>Dinis</td>\n",
       "      <td>Os fidalgos da Casa Mourisca</td>\n",
       "      <td>130834</td>\n",
       "      <td>28044</td>\n",
       "    </tr>\n",
       "    <tr>\n",
       "      <th>73</th>\n",
       "      <td>Portuguese</td>\n",
       "      <td>Shakespeare</td>\n",
       "      <td>Hamlet</td>\n",
       "      <td>30567</td>\n",
       "      <td>9832</td>\n",
       "    </tr>\n",
       "  </tbody>\n",
       "</table>\n",
       "</div>"
      ],
      "text/plain": [
       "      Language       Author                         Title  Length Unique\n",
       "69  Portuguese       Branco                    O Regicida   50751  14874\n",
       "70  Portuguese       Branco         Scenas Contemporaneas   48889  14450\n",
       "71  Portuguese        Dinis   A Morgadinha dos Cannaviaes  134382  31006\n",
       "72  Portuguese        Dinis  Os fidalgos da Casa Mourisca  130834  28044\n",
       "73  Portuguese  Shakespeare                        Hamlet   30567   9832"
      ]
     },
     "execution_count": 129,
     "metadata": {},
     "output_type": "execute_result"
    }
   ],
   "source": [
    "stats.tail()"
   ]
  },
  {
   "cell_type": "code",
   "execution_count": 132,
   "id": "8c5aaa51",
   "metadata": {},
   "outputs": [
    {
     "data": {
      "text/plain": [
       "1      16103\n",
       "2      28551\n",
       "3      16874\n",
       "4      26590\n",
       "5      48315\n",
       "       ...  \n",
       "69     50751\n",
       "70     48889\n",
       "71    134382\n",
       "72    130834\n",
       "73     30567\n",
       "Name: Length, Length: 73, dtype: object"
      ]
     },
     "execution_count": 132,
     "metadata": {},
     "output_type": "execute_result"
    }
   ],
   "source": [
    "stats.Length"
   ]
  },
  {
   "cell_type": "code",
   "execution_count": 133,
   "id": "aa27770a",
   "metadata": {},
   "outputs": [
    {
     "data": {
      "text/plain": [
       "1      4602\n",
       "2      7236\n",
       "3      5109\n",
       "4      6350\n",
       "5      6508\n",
       "      ...  \n",
       "69    14874\n",
       "70    14450\n",
       "71    31006\n",
       "72    28044\n",
       "73     9832\n",
       "Name: Unique, Length: 73, dtype: object"
      ]
     },
     "execution_count": 133,
     "metadata": {},
     "output_type": "execute_result"
    }
   ],
   "source": [
    "stats.Unique"
   ]
  },
  {
   "cell_type": "code",
   "execution_count": 134,
   "id": "90aa720e",
   "metadata": {},
   "outputs": [],
   "source": [
    "import matplotlib.pyplot as plt"
   ]
  },
  {
   "cell_type": "code",
   "execution_count": 135,
   "id": "00d1db5c",
   "metadata": {},
   "outputs": [
    {
     "data": {
      "text/plain": [
       "[<matplotlib.lines.Line2D at 0x1baaeca2070>]"
      ]
     },
     "execution_count": 135,
     "metadata": {},
     "output_type": "execute_result"
    },
    {
     "data": {
      "image/png": "[encoded data removed]",
      "text/plain": [
       "<Figure size 432x288 with 1 Axes>"
      ]
     },
     "metadata": {
      "needs_background": "light"
     },
     "output_type": "display_data"
    }
   ],
   "source": [
    "plt.plot(stats.Length, stats.Unique, \"bo\")"
   ]
  },
  {
   "cell_type": "code",
   "execution_count": 136,
   "id": "c08431b9",
   "metadata": {},
   "outputs": [
    {
     "data": {
      "text/plain": [
       "[<matplotlib.lines.Line2D at 0x1baaed97460>]"
      ]
     },
     "execution_count": 136,
     "metadata": {},
     "output_type": "execute_result"
    },
    {
     "data": {
      "image/png": "[encoded data removed]",
      "text/plain": [
       "<Figure size 432x288 with 1 Axes>"
      ]
     },
     "metadata": {
      "needs_background": "light"
     },
     "output_type": "display_data"
    }
   ],
   "source": [
    "plt.loglog(stats.Length, stats.Unique, \"bo\")"
   ]
  },
  {
   "cell_type": "code",
   "execution_count": 138,
   "id": "9bd425aa",
   "metadata": {},
   "outputs": [
    {
     "data": {
      "text/html": [
       "<div>\n",
       "<style scoped>\n",
       "    .dataframe tbody tr th:only-of-type {\n",
       "        vertical-align: middle;\n",
       "    }\n",
       "\n",
       "    .dataframe tbody tr th {\n",
       "        vertical-align: top;\n",
       "    }\n",
       "\n",
       "    .dataframe thead th {\n",
       "        text-align: right;\n",
       "    }\n",
       "</style>\n",
       "<table border=\"1\" class=\"dataframe\">\n",
       "  <thead>\n",
       "    <tr style=\"text-align: right;\">\n",
       "      <th></th>\n",
       "      <th>Language</th>\n",
       "      <th>Author</th>\n",
       "      <th>Title</th>\n",
       "      <th>Length</th>\n",
       "      <th>Unique</th>\n",
       "    </tr>\n",
       "  </thead>\n",
       "  <tbody>\n",
       "    <tr>\n",
       "      <th>1</th>\n",
       "      <td>English</td>\n",
       "      <td>Shakespeare</td>\n",
       "      <td>A Midsummer Night's Dream</td>\n",
       "      <td>16103</td>\n",
       "      <td>4602</td>\n",
       "    </tr>\n",
       "    <tr>\n",
       "      <th>2</th>\n",
       "      <td>English</td>\n",
       "      <td>Shakespeare</td>\n",
       "      <td>Hamlet</td>\n",
       "      <td>28551</td>\n",
       "      <td>7236</td>\n",
       "    </tr>\n",
       "    <tr>\n",
       "      <th>3</th>\n",
       "      <td>English</td>\n",
       "      <td>Shakespeare</td>\n",
       "      <td>Macbeth</td>\n",
       "      <td>16874</td>\n",
       "      <td>5109</td>\n",
       "    </tr>\n",
       "    <tr>\n",
       "      <th>4</th>\n",
       "      <td>English</td>\n",
       "      <td>Shakespeare</td>\n",
       "      <td>Othello</td>\n",
       "      <td>26590</td>\n",
       "      <td>6350</td>\n",
       "    </tr>\n",
       "    <tr>\n",
       "      <th>5</th>\n",
       "      <td>English</td>\n",
       "      <td>Shakespeare</td>\n",
       "      <td>Richard III</td>\n",
       "      <td>48315</td>\n",
       "      <td>6508</td>\n",
       "    </tr>\n",
       "    <tr>\n",
       "      <th>6</th>\n",
       "      <td>English</td>\n",
       "      <td>Shakespeare</td>\n",
       "      <td>Romeo and Juliet</td>\n",
       "      <td>40776</td>\n",
       "      <td>6251</td>\n",
       "    </tr>\n",
       "    <tr>\n",
       "      <th>7</th>\n",
       "      <td>English</td>\n",
       "      <td>Shakespeare</td>\n",
       "      <td>The Merchant of Venice</td>\n",
       "      <td>20949</td>\n",
       "      <td>5292</td>\n",
       "    </tr>\n",
       "  </tbody>\n",
       "</table>\n",
       "</div>"
      ],
      "text/plain": [
       "  Language       Author                      Title Length Unique\n",
       "1  English  Shakespeare  A Midsummer Night's Dream  16103   4602\n",
       "2  English  Shakespeare                     Hamlet  28551   7236\n",
       "3  English  Shakespeare                    Macbeth  16874   5109\n",
       "4  English  Shakespeare                    Othello  26590   6350\n",
       "5  English  Shakespeare                Richard III  48315   6508\n",
       "6  English  Shakespeare           Romeo and Juliet  40776   6251\n",
       "7  English  Shakespeare     The Merchant of Venice  20949   5292"
      ]
     },
     "execution_count": 138,
     "metadata": {},
     "output_type": "execute_result"
    }
   ],
   "source": [
    "stats[stats.Language == \"English\"]"
   ]
  },
  {
   "cell_type": "code",
   "execution_count": 139,
   "id": "220bcdfa",
   "metadata": {},
   "outputs": [
    {
     "data": {
      "text/html": [
       "<div>\n",
       "<style scoped>\n",
       "    .dataframe tbody tr th:only-of-type {\n",
       "        vertical-align: middle;\n",
       "    }\n",
       "\n",
       "    .dataframe tbody tr th {\n",
       "        vertical-align: top;\n",
       "    }\n",
       "\n",
       "    .dataframe thead th {\n",
       "        text-align: right;\n",
       "    }\n",
       "</style>\n",
       "<table border=\"1\" class=\"dataframe\">\n",
       "  <thead>\n",
       "    <tr style=\"text-align: right;\">\n",
       "      <th></th>\n",
       "      <th>Language</th>\n",
       "      <th>Author</th>\n",
       "      <th>Title</th>\n",
       "      <th>Length</th>\n",
       "      <th>Unique</th>\n",
       "    </tr>\n",
       "  </thead>\n",
       "  <tbody>\n",
       "    <tr>\n",
       "      <th>8</th>\n",
       "      <td>French</td>\n",
       "      <td>Chevalier</td>\n",
       "      <td>L'enfer et le paradis de l'autre monde</td>\n",
       "      <td>40827</td>\n",
       "      <td>10891</td>\n",
       "    </tr>\n",
       "    <tr>\n",
       "      <th>9</th>\n",
       "      <td>French</td>\n",
       "      <td>Chevalier</td>\n",
       "      <td>La capitaine</td>\n",
       "      <td>46306</td>\n",
       "      <td>13235</td>\n",
       "    </tr>\n",
       "    <tr>\n",
       "      <th>10</th>\n",
       "      <td>French</td>\n",
       "      <td>Chevalier</td>\n",
       "      <td>La fille des indiens rouges</td>\n",
       "      <td>66621</td>\n",
       "      <td>17941</td>\n",
       "    </tr>\n",
       "    <tr>\n",
       "      <th>11</th>\n",
       "      <td>French</td>\n",
       "      <td>Chevalier</td>\n",
       "      <td>La fille du pirate</td>\n",
       "      <td>52519</td>\n",
       "      <td>14774</td>\n",
       "    </tr>\n",
       "    <tr>\n",
       "      <th>12</th>\n",
       "      <td>French</td>\n",
       "      <td>Chevalier</td>\n",
       "      <td>Le chasseur noir</td>\n",
       "      <td>51341</td>\n",
       "      <td>13030</td>\n",
       "    </tr>\n",
       "    <tr>\n",
       "      <th>13</th>\n",
       "      <td>French</td>\n",
       "      <td>Chevalier</td>\n",
       "      <td>Les derniers Iroquois</td>\n",
       "      <td>55565</td>\n",
       "      <td>15679</td>\n",
       "    </tr>\n",
       "    <tr>\n",
       "      <th>14</th>\n",
       "      <td>French</td>\n",
       "      <td>De maupassant</td>\n",
       "      <td>Boule de Suif</td>\n",
       "      <td>35905</td>\n",
       "      <td>10794</td>\n",
       "    </tr>\n",
       "    <tr>\n",
       "      <th>15</th>\n",
       "      <td>French</td>\n",
       "      <td>De maupassant</td>\n",
       "      <td>Claire de Lune</td>\n",
       "      <td>25975</td>\n",
       "      <td>8113</td>\n",
       "    </tr>\n",
       "    <tr>\n",
       "      <th>16</th>\n",
       "      <td>French</td>\n",
       "      <td>De maupassant</td>\n",
       "      <td>Contes de la Becasse</td>\n",
       "      <td>34723</td>\n",
       "      <td>10254</td>\n",
       "    </tr>\n",
       "    <tr>\n",
       "      <th>17</th>\n",
       "      <td>French</td>\n",
       "      <td>De maupassant</td>\n",
       "      <td>La Main Gauche</td>\n",
       "      <td>33481</td>\n",
       "      <td>10012</td>\n",
       "    </tr>\n",
       "    <tr>\n",
       "      <th>18</th>\n",
       "      <td>French</td>\n",
       "      <td>De maupassant</td>\n",
       "      <td>La Maison Tellier</td>\n",
       "      <td>43685</td>\n",
       "      <td>12352</td>\n",
       "    </tr>\n",
       "    <tr>\n",
       "      <th>19</th>\n",
       "      <td>French</td>\n",
       "      <td>De maupassant</td>\n",
       "      <td>La petite roque</td>\n",
       "      <td>40688</td>\n",
       "      <td>10929</td>\n",
       "    </tr>\n",
       "    <tr>\n",
       "      <th>20</th>\n",
       "      <td>French</td>\n",
       "      <td>De maupassant</td>\n",
       "      <td>Le Horla</td>\n",
       "      <td>41485</td>\n",
       "      <td>11145</td>\n",
       "    </tr>\n",
       "    <tr>\n",
       "      <th>21</th>\n",
       "      <td>French</td>\n",
       "      <td>Diderot</td>\n",
       "      <td>Ceci n'est pas un conte</td>\n",
       "      <td>10938</td>\n",
       "      <td>3741</td>\n",
       "    </tr>\n",
       "    <tr>\n",
       "      <th>22</th>\n",
       "      <td>French</td>\n",
       "      <td>Diderot</td>\n",
       "      <td>L'oiseau blanc</td>\n",
       "      <td>21973</td>\n",
       "      <td>6371</td>\n",
       "    </tr>\n",
       "    <tr>\n",
       "      <th>23</th>\n",
       "      <td>French</td>\n",
       "      <td>Diderot</td>\n",
       "      <td>Les deux amis de Bourbonne</td>\n",
       "      <td>8510</td>\n",
       "      <td>2977</td>\n",
       "    </tr>\n",
       "    <tr>\n",
       "      <th>24</th>\n",
       "      <td>French</td>\n",
       "      <td>Diderot</td>\n",
       "      <td>Regrets sur ma vieille robe de chambre</td>\n",
       "      <td>4980</td>\n",
       "      <td>1895</td>\n",
       "    </tr>\n",
       "    <tr>\n",
       "      <th>25</th>\n",
       "      <td>French</td>\n",
       "      <td>Sand</td>\n",
       "      <td>cora</td>\n",
       "      <td>12370</td>\n",
       "      <td>4392</td>\n",
       "    </tr>\n",
       "    <tr>\n",
       "      <th>26</th>\n",
       "      <td>French</td>\n",
       "      <td>Sand</td>\n",
       "      <td>L' Orco</td>\n",
       "      <td>8748</td>\n",
       "      <td>3180</td>\n",
       "    </tr>\n",
       "    <tr>\n",
       "      <th>27</th>\n",
       "      <td>French</td>\n",
       "      <td>Sand</td>\n",
       "      <td>La Marquise</td>\n",
       "      <td>14716</td>\n",
       "      <td>4805</td>\n",
       "    </tr>\n",
       "    <tr>\n",
       "      <th>28</th>\n",
       "      <td>French</td>\n",
       "      <td>Sand</td>\n",
       "      <td>Le Piccinino</td>\n",
       "      <td>151405</td>\n",
       "      <td>27480</td>\n",
       "    </tr>\n",
       "    <tr>\n",
       "      <th>29</th>\n",
       "      <td>French</td>\n",
       "      <td>Sand</td>\n",
       "      <td>Mattea</td>\n",
       "      <td>21089</td>\n",
       "      <td>6450</td>\n",
       "    </tr>\n",
       "    <tr>\n",
       "      <th>30</th>\n",
       "      <td>French</td>\n",
       "      <td>Sand</td>\n",
       "      <td>Metella</td>\n",
       "      <td>19600</td>\n",
       "      <td>5737</td>\n",
       "    </tr>\n",
       "    <tr>\n",
       "      <th>31</th>\n",
       "      <td>French</td>\n",
       "      <td>Sand</td>\n",
       "      <td>Pauline</td>\n",
       "      <td>27486</td>\n",
       "      <td>7924</td>\n",
       "    </tr>\n",
       "  </tbody>\n",
       "</table>\n",
       "</div>"
      ],
      "text/plain": [
       "   Language         Author                                   Title  Length  \\\n",
       "8    French      Chevalier  L'enfer et le paradis de l'autre monde   40827   \n",
       "9    French      Chevalier                            La capitaine   46306   \n",
       "10   French      Chevalier             La fille des indiens rouges   66621   \n",
       "11   French      Chevalier                      La fille du pirate   52519   \n",
       "12   French      Chevalier                        Le chasseur noir   51341   \n",
       "13   French      Chevalier                   Les derniers Iroquois   55565   \n",
       "14   French  De maupassant                           Boule de Suif   35905   \n",
       "15   French  De maupassant                          Claire de Lune   25975   \n",
       "16   French  De maupassant                    Contes de la Becasse   34723   \n",
       "17   French  De maupassant                          La Main Gauche   33481   \n",
       "18   French  De maupassant                       La Maison Tellier   43685   \n",
       "19   French  De maupassant                         La petite roque   40688   \n",
       "20   French  De maupassant                                Le Horla   41485   \n",
       "21   French        Diderot                 Ceci n'est pas un conte   10938   \n",
       "22   French        Diderot                          L'oiseau blanc   21973   \n",
       "23   French        Diderot              Les deux amis de Bourbonne    8510   \n",
       "24   French        Diderot  Regrets sur ma vieille robe de chambre    4980   \n",
       "25   French           Sand                                    cora   12370   \n",
       "26   French           Sand                                 L' Orco    8748   \n",
       "27   French           Sand                             La Marquise   14716   \n",
       "28   French           Sand                            Le Piccinino  151405   \n",
       "29   French           Sand                                  Mattea   21089   \n",
       "30   French           Sand                                 Metella   19600   \n",
       "31   French           Sand                                 Pauline   27486   \n",
       "\n",
       "   Unique  \n",
       "8   10891  \n",
       "9   13235  \n",
       "10  17941  \n",
       "11  14774  \n",
       "12  13030  \n",
       "13  15679  \n",
       "14  10794  \n",
       "15   8113  \n",
       "16  10254  \n",
       "17  10012  \n",
       "18  12352  \n",
       "19  10929  \n",
       "20  11145  \n",
       "21   3741  \n",
       "22   6371  \n",
       "23   2977  \n",
       "24   1895  \n",
       "25   4392  \n",
       "26   3180  \n",
       "27   4805  \n",
       "28  27480  \n",
       "29   6450  \n",
       "30   5737  \n",
       "31   7924  "
      ]
     },
     "execution_count": 139,
     "metadata": {},
     "output_type": "execute_result"
    }
   ],
   "source": [
    "stats[stats.Language == \"French\"]"
   ]
  },
  {
   "cell_type": "code",
   "execution_count": 142,
   "id": "34c283c0",
   "metadata": {},
   "outputs": [
    {
     "data": {
      "image/png": "[encoded data removed]",
      "text/plain": [
       "<Figure size 720x720 with 1 Axes>"
      ]
     },
     "metadata": {
      "needs_background": "light"
     },
     "output_type": "display_data"
    }
   ],
   "source": [
    "plt.figure(figsize=(10,10))\n",
    "subset = stats[stats.Language == \"English\"]\n",
    "plt.loglog(subset.Length, subset.Unique, \"o\", label = \"English\", color = \"crimson\")\n",
    "subset = stats[stats.Language == \"French\"]\n",
    "plt.loglog(subset.Length, subset.Unique, \"o\", label = \"French\", color = \"forestgreen\")\n",
    "subset = stats[stats.Language == \"German\"]\n",
    "plt.loglog(subset.Length, subset.Unique, \"o\", label = \"German\", color = \"orange\")\n",
    "subset = stats[stats.Language == \"Portuguese\"]\n",
    "plt.loglog(subset.Length, subset.Unique, \"o\", label = \"Portuguese\", color = \"blueviolet\")\n",
    "plt.legend()\n",
    "plt.xlabel(\"Book Length\")\n",
    "plt.ylabel(\"Number of Unique Words\")\n",
    "plt.savefig(\"lang_plot.pdf\")"
   ]
  },
  {
   "cell_type": "markdown",
   "id": "33e1d50d",
   "metadata": {},
   "source": [
    "# EDX WEEK-3 CASE STUDY-3"
   ]
  },
  {
   "cell_type": "code",
   "execution_count": 1,
   "id": "90d135a1",
   "metadata": {},
   "outputs": [],
   "source": [
    "import numpy as np\n",
    "p1 = np.array([1,1])\n",
    "p2 = np.array([4,4])"
   ]
  },
  {
   "cell_type": "code",
   "execution_count": 2,
   "id": "9865108e",
   "metadata": {},
   "outputs": [
    {
     "data": {
      "text/plain": [
       "array([3, 3])"
      ]
     },
     "execution_count": 2,
     "metadata": {},
     "output_type": "execute_result"
    }
   ],
   "source": [
    "p2-p1"
   ]
  },
  {
   "cell_type": "code",
   "execution_count": 4,
   "id": "128d0ff4",
   "metadata": {},
   "outputs": [
    {
     "data": {
      "text/plain": [
       "array([9, 9], dtype=int32)"
      ]
     },
     "execution_count": 4,
     "metadata": {},
     "output_type": "execute_result"
    }
   ],
   "source": [
    "np.power(p2-p1, 2)"
   ]
  },
  {
   "cell_type": "code",
   "execution_count": 5,
   "id": "d39b39aa",
   "metadata": {},
   "outputs": [
    {
     "data": {
      "text/plain": [
       "4.242640687119285"
      ]
     },
     "execution_count": 5,
     "metadata": {},
     "output_type": "execute_result"
    }
   ],
   "source": [
    "np.sqrt(np.sum(np.power(p2-p1, 2)))"
   ]
  },
  {
   "cell_type": "code",
   "execution_count": 8,
   "id": "4fa37118",
   "metadata": {},
   "outputs": [],
   "source": [
    "def distance(p1, p2):\n",
    "    \"\"\"Finds the distance between p1 and p2\"\"\"\n",
    "    return np.sqrt(np.sum(np.power(p2-p1, 2)))"
   ]
  },
  {
   "cell_type": "code",
   "execution_count": 10,
   "id": "bbd54cb8",
   "metadata": {},
   "outputs": [],
   "source": [
    "p1 = np.array([1,1])\n",
    "p2 = np.array([4,4])"
   ]
  },
  {
   "cell_type": "code",
   "execution_count": 11,
   "id": "5e8d7140",
   "metadata": {},
   "outputs": [
    {
     "data": {
      "text/plain": [
       "4.242640687119285"
      ]
     },
     "execution_count": 11,
     "metadata": {},
     "output_type": "execute_result"
    }
   ],
   "source": [
    "distance(p1, p2)"
   ]
  },
  {
   "cell_type": "code",
   "execution_count": 12,
   "id": "672c7002",
   "metadata": {},
   "outputs": [],
   "source": [
    "def majority_vote(votes):\n",
    "    vote_counts={}\n",
    "    for vote in votes:\n",
    "        if vote in vote_counts:\n",
    "            vote_counts[vote]+=1\n",
    "        else:\n",
    "            vote_counts[vote]=1\n",
    "    return vote_counts"
   ]
  },
  {
   "cell_type": "code",
   "execution_count": 23,
   "id": "713e1f3c",
   "metadata": {},
   "outputs": [],
   "source": [
    "votes = [1,2,3,2,2,1,2,3,3,1,1,1,2,3,2,1]\n",
    "vote_counts = majority_vote(votes)\n",
    "max_counts = max(vote_counts.values())"
   ]
  },
  {
   "cell_type": "code",
   "execution_count": 24,
   "id": "48f632d9",
   "metadata": {},
   "outputs": [
    {
     "data": {
      "text/plain": [
       "{1: 6, 2: 6, 3: 4}"
      ]
     },
     "execution_count": 24,
     "metadata": {},
     "output_type": "execute_result"
    }
   ],
   "source": [
    "vote_counts"
   ]
  },
  {
   "cell_type": "code",
   "execution_count": 25,
   "id": "096b809a",
   "metadata": {},
   "outputs": [
    {
     "data": {
      "text/plain": [
       "3"
      ]
     },
     "execution_count": 25,
     "metadata": {},
     "output_type": "execute_result"
    }
   ],
   "source": [
    "max(vote_counts)"
   ]
  },
  {
   "cell_type": "code",
   "execution_count": 26,
   "id": "f04eab75",
   "metadata": {},
   "outputs": [
    {
     "data": {
      "text/plain": [
       "3"
      ]
     },
     "execution_count": 26,
     "metadata": {},
     "output_type": "execute_result"
    }
   ],
   "source": [
    "max(vote_counts.keys())"
   ]
  },
  {
   "cell_type": "code",
   "execution_count": 27,
   "id": "55da1417",
   "metadata": {},
   "outputs": [
    {
     "data": {
      "text/plain": [
       "6"
      ]
     },
     "execution_count": 27,
     "metadata": {},
     "output_type": "execute_result"
    }
   ],
   "source": [
    "max(vote_counts.values())"
   ]
  },
  {
   "cell_type": "code",
   "execution_count": 28,
   "id": "e4f0ea30",
   "metadata": {},
   "outputs": [],
   "source": [
    "max_counts = max(vote_counts.values())"
   ]
  },
  {
   "cell_type": "code",
   "execution_count": 22,
   "id": "3b7d18b5",
   "metadata": {},
   "outputs": [
    {
     "data": {
      "text/plain": [
       "6"
      ]
     },
     "execution_count": 22,
     "metadata": {},
     "output_type": "execute_result"
    }
   ],
   "source": [
    "max_counts"
   ]
  },
  {
   "cell_type": "code",
   "execution_count": 32,
   "id": "b0f9b4ad",
   "metadata": {},
   "outputs": [],
   "source": [
    "winners = []\n",
    "max_counts = max(vote_counts.values())\n",
    "for vote, count in vote_counts.items():\n",
    "    if count==max_counts:\n",
    "        winners.append(vote)"
   ]
  },
  {
   "cell_type": "code",
   "execution_count": 33,
   "id": "e995a691",
   "metadata": {},
   "outputs": [
    {
     "data": {
      "text/plain": [
       "[1, 2]"
      ]
     },
     "execution_count": 33,
     "metadata": {},
     "output_type": "execute_result"
    }
   ],
   "source": [
    "winners"
   ]
  },
  {
   "cell_type": "code",
   "execution_count": 57,
   "id": "dbe64203",
   "metadata": {},
   "outputs": [
    {
     "data": {
      "text/plain": [
       "2"
      ]
     },
     "execution_count": 57,
     "metadata": {},
     "output_type": "execute_result"
    }
   ],
   "source": [
    "import random\n",
    "def majority_vote(votes):\n",
    "    \"\"\"Return the most common element in votes\"\"\"\n",
    "    vote_counts={}\n",
    "    for vote in votes:\n",
    "        if vote in vote_counts:\n",
    "            vote_counts[vote]+=1\n",
    "        else:\n",
    "            vote_counts[vote]=1\n",
    "            \n",
    "    winners = []\n",
    "    max_counts = max(vote_counts.values())\n",
    "    for vote, count in vote_counts.items():\n",
    "        if count==max_counts:\n",
    "            winners.append(vote)\n",
    "            \n",
    "    return random.choice(winners)\n",
    "\n",
    "votes = [1,2,3,2,2,1,2,3,3,1,1,1,2,3,2,1]\n",
    "winner = majority_vote(votes)\n",
    "winner"
   ]
  },
  {
   "cell_type": "code",
   "execution_count": 58,
   "id": "4fd8eeb8",
   "metadata": {},
   "outputs": [
    {
     "data": {
      "text/plain": [
       "[1, 2]"
      ]
     },
     "execution_count": 58,
     "metadata": {},
     "output_type": "execute_result"
    }
   ],
   "source": [
    "winners"
   ]
  },
  {
   "cell_type": "code",
   "execution_count": 64,
   "id": "98430bce",
   "metadata": {},
   "outputs": [
    {
     "data": {
      "text/plain": [
       "1"
      ]
     },
     "execution_count": 64,
     "metadata": {},
     "output_type": "execute_result"
    }
   ],
   "source": [
    "import random\n",
    "import scipy.stats as ss\n",
    "def majority_vote_short(votes):\n",
    "    \"\"\"Return the most common element in votes\"\"\"\n",
    "    mode, count = ss.mstats.mode            \n",
    "    return mode\n",
    "\n",
    "votes = [1,2,3,2,2,1,2,3,3,1,1,1,2,3,2,1]\n",
    "majority_vote(votes)"
   ]
  },
  {
   "cell_type": "code",
   "execution_count": 69,
   "id": "63909dab",
   "metadata": {},
   "outputs": [
    {
     "data": {
      "text/plain": [
       "1"
      ]
     },
     "execution_count": 69,
     "metadata": {},
     "output_type": "execute_result"
    }
   ],
   "source": [
    "import random\n",
    "random.choice([1])"
   ]
  },
  {
   "cell_type": "raw",
   "id": "406e3f56",
   "metadata": {},
   "source": [
    "Pseuodocode for finding k nearest points:\n",
    "\n",
    "loop over all points\n",
    "    compute the distance between point p and every other point\n",
    "sort distances and return k points nearest to point p"
   ]
  },
  {
   "cell_type": "code",
   "execution_count": 70,
   "id": "7024162b",
   "metadata": {},
   "outputs": [],
   "source": [
    "points = np.array([[1,1],\n",
    "                   [1,2],\n",
    "                   [1,3],\n",
    "                   [2,1],\n",
    "                   [2,2],\n",
    "                   [2,3],\n",
    "                   [3,1],\n",
    "                   [3,2],\n",
    "                   [3,3]])"
   ]
  },
  {
   "cell_type": "code",
   "execution_count": 71,
   "id": "98b1873a",
   "metadata": {},
   "outputs": [],
   "source": [
    "p = np.array([2.5, 2])"
   ]
  },
  {
   "cell_type": "code",
   "execution_count": 72,
   "id": "788a8f14",
   "metadata": {},
   "outputs": [
    {
     "data": {
      "text/plain": [
       "[<matplotlib.lines.Line2D at 0x1c1e0dda5e0>]"
      ]
     },
     "execution_count": 72,
     "metadata": {},
     "output_type": "execute_result"
    },
    {
     "data": {
      "image/png": "[encoded data removed]",
      "text/plain": [
       "<Figure size 432x288 with 1 Axes>"
      ]
     },
     "metadata": {
      "needs_background": "light"
     },
     "output_type": "display_data"
    }
   ],
   "source": [
    "import matplotlib.pyplot as plt\n",
    "plt.plot(points[:,0], points[:,1], \"ro\")"
   ]
  },
  {
   "cell_type": "code",
   "execution_count": 73,
   "id": "bcb509d2",
   "metadata": {},
   "outputs": [
    {
     "data": {
      "text/plain": [
       "[<matplotlib.lines.Line2D at 0x1c1e158a910>]"
      ]
     },
     "execution_count": 73,
     "metadata": {},
     "output_type": "execute_result"
    },
    {
     "data": {
      "image/png": "[encoded data removed]",
      "text/plain": [
       "<Figure size 432x288 with 1 Axes>"
      ]
     },
     "metadata": {
      "needs_background": "light"
     },
     "output_type": "display_data"
    }
   ],
   "source": [
    "plt.plot(p[0], p[1], \"bo\")"
   ]
  },
  {
   "cell_type": "code",
   "execution_count": 75,
   "id": "b555fcb8",
   "metadata": {},
   "outputs": [
    {
     "data": {
      "text/plain": [
       "(0.5, 3.5, 0.5, 3.5)"
      ]
     },
     "execution_count": 75,
     "metadata": {},
     "output_type": "execute_result"
    },
    {
     "data": {
      "image/png": "[encoded data removed]",
      "text/plain": [
       "<Figure size 432x288 with 1 Axes>"
      ]
     },
     "metadata": {
      "needs_background": "light"
     },
     "output_type": "display_data"
    }
   ],
   "source": [
    "import matplotlib.pyplot as plt\n",
    "plt.plot(points[:,0], points[:,1], \"ro\")\n",
    "plt.plot(p[0], p[1], \"bo\")\n",
    "plt.axis([0.5, 3.5, 0.5, 3.5])"
   ]
  },
  {
   "cell_type": "code",
   "execution_count": 76,
   "id": "c78eddcb",
   "metadata": {},
   "outputs": [],
   "source": [
    "distances = np.zeros(points.shape[0])\n",
    "for i in range(len(distances)):\n",
    "    distances[i] = distance(p, points[i])"
   ]
  },
  {
   "cell_type": "code",
   "execution_count": 91,
   "id": "03adfbf2",
   "metadata": {},
   "outputs": [
    {
     "data": {
      "text/plain": [
       "9"
      ]
     },
     "execution_count": 91,
     "metadata": {},
     "output_type": "execute_result"
    }
   ],
   "source": [
    "points.shape[0]"
   ]
  },
  {
   "cell_type": "code",
   "execution_count": 77,
   "id": "694e2054",
   "metadata": {},
   "outputs": [
    {
     "data": {
      "text/plain": [
       "array([1.80277564, 1.5       , 1.80277564, 1.11803399, 0.5       ,\n",
       "       1.11803399, 1.11803399, 0.5       , 1.11803399])"
      ]
     },
     "execution_count": 77,
     "metadata": {},
     "output_type": "execute_result"
    }
   ],
   "source": [
    "distances"
   ]
  },
  {
   "cell_type": "code",
   "execution_count": 78,
   "id": "90c52a9e",
   "metadata": {},
   "outputs": [
    {
     "data": {
      "text/plain": [
       "array([2, 2])"
      ]
     },
     "execution_count": 78,
     "metadata": {},
     "output_type": "execute_result"
    }
   ],
   "source": [
    "points[4]"
   ]
  },
  {
   "cell_type": "code",
   "execution_count": 79,
   "id": "38e80679",
   "metadata": {},
   "outputs": [
    {
     "data": {
      "text/plain": [
       "0.5"
      ]
     },
     "execution_count": 79,
     "metadata": {},
     "output_type": "execute_result"
    }
   ],
   "source": [
    "distances[4]"
   ]
  },
  {
   "cell_type": "code",
   "execution_count": 80,
   "id": "9c8e0f7c",
   "metadata": {},
   "outputs": [
    {
     "data": {
      "text/plain": [
       "array([3, 2])"
      ]
     },
     "execution_count": 80,
     "metadata": {},
     "output_type": "execute_result"
    }
   ],
   "source": [
    "points[7]"
   ]
  },
  {
   "cell_type": "code",
   "execution_count": 81,
   "id": "c197347f",
   "metadata": {},
   "outputs": [
    {
     "data": {
      "text/plain": [
       "0.5"
      ]
     },
     "execution_count": 81,
     "metadata": {},
     "output_type": "execute_result"
    }
   ],
   "source": [
    "distances[7]"
   ]
  },
  {
   "cell_type": "code",
   "execution_count": 82,
   "id": "74a06cc0",
   "metadata": {},
   "outputs": [],
   "source": [
    "ind = np.argsort(distances)"
   ]
  },
  {
   "cell_type": "code",
   "execution_count": 83,
   "id": "8423c643",
   "metadata": {},
   "outputs": [
    {
     "data": {
      "text/plain": [
       "array([4, 7, 3, 5, 6, 8, 1, 0, 2], dtype=int64)"
      ]
     },
     "execution_count": 83,
     "metadata": {},
     "output_type": "execute_result"
    }
   ],
   "source": [
    "ind"
   ]
  },
  {
   "cell_type": "code",
   "execution_count": 84,
   "id": "57deba5a",
   "metadata": {},
   "outputs": [
    {
     "data": {
      "text/plain": [
       "array([0.5       , 0.5       , 1.11803399, 1.11803399, 1.11803399,\n",
       "       1.11803399, 1.5       , 1.80277564, 1.80277564])"
      ]
     },
     "execution_count": 84,
     "metadata": {},
     "output_type": "execute_result"
    }
   ],
   "source": [
    "distances[ind]"
   ]
  },
  {
   "cell_type": "code",
   "execution_count": 85,
   "id": "f95a6bce",
   "metadata": {},
   "outputs": [
    {
     "data": {
      "text/plain": [
       "array([0.5, 0.5])"
      ]
     },
     "execution_count": 85,
     "metadata": {},
     "output_type": "execute_result"
    }
   ],
   "source": [
    "distances[ind[0:2]]"
   ]
  },
  {
   "cell_type": "code",
   "execution_count": 93,
   "id": "445133f6",
   "metadata": {},
   "outputs": [],
   "source": [
    "def findnearestneighbours(p,points,k=5):\n",
    "    \"\"\"find k nearest neighbours of point p and return their indices\"\"\"\n",
    "    distances = np.zeros(points.shape[0])\n",
    "    for i in range(len(distances)):\n",
    "        distances[i] = distance(p, points[i])\n",
    "    ind = np.argsort(distances)\n",
    "    return ind[:k]"
   ]
  },
  {
   "cell_type": "code",
   "execution_count": 97,
   "id": "6f39a576",
   "metadata": {},
   "outputs": [
    {
     "data": {
      "text/plain": [
       "array([[2, 2],\n",
       "       [3, 2],\n",
       "       [2, 1]])"
      ]
     },
     "execution_count": 97,
     "metadata": {},
     "output_type": "execute_result"
    }
   ],
   "source": [
    "points[findnearestneighbours(p,points,3)]"
   ]
  },
  {
   "cell_type": "code",
   "execution_count": 102,
   "id": "23915d0f",
   "metadata": {},
   "outputs": [],
   "source": [
    "def knn_predict(p, points, outcomes, k=5):\n",
    "    #find k nearest neighbours\n",
    "    ind = findnearestneighbours(p,points,k)\n",
    "    #predict the class/category of p based on majority votes\n",
    "    return majority_vote(outcomes[ind])\n",
    "\n",
    "outcomes = np.array([0,0,0,0,1,1,1,1,1])"
   ]
  },
  {
   "cell_type": "code",
   "execution_count": 103,
   "id": "ced8e7e7",
   "metadata": {},
   "outputs": [
    {
     "data": {
      "text/plain": [
       "9"
      ]
     },
     "execution_count": 103,
     "metadata": {},
     "output_type": "execute_result"
    }
   ],
   "source": [
    "len(outcomes)"
   ]
  },
  {
   "cell_type": "code",
   "execution_count": 104,
   "id": "b0970e61",
   "metadata": {},
   "outputs": [
    {
     "data": {
      "text/plain": [
       "1"
      ]
     },
     "execution_count": 104,
     "metadata": {},
     "output_type": "execute_result"
    }
   ],
   "source": [
    "knn_predict(np.array([2.5, 2.7]), points, outcomes, k=2)"
   ]
  },
  {
   "cell_type": "code",
   "execution_count": 105,
   "id": "fbb8673d",
   "metadata": {},
   "outputs": [
    {
     "data": {
      "text/plain": [
       "0"
      ]
     },
     "execution_count": 105,
     "metadata": {},
     "output_type": "execute_result"
    }
   ],
   "source": [
    "knn_predict(np.array([1.0, 2.7]), points, outcomes, k=2)"
   ]
  },
  {
   "cell_type": "raw",
   "id": "6b71811a",
   "metadata": {},
   "source": [
    "Not understand"
   ]
  },
  {
   "cell_type": "code",
   "execution_count": 106,
   "id": "eaa3dc6e",
   "metadata": {},
   "outputs": [
    {
     "data": {
      "text/plain": [
       "array([[ 0.4187847 ,  0.18663174],\n",
       "       [-1.35073322, -1.86808223],\n",
       "       [-1.2092726 , -1.01631834],\n",
       "       [ 0.53915997,  1.10191953],\n",
       "       [-1.43393346,  0.02894069]])"
      ]
     },
     "execution_count": 106,
     "metadata": {},
     "output_type": "execute_result"
    }
   ],
   "source": [
    "ss.norm(0,1).rvs((5,2))"
   ]
  },
  {
   "cell_type": "code",
   "execution_count": 107,
   "id": "ee2e3153",
   "metadata": {},
   "outputs": [
    {
     "data": {
      "text/plain": [
       "array([[-0.79025284,  2.02826543],\n",
       "       [ 0.87689186, -0.64999538],\n",
       "       [-0.41502691,  1.42343363],\n",
       "       [ 0.32726922,  1.16705453],\n",
       "       [-0.45537266, -0.97898033]])"
      ]
     },
     "execution_count": 107,
     "metadata": {},
     "output_type": "execute_result"
    }
   ],
   "source": [
    "ss.norm(1,1).rvs((5,2))"
   ]
  },
  {
   "cell_type": "code",
   "execution_count": 108,
   "id": "7cbf8c84",
   "metadata": {},
   "outputs": [
    {
     "data": {
      "text/plain": [
       "array([[-0.49209236, -2.62034711],\n",
       "       [ 1.60821931,  0.45280072],\n",
       "       [ 0.41022136, -1.67881525],\n",
       "       [-0.02445138, -1.88005131],\n",
       "       [ 0.49054473, -1.96258484],\n",
       "       [-0.26074907, -0.25516599],\n",
       "       [-1.32462413, -0.01388798],\n",
       "       [-0.31601681, -0.73940165],\n",
       "       [ 0.55078514, -0.4854565 ],\n",
       "       [-1.72656401, -0.42757249]])"
      ]
     },
     "execution_count": 108,
     "metadata": {},
     "output_type": "execute_result"
    }
   ],
   "source": [
    "np.concatenate((ss.norm(0,1).rvs((5,2)), ss.norm(0,1).rvs((5,2))), axis=0)"
   ]
  },
  {
   "cell_type": "code",
   "execution_count": 111,
   "id": "65f9f921",
   "metadata": {},
   "outputs": [
    {
     "data": {
      "text/plain": [
       "array([[ 1.91140666,  1.12025359],\n",
       "       [ 0.61311507,  1.20527289],\n",
       "       [-0.12291781,  0.46330087],\n",
       "       [-0.18136962, -0.254584  ],\n",
       "       [ 1.24386718,  0.81439722],\n",
       "       [-1.58163494, -1.14564241],\n",
       "       [ 0.0797833 ,  0.80419168],\n",
       "       [ 1.95870257,  1.54746489],\n",
       "       [-0.17127606, -0.43007878],\n",
       "       [ 0.70503126,  0.47483897]])"
      ]
     },
     "execution_count": 111,
     "metadata": {},
     "output_type": "execute_result"
    }
   ],
   "source": [
    "n=5\n",
    "np.concatenate((ss.norm(0,1).rvs((n,2)), ss.norm(0,1).rvs((n,2))), axis=0)"
   ]
  },
  {
   "cell_type": "code",
   "execution_count": 117,
   "id": "64315062",
   "metadata": {},
   "outputs": [
    {
     "data": {
      "text/plain": [
       "array([0, 0, 0, 0, 0, 1, 1, 1, 1, 1])"
      ]
     },
     "execution_count": 117,
     "metadata": {},
     "output_type": "execute_result"
    }
   ],
   "source": [
    "n=5\n",
    "outcomes = np.concatenate((np.repeat(0,n), np.repeat(1,n)))"
   ]
  },
  {
   "cell_type": "code",
   "execution_count": 118,
   "id": "0a52c89a",
   "metadata": {},
   "outputs": [],
   "source": [
    "def generatesyntheticdata(n=50):\n",
    "    \"\"\"create 2 sets of points from bivariate normal distribution\"\"\"\n",
    "    points = np.concatenate((ss.norm(0,1).rvs((n,2)), ss.norm(0,1).rvs((n,2))), axis=0)\n",
    "    outcomes = np.concatenate((np.repeat(0,n), np.repeat(1,n)))\n",
    "    return (points, outcomes)"
   ]
  },
  {
   "cell_type": "code",
   "execution_count": 119,
   "id": "d36c66de",
   "metadata": {},
   "outputs": [],
   "source": [
    "n=20"
   ]
  },
  {
   "cell_type": "code",
   "execution_count": 120,
   "id": "a8c2da2c",
   "metadata": {},
   "outputs": [],
   "source": [
    "(points, outcome) = generatesyntheticdata(n)"
   ]
  },
  {
   "cell_type": "code",
   "execution_count": 121,
   "id": "a24351b2",
   "metadata": {},
   "outputs": [
    {
     "data": {
      "image/png": "[encoded data removed]",
      "text/plain": [
       "<Figure size 432x288 with 1 Axes>"
      ]
     },
     "metadata": {
      "needs_background": "light"
     },
     "output_type": "display_data"
    }
   ],
   "source": [
    "plt.figure()\n",
    "plt.plot(points[:n,0], points[:n,1], \"ro\")\n",
    "plt.plot(points[n:,0], points[n:,1], \"bo\")\n",
    "plt.savefig(\"bivardata.pdf\")"
   ]
  },
  {
   "cell_type": "raw",
   "id": "52d9acab",
   "metadata": {},
   "source": [
    "Understood"
   ]
  },
  {
   "cell_type": "code",
   "execution_count": 122,
   "id": "601717c9",
   "metadata": {},
   "outputs": [],
   "source": [
    "def make_prediction_grid(predictors, outcomes, limits, h, k):\n",
    "    \"\"\"classify each point in the prediction grid\"\"\"\n",
    "    (x_min, x_max, y_min, y_max) = limits\n",
    "    xs = np.arange(x_min, x_max, h)\n",
    "    ys = np.arange(y_min, y_max, h)\n",
    "    xx,yy = np.meshgrid(xs,ys)\n",
    "    \n",
    "    prediction_grid = np.zeros(xx.shape, dtype = int)\n",
    "    for i,x in enumerate(xs):\n",
    "        for j,y in enumerate(ys):\n",
    "            p = np.array([x,y])\n",
    "            prediction_grid[j][i] = knn_predict(p, predictors, outcomes, k)\n",
    "    return (xx, yy, prediction_grid)"
   ]
  },
  {
   "cell_type": "code",
   "execution_count": 123,
   "id": "341608ea",
   "metadata": {},
   "outputs": [],
   "source": [
    "#enumerate explanation\n",
    "seasons = [\"spring\", \"summer\", \"winter\", \"autumn\"]"
   ]
  },
  {
   "cell_type": "code",
   "execution_count": 124,
   "id": "aee720c5",
   "metadata": {},
   "outputs": [
    {
     "data": {
      "text/plain": [
       "<enumerate at 0x1c1e273dd80>"
      ]
     },
     "execution_count": 124,
     "metadata": {},
     "output_type": "execute_result"
    }
   ],
   "source": [
    "enumerate(seasons)"
   ]
  },
  {
   "cell_type": "code",
   "execution_count": 125,
   "id": "0fd4cf5e",
   "metadata": {},
   "outputs": [
    {
     "data": {
      "text/plain": [
       "[(0, 'spring'), (1, 'summer'), (2, 'winter'), (3, 'autumn')]"
      ]
     },
     "execution_count": 125,
     "metadata": {},
     "output_type": "execute_result"
    }
   ],
   "source": [
    "list(enumerate(seasons))"
   ]
  },
  {
   "cell_type": "code",
   "execution_count": 126,
   "id": "16b740f0",
   "metadata": {},
   "outputs": [
    {
     "name": "stdout",
     "output_type": "stream",
     "text": [
      "0 spring\n",
      "1 summer\n",
      "2 winter\n",
      "3 autumn\n"
     ]
    }
   ],
   "source": [
    "for ind, season in enumerate(seasons):\n",
    "    print(ind,season)"
   ]
  },
  {
   "cell_type": "code",
   "execution_count": 131,
   "id": "06ba6697",
   "metadata": {},
   "outputs": [],
   "source": [
    "def plot_prediction_grid (xx, yy, prediction_grid, filename):\n",
    "    \"\"\" Plot KNN predictions for every point on the grid.\"\"\"\n",
    "    from matplotlib.colors import ListedColormap\n",
    "    background_colormap = ListedColormap ([\"hotpink\",\"lightskyblue\", \"yellowgreen\"])\n",
    "    observation_colormap = ListedColormap ([\"red\",\"blue\",\"green\"])\n",
    "    plt.figure(figsize =(10,10))\n",
    "    plt.pcolormesh(xx, yy, prediction_grid, cmap = background_colormap, alpha = 0.5)\n",
    "    plt.scatter(predictors[:,0], predictors [:,1], c = outcomes, cmap = observation_colormap, s = 50)\n",
    "    plt.xlabel('Variable 1'); plt.ylabel('Variable 2')\n",
    "    plt.xticks(()); plt.yticks(())\n",
    "    plt.xlim (np.min(xx), np.max(xx))\n",
    "    plt.ylim (np.min(yy), np.max(yy))\n",
    "    plt.savefig(filename)"
   ]
  },
  {
   "cell_type": "code",
   "execution_count": 132,
   "id": "7ce12e12",
   "metadata": {},
   "outputs": [],
   "source": [
    "(predictors, outcomes) = generatesyntheticdata()"
   ]
  },
  {
   "cell_type": "code",
   "execution_count": 133,
   "id": "71f4251f",
   "metadata": {},
   "outputs": [
    {
     "data": {
      "text/plain": [
       "(100, 2)"
      ]
     },
     "execution_count": 133,
     "metadata": {},
     "output_type": "execute_result"
    }
   ],
   "source": [
    "predictors.shape"
   ]
  },
  {
   "cell_type": "code",
   "execution_count": 134,
   "id": "86747482",
   "metadata": {},
   "outputs": [
    {
     "data": {
      "text/plain": [
       "(100,)"
      ]
     },
     "execution_count": 134,
     "metadata": {},
     "output_type": "execute_result"
    }
   ],
   "source": [
    "outcomes.shape"
   ]
  },
  {
   "cell_type": "code",
   "execution_count": 135,
   "id": "b418f256",
   "metadata": {},
   "outputs": [
    {
     "name": "stderr",
     "output_type": "stream",
     "text": [
      "C:\\Users\\ANUBHA\\AppData\\Local\\Temp/ipykernel_13016/1893703333.py:7: MatplotlibDeprecationWarning: shading='flat' when X and Y have the same dimensions as C is deprecated since 3.3.  Either specify the corners of the quadrilaterals with X and Y, or pass shading='auto', 'nearest' or 'gouraud', or set rcParams['pcolor.shading'].  This will become an error two minor releases later.\n",
      "  plt.pcolormesh(xx, yy, prediction_grid, cmap = background_colormap, alpha = 0.5)\n"
     ]
    },
    {
     "data": {
      "image/png": "[encoded data removed]",
      "text/plain": [
       "<Figure size 720x720 with 1 Axes>"
      ]
     },
     "metadata": {},
     "output_type": "display_data"
    }
   ],
   "source": [
    "k=5\n",
    "filename = \"knn_synth_5.pdf\"\n",
    "limits = (-3,4,-3,4)\n",
    "h=0.1\n",
    "(xx, yy, prediction_grid) = make_prediction_grid(predictors, outcomes, limits, h, k)\n",
    "plot_prediction_grid(xx, yy, prediction_grid, filename)"
   ]
  },
  {
   "cell_type": "code",
   "execution_count": 136,
   "id": "be458eef",
   "metadata": {},
   "outputs": [
    {
     "name": "stderr",
     "output_type": "stream",
     "text": [
      "C:\\Users\\ANUBHA\\AppData\\Local\\Temp/ipykernel_13016/1893703333.py:7: MatplotlibDeprecationWarning: shading='flat' when X and Y have the same dimensions as C is deprecated since 3.3.  Either specify the corners of the quadrilaterals with X and Y, or pass shading='auto', 'nearest' or 'gouraud', or set rcParams['pcolor.shading'].  This will become an error two minor releases later.\n",
      "  plt.pcolormesh(xx, yy, prediction_grid, cmap = background_colormap, alpha = 0.5)\n"
     ]
    },
    {
     "data": {
      "image/png": "[encoded data removed]",
      "text/plain": [
       "<Figure size 720x720 with 1 Axes>"
      ]
     },
     "metadata": {},
     "output_type": "display_data"
    }
   ],
   "source": [
    "k=50\n",
    "filename = \"knn_synth_50.pdf\"\n",
    "limits = (-3,4,-3,4)\n",
    "h=0.1\n",
    "(xx, yy, prediction_grid) = make_prediction_grid(predictors, outcomes, limits, h, k)\n",
    "plot_prediction_grid(xx, yy, prediction_grid, filename)"
   ]
  },
  {
   "cell_type": "code",
   "execution_count": 137,
   "id": "2bb37c6d",
   "metadata": {},
   "outputs": [],
   "source": [
    "from sklearn import datasets\n",
    "iris = datasets.load_iris()"
   ]
  },
  {
   "cell_type": "code",
   "execution_count": 138,
   "id": "9fa4ed28",
   "metadata": {},
   "outputs": [
    {
     "data": {
      "text/plain": [
       "array([[5.1, 3.5, 1.4, 0.2],\n",
       "       [4.9, 3. , 1.4, 0.2],\n",
       "       [4.7, 3.2, 1.3, 0.2],\n",
       "       [4.6, 3.1, 1.5, 0.2],\n",
       "       [5. , 3.6, 1.4, 0.2],\n",
       "       [5.4, 3.9, 1.7, 0.4],\n",
       "       [4.6, 3.4, 1.4, 0.3],\n",
       "       [5. , 3.4, 1.5, 0.2],\n",
       "       [4.4, 2.9, 1.4, 0.2],\n",
       "       [4.9, 3.1, 1.5, 0.1],\n",
       "       [5.4, 3.7, 1.5, 0.2],\n",
       "       [4.8, 3.4, 1.6, 0.2],\n",
       "       [4.8, 3. , 1.4, 0.1],\n",
       "       [4.3, 3. , 1.1, 0.1],\n",
       "       [5.8, 4. , 1.2, 0.2],\n",
       "       [5.7, 4.4, 1.5, 0.4],\n",
       "       [5.4, 3.9, 1.3, 0.4],\n",
       "       [5.1, 3.5, 1.4, 0.3],\n",
       "       [5.7, 3.8, 1.7, 0.3],\n",
       "       [5.1, 3.8, 1.5, 0.3],\n",
       "       [5.4, 3.4, 1.7, 0.2],\n",
       "       [5.1, 3.7, 1.5, 0.4],\n",
       "       [4.6, 3.6, 1. , 0.2],\n",
       "       [5.1, 3.3, 1.7, 0.5],\n",
       "       [4.8, 3.4, 1.9, 0.2],\n",
       "       [5. , 3. , 1.6, 0.2],\n",
       "       [5. , 3.4, 1.6, 0.4],\n",
       "       [5.2, 3.5, 1.5, 0.2],\n",
       "       [5.2, 3.4, 1.4, 0.2],\n",
       "       [4.7, 3.2, 1.6, 0.2],\n",
       "       [4.8, 3.1, 1.6, 0.2],\n",
       "       [5.4, 3.4, 1.5, 0.4],\n",
       "       [5.2, 4.1, 1.5, 0.1],\n",
       "       [5.5, 4.2, 1.4, 0.2],\n",
       "       [4.9, 3.1, 1.5, 0.2],\n",
       "       [5. , 3.2, 1.2, 0.2],\n",
       "       [5.5, 3.5, 1.3, 0.2],\n",
       "       [4.9, 3.6, 1.4, 0.1],\n",
       "       [4.4, 3. , 1.3, 0.2],\n",
       "       [5.1, 3.4, 1.5, 0.2],\n",
       "       [5. , 3.5, 1.3, 0.3],\n",
       "       [4.5, 2.3, 1.3, 0.3],\n",
       "       [4.4, 3.2, 1.3, 0.2],\n",
       "       [5. , 3.5, 1.6, 0.6],\n",
       "       [5.1, 3.8, 1.9, 0.4],\n",
       "       [4.8, 3. , 1.4, 0.3],\n",
       "       [5.1, 3.8, 1.6, 0.2],\n",
       "       [4.6, 3.2, 1.4, 0.2],\n",
       "       [5.3, 3.7, 1.5, 0.2],\n",
       "       [5. , 3.3, 1.4, 0.2],\n",
       "       [7. , 3.2, 4.7, 1.4],\n",
       "       [6.4, 3.2, 4.5, 1.5],\n",
       "       [6.9, 3.1, 4.9, 1.5],\n",
       "       [5.5, 2.3, 4. , 1.3],\n",
       "       [6.5, 2.8, 4.6, 1.5],\n",
       "       [5.7, 2.8, 4.5, 1.3],\n",
       "       [6.3, 3.3, 4.7, 1.6],\n",
       "       [4.9, 2.4, 3.3, 1. ],\n",
       "       [6.6, 2.9, 4.6, 1.3],\n",
       "       [5.2, 2.7, 3.9, 1.4],\n",
       "       [5. , 2. , 3.5, 1. ],\n",
       "       [5.9, 3. , 4.2, 1.5],\n",
       "       [6. , 2.2, 4. , 1. ],\n",
       "       [6.1, 2.9, 4.7, 1.4],\n",
       "       [5.6, 2.9, 3.6, 1.3],\n",
       "       [6.7, 3.1, 4.4, 1.4],\n",
       "       [5.6, 3. , 4.5, 1.5],\n",
       "       [5.8, 2.7, 4.1, 1. ],\n",
       "       [6.2, 2.2, 4.5, 1.5],\n",
       "       [5.6, 2.5, 3.9, 1.1],\n",
       "       [5.9, 3.2, 4.8, 1.8],\n",
       "       [6.1, 2.8, 4. , 1.3],\n",
       "       [6.3, 2.5, 4.9, 1.5],\n",
       "       [6.1, 2.8, 4.7, 1.2],\n",
       "       [6.4, 2.9, 4.3, 1.3],\n",
       "       [6.6, 3. , 4.4, 1.4],\n",
       "       [6.8, 2.8, 4.8, 1.4],\n",
       "       [6.7, 3. , 5. , 1.7],\n",
       "       [6. , 2.9, 4.5, 1.5],\n",
       "       [5.7, 2.6, 3.5, 1. ],\n",
       "       [5.5, 2.4, 3.8, 1.1],\n",
       "       [5.5, 2.4, 3.7, 1. ],\n",
       "       [5.8, 2.7, 3.9, 1.2],\n",
       "       [6. , 2.7, 5.1, 1.6],\n",
       "       [5.4, 3. , 4.5, 1.5],\n",
       "       [6. , 3.4, 4.5, 1.6],\n",
       "       [6.7, 3.1, 4.7, 1.5],\n",
       "       [6.3, 2.3, 4.4, 1.3],\n",
       "       [5.6, 3. , 4.1, 1.3],\n",
       "       [5.5, 2.5, 4. , 1.3],\n",
       "       [5.5, 2.6, 4.4, 1.2],\n",
       "       [6.1, 3. , 4.6, 1.4],\n",
       "       [5.8, 2.6, 4. , 1.2],\n",
       "       [5. , 2.3, 3.3, 1. ],\n",
       "       [5.6, 2.7, 4.2, 1.3],\n",
       "       [5.7, 3. , 4.2, 1.2],\n",
       "       [5.7, 2.9, 4.2, 1.3],\n",
       "       [6.2, 2.9, 4.3, 1.3],\n",
       "       [5.1, 2.5, 3. , 1.1],\n",
       "       [5.7, 2.8, 4.1, 1.3],\n",
       "       [6.3, 3.3, 6. , 2.5],\n",
       "       [5.8, 2.7, 5.1, 1.9],\n",
       "       [7.1, 3. , 5.9, 2.1],\n",
       "       [6.3, 2.9, 5.6, 1.8],\n",
       "       [6.5, 3. , 5.8, 2.2],\n",
       "       [7.6, 3. , 6.6, 2.1],\n",
       "       [4.9, 2.5, 4.5, 1.7],\n",
       "       [7.3, 2.9, 6.3, 1.8],\n",
       "       [6.7, 2.5, 5.8, 1.8],\n",
       "       [7.2, 3.6, 6.1, 2.5],\n",
       "       [6.5, 3.2, 5.1, 2. ],\n",
       "       [6.4, 2.7, 5.3, 1.9],\n",
       "       [6.8, 3. , 5.5, 2.1],\n",
       "       [5.7, 2.5, 5. , 2. ],\n",
       "       [5.8, 2.8, 5.1, 2.4],\n",
       "       [6.4, 3.2, 5.3, 2.3],\n",
       "       [6.5, 3. , 5.5, 1.8],\n",
       "       [7.7, 3.8, 6.7, 2.2],\n",
       "       [7.7, 2.6, 6.9, 2.3],\n",
       "       [6. , 2.2, 5. , 1.5],\n",
       "       [6.9, 3.2, 5.7, 2.3],\n",
       "       [5.6, 2.8, 4.9, 2. ],\n",
       "       [7.7, 2.8, 6.7, 2. ],\n",
       "       [6.3, 2.7, 4.9, 1.8],\n",
       "       [6.7, 3.3, 5.7, 2.1],\n",
       "       [7.2, 3.2, 6. , 1.8],\n",
       "       [6.2, 2.8, 4.8, 1.8],\n",
       "       [6.1, 3. , 4.9, 1.8],\n",
       "       [6.4, 2.8, 5.6, 2.1],\n",
       "       [7.2, 3. , 5.8, 1.6],\n",
       "       [7.4, 2.8, 6.1, 1.9],\n",
       "       [7.9, 3.8, 6.4, 2. ],\n",
       "       [6.4, 2.8, 5.6, 2.2],\n",
       "       [6.3, 2.8, 5.1, 1.5],\n",
       "       [6.1, 2.6, 5.6, 1.4],\n",
       "       [7.7, 3. , 6.1, 2.3],\n",
       "       [6.3, 3.4, 5.6, 2.4],\n",
       "       [6.4, 3.1, 5.5, 1.8],\n",
       "       [6. , 3. , 4.8, 1.8],\n",
       "       [6.9, 3.1, 5.4, 2.1],\n",
       "       [6.7, 3.1, 5.6, 2.4],\n",
       "       [6.9, 3.1, 5.1, 2.3],\n",
       "       [5.8, 2.7, 5.1, 1.9],\n",
       "       [6.8, 3.2, 5.9, 2.3],\n",
       "       [6.7, 3.3, 5.7, 2.5],\n",
       "       [6.7, 3. , 5.2, 2.3],\n",
       "       [6.3, 2.5, 5. , 1.9],\n",
       "       [6.5, 3. , 5.2, 2. ],\n",
       "       [6.2, 3.4, 5.4, 2.3],\n",
       "       [5.9, 3. , 5.1, 1.8]])"
      ]
     },
     "execution_count": 138,
     "metadata": {},
     "output_type": "execute_result"
    }
   ],
   "source": [
    "iris[\"data\"]"
   ]
  },
  {
   "cell_type": "code",
   "execution_count": 139,
   "id": "feb27b4b",
   "metadata": {},
   "outputs": [],
   "source": [
    "predictors = iris.data[:, 0:2]\n",
    "outcomes = iris.target"
   ]
  },
  {
   "cell_type": "code",
   "execution_count": 140,
   "id": "6b426470",
   "metadata": {},
   "outputs": [
    {
     "data": {
      "image/png": "[encoded data removed]",
      "text/plain": [
       "<Figure size 432x288 with 1 Axes>"
      ]
     },
     "metadata": {
      "needs_background": "light"
     },
     "output_type": "display_data"
    }
   ],
   "source": [
    "plt.plot(predictors[outcomes==0][:, 0], predictors[outcomes==0][:, 1], \"ro\")\n",
    "plt.plot(predictors[outcomes==1][:, 0], predictors[outcomes==0][:, 1], \"go\")\n",
    "plt.plot(predictors[outcomes==2][:, 0], predictors[outcomes==0][:, 1], \"bo\")\n",
    "plt.savefig(\"Iris.pdf\")"
   ]
  },
  {
   "cell_type": "code",
   "execution_count": 141,
   "id": "861cc56d",
   "metadata": {},
   "outputs": [
    {
     "name": "stderr",
     "output_type": "stream",
     "text": [
      "C:\\Users\\ANUBHA\\AppData\\Local\\Temp/ipykernel_13016/1893703333.py:7: MatplotlibDeprecationWarning: shading='flat' when X and Y have the same dimensions as C is deprecated since 3.3.  Either specify the corners of the quadrilaterals with X and Y, or pass shading='auto', 'nearest' or 'gouraud', or set rcParams['pcolor.shading'].  This will become an error two minor releases later.\n",
      "  plt.pcolormesh(xx, yy, prediction_grid, cmap = background_colormap, alpha = 0.5)\n"
     ]
    },
    {
     "data": {
      "image/png": "[encoded data removed]",
      "text/plain": [
       "<Figure size 720x720 with 1 Axes>"
      ]
     },
     "metadata": {},
     "output_type": "display_data"
    }
   ],
   "source": [
    "k=5\n",
    "filename = \"iris_grid.pdf\"\n",
    "limits = (4,8,1.5,4.5)\n",
    "h=0.1\n",
    "(xx, yy, prediction_grid) = make_prediction_grid(predictors, outcomes, limits, h, k)\n",
    "plot_prediction_grid(xx, yy, prediction_grid, filename)"
   ]
  },
  {
   "cell_type": "code",
   "execution_count": 143,
   "id": "eb2508e4",
   "metadata": {},
   "outputs": [],
   "source": [
    "from sklearn.neighbors import KNeighborsClassifier\n",
    "knn = KNeighborsClassifier(n_neighbors = 5)"
   ]
  },
  {
   "cell_type": "code",
   "execution_count": 145,
   "id": "016060f3",
   "metadata": {},
   "outputs": [],
   "source": [
    "knn.fit(predictors, outcomes)\n",
    "sk_predictions = knn.predict(predictors)"
   ]
  },
  {
   "cell_type": "code",
   "execution_count": 146,
   "id": "5e84377d",
   "metadata": {},
   "outputs": [
    {
     "data": {
      "text/plain": [
       "(150,)"
      ]
     },
     "execution_count": 146,
     "metadata": {},
     "output_type": "execute_result"
    }
   ],
   "source": [
    "sk_predictions.shape"
   ]
  },
  {
   "cell_type": "code",
   "execution_count": 147,
   "id": "6d1d4afe",
   "metadata": {},
   "outputs": [
    {
     "data": {
      "text/plain": [
       "array([0, 0, 0, 0, 0, 0, 0, 0, 0, 0])"
      ]
     },
     "execution_count": 147,
     "metadata": {},
     "output_type": "execute_result"
    }
   ],
   "source": [
    "sk_predictions[0:10]"
   ]
  },
  {
   "cell_type": "code",
   "execution_count": 148,
   "id": "0a348702",
   "metadata": {},
   "outputs": [],
   "source": [
    "my_predictions = np.array([knn_predict(p, predictors, outcomes, 5) for p in predictors])"
   ]
  },
  {
   "cell_type": "code",
   "execution_count": 150,
   "id": "82268072",
   "metadata": {},
   "outputs": [
    {
     "data": {
      "text/plain": [
       "(150,)"
      ]
     },
     "execution_count": 150,
     "metadata": {},
     "output_type": "execute_result"
    }
   ],
   "source": [
    "my_predictions.shape"
   ]
  },
  {
   "cell_type": "code",
   "execution_count": 151,
   "id": "bf984e29",
   "metadata": {},
   "outputs": [
    {
     "data": {
      "text/plain": [
       "array([ True,  True,  True,  True,  True,  True,  True,  True,  True,\n",
       "        True,  True,  True,  True,  True,  True,  True,  True,  True,\n",
       "        True,  True,  True,  True,  True,  True,  True,  True,  True,\n",
       "        True,  True,  True,  True,  True,  True,  True,  True,  True,\n",
       "        True,  True,  True,  True,  True,  True,  True,  True,  True,\n",
       "        True,  True,  True,  True,  True,  True,  True,  True,  True,\n",
       "        True,  True,  True,  True,  True,  True,  True, False,  True,\n",
       "        True,  True,  True,  True,  True,  True,  True,  True,  True,\n",
       "        True,  True,  True,  True,  True, False,  True,  True,  True,\n",
       "        True,  True,  True,  True, False,  True,  True,  True,  True,\n",
       "        True,  True,  True,  True,  True,  True,  True,  True,  True,\n",
       "        True,  True,  True,  True,  True,  True,  True,  True,  True,\n",
       "       False,  True,  True,  True,  True,  True,  True,  True,  True,\n",
       "        True,  True,  True,  True,  True,  True,  True,  True,  True,\n",
       "        True,  True,  True,  True,  True,  True,  True,  True,  True,\n",
       "        True,  True,  True,  True,  True,  True,  True,  True,  True,\n",
       "        True, False,  True,  True,  True, False])"
      ]
     },
     "execution_count": 151,
     "metadata": {},
     "output_type": "execute_result"
    }
   ],
   "source": [
    "sk_predictions == my_predictions"
   ]
  },
  {
   "cell_type": "code",
   "execution_count": 153,
   "id": "1a3152c3",
   "metadata": {},
   "outputs": [
    {
     "name": "stdout",
     "output_type": "stream",
     "text": [
      "96.0\n"
     ]
    }
   ],
   "source": [
    "print(100*np.mean(sk_predictions == my_predictions))"
   ]
  },
  {
   "cell_type": "code",
   "execution_count": 154,
   "id": "8e98edee",
   "metadata": {},
   "outputs": [
    {
     "name": "stdout",
     "output_type": "stream",
     "text": [
      "83.33333333333334\n",
      "84.66666666666667\n"
     ]
    }
   ],
   "source": [
    "print(100*np.mean(sk_predictions == outcomes))\n",
    "print(100*np.mean(my_predictions == outcomes))"
   ]
  },
  {
   "cell_type": "code",
   "execution_count": 7,
   "id": "4cfd0282",
   "metadata": {},
   "outputs": [
    {
     "data": {
      "text/html": [
       "<div>\n",
       "<style scoped>\n",
       "    .dataframe tbody tr th:only-of-type {\n",
       "        vertical-align: middle;\n",
       "    }\n",
       "\n",
       "    .dataframe tbody tr th {\n",
       "        vertical-align: top;\n",
       "    }\n",
       "\n",
       "    .dataframe thead th {\n",
       "        text-align: right;\n",
       "    }\n",
       "</style>\n",
       "<table border=\"1\" class=\"dataframe\">\n",
       "  <thead>\n",
       "    <tr style=\"text-align: right;\">\n",
       "      <th></th>\n",
       "      <th>Name</th>\n",
       "      <th>Team</th>\n",
       "      <th>Number</th>\n",
       "      <th>Position</th>\n",
       "      <th>Age</th>\n",
       "      <th>Height</th>\n",
       "      <th>Weight</th>\n",
       "      <th>College</th>\n",
       "      <th>Salary</th>\n",
       "    </tr>\n",
       "  </thead>\n",
       "  <tbody>\n",
       "    <tr>\n",
       "      <th>0</th>\n",
       "      <td>Avery Bradley</td>\n",
       "      <td>Boston Celtics</td>\n",
       "      <td>0.0</td>\n",
       "      <td>PG</td>\n",
       "      <td>25.0</td>\n",
       "      <td>6-2</td>\n",
       "      <td>180.0</td>\n",
       "      <td>Texas</td>\n",
       "      <td>7730337.0</td>\n",
       "    </tr>\n",
       "    <tr>\n",
       "      <th>1</th>\n",
       "      <td>Jae Crowder</td>\n",
       "      <td>Boston Celtics</td>\n",
       "      <td>99.0</td>\n",
       "      <td>SF</td>\n",
       "      <td>25.0</td>\n",
       "      <td>6-6</td>\n",
       "      <td>235.0</td>\n",
       "      <td>Marquette</td>\n",
       "      <td>6796117.0</td>\n",
       "    </tr>\n",
       "    <tr>\n",
       "      <th>2</th>\n",
       "      <td>John Holland</td>\n",
       "      <td>Boston Celtics</td>\n",
       "      <td>30.0</td>\n",
       "      <td>SG</td>\n",
       "      <td>27.0</td>\n",
       "      <td>6-5</td>\n",
       "      <td>205.0</td>\n",
       "      <td>Boston University</td>\n",
       "      <td>NaN</td>\n",
       "    </tr>\n",
       "    <tr>\n",
       "      <th>3</th>\n",
       "      <td>R.J. Hunter</td>\n",
       "      <td>Boston Celtics</td>\n",
       "      <td>28.0</td>\n",
       "      <td>SG</td>\n",
       "      <td>22.0</td>\n",
       "      <td>6-5</td>\n",
       "      <td>185.0</td>\n",
       "      <td>Georgia State</td>\n",
       "      <td>1148640.0</td>\n",
       "    </tr>\n",
       "    <tr>\n",
       "      <th>4</th>\n",
       "      <td>Jonas Jerebko</td>\n",
       "      <td>Boston Celtics</td>\n",
       "      <td>8.0</td>\n",
       "      <td>PF</td>\n",
       "      <td>29.0</td>\n",
       "      <td>6-10</td>\n",
       "      <td>231.0</td>\n",
       "      <td>NaN</td>\n",
       "      <td>5000000.0</td>\n",
       "    </tr>\n",
       "    <tr>\n",
       "      <th>...</th>\n",
       "      <td>...</td>\n",
       "      <td>...</td>\n",
       "      <td>...</td>\n",
       "      <td>...</td>\n",
       "      <td>...</td>\n",
       "      <td>...</td>\n",
       "      <td>...</td>\n",
       "      <td>...</td>\n",
       "      <td>...</td>\n",
       "    </tr>\n",
       "    <tr>\n",
       "      <th>453</th>\n",
       "      <td>Shelvin Mack</td>\n",
       "      <td>Utah Jazz</td>\n",
       "      <td>8.0</td>\n",
       "      <td>PG</td>\n",
       "      <td>26.0</td>\n",
       "      <td>6-3</td>\n",
       "      <td>203.0</td>\n",
       "      <td>Butler</td>\n",
       "      <td>2433333.0</td>\n",
       "    </tr>\n",
       "    <tr>\n",
       "      <th>454</th>\n",
       "      <td>Raul Neto</td>\n",
       "      <td>Utah Jazz</td>\n",
       "      <td>25.0</td>\n",
       "      <td>PG</td>\n",
       "      <td>24.0</td>\n",
       "      <td>6-1</td>\n",
       "      <td>179.0</td>\n",
       "      <td>NaN</td>\n",
       "      <td>900000.0</td>\n",
       "    </tr>\n",
       "    <tr>\n",
       "      <th>455</th>\n",
       "      <td>Tibor Pleiss</td>\n",
       "      <td>Utah Jazz</td>\n",
       "      <td>21.0</td>\n",
       "      <td>C</td>\n",
       "      <td>26.0</td>\n",
       "      <td>7-3</td>\n",
       "      <td>256.0</td>\n",
       "      <td>NaN</td>\n",
       "      <td>2900000.0</td>\n",
       "    </tr>\n",
       "    <tr>\n",
       "      <th>456</th>\n",
       "      <td>Jeff Withey</td>\n",
       "      <td>Utah Jazz</td>\n",
       "      <td>24.0</td>\n",
       "      <td>C</td>\n",
       "      <td>26.0</td>\n",
       "      <td>7-0</td>\n",
       "      <td>231.0</td>\n",
       "      <td>Kansas</td>\n",
       "      <td>947276.0</td>\n",
       "    </tr>\n",
       "    <tr>\n",
       "      <th>457</th>\n",
       "      <td>NaN</td>\n",
       "      <td>NaN</td>\n",
       "      <td>NaN</td>\n",
       "      <td>NaN</td>\n",
       "      <td>NaN</td>\n",
       "      <td>NaN</td>\n",
       "      <td>NaN</td>\n",
       "      <td>NaN</td>\n",
       "      <td>NaN</td>\n",
       "    </tr>\n",
       "  </tbody>\n",
       "</table>\n",
       "<p>458 rows × 9 columns</p>\n",
       "</div>"
      ],
      "text/plain": [
       "              Name            Team  Number Position   Age Height  Weight  \\\n",
       "0    Avery Bradley  Boston Celtics     0.0       PG  25.0    6-2   180.0   \n",
       "1      Jae Crowder  Boston Celtics    99.0       SF  25.0    6-6   235.0   \n",
       "2     John Holland  Boston Celtics    30.0       SG  27.0    6-5   205.0   \n",
       "3      R.J. Hunter  Boston Celtics    28.0       SG  22.0    6-5   185.0   \n",
       "4    Jonas Jerebko  Boston Celtics     8.0       PF  29.0   6-10   231.0   \n",
       "..             ...             ...     ...      ...   ...    ...     ...   \n",
       "453   Shelvin Mack       Utah Jazz     8.0       PG  26.0    6-3   203.0   \n",
       "454      Raul Neto       Utah Jazz    25.0       PG  24.0    6-1   179.0   \n",
       "455   Tibor Pleiss       Utah Jazz    21.0        C  26.0    7-3   256.0   \n",
       "456    Jeff Withey       Utah Jazz    24.0        C  26.0    7-0   231.0   \n",
       "457            NaN             NaN     NaN      NaN   NaN    NaN     NaN   \n",
       "\n",
       "               College     Salary  \n",
       "0                Texas  7730337.0  \n",
       "1            Marquette  6796117.0  \n",
       "2    Boston University        NaN  \n",
       "3        Georgia State  1148640.0  \n",
       "4                  NaN  5000000.0  \n",
       "..                 ...        ...  \n",
       "453             Butler  2433333.0  \n",
       "454                NaN   900000.0  \n",
       "455                NaN  2900000.0  \n",
       "456             Kansas   947276.0  \n",
       "457                NaN        NaN  \n",
       "\n",
       "[458 rows x 9 columns]"
      ]
     },
     "execution_count": 7,
     "metadata": {},
     "output_type": "execute_result"
    }
   ],
   "source": [
    "# importing pandas as pd\n",
    "import pandas as pd\n",
    "\n",
    "# Creating the dataframe\n",
    "df = pd.read_csv(\"https://media.geeksforgeeks.org/wp-content/uploads/nba.csv\")\n",
    "\n",
    "# Print the dataframe\n",
    "df"
   ]
  },
  {
   "cell_type": "code",
   "execution_count": 8,
   "id": "225a0bcc",
   "metadata": {},
   "outputs": [
    {
     "data": {
      "text/html": [
       "<div>\n",
       "<style scoped>\n",
       "    .dataframe tbody tr th:only-of-type {\n",
       "        vertical-align: middle;\n",
       "    }\n",
       "\n",
       "    .dataframe tbody tr th {\n",
       "        vertical-align: top;\n",
       "    }\n",
       "\n",
       "    .dataframe thead th {\n",
       "        text-align: right;\n",
       "    }\n",
       "</style>\n",
       "<table border=\"1\" class=\"dataframe\">\n",
       "  <thead>\n",
       "    <tr style=\"text-align: right;\">\n",
       "      <th></th>\n",
       "      <th>Name</th>\n",
       "      <th>Number</th>\n",
       "      <th>Position</th>\n",
       "      <th>Age</th>\n",
       "      <th>Height</th>\n",
       "      <th>Weight</th>\n",
       "      <th>College</th>\n",
       "      <th>Salary</th>\n",
       "    </tr>\n",
       "    <tr>\n",
       "      <th>Team</th>\n",
       "      <th></th>\n",
       "      <th></th>\n",
       "      <th></th>\n",
       "      <th></th>\n",
       "      <th></th>\n",
       "      <th></th>\n",
       "      <th></th>\n",
       "      <th></th>\n",
       "    </tr>\n",
       "  </thead>\n",
       "  <tbody>\n",
       "    <tr>\n",
       "      <th>Atlanta Hawks</th>\n",
       "      <td>Kent Bazemore</td>\n",
       "      <td>24.0</td>\n",
       "      <td>SF</td>\n",
       "      <td>26.0</td>\n",
       "      <td>6-5</td>\n",
       "      <td>201.0</td>\n",
       "      <td>Old Dominion</td>\n",
       "      <td>2000000.0</td>\n",
       "    </tr>\n",
       "    <tr>\n",
       "      <th>Boston Celtics</th>\n",
       "      <td>Avery Bradley</td>\n",
       "      <td>0.0</td>\n",
       "      <td>PG</td>\n",
       "      <td>25.0</td>\n",
       "      <td>6-2</td>\n",
       "      <td>180.0</td>\n",
       "      <td>Texas</td>\n",
       "      <td>7730337.0</td>\n",
       "    </tr>\n",
       "    <tr>\n",
       "      <th>Brooklyn Nets</th>\n",
       "      <td>Bojan Bogdanovic</td>\n",
       "      <td>44.0</td>\n",
       "      <td>SG</td>\n",
       "      <td>27.0</td>\n",
       "      <td>6-8</td>\n",
       "      <td>216.0</td>\n",
       "      <td>Oklahoma State</td>\n",
       "      <td>3425510.0</td>\n",
       "    </tr>\n",
       "    <tr>\n",
       "      <th>Charlotte Hornets</th>\n",
       "      <td>Nicolas Batum</td>\n",
       "      <td>5.0</td>\n",
       "      <td>SG</td>\n",
       "      <td>27.0</td>\n",
       "      <td>6-8</td>\n",
       "      <td>200.0</td>\n",
       "      <td>Virginia Commonwealth</td>\n",
       "      <td>13125306.0</td>\n",
       "    </tr>\n",
       "    <tr>\n",
       "      <th>Chicago Bulls</th>\n",
       "      <td>Cameron Bairstow</td>\n",
       "      <td>41.0</td>\n",
       "      <td>PF</td>\n",
       "      <td>25.0</td>\n",
       "      <td>6-9</td>\n",
       "      <td>250.0</td>\n",
       "      <td>New Mexico</td>\n",
       "      <td>845059.0</td>\n",
       "    </tr>\n",
       "    <tr>\n",
       "      <th>Cleveland Cavaliers</th>\n",
       "      <td>Matthew Dellavedova</td>\n",
       "      <td>8.0</td>\n",
       "      <td>PG</td>\n",
       "      <td>25.0</td>\n",
       "      <td>6-4</td>\n",
       "      <td>198.0</td>\n",
       "      <td>Saint Mary's</td>\n",
       "      <td>1147276.0</td>\n",
       "    </tr>\n",
       "    <tr>\n",
       "      <th>Dallas Mavericks</th>\n",
       "      <td>Justin Anderson</td>\n",
       "      <td>1.0</td>\n",
       "      <td>SG</td>\n",
       "      <td>22.0</td>\n",
       "      <td>6-6</td>\n",
       "      <td>228.0</td>\n",
       "      <td>Virginia</td>\n",
       "      <td>1449000.0</td>\n",
       "    </tr>\n",
       "    <tr>\n",
       "      <th>Denver Nuggets</th>\n",
       "      <td>Darrell Arthur</td>\n",
       "      <td>0.0</td>\n",
       "      <td>PF</td>\n",
       "      <td>28.0</td>\n",
       "      <td>6-9</td>\n",
       "      <td>235.0</td>\n",
       "      <td>Kansas</td>\n",
       "      <td>2814000.0</td>\n",
       "    </tr>\n",
       "    <tr>\n",
       "      <th>Detroit Pistons</th>\n",
       "      <td>Joel Anthony</td>\n",
       "      <td>50.0</td>\n",
       "      <td>C</td>\n",
       "      <td>33.0</td>\n",
       "      <td>6-9</td>\n",
       "      <td>245.0</td>\n",
       "      <td>UNLV</td>\n",
       "      <td>2500000.0</td>\n",
       "    </tr>\n",
       "    <tr>\n",
       "      <th>Golden State Warriors</th>\n",
       "      <td>Leandro Barbosa</td>\n",
       "      <td>19.0</td>\n",
       "      <td>SG</td>\n",
       "      <td>33.0</td>\n",
       "      <td>6-3</td>\n",
       "      <td>194.0</td>\n",
       "      <td>North Carolina</td>\n",
       "      <td>2500000.0</td>\n",
       "    </tr>\n",
       "    <tr>\n",
       "      <th>Houston Rockets</th>\n",
       "      <td>Trevor Ariza</td>\n",
       "      <td>1.0</td>\n",
       "      <td>SF</td>\n",
       "      <td>30.0</td>\n",
       "      <td>6-8</td>\n",
       "      <td>215.0</td>\n",
       "      <td>UCLA</td>\n",
       "      <td>8193030.0</td>\n",
       "    </tr>\n",
       "    <tr>\n",
       "      <th>Indiana Pacers</th>\n",
       "      <td>Lavoy Allen</td>\n",
       "      <td>5.0</td>\n",
       "      <td>PF</td>\n",
       "      <td>27.0</td>\n",
       "      <td>6-9</td>\n",
       "      <td>255.0</td>\n",
       "      <td>Temple</td>\n",
       "      <td>4050000.0</td>\n",
       "    </tr>\n",
       "    <tr>\n",
       "      <th>Los Angeles Clippers</th>\n",
       "      <td>Cole Aldrich</td>\n",
       "      <td>45.0</td>\n",
       "      <td>C</td>\n",
       "      <td>27.0</td>\n",
       "      <td>6-11</td>\n",
       "      <td>250.0</td>\n",
       "      <td>Kansas</td>\n",
       "      <td>1100602.0</td>\n",
       "    </tr>\n",
       "    <tr>\n",
       "      <th>Los Angeles Lakers</th>\n",
       "      <td>Brandon Bass</td>\n",
       "      <td>2.0</td>\n",
       "      <td>PF</td>\n",
       "      <td>31.0</td>\n",
       "      <td>6-8</td>\n",
       "      <td>250.0</td>\n",
       "      <td>LSU</td>\n",
       "      <td>3000000.0</td>\n",
       "    </tr>\n",
       "    <tr>\n",
       "      <th>Memphis Grizzlies</th>\n",
       "      <td>Jordan Adams</td>\n",
       "      <td>3.0</td>\n",
       "      <td>SG</td>\n",
       "      <td>21.0</td>\n",
       "      <td>6-5</td>\n",
       "      <td>209.0</td>\n",
       "      <td>UCLA</td>\n",
       "      <td>1404600.0</td>\n",
       "    </tr>\n",
       "    <tr>\n",
       "      <th>Miami Heat</th>\n",
       "      <td>Chris Bosh</td>\n",
       "      <td>1.0</td>\n",
       "      <td>PF</td>\n",
       "      <td>32.0</td>\n",
       "      <td>6-11</td>\n",
       "      <td>235.0</td>\n",
       "      <td>Georgia Tech</td>\n",
       "      <td>22192730.0</td>\n",
       "    </tr>\n",
       "    <tr>\n",
       "      <th>Milwaukee Bucks</th>\n",
       "      <td>Giannis Antetokounmpo</td>\n",
       "      <td>34.0</td>\n",
       "      <td>SF</td>\n",
       "      <td>21.0</td>\n",
       "      <td>6-11</td>\n",
       "      <td>222.0</td>\n",
       "      <td>Arizona</td>\n",
       "      <td>1953960.0</td>\n",
       "    </tr>\n",
       "    <tr>\n",
       "      <th>Minnesota Timberwolves</th>\n",
       "      <td>Nemanja Bjelica</td>\n",
       "      <td>88.0</td>\n",
       "      <td>PF</td>\n",
       "      <td>28.0</td>\n",
       "      <td>6-10</td>\n",
       "      <td>240.0</td>\n",
       "      <td>Louisville</td>\n",
       "      <td>3950001.0</td>\n",
       "    </tr>\n",
       "    <tr>\n",
       "      <th>New Orleans Pelicans</th>\n",
       "      <td>Alexis Ajinca</td>\n",
       "      <td>42.0</td>\n",
       "      <td>C</td>\n",
       "      <td>28.0</td>\n",
       "      <td>7-2</td>\n",
       "      <td>248.0</td>\n",
       "      <td>California</td>\n",
       "      <td>4389607.0</td>\n",
       "    </tr>\n",
       "    <tr>\n",
       "      <th>New York Knicks</th>\n",
       "      <td>Arron Afflalo</td>\n",
       "      <td>4.0</td>\n",
       "      <td>SG</td>\n",
       "      <td>30.0</td>\n",
       "      <td>6-5</td>\n",
       "      <td>210.0</td>\n",
       "      <td>UCLA</td>\n",
       "      <td>8000000.0</td>\n",
       "    </tr>\n",
       "    <tr>\n",
       "      <th>Oklahoma City Thunder</th>\n",
       "      <td>Steven Adams</td>\n",
       "      <td>12.0</td>\n",
       "      <td>C</td>\n",
       "      <td>22.0</td>\n",
       "      <td>7-0</td>\n",
       "      <td>255.0</td>\n",
       "      <td>Pittsburgh</td>\n",
       "      <td>2279040.0</td>\n",
       "    </tr>\n",
       "    <tr>\n",
       "      <th>Orlando Magic</th>\n",
       "      <td>Dewayne Dedmon</td>\n",
       "      <td>3.0</td>\n",
       "      <td>C</td>\n",
       "      <td>26.0</td>\n",
       "      <td>7-0</td>\n",
       "      <td>245.0</td>\n",
       "      <td>USC</td>\n",
       "      <td>947276.0</td>\n",
       "    </tr>\n",
       "    <tr>\n",
       "      <th>Philadelphia 76ers</th>\n",
       "      <td>Elton Brand</td>\n",
       "      <td>42.0</td>\n",
       "      <td>PF</td>\n",
       "      <td>37.0</td>\n",
       "      <td>6-9</td>\n",
       "      <td>254.0</td>\n",
       "      <td>Duke</td>\n",
       "      <td>947276.0</td>\n",
       "    </tr>\n",
       "    <tr>\n",
       "      <th>Phoenix Suns</th>\n",
       "      <td>Eric Bledsoe</td>\n",
       "      <td>2.0</td>\n",
       "      <td>PG</td>\n",
       "      <td>26.0</td>\n",
       "      <td>6-1</td>\n",
       "      <td>190.0</td>\n",
       "      <td>Kentucky</td>\n",
       "      <td>13500000.0</td>\n",
       "    </tr>\n",
       "    <tr>\n",
       "      <th>Portland Trail Blazers</th>\n",
       "      <td>Cliff Alexander</td>\n",
       "      <td>34.0</td>\n",
       "      <td>PF</td>\n",
       "      <td>20.0</td>\n",
       "      <td>6-8</td>\n",
       "      <td>240.0</td>\n",
       "      <td>Kansas</td>\n",
       "      <td>525093.0</td>\n",
       "    </tr>\n",
       "    <tr>\n",
       "      <th>Sacramento Kings</th>\n",
       "      <td>Quincy Acy</td>\n",
       "      <td>13.0</td>\n",
       "      <td>SF</td>\n",
       "      <td>25.0</td>\n",
       "      <td>6-7</td>\n",
       "      <td>240.0</td>\n",
       "      <td>Baylor</td>\n",
       "      <td>981348.0</td>\n",
       "    </tr>\n",
       "    <tr>\n",
       "      <th>San Antonio Spurs</th>\n",
       "      <td>LaMarcus Aldridge</td>\n",
       "      <td>12.0</td>\n",
       "      <td>PF</td>\n",
       "      <td>30.0</td>\n",
       "      <td>6-11</td>\n",
       "      <td>240.0</td>\n",
       "      <td>Texas</td>\n",
       "      <td>19689000.0</td>\n",
       "    </tr>\n",
       "    <tr>\n",
       "      <th>Toronto Raptors</th>\n",
       "      <td>Bismack Biyombo</td>\n",
       "      <td>8.0</td>\n",
       "      <td>C</td>\n",
       "      <td>23.0</td>\n",
       "      <td>6-9</td>\n",
       "      <td>245.0</td>\n",
       "      <td>Missouri</td>\n",
       "      <td>2814000.0</td>\n",
       "    </tr>\n",
       "    <tr>\n",
       "      <th>Utah Jazz</th>\n",
       "      <td>Trevor Booker</td>\n",
       "      <td>33.0</td>\n",
       "      <td>PF</td>\n",
       "      <td>28.0</td>\n",
       "      <td>6-8</td>\n",
       "      <td>228.0</td>\n",
       "      <td>Clemson</td>\n",
       "      <td>4775000.0</td>\n",
       "    </tr>\n",
       "    <tr>\n",
       "      <th>Washington Wizards</th>\n",
       "      <td>Alan Anderson</td>\n",
       "      <td>6.0</td>\n",
       "      <td>SG</td>\n",
       "      <td>33.0</td>\n",
       "      <td>6-6</td>\n",
       "      <td>220.0</td>\n",
       "      <td>Michigan State</td>\n",
       "      <td>4000000.0</td>\n",
       "    </tr>\n",
       "  </tbody>\n",
       "</table>\n",
       "</div>"
      ],
      "text/plain": [
       "                                         Name  Number Position   Age Height  \\\n",
       "Team                                                                          \n",
       "Atlanta Hawks                   Kent Bazemore    24.0       SF  26.0    6-5   \n",
       "Boston Celtics                  Avery Bradley     0.0       PG  25.0    6-2   \n",
       "Brooklyn Nets                Bojan Bogdanovic    44.0       SG  27.0    6-8   \n",
       "Charlotte Hornets               Nicolas Batum     5.0       SG  27.0    6-8   \n",
       "Chicago Bulls                Cameron Bairstow    41.0       PF  25.0    6-9   \n",
       "Cleveland Cavaliers       Matthew Dellavedova     8.0       PG  25.0    6-4   \n",
       "Dallas Mavericks              Justin Anderson     1.0       SG  22.0    6-6   \n",
       "Denver Nuggets                 Darrell Arthur     0.0       PF  28.0    6-9   \n",
       "Detroit Pistons                  Joel Anthony    50.0        C  33.0    6-9   \n",
       "Golden State Warriors         Leandro Barbosa    19.0       SG  33.0    6-3   \n",
       "Houston Rockets                  Trevor Ariza     1.0       SF  30.0    6-8   \n",
       "Indiana Pacers                    Lavoy Allen     5.0       PF  27.0    6-9   \n",
       "Los Angeles Clippers             Cole Aldrich    45.0        C  27.0   6-11   \n",
       "Los Angeles Lakers               Brandon Bass     2.0       PF  31.0    6-8   \n",
       "Memphis Grizzlies                Jordan Adams     3.0       SG  21.0    6-5   \n",
       "Miami Heat                         Chris Bosh     1.0       PF  32.0   6-11   \n",
       "Milwaukee Bucks         Giannis Antetokounmpo    34.0       SF  21.0   6-11   \n",
       "Minnesota Timberwolves        Nemanja Bjelica    88.0       PF  28.0   6-10   \n",
       "New Orleans Pelicans            Alexis Ajinca    42.0        C  28.0    7-2   \n",
       "New York Knicks                 Arron Afflalo     4.0       SG  30.0    6-5   \n",
       "Oklahoma City Thunder            Steven Adams    12.0        C  22.0    7-0   \n",
       "Orlando Magic                  Dewayne Dedmon     3.0        C  26.0    7-0   \n",
       "Philadelphia 76ers                Elton Brand    42.0       PF  37.0    6-9   \n",
       "Phoenix Suns                     Eric Bledsoe     2.0       PG  26.0    6-1   \n",
       "Portland Trail Blazers        Cliff Alexander    34.0       PF  20.0    6-8   \n",
       "Sacramento Kings                   Quincy Acy    13.0       SF  25.0    6-7   \n",
       "San Antonio Spurs           LaMarcus Aldridge    12.0       PF  30.0   6-11   \n",
       "Toronto Raptors               Bismack Biyombo     8.0        C  23.0    6-9   \n",
       "Utah Jazz                       Trevor Booker    33.0       PF  28.0    6-8   \n",
       "Washington Wizards              Alan Anderson     6.0       SG  33.0    6-6   \n",
       "\n",
       "                        Weight                College      Salary  \n",
       "Team                                                               \n",
       "Atlanta Hawks            201.0           Old Dominion   2000000.0  \n",
       "Boston Celtics           180.0                  Texas   7730337.0  \n",
       "Brooklyn Nets            216.0         Oklahoma State   3425510.0  \n",
       "Charlotte Hornets        200.0  Virginia Commonwealth  13125306.0  \n",
       "Chicago Bulls            250.0             New Mexico    845059.0  \n",
       "Cleveland Cavaliers      198.0           Saint Mary's   1147276.0  \n",
       "Dallas Mavericks         228.0               Virginia   1449000.0  \n",
       "Denver Nuggets           235.0                 Kansas   2814000.0  \n",
       "Detroit Pistons          245.0                   UNLV   2500000.0  \n",
       "Golden State Warriors    194.0         North Carolina   2500000.0  \n",
       "Houston Rockets          215.0                   UCLA   8193030.0  \n",
       "Indiana Pacers           255.0                 Temple   4050000.0  \n",
       "Los Angeles Clippers     250.0                 Kansas   1100602.0  \n",
       "Los Angeles Lakers       250.0                    LSU   3000000.0  \n",
       "Memphis Grizzlies        209.0                   UCLA   1404600.0  \n",
       "Miami Heat               235.0           Georgia Tech  22192730.0  \n",
       "Milwaukee Bucks          222.0                Arizona   1953960.0  \n",
       "Minnesota Timberwolves   240.0             Louisville   3950001.0  \n",
       "New Orleans Pelicans     248.0             California   4389607.0  \n",
       "New York Knicks          210.0                   UCLA   8000000.0  \n",
       "Oklahoma City Thunder    255.0             Pittsburgh   2279040.0  \n",
       "Orlando Magic            245.0                    USC    947276.0  \n",
       "Philadelphia 76ers       254.0                   Duke    947276.0  \n",
       "Phoenix Suns             190.0               Kentucky  13500000.0  \n",
       "Portland Trail Blazers   240.0                 Kansas    525093.0  \n",
       "Sacramento Kings         240.0                 Baylor    981348.0  \n",
       "San Antonio Spurs        240.0                  Texas  19689000.0  \n",
       "Toronto Raptors          245.0               Missouri   2814000.0  \n",
       "Utah Jazz                228.0                Clemson   4775000.0  \n",
       "Washington Wizards       220.0         Michigan State   4000000.0  "
      ]
     },
     "execution_count": 8,
     "metadata": {},
     "output_type": "execute_result"
    }
   ],
   "source": [
    "# applying groupby() function to\n",
    "# group the data on team value.\n",
    "gk = df.groupby('Team')\n",
    "\n",
    "# Let's print the first entries\n",
    "# in all the groups formed.\n",
    "gk.first()"
   ]
  },
  {
   "cell_type": "code",
   "execution_count": null,
   "id": "796f58f6",
   "metadata": {},
   "outputs": [],
   "source": []
  }
 ],
 "metadata": {
  "kernelspec": {
   "display_name": "Python 3 (ipykernel)",
   "language": "python",
   "name": "python3"
  },
  "language_info": {
   "codemirror_mode": {
    "name": "ipython",
    "version": 3
   },
   "file_extension": ".py",
   "mimetype": "text/x-python",
   "name": "python",
   "nbconvert_exporter": "python",
   "pygments_lexer": "ipython3",
   "version": "3.9.7"
  }
 },
 "nbformat": 4,
 "nbformat_minor": 5
}
