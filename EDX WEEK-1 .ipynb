{
 "cells": [
  {
   "cell_type": "markdown",
   "id": "61710355",
   "metadata": {},
   "source": [
    "# EDX WEEK-1 PART-1"
   ]
  },
  {
   "cell_type": "code",
   "execution_count": 23,
   "id": "453446d7",
   "metadata": {},
   "outputs": [],
   "source": [
    "import numpy as np"
   ]
  },
  {
   "cell_type": "code",
   "execution_count": 24,
   "id": "c6a97ec0",
   "metadata": {},
   "outputs": [],
   "source": [
    "x = np.array([1, 3, 5])"
   ]
  },
  {
   "cell_type": "code",
   "execution_count": 25,
   "id": "d6f265f5",
   "metadata": {},
   "outputs": [],
   "source": [
    "y = np.array([1, 5, 9])"
   ]
  },
  {
   "cell_type": "code",
   "execution_count": 26,
   "id": "565471e9",
   "metadata": {},
   "outputs": [
    {
     "data": {
      "text/plain": [
       "3.0"
      ]
     },
     "execution_count": 26,
     "metadata": {},
     "output_type": "execute_result"
    }
   ],
   "source": [
    "x.mean()"
   ]
  },
  {
   "cell_type": "code",
   "execution_count": 27,
   "id": "4097a920",
   "metadata": {},
   "outputs": [
    {
     "data": {
      "text/plain": [
       "5.0"
      ]
     },
     "execution_count": 27,
     "metadata": {},
     "output_type": "execute_result"
    }
   ],
   "source": [
    "y.mean()"
   ]
  },
  {
   "cell_type": "code",
   "execution_count": 29,
   "id": "35c39ec1",
   "metadata": {},
   "outputs": [
    {
     "data": {
      "text/plain": [
       "(3,)"
      ]
     },
     "execution_count": 29,
     "metadata": {},
     "output_type": "execute_result"
    }
   ],
   "source": [
    "x.shape"
   ]
  },
  {
   "cell_type": "code",
   "execution_count": 30,
   "id": "f9dae429",
   "metadata": {},
   "outputs": [
    {
     "data": {
      "text/plain": [
       "(3,)"
      ]
     },
     "execution_count": 30,
     "metadata": {},
     "output_type": "execute_result"
    }
   ],
   "source": [
    "y.shape"
   ]
  },
  {
   "cell_type": "code",
   "execution_count": 1,
   "id": "3414f228",
   "metadata": {},
   "outputs": [],
   "source": [
    "import math"
   ]
  },
  {
   "cell_type": "code",
   "execution_count": 2,
   "id": "4b70b277",
   "metadata": {},
   "outputs": [
    {
     "data": {
      "text/plain": [
       "3.141592653589793"
      ]
     },
     "execution_count": 2,
     "metadata": {},
     "output_type": "execute_result"
    }
   ],
   "source": [
    "math.pi"
   ]
  },
  {
   "cell_type": "code",
   "execution_count": 3,
   "id": "263d2435",
   "metadata": {},
   "outputs": [
    {
     "data": {
      "text/plain": [
       "3.1622776601683795"
      ]
     },
     "execution_count": 3,
     "metadata": {},
     "output_type": "execute_result"
    }
   ],
   "source": [
    "math.sqrt(10)"
   ]
  },
  {
   "cell_type": "code",
   "execution_count": 4,
   "id": "ac57d7dd",
   "metadata": {},
   "outputs": [
    {
     "data": {
      "text/plain": [
       "3.141592653589793"
      ]
     },
     "execution_count": 4,
     "metadata": {},
     "output_type": "execute_result"
    }
   ],
   "source": [
    "math.pi"
   ]
  },
  {
   "cell_type": "code",
   "execution_count": 5,
   "id": "7ed6c7ee",
   "metadata": {},
   "outputs": [
    {
     "data": {
      "text/plain": [
       "1.5707963267948966"
      ]
     },
     "execution_count": 5,
     "metadata": {},
     "output_type": "execute_result"
    }
   ],
   "source": [
    "math.pi / 2"
   ]
  },
  {
   "cell_type": "code",
   "execution_count": 6,
   "id": "37a8901c",
   "metadata": {},
   "outputs": [
    {
     "data": {
      "text/plain": [
       "1.0"
      ]
     },
     "execution_count": 6,
     "metadata": {},
     "output_type": "execute_result"
    }
   ],
   "source": [
    "math.sin(math.pi / 2)"
   ]
  },
  {
   "cell_type": "code",
   "execution_count": 7,
   "id": "945fa132",
   "metadata": {},
   "outputs": [],
   "source": [
    "from math import pi"
   ]
  },
  {
   "cell_type": "code",
   "execution_count": 8,
   "id": "a4bff389",
   "metadata": {},
   "outputs": [],
   "source": [
    "import math"
   ]
  },
  {
   "cell_type": "code",
   "execution_count": 9,
   "id": "7154f96f",
   "metadata": {},
   "outputs": [],
   "source": [
    "import numpy as np"
   ]
  },
  {
   "cell_type": "code",
   "execution_count": 10,
   "id": "79285bcd",
   "metadata": {},
   "outputs": [
    {
     "data": {
      "text/plain": [
       "<function math.sqrt(x, /)>"
      ]
     },
     "execution_count": 10,
     "metadata": {},
     "output_type": "execute_result"
    }
   ],
   "source": [
    "math.sqrt"
   ]
  },
  {
   "cell_type": "code",
   "execution_count": 11,
   "id": "04e6de14",
   "metadata": {},
   "outputs": [
    {
     "data": {
      "text/plain": [
       "<ufunc 'sqrt'>"
      ]
     },
     "execution_count": 11,
     "metadata": {},
     "output_type": "execute_result"
    }
   ],
   "source": [
    "np.sqrt"
   ]
  },
  {
   "cell_type": "code",
   "execution_count": 12,
   "id": "717fb203",
   "metadata": {},
   "outputs": [
    {
     "data": {
      "text/plain": [
       "1.4142135623730951"
      ]
     },
     "execution_count": 12,
     "metadata": {},
     "output_type": "execute_result"
    }
   ],
   "source": [
    "math.sqrt(2)"
   ]
  },
  {
   "cell_type": "code",
   "execution_count": 13,
   "id": "0916ce36",
   "metadata": {},
   "outputs": [
    {
     "data": {
      "text/plain": [
       "1.4142135623730951"
      ]
     },
     "execution_count": 13,
     "metadata": {},
     "output_type": "execute_result"
    }
   ],
   "source": [
    "np.sqrt(2)"
   ]
  },
  {
   "cell_type": "code",
   "execution_count": 14,
   "id": "e1f49579",
   "metadata": {},
   "outputs": [
    {
     "data": {
      "text/plain": [
       "array([1.73205081, 2.23606798, 2.64575131, 4.        ])"
      ]
     },
     "execution_count": 14,
     "metadata": {},
     "output_type": "execute_result"
    }
   ],
   "source": [
    "np.sqrt([3, 5, 7, 16])"
   ]
  },
  {
   "cell_type": "code",
   "execution_count": 15,
   "id": "08706450",
   "metadata": {},
   "outputs": [],
   "source": [
    "name=\"anubha\""
   ]
  },
  {
   "cell_type": "code",
   "execution_count": 16,
   "id": "232b4a12",
   "metadata": {},
   "outputs": [
    {
     "data": {
      "text/plain": [
       "str"
      ]
     },
     "execution_count": 16,
     "metadata": {},
     "output_type": "execute_result"
    }
   ],
   "source": [
    "type(name)"
   ]
  },
  {
   "cell_type": "code",
   "execution_count": 17,
   "id": "25532d68",
   "metadata": {},
   "outputs": [
    {
     "data": {
      "text/plain": [
       "['__add__',\n",
       " '__class__',\n",
       " '__contains__',\n",
       " '__delattr__',\n",
       " '__dir__',\n",
       " '__doc__',\n",
       " '__eq__',\n",
       " '__format__',\n",
       " '__ge__',\n",
       " '__getattribute__',\n",
       " '__getitem__',\n",
       " '__getnewargs__',\n",
       " '__gt__',\n",
       " '__hash__',\n",
       " '__init__',\n",
       " '__init_subclass__',\n",
       " '__iter__',\n",
       " '__le__',\n",
       " '__len__',\n",
       " '__lt__',\n",
       " '__mod__',\n",
       " '__mul__',\n",
       " '__ne__',\n",
       " '__new__',\n",
       " '__reduce__',\n",
       " '__reduce_ex__',\n",
       " '__repr__',\n",
       " '__rmod__',\n",
       " '__rmul__',\n",
       " '__setattr__',\n",
       " '__sizeof__',\n",
       " '__str__',\n",
       " '__subclasshook__',\n",
       " 'capitalize',\n",
       " 'casefold',\n",
       " 'center',\n",
       " 'count',\n",
       " 'encode',\n",
       " 'endswith',\n",
       " 'expandtabs',\n",
       " 'find',\n",
       " 'format',\n",
       " 'format_map',\n",
       " 'index',\n",
       " 'isalnum',\n",
       " 'isalpha',\n",
       " 'isascii',\n",
       " 'isdecimal',\n",
       " 'isdigit',\n",
       " 'isidentifier',\n",
       " 'islower',\n",
       " 'isnumeric',\n",
       " 'isprintable',\n",
       " 'isspace',\n",
       " 'istitle',\n",
       " 'isupper',\n",
       " 'join',\n",
       " 'ljust',\n",
       " 'lower',\n",
       " 'lstrip',\n",
       " 'maketrans',\n",
       " 'partition',\n",
       " 'removeprefix',\n",
       " 'removesuffix',\n",
       " 'replace',\n",
       " 'rfind',\n",
       " 'rindex',\n",
       " 'rjust',\n",
       " 'rpartition',\n",
       " 'rsplit',\n",
       " 'rstrip',\n",
       " 'split',\n",
       " 'splitlines',\n",
       " 'startswith',\n",
       " 'strip',\n",
       " 'swapcase',\n",
       " 'title',\n",
       " 'translate',\n",
       " 'upper',\n",
       " 'zfill']"
      ]
     },
     "execution_count": 17,
     "metadata": {},
     "output_type": "execute_result"
    }
   ],
   "source": [
    "dir(name)"
   ]
  },
  {
   "cell_type": "code",
   "execution_count": 18,
   "id": "595c09a2",
   "metadata": {},
   "outputs": [
    {
     "data": {
      "text/plain": [
       "['__add__',\n",
       " '__class__',\n",
       " '__contains__',\n",
       " '__delattr__',\n",
       " '__dir__',\n",
       " '__doc__',\n",
       " '__eq__',\n",
       " '__format__',\n",
       " '__ge__',\n",
       " '__getattribute__',\n",
       " '__getitem__',\n",
       " '__getnewargs__',\n",
       " '__gt__',\n",
       " '__hash__',\n",
       " '__init__',\n",
       " '__init_subclass__',\n",
       " '__iter__',\n",
       " '__le__',\n",
       " '__len__',\n",
       " '__lt__',\n",
       " '__mod__',\n",
       " '__mul__',\n",
       " '__ne__',\n",
       " '__new__',\n",
       " '__reduce__',\n",
       " '__reduce_ex__',\n",
       " '__repr__',\n",
       " '__rmod__',\n",
       " '__rmul__',\n",
       " '__setattr__',\n",
       " '__sizeof__',\n",
       " '__str__',\n",
       " '__subclasshook__',\n",
       " 'capitalize',\n",
       " 'casefold',\n",
       " 'center',\n",
       " 'count',\n",
       " 'encode',\n",
       " 'endswith',\n",
       " 'expandtabs',\n",
       " 'find',\n",
       " 'format',\n",
       " 'format_map',\n",
       " 'index',\n",
       " 'isalnum',\n",
       " 'isalpha',\n",
       " 'isascii',\n",
       " 'isdecimal',\n",
       " 'isdigit',\n",
       " 'isidentifier',\n",
       " 'islower',\n",
       " 'isnumeric',\n",
       " 'isprintable',\n",
       " 'isspace',\n",
       " 'istitle',\n",
       " 'isupper',\n",
       " 'join',\n",
       " 'ljust',\n",
       " 'lower',\n",
       " 'lstrip',\n",
       " 'maketrans',\n",
       " 'partition',\n",
       " 'removeprefix',\n",
       " 'removesuffix',\n",
       " 'replace',\n",
       " 'rfind',\n",
       " 'rindex',\n",
       " 'rjust',\n",
       " 'rpartition',\n",
       " 'rsplit',\n",
       " 'rstrip',\n",
       " 'split',\n",
       " 'splitlines',\n",
       " 'startswith',\n",
       " 'strip',\n",
       " 'swapcase',\n",
       " 'title',\n",
       " 'translate',\n",
       " 'upper',\n",
       " 'zfill']"
      ]
     },
     "execution_count": 18,
     "metadata": {},
     "output_type": "execute_result"
    }
   ],
   "source": [
    "dir(str)"
   ]
  },
  {
   "cell_type": "code",
   "execution_count": 19,
   "id": "b35b270f",
   "metadata": {},
   "outputs": [
    {
     "name": "stdout",
     "output_type": "stream",
     "text": [
      "Help on built-in function upper:\n",
      "\n",
      "upper() method of builtins.str instance\n",
      "    Return a copy of the string converted to uppercase.\n",
      "\n"
     ]
    }
   ],
   "source": [
    "help(name.upper)"
   ]
  },
  {
   "cell_type": "code",
   "execution_count": 20,
   "id": "9fb841db",
   "metadata": {},
   "outputs": [
    {
     "data": {
      "text/plain": [
       "<function str.upper()>"
      ]
     },
     "execution_count": 20,
     "metadata": {},
     "output_type": "execute_result"
    }
   ],
   "source": [
    "name.upper"
   ]
  },
  {
   "cell_type": "code",
   "execution_count": 21,
   "id": "472e5729",
   "metadata": {},
   "outputs": [
    {
     "data": {
      "text/plain": [
       "'ANUBHA'"
      ]
     },
     "execution_count": 21,
     "metadata": {},
     "output_type": "execute_result"
    }
   ],
   "source": [
    "name.upper()"
   ]
  },
  {
   "cell_type": "code",
   "execution_count": 22,
   "id": "13d46bc8",
   "metadata": {},
   "outputs": [
    {
     "name": "stdout",
     "output_type": "stream",
     "text": [
      "No Python documentation found for 'ANUBHA'.\n",
      "Use help() to get the interactive help utility.\n",
      "Use help(str) for help on the str class.\n",
      "\n"
     ]
    }
   ],
   "source": [
    "help(name.upper())"
   ]
  },
  {
   "cell_type": "code",
   "execution_count": 31,
   "id": "5f46685f",
   "metadata": {},
   "outputs": [
    {
     "data": {
      "text/plain": [
       "157"
      ]
     },
     "execution_count": 31,
     "metadata": {},
     "output_type": "execute_result"
    }
   ],
   "source": [
    "123+34"
   ]
  },
  {
   "cell_type": "code",
   "execution_count": 32,
   "id": "e1dbaf82",
   "metadata": {},
   "outputs": [
    {
     "data": {
      "text/plain": [
       "4182"
      ]
     },
     "execution_count": 32,
     "metadata": {},
     "output_type": "execute_result"
    }
   ],
   "source": [
    "123*34"
   ]
  },
  {
   "cell_type": "code",
   "execution_count": 33,
   "id": "d75fa147",
   "metadata": {},
   "outputs": [
    {
     "data": {
      "text/plain": [
       "113965602005968684136628000184496763088921243891670079405854808234118809"
      ]
     },
     "execution_count": 33,
     "metadata": {},
     "output_type": "execute_result"
    }
   ],
   "source": [
    "123**34"
   ]
  },
  {
   "cell_type": "code",
   "execution_count": 34,
   "id": "023b9e2c",
   "metadata": {},
   "outputs": [
    {
     "data": {
      "text/plain": [
       "1279877952993183051986973539604845164416502513636346705337170803726411025470749464897274458094310027641538403518886772068488210006918966065002745378030506752815208386095764374685642192590355701456767512307455831844488073669576026147705432794539033341622755897229329028952926324944572455578003530422162490192737668724135468477263743083781375703499001749442753140695971740546882894076188576764094165156251094543104669302266425775912388758194755702455716165725687931375468343083606167626986374976052558604362620944429374122151363071848651455023789260278600817905457022206926013298176238393676651051826250474676095298384047395387036298078336490772683893323215883862175177614072650597066235050748159816567023166274121731646191289"
      ]
     },
     "execution_count": 34,
     "metadata": {},
     "output_type": "execute_result"
    }
   ],
   "source": [
    "123**346"
   ]
  },
  {
   "cell_type": "code",
   "execution_count": 35,
   "id": "4f88a3b5",
   "metadata": {},
   "outputs": [
    {
     "data": {
      "text/plain": [
       "0.8571428571428571"
      ]
     },
     "execution_count": 35,
     "metadata": {},
     "output_type": "execute_result"
    }
   ],
   "source": [
    "6/7"
   ]
  },
  {
   "cell_type": "code",
   "execution_count": 36,
   "id": "ec04afd9",
   "metadata": {},
   "outputs": [
    {
     "data": {
      "text/plain": [
       "2.142857142857143"
      ]
     },
     "execution_count": 36,
     "metadata": {},
     "output_type": "execute_result"
    }
   ],
   "source": [
    "15/7"
   ]
  },
  {
   "cell_type": "code",
   "execution_count": 37,
   "id": "39cad4a9",
   "metadata": {},
   "outputs": [
    {
     "data": {
      "text/plain": [
       "2"
      ]
     },
     "execution_count": 37,
     "metadata": {},
     "output_type": "execute_result"
    }
   ],
   "source": [
    "15//7"
   ]
  },
  {
   "cell_type": "code",
   "execution_count": 38,
   "id": "4718c387",
   "metadata": {},
   "outputs": [
    {
     "data": {
      "text/plain": [
       "2"
      ]
     },
     "execution_count": 38,
     "metadata": {},
     "output_type": "execute_result"
    }
   ],
   "source": [
    "28//10"
   ]
  },
  {
   "cell_type": "code",
   "execution_count": 39,
   "id": "f8c4360b",
   "metadata": {},
   "outputs": [
    {
     "data": {
      "text/plain": [
       "6.521739130434783"
      ]
     },
     "execution_count": 39,
     "metadata": {},
     "output_type": "execute_result"
    }
   ],
   "source": [
    "15/2.3"
   ]
  },
  {
   "cell_type": "code",
   "execution_count": 40,
   "id": "bca41c49",
   "metadata": {},
   "outputs": [
    {
     "data": {
      "text/plain": [
       "6.521739130434783"
      ]
     },
     "execution_count": 40,
     "metadata": {},
     "output_type": "execute_result"
    }
   ],
   "source": [
    "_"
   ]
  },
  {
   "cell_type": "code",
   "execution_count": 41,
   "id": "6a7f15c8",
   "metadata": {},
   "outputs": [
    {
     "data": {
      "text/plain": [
       "15.0"
      ]
     },
     "execution_count": 41,
     "metadata": {},
     "output_type": "execute_result"
    }
   ],
   "source": [
    "_*2.3"
   ]
  },
  {
   "cell_type": "code",
   "execution_count": 42,
   "id": "8d3a61c9",
   "metadata": {},
   "outputs": [
    {
     "data": {
      "text/plain": [
       "20"
      ]
     },
     "execution_count": 42,
     "metadata": {},
     "output_type": "execute_result"
    }
   ],
   "source": [
    "10*2"
   ]
  },
  {
   "cell_type": "code",
   "execution_count": 43,
   "id": "6e66b47d",
   "metadata": {},
   "outputs": [
    {
     "data": {
      "text/plain": [
       "25"
      ]
     },
     "execution_count": 43,
     "metadata": {},
     "output_type": "execute_result"
    }
   ],
   "source": [
    "_+5"
   ]
  },
  {
   "cell_type": "code",
   "execution_count": 44,
   "id": "ccc5de1c",
   "metadata": {},
   "outputs": [
    {
     "data": {
      "text/plain": [
       "625"
      ]
     },
     "execution_count": 44,
     "metadata": {},
     "output_type": "execute_result"
    }
   ],
   "source": [
    "_**2"
   ]
  },
  {
   "cell_type": "code",
   "execution_count": 45,
   "id": "cb2af905",
   "metadata": {},
   "outputs": [],
   "source": [
    "import math"
   ]
  },
  {
   "cell_type": "code",
   "execution_count": 46,
   "id": "ee726d85",
   "metadata": {},
   "outputs": [
    {
     "data": {
      "text/plain": [
       "6"
      ]
     },
     "execution_count": 46,
     "metadata": {},
     "output_type": "execute_result"
    }
   ],
   "source": [
    "math.factorial(3)"
   ]
  },
  {
   "cell_type": "code",
   "execution_count": 47,
   "id": "4c894b08",
   "metadata": {},
   "outputs": [],
   "source": [
    "import random"
   ]
  },
  {
   "cell_type": "code",
   "execution_count": 49,
   "id": "283b9abf",
   "metadata": {},
   "outputs": [
    {
     "data": {
      "text/plain": [
       "99"
      ]
     },
     "execution_count": 49,
     "metadata": {},
     "output_type": "execute_result"
    }
   ],
   "source": [
    "random.choice([2, 56, 78, 99, 3])"
   ]
  },
  {
   "cell_type": "code",
   "execution_count": 50,
   "id": "058ce277",
   "metadata": {},
   "outputs": [
    {
     "data": {
      "text/plain": [
       "2"
      ]
     },
     "execution_count": 50,
     "metadata": {},
     "output_type": "execute_result"
    }
   ],
   "source": [
    "random.choice([2, 56, 78, 99, 3])"
   ]
  },
  {
   "cell_type": "code",
   "execution_count": 51,
   "id": "629755b7",
   "metadata": {},
   "outputs": [
    {
     "data": {
      "text/plain": [
       "3"
      ]
     },
     "execution_count": 51,
     "metadata": {},
     "output_type": "execute_result"
    }
   ],
   "source": [
    "random.choice([2, 56, 78, 99, 3])"
   ]
  },
  {
   "cell_type": "code",
   "execution_count": 53,
   "id": "56a957f0",
   "metadata": {},
   "outputs": [
    {
     "data": {
      "text/plain": [
       "'aa'"
      ]
     },
     "execution_count": 53,
     "metadata": {},
     "output_type": "execute_result"
    }
   ],
   "source": [
    "random.choice([\"cc\", \"bb\", \"bc\", \"aa\", \"ab\"])"
   ]
  },
  {
   "cell_type": "code",
   "execution_count": 54,
   "id": "05bfda31",
   "metadata": {},
   "outputs": [
    {
     "data": {
      "text/plain": [
       "'cc'"
      ]
     },
     "execution_count": 54,
     "metadata": {},
     "output_type": "execute_result"
    }
   ],
   "source": [
    "random.choice([\"cc\", \"bb\", \"bc\", \"aa\", \"ab\"])"
   ]
  },
  {
   "cell_type": "code",
   "execution_count": 55,
   "id": "a1e83ceb",
   "metadata": {},
   "outputs": [
    {
     "data": {
      "text/plain": [
       "'bc'"
      ]
     },
     "execution_count": 55,
     "metadata": {},
     "output_type": "execute_result"
    }
   ],
   "source": [
    "random.choice([\"cc\", \"bb\", \"bc\", \"aa\", \"ab\"])"
   ]
  },
  {
   "cell_type": "code",
   "execution_count": 1,
   "id": "99b17fe1",
   "metadata": {},
   "outputs": [
    {
     "data": {
      "text/plain": [
       "bool"
      ]
     },
     "execution_count": 1,
     "metadata": {},
     "output_type": "execute_result"
    }
   ],
   "source": [
    "type(True)"
   ]
  },
  {
   "cell_type": "code",
   "execution_count": 3,
   "id": "5b3f5663",
   "metadata": {},
   "outputs": [
    {
     "ename": "NameError",
     "evalue": "name 'false' is not defined",
     "output_type": "error",
     "traceback": [
      "\u001b[1;31m---------------------------------------------------------------------------\u001b[0m",
      "\u001b[1;31mNameError\u001b[0m                                 Traceback (most recent call last)",
      "\u001b[1;32m~\\AppData\\Local\\Temp/ipykernel_7076/27329152.py\u001b[0m in \u001b[0;36m<module>\u001b[1;34m\u001b[0m\n\u001b[1;32m----> 1\u001b[1;33m \u001b[0mtype\u001b[0m\u001b[1;33m(\u001b[0m\u001b[0mfalse\u001b[0m\u001b[1;33m)\u001b[0m\u001b[1;33m\u001b[0m\u001b[1;33m\u001b[0m\u001b[0m\n\u001b[0m",
      "\u001b[1;31mNameError\u001b[0m: name 'false' is not defined"
     ]
    }
   ],
   "source": [
    "type(false)"
   ]
  },
  {
   "cell_type": "code",
   "execution_count": 4,
   "id": "a65084f5",
   "metadata": {},
   "outputs": [
    {
     "data": {
      "text/plain": [
       "True"
      ]
     },
     "execution_count": 4,
     "metadata": {},
     "output_type": "execute_result"
    }
   ],
   "source": [
    "True or False"
   ]
  },
  {
   "cell_type": "code",
   "execution_count": 5,
   "id": "cac57302",
   "metadata": {},
   "outputs": [
    {
     "data": {
      "text/plain": [
       "True"
      ]
     },
     "execution_count": 5,
     "metadata": {},
     "output_type": "execute_result"
    }
   ],
   "source": [
    "True or True"
   ]
  },
  {
   "cell_type": "code",
   "execution_count": 6,
   "id": "2d6258e5",
   "metadata": {},
   "outputs": [
    {
     "data": {
      "text/plain": [
       "False"
      ]
     },
     "execution_count": 6,
     "metadata": {},
     "output_type": "execute_result"
    }
   ],
   "source": [
    "False or False"
   ]
  },
  {
   "cell_type": "code",
   "execution_count": 7,
   "id": "8ebe49df",
   "metadata": {},
   "outputs": [
    {
     "data": {
      "text/plain": [
       "False"
      ]
     },
     "execution_count": 7,
     "metadata": {},
     "output_type": "execute_result"
    }
   ],
   "source": [
    "True and False"
   ]
  },
  {
   "cell_type": "code",
   "execution_count": 8,
   "id": "3b7d9ef5",
   "metadata": {},
   "outputs": [
    {
     "data": {
      "text/plain": [
       "True"
      ]
     },
     "execution_count": 8,
     "metadata": {},
     "output_type": "execute_result"
    }
   ],
   "source": [
    "True and True"
   ]
  },
  {
   "cell_type": "code",
   "execution_count": 9,
   "id": "a54602d6",
   "metadata": {},
   "outputs": [
    {
     "data": {
      "text/plain": [
       "False"
      ]
     },
     "execution_count": 9,
     "metadata": {},
     "output_type": "execute_result"
    }
   ],
   "source": [
    "not True"
   ]
  },
  {
   "cell_type": "code",
   "execution_count": 10,
   "id": "1ba807f5",
   "metadata": {},
   "outputs": [
    {
     "data": {
      "text/plain": [
       "True"
      ]
     },
     "execution_count": 10,
     "metadata": {},
     "output_type": "execute_result"
    }
   ],
   "source": [
    "2<4"
   ]
  },
  {
   "cell_type": "code",
   "execution_count": 11,
   "id": "66cfb943",
   "metadata": {},
   "outputs": [
    {
     "data": {
      "text/plain": [
       "True"
      ]
     },
     "execution_count": 11,
     "metadata": {},
     "output_type": "execute_result"
    }
   ],
   "source": [
    "2<=2"
   ]
  },
  {
   "cell_type": "code",
   "execution_count": 12,
   "id": "0f5af061",
   "metadata": {},
   "outputs": [
    {
     "data": {
      "text/plain": [
       "True"
      ]
     },
     "execution_count": 12,
     "metadata": {},
     "output_type": "execute_result"
    }
   ],
   "source": [
    "2==2"
   ]
  },
  {
   "cell_type": "code",
   "execution_count": 13,
   "id": "d3417bf0",
   "metadata": {},
   "outputs": [
    {
     "data": {
      "text/plain": [
       "False"
      ]
     },
     "execution_count": 13,
     "metadata": {},
     "output_type": "execute_result"
    }
   ],
   "source": [
    "2!=2"
   ]
  },
  {
   "cell_type": "code",
   "execution_count": 14,
   "id": "7862d9a7",
   "metadata": {},
   "outputs": [
    {
     "data": {
      "text/plain": [
       "False"
      ]
     },
     "execution_count": 14,
     "metadata": {},
     "output_type": "execute_result"
    }
   ],
   "source": [
    "[2, 3]==[3, 3]"
   ]
  },
  {
   "cell_type": "code",
   "execution_count": 15,
   "id": "8b504d97",
   "metadata": {},
   "outputs": [
    {
     "data": {
      "text/plain": [
       "True"
      ]
     },
     "execution_count": 15,
     "metadata": {},
     "output_type": "execute_result"
    }
   ],
   "source": [
    "[2, 3] == [2, 3]"
   ]
  },
  {
   "cell_type": "code",
   "execution_count": 16,
   "id": "50f15072",
   "metadata": {},
   "outputs": [
    {
     "data": {
      "text/plain": [
       "False"
      ]
     },
     "execution_count": 16,
     "metadata": {},
     "output_type": "execute_result"
    }
   ],
   "source": [
    "[2, 3] is [2, 3]"
   ]
  },
  {
   "cell_type": "code",
   "execution_count": 17,
   "id": "a99b277b",
   "metadata": {},
   "outputs": [
    {
     "data": {
      "text/plain": [
       "True"
      ]
     },
     "execution_count": 17,
     "metadata": {},
     "output_type": "execute_result"
    }
   ],
   "source": [
    "[2, 3] is not [2, 3]"
   ]
  },
  {
   "cell_type": "code",
   "execution_count": 18,
   "id": "4beeabc7",
   "metadata": {},
   "outputs": [
    {
     "data": {
      "text/plain": [
       "True"
      ]
     },
     "execution_count": 18,
     "metadata": {},
     "output_type": "execute_result"
    }
   ],
   "source": [
    "2.0 == 2"
   ]
  },
  {
   "cell_type": "code",
   "execution_count": 19,
   "id": "af3d2566",
   "metadata": {},
   "outputs": [
    {
     "data": {
      "text/plain": [
       "True"
      ]
     },
     "execution_count": 19,
     "metadata": {},
     "output_type": "execute_result"
    }
   ],
   "source": [
    "True and not False is True"
   ]
  },
  {
   "cell_type": "markdown",
   "id": "958977bb",
   "metadata": {},
   "source": [
    "# EDX WEEK-1 PART-2"
   ]
  },
  {
   "cell_type": "code",
   "execution_count": 20,
   "id": "8d6c17d7",
   "metadata": {},
   "outputs": [],
   "source": [
    "a=[1, 2, 3]"
   ]
  },
  {
   "cell_type": "code",
   "execution_count": 21,
   "id": "898116ec",
   "metadata": {},
   "outputs": [
    {
     "data": {
      "text/plain": [
       "1"
      ]
     },
     "execution_count": 21,
     "metadata": {},
     "output_type": "execute_result"
    }
   ],
   "source": [
    "a[-0]"
   ]
  },
  {
   "cell_type": "code",
   "execution_count": 22,
   "id": "9825b9f9",
   "metadata": {},
   "outputs": [
    {
     "data": {
      "text/plain": [
       "[]"
      ]
     },
     "execution_count": 22,
     "metadata": {},
     "output_type": "execute_result"
    }
   ],
   "source": [
    "a[-0:0]"
   ]
  },
  {
   "cell_type": "code",
   "execution_count": 23,
   "id": "ccb1d029",
   "metadata": {},
   "outputs": [],
   "source": [
    "number = [2, 4, 6, 8]"
   ]
  },
  {
   "cell_type": "code",
   "execution_count": 24,
   "id": "882dba83",
   "metadata": {},
   "outputs": [
    {
     "data": {
      "text/plain": [
       "2"
      ]
     },
     "execution_count": 24,
     "metadata": {},
     "output_type": "execute_result"
    }
   ],
   "source": [
    "number[0]"
   ]
  },
  {
   "cell_type": "code",
   "execution_count": 25,
   "id": "1b116c20",
   "metadata": {},
   "outputs": [
    {
     "data": {
      "text/plain": [
       "4"
      ]
     },
     "execution_count": 25,
     "metadata": {},
     "output_type": "execute_result"
    }
   ],
   "source": [
    "number[1]"
   ]
  },
  {
   "cell_type": "code",
   "execution_count": 26,
   "id": "a7e712e1",
   "metadata": {},
   "outputs": [
    {
     "data": {
      "text/plain": [
       "8"
      ]
     },
     "execution_count": 26,
     "metadata": {},
     "output_type": "execute_result"
    }
   ],
   "source": [
    "number[-1]"
   ]
  },
  {
   "cell_type": "code",
   "execution_count": 27,
   "id": "801d89f1",
   "metadata": {},
   "outputs": [
    {
     "data": {
      "text/plain": [
       "6"
      ]
     },
     "execution_count": 27,
     "metadata": {},
     "output_type": "execute_result"
    }
   ],
   "source": [
    "number[-2]"
   ]
  },
  {
   "cell_type": "code",
   "execution_count": 28,
   "id": "b0677090",
   "metadata": {},
   "outputs": [],
   "source": [
    "number.append(10)"
   ]
  },
  {
   "cell_type": "code",
   "execution_count": 29,
   "id": "aceb21b4",
   "metadata": {},
   "outputs": [
    {
     "data": {
      "text/plain": [
       "[2, 4, 6, 8, 10]"
      ]
     },
     "execution_count": 29,
     "metadata": {},
     "output_type": "execute_result"
    }
   ],
   "source": [
    "number"
   ]
  },
  {
   "cell_type": "code",
   "execution_count": 30,
   "id": "1c26848b",
   "metadata": {},
   "outputs": [],
   "source": [
    "x = [12, 14, 16]"
   ]
  },
  {
   "cell_type": "code",
   "execution_count": 31,
   "id": "8d0f15e6",
   "metadata": {},
   "outputs": [
    {
     "data": {
      "text/plain": [
       "[2, 4, 6, 8, 10, 12, 14, 16]"
      ]
     },
     "execution_count": 31,
     "metadata": {},
     "output_type": "execute_result"
    }
   ],
   "source": [
    "number+x"
   ]
  },
  {
   "cell_type": "code",
   "execution_count": 32,
   "id": "931b8229",
   "metadata": {},
   "outputs": [
    {
     "data": {
      "text/plain": [
       "list"
      ]
     },
     "execution_count": 32,
     "metadata": {},
     "output_type": "execute_result"
    }
   ],
   "source": [
    "type(_)"
   ]
  },
  {
   "cell_type": "code",
   "execution_count": 33,
   "id": "d04d1561",
   "metadata": {},
   "outputs": [],
   "source": [
    "numbers = [1, 3, 5, 7, 9, 11, 13, 15, 17, 19, 21, 23]"
   ]
  },
  {
   "cell_type": "code",
   "execution_count": 34,
   "id": "ddc4324e",
   "metadata": {},
   "outputs": [],
   "source": [
    "numbers.reverse()"
   ]
  },
  {
   "cell_type": "code",
   "execution_count": 35,
   "id": "f39c1365",
   "metadata": {},
   "outputs": [
    {
     "data": {
      "text/plain": [
       "[23, 21, 19, 17, 15, 13, 11, 9, 7, 5, 3, 1]"
      ]
     },
     "execution_count": 35,
     "metadata": {},
     "output_type": "execute_result"
    }
   ],
   "source": [
    "numbers"
   ]
  },
  {
   "cell_type": "code",
   "execution_count": 43,
   "id": "29761127",
   "metadata": {},
   "outputs": [],
   "source": [
    "names = [\"akshit\", \"zoya\", \"rubina\", \"upmanyu\"]"
   ]
  },
  {
   "cell_type": "code",
   "execution_count": 44,
   "id": "2cb112ed",
   "metadata": {},
   "outputs": [],
   "source": [
    "names.sort()\n",
    "#sorts the same list and then displays its contents after sorting when it is called"
   ]
  },
  {
   "cell_type": "code",
   "execution_count": 45,
   "id": "b6e0b7ee",
   "metadata": {},
   "outputs": [
    {
     "data": {
      "text/plain": [
       "['akshit', 'rubina', 'upmanyu', 'zoya']"
      ]
     },
     "execution_count": 45,
     "metadata": {},
     "output_type": "execute_result"
    }
   ],
   "source": [
    "names"
   ]
  },
  {
   "cell_type": "code",
   "execution_count": 47,
   "id": "02480070",
   "metadata": {},
   "outputs": [],
   "source": [
    "name = [\"akshit\", \"zoya\", \"rubina\", \"upmanyu\"]"
   ]
  },
  {
   "cell_type": "code",
   "execution_count": 52,
   "id": "df510740",
   "metadata": {},
   "outputs": [],
   "source": [
    "name.sort()"
   ]
  },
  {
   "cell_type": "code",
   "execution_count": 53,
   "id": "93023ea4",
   "metadata": {},
   "outputs": [],
   "source": [
    "name.reverse()"
   ]
  },
  {
   "cell_type": "code",
   "execution_count": 54,
   "id": "9b641f79",
   "metadata": {},
   "outputs": [
    {
     "data": {
      "text/plain": [
       "['zoya', 'upmanyu', 'rubina', 'akshit']"
      ]
     },
     "execution_count": 54,
     "metadata": {},
     "output_type": "execute_result"
    }
   ],
   "source": [
    "name"
   ]
  },
  {
   "cell_type": "code",
   "execution_count": 55,
   "id": "c5ec59e2",
   "metadata": {},
   "outputs": [],
   "source": [
    "sorted_names = sorted(name)"
   ]
  },
  {
   "cell_type": "code",
   "execution_count": 56,
   "id": "8dee63e2",
   "metadata": {},
   "outputs": [
    {
     "data": {
      "text/plain": [
       "['zoya', 'upmanyu', 'rubina', 'akshit']"
      ]
     },
     "execution_count": 56,
     "metadata": {},
     "output_type": "execute_result"
    }
   ],
   "source": [
    "name"
   ]
  },
  {
   "cell_type": "code",
   "execution_count": 57,
   "id": "a500b918",
   "metadata": {},
   "outputs": [
    {
     "data": {
      "text/plain": [
       "['akshit', 'rubina', 'upmanyu', 'zoya']"
      ]
     },
     "execution_count": 57,
     "metadata": {},
     "output_type": "execute_result"
    }
   ],
   "source": [
    "sorted_names"
   ]
  },
  {
   "cell_type": "code",
   "execution_count": 58,
   "id": "396a2c20",
   "metadata": {},
   "outputs": [
    {
     "data": {
      "text/plain": [
       "4"
      ]
     },
     "execution_count": 58,
     "metadata": {},
     "output_type": "execute_result"
    }
   ],
   "source": [
    "len(name)"
   ]
  },
  {
   "cell_type": "code",
   "execution_count": 59,
   "id": "06e3f46f",
   "metadata": {},
   "outputs": [],
   "source": [
    "T = (1, 3, 5, 7)"
   ]
  },
  {
   "cell_type": "code",
   "execution_count": 60,
   "id": "b27662db",
   "metadata": {},
   "outputs": [
    {
     "data": {
      "text/plain": [
       "4"
      ]
     },
     "execution_count": 60,
     "metadata": {},
     "output_type": "execute_result"
    }
   ],
   "source": [
    "len(T)"
   ]
  },
  {
   "cell_type": "code",
   "execution_count": 61,
   "id": "ecb3afe4",
   "metadata": {},
   "outputs": [
    {
     "data": {
      "text/plain": [
       "(1, 3, 5, 7, 9, 11)"
      ]
     },
     "execution_count": 61,
     "metadata": {},
     "output_type": "execute_result"
    }
   ],
   "source": [
    "T+(9, 11)"
   ]
  },
  {
   "cell_type": "code",
   "execution_count": 62,
   "id": "70e79f1d",
   "metadata": {},
   "outputs": [
    {
     "data": {
      "text/plain": [
       "3"
      ]
     },
     "execution_count": 62,
     "metadata": {},
     "output_type": "execute_result"
    }
   ],
   "source": [
    "T[1]"
   ]
  },
  {
   "cell_type": "code",
   "execution_count": 63,
   "id": "ecb28d70",
   "metadata": {},
   "outputs": [],
   "source": [
    "x = 12.24"
   ]
  },
  {
   "cell_type": "code",
   "execution_count": 64,
   "id": "249ac121",
   "metadata": {},
   "outputs": [],
   "source": [
    "y = 15.79"
   ]
  },
  {
   "cell_type": "code",
   "execution_count": 65,
   "id": "499b3089",
   "metadata": {},
   "outputs": [],
   "source": [
    "coordinate = (x, y)\n",
    "#tuple-packing or packing a tuple"
   ]
  },
  {
   "cell_type": "code",
   "execution_count": 66,
   "id": "bfab1ea3",
   "metadata": {},
   "outputs": [
    {
     "data": {
      "text/plain": [
       "tuple"
      ]
     },
     "execution_count": 66,
     "metadata": {},
     "output_type": "execute_result"
    }
   ],
   "source": [
    "type(coordinate)"
   ]
  },
  {
   "cell_type": "code",
   "execution_count": 67,
   "id": "26621e11",
   "metadata": {},
   "outputs": [
    {
     "data": {
      "text/plain": [
       "(12.24, 15.79)"
      ]
     },
     "execution_count": 67,
     "metadata": {},
     "output_type": "execute_result"
    }
   ],
   "source": [
    "coordinate"
   ]
  },
  {
   "cell_type": "code",
   "execution_count": 68,
   "id": "e308264c",
   "metadata": {},
   "outputs": [],
   "source": [
    "(c1, c2) = coordinate\n",
    "#unpacking a tuple"
   ]
  },
  {
   "cell_type": "code",
   "execution_count": 69,
   "id": "783ef1a2",
   "metadata": {},
   "outputs": [
    {
     "data": {
      "text/plain": [
       "12.24"
      ]
     },
     "execution_count": 69,
     "metadata": {},
     "output_type": "execute_result"
    }
   ],
   "source": [
    "c1"
   ]
  },
  {
   "cell_type": "code",
   "execution_count": 70,
   "id": "e1ccac19",
   "metadata": {},
   "outputs": [
    {
     "data": {
      "text/plain": [
       "15.79"
      ]
     },
     "execution_count": 70,
     "metadata": {},
     "output_type": "execute_result"
    }
   ],
   "source": [
    "c2"
   ]
  },
  {
   "cell_type": "code",
   "execution_count": 71,
   "id": "10c467f5",
   "metadata": {},
   "outputs": [],
   "source": [
    "coordinates = [(1, 2),(2, 4),(4, 8),(8, 16),(16, 32),(32, 64)]"
   ]
  },
  {
   "cell_type": "code",
   "execution_count": 72,
   "id": "b13aa691",
   "metadata": {},
   "outputs": [
    {
     "data": {
      "text/plain": [
       "[(1, 2), (2, 4), (4, 8), (8, 16), (16, 32), (32, 64)]"
      ]
     },
     "execution_count": 72,
     "metadata": {},
     "output_type": "execute_result"
    }
   ],
   "source": [
    "coordinates"
   ]
  },
  {
   "cell_type": "code",
   "execution_count": 76,
   "id": "58b34ced",
   "metadata": {},
   "outputs": [
    {
     "name": "stdout",
     "output_type": "stream",
     "text": [
      "1 2\n",
      "2 4\n",
      "4 8\n",
      "8 16\n",
      "16 32\n",
      "32 64\n"
     ]
    }
   ],
   "source": [
    "for (x, y) in coordinates:\n",
    "    print(x,y)"
   ]
  },
  {
   "cell_type": "code",
   "execution_count": 77,
   "id": "6335af67",
   "metadata": {},
   "outputs": [],
   "source": [
    "c=(2,3)"
   ]
  },
  {
   "cell_type": "code",
   "execution_count": 79,
   "id": "c906719b",
   "metadata": {},
   "outputs": [
    {
     "data": {
      "text/plain": [
       "tuple"
      ]
     },
     "execution_count": 79,
     "metadata": {},
     "output_type": "execute_result"
    }
   ],
   "source": [
    "type(c)"
   ]
  },
  {
   "cell_type": "code",
   "execution_count": 80,
   "id": "17e01f24",
   "metadata": {},
   "outputs": [],
   "source": [
    "c=(2)"
   ]
  },
  {
   "cell_type": "code",
   "execution_count": 81,
   "id": "679ea0b7",
   "metadata": {},
   "outputs": [
    {
     "data": {
      "text/plain": [
       "int"
      ]
     },
     "execution_count": 81,
     "metadata": {},
     "output_type": "execute_result"
    }
   ],
   "source": [
    "type(c)"
   ]
  },
  {
   "cell_type": "code",
   "execution_count": 82,
   "id": "e9e1e908",
   "metadata": {},
   "outputs": [],
   "source": [
    "c = (2,)"
   ]
  },
  {
   "cell_type": "code",
   "execution_count": 83,
   "id": "f8eb2c70",
   "metadata": {},
   "outputs": [
    {
     "data": {
      "text/plain": [
       "tuple"
      ]
     },
     "execution_count": 83,
     "metadata": {},
     "output_type": "execute_result"
    }
   ],
   "source": [
    "type(c)"
   ]
  },
  {
   "cell_type": "code",
   "execution_count": 89,
   "id": "983a7daa",
   "metadata": {},
   "outputs": [],
   "source": [
    "x = (1, 2, 3)"
   ]
  },
  {
   "cell_type": "code",
   "execution_count": 90,
   "id": "f3bb683b",
   "metadata": {},
   "outputs": [
    {
     "data": {
      "text/plain": [
       "1"
      ]
     },
     "execution_count": 90,
     "metadata": {},
     "output_type": "execute_result"
    }
   ],
   "source": [
    "x.count(3)"
   ]
  },
  {
   "cell_type": "code",
   "execution_count": 91,
   "id": "4c3688a1",
   "metadata": {},
   "outputs": [
    {
     "data": {
      "text/plain": [
       "6"
      ]
     },
     "execution_count": 91,
     "metadata": {},
     "output_type": "execute_result"
    }
   ],
   "source": [
    "sum(x)"
   ]
  },
  {
   "cell_type": "code",
   "execution_count": 92,
   "id": "31517c20",
   "metadata": {},
   "outputs": [
    {
     "data": {
      "text/plain": [
       "int"
      ]
     },
     "execution_count": 92,
     "metadata": {},
     "output_type": "execute_result"
    }
   ],
   "source": [
    "type(2)"
   ]
  },
  {
   "cell_type": "code",
   "execution_count": 93,
   "id": "4a3ecff8",
   "metadata": {},
   "outputs": [
    {
     "data": {
      "text/plain": [
       "int"
      ]
     },
     "execution_count": 93,
     "metadata": {},
     "output_type": "execute_result"
    }
   ],
   "source": [
    "type((2))"
   ]
  },
  {
   "cell_type": "code",
   "execution_count": 94,
   "id": "0f4af535",
   "metadata": {},
   "outputs": [
    {
     "data": {
      "text/plain": [
       "int"
      ]
     },
     "execution_count": 94,
     "metadata": {},
     "output_type": "execute_result"
    }
   ],
   "source": [
    "type(2,)"
   ]
  },
  {
   "cell_type": "code",
   "execution_count": 95,
   "id": "79e1ea26",
   "metadata": {},
   "outputs": [
    {
     "data": {
      "text/plain": [
       "tuple"
      ]
     },
     "execution_count": 95,
     "metadata": {},
     "output_type": "execute_result"
    }
   ],
   "source": [
    "type((2,))"
   ]
  },
  {
   "cell_type": "code",
   "execution_count": 96,
   "id": "17fd9d78",
   "metadata": {},
   "outputs": [
    {
     "data": {
      "text/plain": [
       "range(0, 5)"
      ]
     },
     "execution_count": 96,
     "metadata": {},
     "output_type": "execute_result"
    }
   ],
   "source": [
    "range(5)"
   ]
  },
  {
   "cell_type": "code",
   "execution_count": 97,
   "id": "ca6a9184",
   "metadata": {},
   "outputs": [
    {
     "data": {
      "text/plain": [
       "[0, 1, 2, 3, 4]"
      ]
     },
     "execution_count": 97,
     "metadata": {},
     "output_type": "execute_result"
    }
   ],
   "source": [
    "list(range(5))"
   ]
  },
  {
   "cell_type": "code",
   "execution_count": 98,
   "id": "58830ec4",
   "metadata": {},
   "outputs": [
    {
     "data": {
      "text/plain": [
       "[1, 2, 3, 4, 5]"
      ]
     },
     "execution_count": 98,
     "metadata": {},
     "output_type": "execute_result"
    }
   ],
   "source": [
    "list(range(1,6))"
   ]
  },
  {
   "cell_type": "code",
   "execution_count": 99,
   "id": "e32f8ddc",
   "metadata": {},
   "outputs": [
    {
     "data": {
      "text/plain": [
       "[1, 3, 5, 7, 9, 11]"
      ]
     },
     "execution_count": 99,
     "metadata": {},
     "output_type": "execute_result"
    }
   ],
   "source": [
    "list(range(1, 13, 2))"
   ]
  },
  {
   "cell_type": "code",
   "execution_count": 1,
   "id": "8a5a232c",
   "metadata": {},
   "outputs": [],
   "source": [
    "S = \"Python\""
   ]
  },
  {
   "cell_type": "code",
   "execution_count": 2,
   "id": "4a63c1a3",
   "metadata": {},
   "outputs": [
    {
     "data": {
      "text/plain": [
       "6"
      ]
     },
     "execution_count": 2,
     "metadata": {},
     "output_type": "execute_result"
    }
   ],
   "source": [
    "len(S)"
   ]
  },
  {
   "cell_type": "code",
   "execution_count": 3,
   "id": "b7e1ecf1",
   "metadata": {},
   "outputs": [
    {
     "data": {
      "text/plain": [
       "'P'"
      ]
     },
     "execution_count": 3,
     "metadata": {},
     "output_type": "execute_result"
    }
   ],
   "source": [
    "S[0]"
   ]
  },
  {
   "cell_type": "code",
   "execution_count": 4,
   "id": "c24a3a79",
   "metadata": {},
   "outputs": [
    {
     "data": {
      "text/plain": [
       "'n'"
      ]
     },
     "execution_count": 4,
     "metadata": {},
     "output_type": "execute_result"
    }
   ],
   "source": [
    "S[-1]"
   ]
  },
  {
   "cell_type": "code",
   "execution_count": 5,
   "id": "bb9667e6",
   "metadata": {},
   "outputs": [
    {
     "data": {
      "text/plain": [
       "'Pyt'"
      ]
     },
     "execution_count": 5,
     "metadata": {},
     "output_type": "execute_result"
    }
   ],
   "source": [
    "S[0:3]"
   ]
  },
  {
   "cell_type": "code",
   "execution_count": 6,
   "id": "5aa592fa",
   "metadata": {},
   "outputs": [
    {
     "data": {
      "text/plain": [
       "'hon'"
      ]
     },
     "execution_count": 6,
     "metadata": {},
     "output_type": "execute_result"
    }
   ],
   "source": [
    "S[-3:]"
   ]
  },
  {
   "cell_type": "code",
   "execution_count": 7,
   "id": "f2f64231",
   "metadata": {},
   "outputs": [
    {
     "data": {
      "text/plain": [
       "True"
      ]
     },
     "execution_count": 7,
     "metadata": {},
     "output_type": "execute_result"
    }
   ],
   "source": [
    "\"y\" in S"
   ]
  },
  {
   "cell_type": "code",
   "execution_count": 8,
   "id": "0d07c40d",
   "metadata": {},
   "outputs": [
    {
     "data": {
      "text/plain": [
       "False"
      ]
     },
     "execution_count": 8,
     "metadata": {},
     "output_type": "execute_result"
    }
   ],
   "source": [
    "\"Y\" in S"
   ]
  },
  {
   "cell_type": "code",
   "execution_count": 9,
   "id": "c9cf456c",
   "metadata": {},
   "outputs": [
    {
     "data": {
      "text/plain": [
       "24"
      ]
     },
     "execution_count": 9,
     "metadata": {},
     "output_type": "execute_result"
    }
   ],
   "source": [
    "12+12"
   ]
  },
  {
   "cell_type": "code",
   "execution_count": 10,
   "id": "ac85db04",
   "metadata": {},
   "outputs": [
    {
     "data": {
      "text/plain": [
       "'helloworld'"
      ]
     },
     "execution_count": 10,
     "metadata": {},
     "output_type": "execute_result"
    }
   ],
   "source": [
    "\"hello\"+\"world\""
   ]
  },
  {
   "cell_type": "code",
   "execution_count": 11,
   "id": "afd0ed05",
   "metadata": {},
   "outputs": [],
   "source": [
    "s = \"Python\""
   ]
  },
  {
   "cell_type": "code",
   "execution_count": 12,
   "id": "8bb36099",
   "metadata": {},
   "outputs": [
    {
     "data": {
      "text/plain": [
       "'PythonPythonPython'"
      ]
     },
     "execution_count": 12,
     "metadata": {},
     "output_type": "execute_result"
    }
   ],
   "source": [
    "3*s"
   ]
  },
  {
   "cell_type": "code",
   "execution_count": 13,
   "id": "41c2a993",
   "metadata": {},
   "outputs": [
    {
     "ename": "TypeError",
     "evalue": "can only concatenate str (not \"int\") to str",
     "output_type": "error",
     "traceback": [
      "\u001b[1;31m---------------------------------------------------------------------------\u001b[0m",
      "\u001b[1;31mTypeError\u001b[0m                                 Traceback (most recent call last)",
      "\u001b[1;32m~\\AppData\\Local\\Temp/ipykernel_17036/1771828904.py\u001b[0m in \u001b[0;36m<module>\u001b[1;34m\u001b[0m\n\u001b[1;32m----> 1\u001b[1;33m \u001b[1;34m\"eight equals\"\u001b[0m\u001b[1;33m+\u001b[0m\u001b[1;36m8\u001b[0m\u001b[1;33m\u001b[0m\u001b[1;33m\u001b[0m\u001b[0m\n\u001b[0m",
      "\u001b[1;31mTypeError\u001b[0m: can only concatenate str (not \"int\") to str"
     ]
    }
   ],
   "source": [
    "\"eight equals\"+8"
   ]
  },
  {
   "cell_type": "code",
   "execution_count": 15,
   "id": "6573160d",
   "metadata": {},
   "outputs": [
    {
     "data": {
      "text/plain": [
       "'eight equals 8'"
      ]
     },
     "execution_count": 15,
     "metadata": {},
     "output_type": "execute_result"
    }
   ],
   "source": [
    "\"eight equals \"+str(8)"
   ]
  },
  {
   "cell_type": "code",
   "execution_count": 16,
   "id": "9a7d196f",
   "metadata": {},
   "outputs": [
    {
     "data": {
      "text/plain": [
       "'eight equals 8'"
      ]
     },
     "execution_count": 16,
     "metadata": {},
     "output_type": "execute_result"
    }
   ],
   "source": [
    "\"eight equals \" + \"8\""
   ]
  },
  {
   "cell_type": "code",
   "execution_count": 17,
   "id": "ae7678a2",
   "metadata": {},
   "outputs": [
    {
     "data": {
      "text/plain": [
       "['__add__',\n",
       " '__class__',\n",
       " '__contains__',\n",
       " '__delattr__',\n",
       " '__dir__',\n",
       " '__doc__',\n",
       " '__eq__',\n",
       " '__format__',\n",
       " '__ge__',\n",
       " '__getattribute__',\n",
       " '__getitem__',\n",
       " '__getnewargs__',\n",
       " '__gt__',\n",
       " '__hash__',\n",
       " '__init__',\n",
       " '__init_subclass__',\n",
       " '__iter__',\n",
       " '__le__',\n",
       " '__len__',\n",
       " '__lt__',\n",
       " '__mod__',\n",
       " '__mul__',\n",
       " '__ne__',\n",
       " '__new__',\n",
       " '__reduce__',\n",
       " '__reduce_ex__',\n",
       " '__repr__',\n",
       " '__rmod__',\n",
       " '__rmul__',\n",
       " '__setattr__',\n",
       " '__sizeof__',\n",
       " '__str__',\n",
       " '__subclasshook__',\n",
       " 'capitalize',\n",
       " 'casefold',\n",
       " 'center',\n",
       " 'count',\n",
       " 'encode',\n",
       " 'endswith',\n",
       " 'expandtabs',\n",
       " 'find',\n",
       " 'format',\n",
       " 'format_map',\n",
       " 'index',\n",
       " 'isalnum',\n",
       " 'isalpha',\n",
       " 'isascii',\n",
       " 'isdecimal',\n",
       " 'isdigit',\n",
       " 'isidentifier',\n",
       " 'islower',\n",
       " 'isnumeric',\n",
       " 'isprintable',\n",
       " 'isspace',\n",
       " 'istitle',\n",
       " 'isupper',\n",
       " 'join',\n",
       " 'ljust',\n",
       " 'lower',\n",
       " 'lstrip',\n",
       " 'maketrans',\n",
       " 'partition',\n",
       " 'removeprefix',\n",
       " 'removesuffix',\n",
       " 'replace',\n",
       " 'rfind',\n",
       " 'rindex',\n",
       " 'rjust',\n",
       " 'rpartition',\n",
       " 'rsplit',\n",
       " 'rstrip',\n",
       " 'split',\n",
       " 'splitlines',\n",
       " 'startswith',\n",
       " 'strip',\n",
       " 'swapcase',\n",
       " 'title',\n",
       " 'translate',\n",
       " 'upper',\n",
       " 'zfill']"
      ]
     },
     "execution_count": 17,
     "metadata": {},
     "output_type": "execute_result"
    }
   ],
   "source": [
    "dir(str)"
   ]
  },
  {
   "cell_type": "code",
   "execution_count": 18,
   "id": "944b5c79",
   "metadata": {},
   "outputs": [],
   "source": [
    "str.replace?"
   ]
  },
  {
   "cell_type": "code",
   "execution_count": 19,
   "id": "8eaa94e3",
   "metadata": {},
   "outputs": [],
   "source": [
    "name = \"tina fey\""
   ]
  },
  {
   "cell_type": "code",
   "execution_count": 20,
   "id": "25c49131",
   "metadata": {},
   "outputs": [
    {
     "data": {
      "text/plain": [
       "'Tina fey'"
      ]
     },
     "execution_count": 20,
     "metadata": {},
     "output_type": "execute_result"
    }
   ],
   "source": [
    "name.replace(\"t\", \"T\")\n",
    "#strings are immutable so this method doesn't make changes to string instead it creates a new string"
   ]
  },
  {
   "cell_type": "code",
   "execution_count": 21,
   "id": "e3d1cdf3",
   "metadata": {},
   "outputs": [],
   "source": [
    "new_name = name.replace(\"t\", \"T\")"
   ]
  },
  {
   "cell_type": "code",
   "execution_count": 22,
   "id": "dc1f7672",
   "metadata": {},
   "outputs": [
    {
     "data": {
      "text/plain": [
       "'tina fey'"
      ]
     },
     "execution_count": 22,
     "metadata": {},
     "output_type": "execute_result"
    }
   ],
   "source": [
    "name"
   ]
  },
  {
   "cell_type": "code",
   "execution_count": 23,
   "id": "e9df0b26",
   "metadata": {},
   "outputs": [
    {
     "data": {
      "text/plain": [
       "'Tina fey'"
      ]
     },
     "execution_count": 23,
     "metadata": {},
     "output_type": "execute_result"
    }
   ],
   "source": [
    "new_name"
   ]
  },
  {
   "cell_type": "code",
   "execution_count": 26,
   "id": "bbc4af10",
   "metadata": {},
   "outputs": [],
   "source": [
    "names = name.split(\" \")"
   ]
  },
  {
   "cell_type": "code",
   "execution_count": 27,
   "id": "72f701dd",
   "metadata": {},
   "outputs": [
    {
     "data": {
      "text/plain": [
       "list"
      ]
     },
     "execution_count": 27,
     "metadata": {},
     "output_type": "execute_result"
    }
   ],
   "source": [
    "type(names)"
   ]
  },
  {
   "cell_type": "code",
   "execution_count": 28,
   "id": "231aec6b",
   "metadata": {},
   "outputs": [
    {
     "data": {
      "text/plain": [
       "2"
      ]
     },
     "execution_count": 28,
     "metadata": {},
     "output_type": "execute_result"
    }
   ],
   "source": [
    "len(names)"
   ]
  },
  {
   "cell_type": "code",
   "execution_count": 29,
   "id": "ec6f18c9",
   "metadata": {},
   "outputs": [
    {
     "data": {
      "text/plain": [
       "'tina'"
      ]
     },
     "execution_count": 29,
     "metadata": {},
     "output_type": "execute_result"
    }
   ],
   "source": [
    "names[0]"
   ]
  },
  {
   "cell_type": "code",
   "execution_count": 30,
   "id": "44f262a9",
   "metadata": {},
   "outputs": [
    {
     "data": {
      "text/plain": [
       "'fey'"
      ]
     },
     "execution_count": 30,
     "metadata": {},
     "output_type": "execute_result"
    }
   ],
   "source": [
    "names[1]"
   ]
  },
  {
   "cell_type": "code",
   "execution_count": 31,
   "id": "88786105",
   "metadata": {},
   "outputs": [
    {
     "data": {
      "text/plain": [
       "str"
      ]
     },
     "execution_count": 31,
     "metadata": {},
     "output_type": "execute_result"
    }
   ],
   "source": [
    "type(names[0])"
   ]
  },
  {
   "cell_type": "code",
   "execution_count": 32,
   "id": "9121fe30",
   "metadata": {},
   "outputs": [
    {
     "data": {
      "text/plain": [
       "'TINA'"
      ]
     },
     "execution_count": 32,
     "metadata": {},
     "output_type": "execute_result"
    }
   ],
   "source": [
    "names[0].upper()"
   ]
  },
  {
   "cell_type": "code",
   "execution_count": 33,
   "id": "60c40138",
   "metadata": {},
   "outputs": [
    {
     "data": {
      "text/plain": [
       "'FEY'"
      ]
     },
     "execution_count": 33,
     "metadata": {},
     "output_type": "execute_result"
    }
   ],
   "source": [
    "names[1].upper()"
   ]
  },
  {
   "cell_type": "code",
   "execution_count": 34,
   "id": "1e29f8dd",
   "metadata": {},
   "outputs": [
    {
     "data": {
      "text/plain": [
       "'tina'"
      ]
     },
     "execution_count": 34,
     "metadata": {},
     "output_type": "execute_result"
    }
   ],
   "source": [
    "names[0].lower()"
   ]
  },
  {
   "cell_type": "code",
   "execution_count": 35,
   "id": "e7cea857",
   "metadata": {},
   "outputs": [
    {
     "data": {
      "text/plain": [
       "4"
      ]
     },
     "execution_count": 35,
     "metadata": {},
     "output_type": "execute_result"
    }
   ],
   "source": [
    "2+2"
   ]
  },
  {
   "cell_type": "code",
   "execution_count": 36,
   "id": "1413d293",
   "metadata": {},
   "outputs": [
    {
     "data": {
      "text/plain": [
       "'22'"
      ]
     },
     "execution_count": 36,
     "metadata": {},
     "output_type": "execute_result"
    }
   ],
   "source": [
    "\"2\"+\"2\""
   ]
  },
  {
   "cell_type": "code",
   "execution_count": 37,
   "id": "1fb1fda7",
   "metadata": {},
   "outputs": [
    {
     "ename": "TypeError",
     "evalue": "unsupported operand type(s) for +: 'int' and 'str'",
     "output_type": "error",
     "traceback": [
      "\u001b[1;31m---------------------------------------------------------------------------\u001b[0m",
      "\u001b[1;31mTypeError\u001b[0m                                 Traceback (most recent call last)",
      "\u001b[1;32m~\\AppData\\Local\\Temp/ipykernel_17036/1323183504.py\u001b[0m in \u001b[0;36m<module>\u001b[1;34m\u001b[0m\n\u001b[1;32m----> 1\u001b[1;33m \u001b[1;36m2\u001b[0m\u001b[1;33m+\u001b[0m\u001b[1;34m\"2\"\u001b[0m\u001b[1;33m\u001b[0m\u001b[1;33m\u001b[0m\u001b[0m\n\u001b[0m",
      "\u001b[1;31mTypeError\u001b[0m: unsupported operand type(s) for +: 'int' and 'str'"
     ]
    }
   ],
   "source": [
    "2+\"2\""
   ]
  },
  {
   "cell_type": "code",
   "execution_count": 38,
   "id": "c6172175",
   "metadata": {},
   "outputs": [
    {
     "ename": "TypeError",
     "evalue": "can't multiply sequence by non-int of type 'str'",
     "output_type": "error",
     "traceback": [
      "\u001b[1;31m---------------------------------------------------------------------------\u001b[0m",
      "\u001b[1;31mTypeError\u001b[0m                                 Traceback (most recent call last)",
      "\u001b[1;32m~\\AppData\\Local\\Temp/ipykernel_17036/3290336002.py\u001b[0m in \u001b[0;36m<module>\u001b[1;34m\u001b[0m\n\u001b[1;32m----> 1\u001b[1;33m \u001b[1;34m\"2\"\u001b[0m\u001b[1;33m*\u001b[0m\u001b[1;34m\"2\"\u001b[0m\u001b[1;33m\u001b[0m\u001b[1;33m\u001b[0m\u001b[0m\n\u001b[0m",
      "\u001b[1;31mTypeError\u001b[0m: can't multiply sequence by non-int of type 'str'"
     ]
    }
   ],
   "source": [
    "\"2\"*\"2\""
   ]
  },
  {
   "cell_type": "code",
   "execution_count": 40,
   "id": "b671a4f2",
   "metadata": {},
   "outputs": [
    {
     "data": {
      "text/plain": [
       "'0 1 2 3 4 5 6 7 8 9'"
      ]
     },
     "execution_count": 40,
     "metadata": {},
     "output_type": "execute_result"
    }
   ],
   "source": [
    "\" \".join([str(i) for i in range(10)])"
   ]
  },
  {
   "cell_type": "code",
   "execution_count": 41,
   "id": "dee715d8",
   "metadata": {},
   "outputs": [
    {
     "data": {
      "text/plain": [
       "'0123456789'"
      ]
     },
     "execution_count": 41,
     "metadata": {},
     "output_type": "execute_result"
    }
   ],
   "source": [
    "\"0\"+\"1\"+\"2\"+\"3\"+\"4\"+\"5\"+\"6\"+\"7\"+\"8\"+\"9\""
   ]
  },
  {
   "cell_type": "code",
   "execution_count": 42,
   "id": "64e5578f",
   "metadata": {},
   "outputs": [
    {
     "data": {
      "text/plain": [
       "'range(0, 10)'"
      ]
     },
     "execution_count": 42,
     "metadata": {},
     "output_type": "execute_result"
    }
   ],
   "source": [
    "str(range(10))"
   ]
  },
  {
   "cell_type": "code",
   "execution_count": 43,
   "id": "2f3ed506",
   "metadata": {},
   "outputs": [],
   "source": [
    "x=\"125,000\""
   ]
  },
  {
   "cell_type": "code",
   "execution_count": 44,
   "id": "97fc9a0d",
   "metadata": {},
   "outputs": [
    {
     "data": {
      "text/plain": [
       "False"
      ]
     },
     "execution_count": 44,
     "metadata": {},
     "output_type": "execute_result"
    }
   ],
   "source": [
    "x.isdecimal()"
   ]
  },
  {
   "cell_type": "code",
   "execution_count": 45,
   "id": "4782d153",
   "metadata": {},
   "outputs": [],
   "source": [
    "ids = set()"
   ]
  },
  {
   "cell_type": "code",
   "execution_count": 46,
   "id": "14c9584b",
   "metadata": {},
   "outputs": [],
   "source": [
    "ids = set([1, 2, 4, 6, 7, 8, 9])"
   ]
  },
  {
   "cell_type": "code",
   "execution_count": 47,
   "id": "d5d0f37f",
   "metadata": {},
   "outputs": [
    {
     "data": {
      "text/plain": [
       "7"
      ]
     },
     "execution_count": 47,
     "metadata": {},
     "output_type": "execute_result"
    }
   ],
   "source": [
    "len(ids)"
   ]
  },
  {
   "cell_type": "code",
   "execution_count": 48,
   "id": "578314e7",
   "metadata": {},
   "outputs": [],
   "source": [
    "ids.add(10)"
   ]
  },
  {
   "cell_type": "code",
   "execution_count": 49,
   "id": "26cb2217",
   "metadata": {},
   "outputs": [
    {
     "data": {
      "text/plain": [
       "{1, 2, 4, 6, 7, 8, 9, 10}"
      ]
     },
     "execution_count": 49,
     "metadata": {},
     "output_type": "execute_result"
    }
   ],
   "source": [
    "ids"
   ]
  },
  {
   "cell_type": "code",
   "execution_count": 50,
   "id": "d48205ad",
   "metadata": {},
   "outputs": [],
   "source": [
    "ids.add(2)"
   ]
  },
  {
   "cell_type": "code",
   "execution_count": 51,
   "id": "f64a6d91",
   "metadata": {},
   "outputs": [
    {
     "data": {
      "text/plain": [
       "{1, 2, 4, 6, 7, 8, 9, 10}"
      ]
     },
     "execution_count": 51,
     "metadata": {},
     "output_type": "execute_result"
    }
   ],
   "source": [
    "ids"
   ]
  },
  {
   "cell_type": "code",
   "execution_count": 52,
   "id": "ff0c8051",
   "metadata": {},
   "outputs": [
    {
     "data": {
      "text/plain": [
       "1"
      ]
     },
     "execution_count": 52,
     "metadata": {},
     "output_type": "execute_result"
    }
   ],
   "source": [
    "ids.pop()"
   ]
  },
  {
   "cell_type": "code",
   "execution_count": 54,
   "id": "6b2dad90",
   "metadata": {},
   "outputs": [
    {
     "data": {
      "text/plain": [
       "2"
      ]
     },
     "execution_count": 54,
     "metadata": {},
     "output_type": "execute_result"
    }
   ],
   "source": [
    "ids.pop()"
   ]
  },
  {
   "cell_type": "code",
   "execution_count": 55,
   "id": "13121eae",
   "metadata": {},
   "outputs": [
    {
     "data": {
      "text/plain": [
       "4"
      ]
     },
     "execution_count": 55,
     "metadata": {},
     "output_type": "execute_result"
    }
   ],
   "source": [
    "ids.pop()"
   ]
  },
  {
   "cell_type": "code",
   "execution_count": 56,
   "id": "22b374ea",
   "metadata": {},
   "outputs": [
    {
     "data": {
      "text/plain": [
       "{6, 7, 8, 9, 10}"
      ]
     },
     "execution_count": 56,
     "metadata": {},
     "output_type": "execute_result"
    }
   ],
   "source": [
    "ids"
   ]
  },
  {
   "cell_type": "code",
   "execution_count": 57,
   "id": "1b1c8068",
   "metadata": {},
   "outputs": [],
   "source": [
    "ids = set(range(10))"
   ]
  },
  {
   "cell_type": "code",
   "execution_count": 58,
   "id": "82ab8cd3",
   "metadata": {},
   "outputs": [
    {
     "data": {
      "text/plain": [
       "{0, 1, 2, 3, 4, 5, 6, 7, 8, 9}"
      ]
     },
     "execution_count": 58,
     "metadata": {},
     "output_type": "execute_result"
    }
   ],
   "source": [
    "ids"
   ]
  },
  {
   "cell_type": "code",
   "execution_count": 59,
   "id": "333e6a60",
   "metadata": {},
   "outputs": [],
   "source": [
    "males = set([1, 3, 5, 6, 7])"
   ]
  },
  {
   "cell_type": "code",
   "execution_count": 60,
   "id": "360edf9d",
   "metadata": {},
   "outputs": [],
   "source": [
    "females = ids - males"
   ]
  },
  {
   "cell_type": "code",
   "execution_count": 61,
   "id": "eed29680",
   "metadata": {},
   "outputs": [
    {
     "data": {
      "text/plain": [
       "set"
      ]
     },
     "execution_count": 61,
     "metadata": {},
     "output_type": "execute_result"
    }
   ],
   "source": [
    "type(females)"
   ]
  },
  {
   "cell_type": "code",
   "execution_count": 62,
   "id": "4fc86ec1",
   "metadata": {},
   "outputs": [
    {
     "data": {
      "text/plain": [
       "{0, 2, 4, 8, 9}"
      ]
     },
     "execution_count": 62,
     "metadata": {},
     "output_type": "execute_result"
    }
   ],
   "source": [
    "females"
   ]
  },
  {
   "cell_type": "code",
   "execution_count": 63,
   "id": "d377a5da",
   "metadata": {},
   "outputs": [
    {
     "data": {
      "text/plain": [
       "{1, 3, 5, 6, 7}"
      ]
     },
     "execution_count": 63,
     "metadata": {},
     "output_type": "execute_result"
    }
   ],
   "source": [
    "males"
   ]
  },
  {
   "cell_type": "code",
   "execution_count": 64,
   "id": "b382dc5f",
   "metadata": {},
   "outputs": [],
   "source": [
    "everyone = males | females"
   ]
  },
  {
   "cell_type": "code",
   "execution_count": 65,
   "id": "7550ad5b",
   "metadata": {},
   "outputs": [
    {
     "data": {
      "text/plain": [
       "{0, 1, 2, 3, 4, 5, 6, 7, 8, 9}"
      ]
     },
     "execution_count": 65,
     "metadata": {},
     "output_type": "execute_result"
    }
   ],
   "source": [
    "everyone"
   ]
  },
  {
   "cell_type": "code",
   "execution_count": 66,
   "id": "f87933f6",
   "metadata": {},
   "outputs": [
    {
     "data": {
      "text/plain": [
       "{1, 2, 3}"
      ]
     },
     "execution_count": 66,
     "metadata": {},
     "output_type": "execute_result"
    }
   ],
   "source": [
    "everyone & set([1, 2, 3])"
   ]
  },
  {
   "cell_type": "code",
   "execution_count": 67,
   "id": "ce379b2a",
   "metadata": {},
   "outputs": [],
   "source": [
    "word = \"antidisestablishmentarianism\""
   ]
  },
  {
   "cell_type": "code",
   "execution_count": 68,
   "id": "921aeef4",
   "metadata": {},
   "outputs": [],
   "source": [
    "letters = set(word)"
   ]
  },
  {
   "cell_type": "code",
   "execution_count": 69,
   "id": "96f0e65b",
   "metadata": {},
   "outputs": [
    {
     "data": {
      "text/plain": [
       "12"
      ]
     },
     "execution_count": 69,
     "metadata": {},
     "output_type": "execute_result"
    }
   ],
   "source": [
    "len(letters)"
   ]
  },
  {
   "cell_type": "code",
   "execution_count": 70,
   "id": "cf20adc2",
   "metadata": {},
   "outputs": [],
   "source": [
    "x = {1, 2, 3}"
   ]
  },
  {
   "cell_type": "code",
   "execution_count": 71,
   "id": "d7a2937c",
   "metadata": {},
   "outputs": [],
   "source": [
    "y = {2, 3, 4}"
   ]
  },
  {
   "cell_type": "code",
   "execution_count": 72,
   "id": "d0a30d73",
   "metadata": {},
   "outputs": [
    {
     "data": {
      "text/plain": [
       "{1}"
      ]
     },
     "execution_count": 72,
     "metadata": {},
     "output_type": "execute_result"
    }
   ],
   "source": [
    "x-y"
   ]
  },
  {
   "cell_type": "code",
   "execution_count": 73,
   "id": "157f9777",
   "metadata": {},
   "outputs": [
    {
     "data": {
      "text/plain": [
       "{4}"
      ]
     },
     "execution_count": 73,
     "metadata": {},
     "output_type": "execute_result"
    }
   ],
   "source": [
    "y-x"
   ]
  },
  {
   "cell_type": "code",
   "execution_count": 74,
   "id": "3327bd63",
   "metadata": {},
   "outputs": [
    {
     "data": {
      "text/plain": [
       "{2, 3}"
      ]
     },
     "execution_count": 74,
     "metadata": {},
     "output_type": "execute_result"
    }
   ],
   "source": [
    "x & y"
   ]
  },
  {
   "cell_type": "code",
   "execution_count": 75,
   "id": "b092bdd1",
   "metadata": {},
   "outputs": [
    {
     "data": {
      "text/plain": [
       "{1, 4}"
      ]
     },
     "execution_count": 75,
     "metadata": {},
     "output_type": "execute_result"
    }
   ],
   "source": [
    "(x-y) | (y-x)"
   ]
  },
  {
   "cell_type": "code",
   "execution_count": 78,
   "id": "531de5b8",
   "metadata": {},
   "outputs": [
    {
     "data": {
      "text/plain": [
       "False"
      ]
     },
     "execution_count": 78,
     "metadata": {},
     "output_type": "execute_result"
    }
   ],
   "source": [
    "x in y"
   ]
  },
  {
   "cell_type": "code",
   "execution_count": 79,
   "id": "192cd390",
   "metadata": {},
   "outputs": [
    {
     "data": {
      "text/plain": [
       "False"
      ]
     },
     "execution_count": 79,
     "metadata": {},
     "output_type": "execute_result"
    }
   ],
   "source": [
    "x.issubset(y)"
   ]
  },
  {
   "cell_type": "code",
   "execution_count": 91,
   "id": "71cae662",
   "metadata": {},
   "outputs": [],
   "source": [
    "age = {}"
   ]
  },
  {
   "cell_type": "code",
   "execution_count": 92,
   "id": "3c3480a7",
   "metadata": {},
   "outputs": [],
   "source": [
    "age = dict()"
   ]
  },
  {
   "cell_type": "code",
   "execution_count": 93,
   "id": "0e7fba67",
   "metadata": {},
   "outputs": [],
   "source": [
    "age = {\"Rupal\": 29, \"Shubh\": 32, \"Riya\": 25, \"Kushal\": 34}"
   ]
  },
  {
   "cell_type": "code",
   "execution_count": 94,
   "id": "3872e964",
   "metadata": {},
   "outputs": [
    {
     "data": {
      "text/plain": [
       "25"
      ]
     },
     "execution_count": 94,
     "metadata": {},
     "output_type": "execute_result"
    }
   ],
   "source": [
    "age[\"Riya\"]"
   ]
  },
  {
   "cell_type": "code",
   "execution_count": 95,
   "id": "5b246f2a",
   "metadata": {},
   "outputs": [],
   "source": [
    "age[\"Riya\"] = age[\"Riya\"] + 1 "
   ]
  },
  {
   "cell_type": "code",
   "execution_count": 96,
   "id": "37b33aa4",
   "metadata": {},
   "outputs": [],
   "source": [
    "age[\"Riya\"] +=1"
   ]
  },
  {
   "cell_type": "code",
   "execution_count": 97,
   "id": "94c89519",
   "metadata": {},
   "outputs": [
    {
     "data": {
      "text/plain": [
       "27"
      ]
     },
     "execution_count": 97,
     "metadata": {},
     "output_type": "execute_result"
    }
   ],
   "source": [
    "age[\"Riya\"]"
   ]
  },
  {
   "cell_type": "code",
   "execution_count": 98,
   "id": "c268f237",
   "metadata": {},
   "outputs": [],
   "source": [
    "names = age.keys()"
   ]
  },
  {
   "cell_type": "code",
   "execution_count": 99,
   "id": "2c3c35c9",
   "metadata": {},
   "outputs": [
    {
     "data": {
      "text/plain": [
       "dict_keys"
      ]
     },
     "execution_count": 99,
     "metadata": {},
     "output_type": "execute_result"
    }
   ],
   "source": [
    "type(names)"
   ]
  },
  {
   "cell_type": "code",
   "execution_count": 100,
   "id": "b6e48175",
   "metadata": {},
   "outputs": [],
   "source": [
    "age[\"Tom\"]=50"
   ]
  },
  {
   "cell_type": "code",
   "execution_count": 101,
   "id": "9a885c79",
   "metadata": {},
   "outputs": [
    {
     "data": {
      "text/plain": [
       "dict_keys(['Rupal', 'Shubh', 'Riya', 'Kushal', 'Tom'])"
      ]
     },
     "execution_count": 101,
     "metadata": {},
     "output_type": "execute_result"
    }
   ],
   "source": [
    "names"
   ]
  },
  {
   "cell_type": "code",
   "execution_count": 102,
   "id": "ca37a491",
   "metadata": {},
   "outputs": [],
   "source": [
    "ages = age.values()"
   ]
  },
  {
   "cell_type": "code",
   "execution_count": 103,
   "id": "69bc6d90",
   "metadata": {},
   "outputs": [
    {
     "data": {
      "text/plain": [
       "dict_values([29, 32, 27, 34, 50])"
      ]
     },
     "execution_count": 103,
     "metadata": {},
     "output_type": "execute_result"
    }
   ],
   "source": [
    "ages"
   ]
  },
  {
   "cell_type": "code",
   "execution_count": 97,
   "id": "e3724cd8",
   "metadata": {},
   "outputs": [],
   "source": [
    "age[\"Nick\"] = 31"
   ]
  },
  {
   "cell_type": "code",
   "execution_count": 98,
   "id": "7d9a4090",
   "metadata": {},
   "outputs": [
    {
     "data": {
      "text/plain": [
       "dict_keys(['Rupal', 'Shubh', 'Riya', 'Kushal', 'Tom', 'Nick'])"
      ]
     },
     "execution_count": 98,
     "metadata": {},
     "output_type": "execute_result"
    }
   ],
   "source": [
    "names"
   ]
  },
  {
   "cell_type": "code",
   "execution_count": 99,
   "id": "c22416c4",
   "metadata": {},
   "outputs": [
    {
     "data": {
      "text/plain": [
       "True"
      ]
     },
     "execution_count": 99,
     "metadata": {},
     "output_type": "execute_result"
    }
   ],
   "source": [
    "\"Riya\" in age"
   ]
  },
  {
   "cell_type": "code",
   "execution_count": 100,
   "id": "089ad60a",
   "metadata": {},
   "outputs": [
    {
     "data": {
      "text/plain": [
       "False"
      ]
     },
     "execution_count": 100,
     "metadata": {},
     "output_type": "execute_result"
    }
   ],
   "source": [
    "\"Shruti\" in age"
   ]
  },
  {
   "cell_type": "markdown",
   "id": "2094e24d",
   "metadata": {},
   "source": [
    "# EDX WEEK-1 PART-3"
   ]
  },
  {
   "cell_type": "code",
   "execution_count": 2,
   "id": "6f0c1f23",
   "metadata": {},
   "outputs": [],
   "source": [
    "L1 = [1, 2, 3]\n",
    "L2 = L1\n",
    "L1[1] = 24"
   ]
  },
  {
   "cell_type": "code",
   "execution_count": 3,
   "id": "c200e0b6",
   "metadata": {},
   "outputs": [
    {
     "data": {
      "text/plain": [
       "[1, 24, 3]"
      ]
     },
     "execution_count": 3,
     "metadata": {},
     "output_type": "execute_result"
    }
   ],
   "source": [
    "L1"
   ]
  },
  {
   "cell_type": "code",
   "execution_count": 4,
   "id": "bc123067",
   "metadata": {},
   "outputs": [
    {
     "data": {
      "text/plain": [
       "[1, 24, 3]"
      ]
     },
     "execution_count": 4,
     "metadata": {},
     "output_type": "execute_result"
    }
   ],
   "source": [
    "L2"
   ]
  },
  {
   "cell_type": "code",
   "execution_count": 5,
   "id": "c5184f6d",
   "metadata": {},
   "outputs": [],
   "source": [
    "L = [1, 2, 3]"
   ]
  },
  {
   "cell_type": "code",
   "execution_count": 6,
   "id": "7c86c4e1",
   "metadata": {},
   "outputs": [],
   "source": [
    "M = [1, 2, 3]"
   ]
  },
  {
   "cell_type": "code",
   "execution_count": 7,
   "id": "a5af9115",
   "metadata": {},
   "outputs": [
    {
     "data": {
      "text/plain": [
       "True"
      ]
     },
     "execution_count": 7,
     "metadata": {},
     "output_type": "execute_result"
    }
   ],
   "source": [
    "L==M"
   ]
  },
  {
   "cell_type": "code",
   "execution_count": 8,
   "id": "05a09206",
   "metadata": {},
   "outputs": [
    {
     "data": {
      "text/plain": [
       "False"
      ]
     },
     "execution_count": 8,
     "metadata": {},
     "output_type": "execute_result"
    }
   ],
   "source": [
    "L is M"
   ]
  },
  {
   "cell_type": "code",
   "execution_count": 9,
   "id": "04a00e84",
   "metadata": {},
   "outputs": [
    {
     "data": {
      "text/plain": [
       "2303775233536"
      ]
     },
     "execution_count": 9,
     "metadata": {},
     "output_type": "execute_result"
    }
   ],
   "source": [
    "id(L)"
   ]
  },
  {
   "cell_type": "code",
   "execution_count": 10,
   "id": "6e760900",
   "metadata": {},
   "outputs": [
    {
     "data": {
      "text/plain": [
       "2303775190720"
      ]
     },
     "execution_count": 10,
     "metadata": {},
     "output_type": "execute_result"
    }
   ],
   "source": [
    "id(M)"
   ]
  },
  {
   "cell_type": "code",
   "execution_count": 11,
   "id": "c599599b",
   "metadata": {},
   "outputs": [],
   "source": [
    "L = [1, 2, 3]"
   ]
  },
  {
   "cell_type": "code",
   "execution_count": 12,
   "id": "5dc5797a",
   "metadata": {},
   "outputs": [],
   "source": [
    "M = L"
   ]
  },
  {
   "cell_type": "code",
   "execution_count": 13,
   "id": "c7d08a03",
   "metadata": {},
   "outputs": [
    {
     "data": {
      "text/plain": [
       "2303775185600"
      ]
     },
     "execution_count": 13,
     "metadata": {},
     "output_type": "execute_result"
    }
   ],
   "source": [
    "id(L)"
   ]
  },
  {
   "cell_type": "code",
   "execution_count": 14,
   "id": "c945153e",
   "metadata": {},
   "outputs": [
    {
     "data": {
      "text/plain": [
       "2303775185600"
      ]
     },
     "execution_count": 14,
     "metadata": {},
     "output_type": "execute_result"
    }
   ],
   "source": [
    "id(M)"
   ]
  },
  {
   "cell_type": "code",
   "execution_count": 16,
   "id": "3c9faecb",
   "metadata": {},
   "outputs": [],
   "source": [
    "N = list(L)"
   ]
  },
  {
   "cell_type": "code",
   "execution_count": 17,
   "id": "a67ee85f",
   "metadata": {},
   "outputs": [
    {
     "data": {
      "text/plain": [
       "2303775219200"
      ]
     },
     "execution_count": 17,
     "metadata": {},
     "output_type": "execute_result"
    }
   ],
   "source": [
    "id(N)"
   ]
  },
  {
   "cell_type": "code",
   "execution_count": 18,
   "id": "d1fd31f9",
   "metadata": {},
   "outputs": [
    {
     "data": {
      "text/plain": [
       "2303775185600"
      ]
     },
     "execution_count": 18,
     "metadata": {},
     "output_type": "execute_result"
    }
   ],
   "source": [
    "id(L)"
   ]
  },
  {
   "cell_type": "code",
   "execution_count": 19,
   "id": "c3debbe9",
   "metadata": {},
   "outputs": [],
   "source": [
    "X = L[:]"
   ]
  },
  {
   "cell_type": "code",
   "execution_count": 20,
   "id": "7d01ca21",
   "metadata": {},
   "outputs": [
    {
     "data": {
      "text/plain": [
       "[1, 2, 3]"
      ]
     },
     "execution_count": 20,
     "metadata": {},
     "output_type": "execute_result"
    }
   ],
   "source": [
    "X"
   ]
  },
  {
   "cell_type": "code",
   "execution_count": 21,
   "id": "aa93f654",
   "metadata": {},
   "outputs": [
    {
     "data": {
      "text/plain": [
       "False"
      ]
     },
     "execution_count": 21,
     "metadata": {},
     "output_type": "execute_result"
    }
   ],
   "source": [
    "L = [2,3,4]\n",
    "M1 = L\n",
    "M2 = L[:]\n",
    "M1 is M2"
   ]
  },
  {
   "cell_type": "code",
   "execution_count": 22,
   "id": "485394d5",
   "metadata": {},
   "outputs": [
    {
     "data": {
      "text/plain": [
       "False"
      ]
     },
     "execution_count": 22,
     "metadata": {},
     "output_type": "execute_result"
    }
   ],
   "source": [
    "import copy\n",
    "x = [1,[2]]\n",
    "y = copy.copy(x) #shallow copy\n",
    "z = copy.deepcopy(x) #deep copy\n",
    "y is z"
   ]
  },
  {
   "cell_type": "code",
   "execution_count": 1,
   "id": "6db8b6d0",
   "metadata": {},
   "outputs": [
    {
     "name": "stdout",
     "output_type": "stream",
     "text": [
      "Now True!\n"
     ]
    }
   ],
   "source": [
    "if False:\n",
    "    print(\"False!\")\n",
    "elif True:\n",
    "    print(\"Now True!\")\n",
    "else:\n",
    "    print(\"Finally True!\")"
   ]
  },
  {
   "cell_type": "code",
   "execution_count": 2,
   "id": "b2d82b4a",
   "metadata": {},
   "outputs": [
    {
     "name": "stdout",
     "output_type": "stream",
     "text": [
      "even\n"
     ]
    }
   ],
   "source": [
    "n=4\n",
    "if n%2 == 0:\n",
    "    print(\"even\")\n",
    "else:\n",
    "    print(\"odd\")"
   ]
  },
  {
   "cell_type": "code",
   "execution_count": 3,
   "id": "bddfc3b1",
   "metadata": {},
   "outputs": [
    {
     "name": "stdout",
     "output_type": "stream",
     "text": [
      "0\n",
      "1\n",
      "2\n",
      "3\n",
      "4\n",
      "5\n",
      "6\n",
      "7\n",
      "8\n",
      "9\n"
     ]
    }
   ],
   "source": [
    "for x in range(10):\n",
    "    print(x)"
   ]
  },
  {
   "cell_type": "code",
   "execution_count": 5,
   "id": "f9d1da3e",
   "metadata": {},
   "outputs": [],
   "source": [
    "names = ['Rupal', 'Shubh', 'Riya', 'Kushal', 'Tom', 'Nick']"
   ]
  },
  {
   "cell_type": "code",
   "execution_count": 6,
   "id": "d5a96010",
   "metadata": {},
   "outputs": [
    {
     "name": "stdout",
     "output_type": "stream",
     "text": [
      "Rupal\n",
      "Shubh\n",
      "Riya\n",
      "Kushal\n",
      "Tom\n",
      "Nick\n"
     ]
    }
   ],
   "source": [
    "for name in names:\n",
    "    print(name)"
   ]
  },
  {
   "cell_type": "code",
   "execution_count": 7,
   "id": "264051cc",
   "metadata": {},
   "outputs": [
    {
     "name": "stdout",
     "output_type": "stream",
     "text": [
      "Rupal\n",
      "Shubh\n",
      "Riya\n",
      "Kushal\n",
      "Tom\n",
      "Nick\n"
     ]
    }
   ],
   "source": [
    "for i in range(len(names)):\n",
    "    print(names[i])"
   ]
  },
  {
   "cell_type": "code",
   "execution_count": 8,
   "id": "3ecee4ee",
   "metadata": {},
   "outputs": [],
   "source": [
    "age = {\"Rupal\": 29, \"Shubh\": 32, \"Riya\": 25, \"Kushal\": 34}"
   ]
  },
  {
   "cell_type": "code",
   "execution_count": 9,
   "id": "3b0702ad",
   "metadata": {},
   "outputs": [
    {
     "data": {
      "text/plain": [
       "{'Rupal': 29, 'Shubh': 32, 'Riya': 25, 'Kushal': 34}"
      ]
     },
     "execution_count": 9,
     "metadata": {},
     "output_type": "execute_result"
    }
   ],
   "source": [
    "age"
   ]
  },
  {
   "cell_type": "code",
   "execution_count": 10,
   "id": "9d3bc13a",
   "metadata": {},
   "outputs": [
    {
     "data": {
      "text/plain": [
       "dict_keys(['Rupal', 'Shubh', 'Riya', 'Kushal'])"
      ]
     },
     "execution_count": 10,
     "metadata": {},
     "output_type": "execute_result"
    }
   ],
   "source": [
    "age.keys()"
   ]
  },
  {
   "cell_type": "code",
   "execution_count": 12,
   "id": "318d4a8c",
   "metadata": {},
   "outputs": [
    {
     "name": "stdout",
     "output_type": "stream",
     "text": [
      "Rupal 29\n",
      "Shubh 32\n",
      "Riya 25\n",
      "Kushal 34\n"
     ]
    }
   ],
   "source": [
    "for name in age.keys():\n",
    "    print(name, age[name])"
   ]
  },
  {
   "cell_type": "code",
   "execution_count": 13,
   "id": "07106ca4",
   "metadata": {},
   "outputs": [
    {
     "name": "stdout",
     "output_type": "stream",
     "text": [
      "Rupal 29\n",
      "Shubh 32\n",
      "Riya 25\n",
      "Kushal 34\n"
     ]
    }
   ],
   "source": [
    "for name in age:\n",
    "    print(name, age[name])"
   ]
  },
  {
   "cell_type": "code",
   "execution_count": 14,
   "id": "6a86a869",
   "metadata": {},
   "outputs": [
    {
     "name": "stdout",
     "output_type": "stream",
     "text": [
      "Kushal 34\n",
      "Riya 25\n",
      "Rupal 29\n",
      "Shubh 32\n"
     ]
    }
   ],
   "source": [
    "for name in sorted(age.keys()):\n",
    "    print(name, age[name])"
   ]
  },
  {
   "cell_type": "code",
   "execution_count": 15,
   "id": "7670a097",
   "metadata": {},
   "outputs": [
    {
     "name": "stdout",
     "output_type": "stream",
     "text": [
      "Shubh 32\n",
      "Rupal 29\n",
      "Riya 25\n",
      "Kushal 34\n"
     ]
    }
   ],
   "source": [
    "for name in sorted(age.keys(), reverse = True):\n",
    "    print(name, age[name])"
   ]
  },
  {
   "cell_type": "code",
   "execution_count": 16,
   "id": "6e1a32b5",
   "metadata": {},
   "outputs": [],
   "source": [
    "bears = {\"Grizzly\":\"angry\", \"Brown\":\"friendly\", \"Polar\":\"friendly\"}"
   ]
  },
  {
   "cell_type": "code",
   "execution_count": 17,
   "id": "e965d396",
   "metadata": {},
   "outputs": [
    {
     "name": "stdout",
     "output_type": "stream",
     "text": [
      "odd\n",
      "Hello, Brown bear!\n",
      "Hello, Polar bear!\n"
     ]
    }
   ],
   "source": [
    "for bear in bears:\n",
    "    if bears[bear]==\"friendly\":\n",
    "        print(\"Hello, \"+bear+\" bear!\")\n",
    "    else:\n",
    "        print(\"odd\")"
   ]
  },
  {
   "cell_type": "code",
   "execution_count": 22,
   "id": "43138170",
   "metadata": {},
   "outputs": [
    {
     "name": "stdout",
     "output_type": "stream",
     "text": [
      "False\n"
     ]
    }
   ],
   "source": [
    "is_prime = True\n",
    "for i in range(2,n):\n",
    "    if n%i == 0:\n",
    "        is_prime = False\n",
    "print(is_prime)"
   ]
  },
  {
   "cell_type": "code",
   "execution_count": 23,
   "id": "275ffe78",
   "metadata": {},
   "outputs": [
    {
     "name": "stdout",
     "output_type": "stream",
     "text": [
      "7\n"
     ]
    }
   ],
   "source": [
    "n=100\n",
    "number_of_times = 0\n",
    "while n >= 1:\n",
    "    n //= 2 #0\n",
    "    number_of_times += 1\n",
    "print(number_of_times)"
   ]
  },
  {
   "cell_type": "code",
   "execution_count": 1,
   "id": "5c4807e1",
   "metadata": {},
   "outputs": [],
   "source": [
    "numbers = range(10)"
   ]
  },
  {
   "cell_type": "code",
   "execution_count": 2,
   "id": "547ebff3",
   "metadata": {},
   "outputs": [],
   "source": [
    "squares = []"
   ]
  },
  {
   "cell_type": "code",
   "execution_count": 3,
   "id": "3d14542c",
   "metadata": {},
   "outputs": [],
   "source": [
    "for number in numbers:\n",
    "    square = number**2\n",
    "    squares.append(square)"
   ]
  },
  {
   "cell_type": "code",
   "execution_count": 4,
   "id": "1ba95a1f",
   "metadata": {},
   "outputs": [
    {
     "data": {
      "text/plain": [
       "[0, 1, 4, 9, 16, 25, 36, 49, 64, 81]"
      ]
     },
     "execution_count": 4,
     "metadata": {},
     "output_type": "execute_result"
    }
   ],
   "source": [
    "squares"
   ]
  },
  {
   "cell_type": "code",
   "execution_count": 5,
   "id": "2b348e6d",
   "metadata": {},
   "outputs": [],
   "source": [
    "squares2 = [number**2 for number in numbers]"
   ]
  },
  {
   "cell_type": "code",
   "execution_count": 6,
   "id": "0d302077",
   "metadata": {},
   "outputs": [
    {
     "data": {
      "text/plain": [
       "[0, 1, 4, 9, 16, 25, 36, 49, 64, 81]"
      ]
     },
     "execution_count": 6,
     "metadata": {},
     "output_type": "execute_result"
    }
   ],
   "source": [
    "squares2"
   ]
  },
  {
   "cell_type": "code",
   "execution_count": 7,
   "id": "cf4bd44c",
   "metadata": {},
   "outputs": [
    {
     "data": {
      "text/plain": [
       "5"
      ]
     },
     "execution_count": 7,
     "metadata": {},
     "output_type": "execute_result"
    }
   ],
   "source": [
    "sum([i**2 for i in range(3)])"
   ]
  },
  {
   "cell_type": "code",
   "execution_count": 10,
   "id": "ce8b92c1",
   "metadata": {},
   "outputs": [
    {
     "data": {
      "text/plain": [
       "25"
      ]
     },
     "execution_count": 10,
     "metadata": {},
     "output_type": "execute_result"
    }
   ],
   "source": [
    "sum([i for i in range(10) if i%2!=0])"
   ]
  },
  {
   "cell_type": "code",
   "execution_count": 11,
   "id": "1146d0d2",
   "metadata": {},
   "outputs": [],
   "source": [
    "filename = \"input.txt\""
   ]
  },
  {
   "cell_type": "code",
   "execution_count": 19,
   "id": "cfc7e4a3",
   "metadata": {},
   "outputs": [
    {
     "name": "stdout",
     "output_type": "stream",
     "text": [
      "hi \n",
      "\n",
      "hello\n",
      "\n",
      "anubha\n"
     ]
    }
   ],
   "source": [
    "for line in open(filename):\n",
    "    print(line)"
   ]
  },
  {
   "cell_type": "code",
   "execution_count": 21,
   "id": "ebdb5f57",
   "metadata": {},
   "outputs": [
    {
     "name": "stdout",
     "output_type": "stream",
     "text": [
      "hi\n",
      "hello\n",
      "anubha\n"
     ]
    }
   ],
   "source": [
    "for line in open(filename):\n",
    "    line = line.rstrip()\n",
    "    print(line)\n",
    "    #rstrip() removes trailing character(characters at end of string)"
   ]
  },
  {
   "cell_type": "code",
   "execution_count": 22,
   "id": "17f8b7b5",
   "metadata": {},
   "outputs": [
    {
     "name": "stdout",
     "output_type": "stream",
     "text": [
      "['hi']\n",
      "['hello']\n",
      "['anubha']\n"
     ]
    }
   ],
   "source": [
    "for line in open(filename):\n",
    "    line = line.rstrip().split(\" \")\n",
    "    print(line)"
   ]
  },
  {
   "cell_type": "code",
   "execution_count": 16,
   "id": "8874939e",
   "metadata": {},
   "outputs": [],
   "source": [
    "F = open(\"output.txt\", \"w\")"
   ]
  },
  {
   "cell_type": "code",
   "execution_count": 17,
   "id": "b3ad3127",
   "metadata": {},
   "outputs": [
    {
     "data": {
      "text/plain": [
       "7"
      ]
     },
     "execution_count": 17,
     "metadata": {},
     "output_type": "execute_result"
    }
   ],
   "source": [
    "F.write(\"python\\n\")"
   ]
  },
  {
   "cell_type": "code",
   "execution_count": 18,
   "id": "39e4af7d",
   "metadata": {},
   "outputs": [],
   "source": [
    "F.close()"
   ]
  },
  {
   "cell_type": "code",
   "execution_count": 26,
   "id": "048ee9a9",
   "metadata": {},
   "outputs": [
    {
     "name": "stdout",
     "output_type": "stream",
     "text": [
      "['Hello', 'World']\n"
     ]
    }
   ],
   "source": [
    "F = open(\"input1.txt\", \"w\")\n",
    "F.write(\"Hello\\nWorld\")\n",
    "F.close()\n",
    "lines = []\n",
    "for line in open(\"input1.txt\"):\n",
    "    lines.append(line.strip())\n",
    "print(lines)"
   ]
  },
  {
   "cell_type": "code",
   "execution_count": 27,
   "id": "72aa9cfa",
   "metadata": {},
   "outputs": [],
   "source": [
    "def add(a, b):\n",
    "    mySum = a+b\n",
    "    return mySum"
   ]
  },
  {
   "cell_type": "code",
   "execution_count": 28,
   "id": "cc12692f",
   "metadata": {},
   "outputs": [
    {
     "data": {
      "text/plain": [
       "27"
      ]
     },
     "execution_count": 28,
     "metadata": {},
     "output_type": "execute_result"
    }
   ],
   "source": [
    "add(12, 15)"
   ]
  },
  {
   "cell_type": "code",
   "execution_count": 30,
   "id": "07825046",
   "metadata": {},
   "outputs": [],
   "source": [
    "def add_and_sub(a,b):\n",
    "    mysum = a + b\n",
    "    mydiff = a - b\n",
    "    return (mysum, mydiff)"
   ]
  },
  {
   "cell_type": "code",
   "execution_count": 31,
   "id": "75f3d08b",
   "metadata": {},
   "outputs": [
    {
     "data": {
      "text/plain": [
       "(35, 5)"
      ]
     },
     "execution_count": 31,
     "metadata": {},
     "output_type": "execute_result"
    }
   ],
   "source": [
    "add_and_sub(20, 15)"
   ]
  },
  {
   "cell_type": "code",
   "execution_count": 32,
   "id": "2c150e40",
   "metadata": {},
   "outputs": [
    {
     "data": {
      "text/plain": [
       "<function __main__.add(a, b)>"
      ]
     },
     "execution_count": 32,
     "metadata": {},
     "output_type": "execute_result"
    }
   ],
   "source": [
    "add"
   ]
  },
  {
   "cell_type": "code",
   "execution_count": 33,
   "id": "55cede74",
   "metadata": {},
   "outputs": [],
   "source": [
    "newadd = add"
   ]
  },
  {
   "cell_type": "code",
   "execution_count": 34,
   "id": "3e369ca8",
   "metadata": {},
   "outputs": [
    {
     "data": {
      "text/plain": [
       "5"
      ]
     },
     "execution_count": 34,
     "metadata": {},
     "output_type": "execute_result"
    }
   ],
   "source": [
    "add(2,3)"
   ]
  },
  {
   "cell_type": "code",
   "execution_count": 35,
   "id": "78d44618",
   "metadata": {},
   "outputs": [
    {
     "data": {
      "text/plain": [
       "5"
      ]
     },
     "execution_count": 35,
     "metadata": {},
     "output_type": "execute_result"
    }
   ],
   "source": [
    "newadd(2,3)"
   ]
  },
  {
   "cell_type": "code",
   "execution_count": 43,
   "id": "7d27072f",
   "metadata": {},
   "outputs": [],
   "source": [
    "def modify(mylist):\n",
    "    mylist[0] *= 10\n",
    "    return(mylist)"
   ]
  },
  {
   "cell_type": "code",
   "execution_count": 44,
   "id": "86a991d2",
   "metadata": {},
   "outputs": [],
   "source": [
    "L = [1,3,5,7,9]"
   ]
  },
  {
   "cell_type": "code",
   "execution_count": 45,
   "id": "c90ab3a4",
   "metadata": {},
   "outputs": [
    {
     "data": {
      "text/plain": [
       "[10, 3, 5, 7, 9]"
      ]
     },
     "execution_count": 45,
     "metadata": {},
     "output_type": "execute_result"
    }
   ],
   "source": [
    "modify(L) #called 3 times"
   ]
  },
  {
   "cell_type": "code",
   "execution_count": 42,
   "id": "871f1a02",
   "metadata": {},
   "outputs": [
    {
     "data": {
      "text/plain": [
       "[1000, 3, 5, 7, 9]"
      ]
     },
     "execution_count": 42,
     "metadata": {},
     "output_type": "execute_result"
    }
   ],
   "source": [
    "L"
   ]
  },
  {
   "cell_type": "code",
   "execution_count": 46,
   "id": "d8e24fb5",
   "metadata": {},
   "outputs": [
    {
     "data": {
      "text/plain": [
       "True"
      ]
     },
     "execution_count": 46,
     "metadata": {},
     "output_type": "execute_result"
    }
   ],
   "source": [
    "def modify(mylist):\n",
    "    mylist[0] *= 10\n",
    "    return(mylist)\n",
    "L = [1, 3, 5, 7, 9]\n",
    "M = modify(L)\n",
    "M is L"
   ]
  },
  {
   "cell_type": "code",
   "execution_count": 47,
   "id": "5c3be5a3",
   "metadata": {},
   "outputs": [
    {
     "data": {
      "text/plain": [
       "1379629429312"
      ]
     },
     "execution_count": 47,
     "metadata": {},
     "output_type": "execute_result"
    }
   ],
   "source": [
    "id(M)"
   ]
  },
  {
   "cell_type": "code",
   "execution_count": 48,
   "id": "28e8f987",
   "metadata": {},
   "outputs": [
    {
     "data": {
      "text/plain": [
       "1379629429312"
      ]
     },
     "execution_count": 48,
     "metadata": {},
     "output_type": "execute_result"
    }
   ],
   "source": [
    "id(L)"
   ]
  },
  {
   "cell_type": "code",
   "execution_count": 54,
   "id": "c6ad289a",
   "metadata": {},
   "outputs": [],
   "source": [
    "def intersect(s1, s2):\n",
    "    res = []\n",
    "    for x in s1:\n",
    "        if x in s2:\n",
    "            res.append(x)\n",
    "    return res"
   ]
  },
  {
   "cell_type": "code",
   "execution_count": 55,
   "id": "ed574701",
   "metadata": {},
   "outputs": [
    {
     "data": {
      "text/plain": [
       "[3, 4, 5]"
      ]
     },
     "execution_count": 55,
     "metadata": {},
     "output_type": "execute_result"
    }
   ],
   "source": [
    "intersect([1,2,3,4,5],[3,4,5,6,7])"
   ]
  },
  {
   "cell_type": "code",
   "execution_count": 4,
   "id": "343e016f",
   "metadata": {},
   "outputs": [],
   "source": [
    "import random"
   ]
  },
  {
   "cell_type": "code",
   "execution_count": 5,
   "id": "965beb6f",
   "metadata": {},
   "outputs": [
    {
     "data": {
      "text/plain": [
       "4"
      ]
     },
     "execution_count": 5,
     "metadata": {},
     "output_type": "execute_result"
    }
   ],
   "source": [
    "random.choice([1,2,3,4])"
   ]
  },
  {
   "cell_type": "code",
   "execution_count": 6,
   "id": "01b66422",
   "metadata": {},
   "outputs": [
    {
     "data": {
      "text/plain": [
       "2"
      ]
     },
     "execution_count": 6,
     "metadata": {},
     "output_type": "execute_result"
    }
   ],
   "source": [
    "random.choice([1,2,3,4])"
   ]
  },
  {
   "cell_type": "code",
   "execution_count": 7,
   "id": "29d421ed",
   "metadata": {},
   "outputs": [
    {
     "data": {
      "text/plain": [
       "'d'"
      ]
     },
     "execution_count": 7,
     "metadata": {},
     "output_type": "execute_result"
    }
   ],
   "source": [
    "random.choice(\"abdjgsifh\")"
   ]
  },
  {
   "cell_type": "code",
   "execution_count": 8,
   "id": "6105f084",
   "metadata": {},
   "outputs": [
    {
     "data": {
      "text/plain": [
       "'h'"
      ]
     },
     "execution_count": 8,
     "metadata": {},
     "output_type": "execute_result"
    }
   ],
   "source": [
    "random.choice(\"abdjgsifh\")"
   ]
  },
  {
   "cell_type": "code",
   "execution_count": 9,
   "id": "f69664b0",
   "metadata": {},
   "outputs": [],
   "source": [
    "def password(length):\n",
    "    pw = str()\n",
    "    characters = \"abcdefghijklmnopqrstuvwxyz!@#$%^&*1234567890\"\n",
    "    for i in range(length):\n",
    "        pw = pw + random.choice(characters)\n",
    "    return pw"
   ]
  },
  {
   "cell_type": "code",
   "execution_count": 10,
   "id": "b01d1462",
   "metadata": {},
   "outputs": [
    {
     "data": {
      "text/plain": [
       "'jsz%k'"
      ]
     },
     "execution_count": 10,
     "metadata": {},
     "output_type": "execute_result"
    }
   ],
   "source": [
    "password(5)"
   ]
  },
  {
   "cell_type": "code",
   "execution_count": 11,
   "id": "bb14049b",
   "metadata": {},
   "outputs": [
    {
     "data": {
      "text/plain": [
       "'uxw18v&5tz'"
      ]
     },
     "execution_count": 11,
     "metadata": {},
     "output_type": "execute_result"
    }
   ],
   "source": [
    "password(10)"
   ]
  },
  {
   "cell_type": "code",
   "execution_count": 12,
   "id": "396f7982",
   "metadata": {},
   "outputs": [
    {
     "data": {
      "text/plain": [
       "'4z!@9#4'"
      ]
     },
     "execution_count": 12,
     "metadata": {},
     "output_type": "execute_result"
    }
   ],
   "source": [
    "password(7)"
   ]
  },
  {
   "cell_type": "code",
   "execution_count": 77,
   "id": "50cf4d88",
   "metadata": {},
   "outputs": [
    {
     "data": {
      "text/plain": [
       "[3]"
      ]
     },
     "execution_count": 77,
     "metadata": {},
     "output_type": "execute_result"
    }
   ],
   "source": [
    "intersect([1,2,3], [3,4,5,6,7])"
   ]
  },
  {
   "cell_type": "code",
   "execution_count": 80,
   "id": "dc0e30b8",
   "metadata": {},
   "outputs": [],
   "source": [
    "def is_vowel(letter):\n",
    "    if letter in \"aeiou\":\n",
    "        return(True)\n",
    "    else:\n",
    "        return(False)"
   ]
  },
  {
   "cell_type": "code",
   "execution_count": 81,
   "id": "a1c3baee",
   "metadata": {},
   "outputs": [
    {
     "data": {
      "text/plain": [
       "True"
      ]
     },
     "execution_count": 81,
     "metadata": {},
     "output_type": "execute_result"
    }
   ],
   "source": [
    "is_vowel(\"a\")"
   ]
  },
  {
   "cell_type": "code",
   "execution_count": 82,
   "id": "282b8fc6",
   "metadata": {},
   "outputs": [
    {
     "ename": "TypeError",
     "evalue": "'in <string>' requires string as left operand, not int",
     "output_type": "error",
     "traceback": [
      "\u001b[1;31m---------------------------------------------------------------------------\u001b[0m",
      "\u001b[1;31mTypeError\u001b[0m                                 Traceback (most recent call last)",
      "\u001b[1;32m~\\AppData\\Local\\Temp/ipykernel_16768/2419700041.py\u001b[0m in \u001b[0;36m<module>\u001b[1;34m\u001b[0m\n\u001b[1;32m----> 1\u001b[1;33m \u001b[0mis_vowel\u001b[0m\u001b[1;33m(\u001b[0m\u001b[1;36m4\u001b[0m\u001b[1;33m)\u001b[0m\u001b[1;33m\u001b[0m\u001b[1;33m\u001b[0m\u001b[0m\n\u001b[0m",
      "\u001b[1;32m~\\AppData\\Local\\Temp/ipykernel_16768/3009406947.py\u001b[0m in \u001b[0;36mis_vowel\u001b[1;34m(letter)\u001b[0m\n\u001b[0;32m      1\u001b[0m \u001b[1;32mdef\u001b[0m \u001b[0mis_vowel\u001b[0m\u001b[1;33m(\u001b[0m\u001b[0mletter\u001b[0m\u001b[1;33m)\u001b[0m\u001b[1;33m:\u001b[0m\u001b[1;33m\u001b[0m\u001b[1;33m\u001b[0m\u001b[0m\n\u001b[1;32m----> 2\u001b[1;33m     \u001b[1;32mif\u001b[0m \u001b[0mletter\u001b[0m \u001b[1;32min\u001b[0m \u001b[1;34m\"aeiou\"\u001b[0m\u001b[1;33m:\u001b[0m\u001b[1;33m\u001b[0m\u001b[1;33m\u001b[0m\u001b[0m\n\u001b[0m\u001b[0;32m      3\u001b[0m         \u001b[1;32mreturn\u001b[0m\u001b[1;33m(\u001b[0m\u001b[1;32mTrue\u001b[0m\u001b[1;33m)\u001b[0m\u001b[1;33m\u001b[0m\u001b[1;33m\u001b[0m\u001b[0m\n\u001b[0;32m      4\u001b[0m     \u001b[1;32melse\u001b[0m\u001b[1;33m:\u001b[0m\u001b[1;33m\u001b[0m\u001b[1;33m\u001b[0m\u001b[0m\n\u001b[0;32m      5\u001b[0m         \u001b[1;32mreturn\u001b[0m\u001b[1;33m(\u001b[0m\u001b[1;32mFalse\u001b[0m\u001b[1;33m)\u001b[0m\u001b[1;33m\u001b[0m\u001b[1;33m\u001b[0m\u001b[0m\n",
      "\u001b[1;31mTypeError\u001b[0m: 'in <string>' requires string as left operand, not int"
     ]
    }
   ],
   "source": [
    "is_vowel(4)"
   ]
  },
  {
   "cell_type": "code",
   "execution_count": 83,
   "id": "3dbe0bef",
   "metadata": {},
   "outputs": [],
   "source": [
    "def is_vowel(letter):\n",
    "    if type(letter) == int:\n",
    "        letter = str(letter)\n",
    "    if letter in \"aeiouy\":\n",
    "        return(True)\n",
    "    else:\n",
    "        return(False)"
   ]
  },
  {
   "cell_type": "code",
   "execution_count": 84,
   "id": "082a1dd9",
   "metadata": {},
   "outputs": [
    {
     "data": {
      "text/plain": [
       "False"
      ]
     },
     "execution_count": 84,
     "metadata": {},
     "output_type": "execute_result"
    }
   ],
   "source": [
    "is_vowel(4)"
   ]
  },
  {
   "cell_type": "code",
   "execution_count": 85,
   "id": "9030ecf4",
   "metadata": {},
   "outputs": [],
   "source": [
    "def factorial(n):\n",
    "    if n == 0:\n",
    "        return 1\n",
    "    else:\n",
    "        N = 1\n",
    "        for i in range(1, n+1):\n",
    "            N=N*i\n",
    "        return(N)"
   ]
  },
  {
   "cell_type": "code",
   "execution_count": 86,
   "id": "83f85229",
   "metadata": {},
   "outputs": [
    {
     "data": {
      "text/plain": [
       "120"
      ]
     },
     "execution_count": 86,
     "metadata": {},
     "output_type": "execute_result"
    }
   ],
   "source": [
    "factorial(5)"
   ]
  },
  {
   "cell_type": "code",
   "execution_count": 1,
   "id": "7d4bae89",
   "metadata": {},
   "outputs": [],
   "source": [
    "import string\n",
    "alphabet = string.ascii_letters"
   ]
  },
  {
   "cell_type": "code",
   "execution_count": 2,
   "id": "f2e13619",
   "metadata": {},
   "outputs": [
    {
     "data": {
      "text/plain": [
       "'abcdefghijklmnopqrstuvwxyzABCDEFGHIJKLMNOPQRSTUVWXYZ'"
      ]
     },
     "execution_count": 2,
     "metadata": {},
     "output_type": "execute_result"
    }
   ],
   "source": [
    "alphabet"
   ]
  },
  {
   "cell_type": "code",
   "execution_count": 3,
   "id": "eb878a12",
   "metadata": {},
   "outputs": [],
   "source": [
    "sentence = 'Jim quickly realized that the beautiful gowns are expensive'"
   ]
  },
  {
   "cell_type": "code",
   "execution_count": 23,
   "id": "0ced394c",
   "metadata": {},
   "outputs": [],
   "source": [
    "count_letters = {}\n",
    "for letter in sentence:\n",
    "    if letter in alphabet:\n",
    "        if letter in count_letters:\n",
    "            count_letters[letter] +=1\n",
    "        else:\n",
    "            count_letters[letter] = 1"
   ]
  },
  {
   "cell_type": "code",
   "execution_count": 24,
   "id": "55a84ebf",
   "metadata": {},
   "outputs": [
    {
     "name": "stdout",
     "output_type": "stream",
     "text": [
      "{'J': 1, 'i': 5, 'm': 1, 'q': 1, 'u': 3, 'c': 1, 'k': 1, 'l': 3, 'y': 1, 'r': 2, 'e': 8, 'a': 4, 'z': 1, 'd': 1, 't': 4, 'h': 2, 'b': 1, 'f': 1, 'g': 1, 'o': 1, 'w': 1, 'n': 2, 's': 2, 'x': 1, 'p': 1, 'v': 1}\n"
     ]
    }
   ],
   "source": [
    "print(count_letters)"
   ]
  },
  {
   "cell_type": "code",
   "execution_count": 25,
   "id": "4012354e",
   "metadata": {},
   "outputs": [],
   "source": [
    "def counter(input_string):\n",
    "    count_letters = {}\n",
    "    for letter in input_string:\n",
    "        if letter in alphabet:\n",
    "            if letter in count_letters:\n",
    "                count_letters[letter]+=1\n",
    "            else:\n",
    "                count_letters[letter]=1\n",
    "    return count_letters"
   ]
  },
  {
   "cell_type": "code",
   "execution_count": 26,
   "id": "d1272677",
   "metadata": {},
   "outputs": [
    {
     "data": {
      "text/plain": [
       "{'J': 1,\n",
       " 'i': 5,\n",
       " 'm': 1,\n",
       " 'q': 1,\n",
       " 'u': 3,\n",
       " 'c': 1,\n",
       " 'k': 1,\n",
       " 'l': 3,\n",
       " 'y': 1,\n",
       " 'r': 2,\n",
       " 'e': 8,\n",
       " 'a': 4,\n",
       " 'z': 1,\n",
       " 'd': 1,\n",
       " 't': 4,\n",
       " 'h': 2,\n",
       " 'b': 1,\n",
       " 'f': 1,\n",
       " 'g': 1,\n",
       " 'o': 1,\n",
       " 'w': 1,\n",
       " 'n': 2,\n",
       " 's': 2,\n",
       " 'x': 1,\n",
       " 'p': 1,\n",
       " 'v': 1}"
      ]
     },
     "execution_count": 26,
     "metadata": {},
     "output_type": "execute_result"
    }
   ],
   "source": [
    "counter(sentence)"
   ]
  },
  {
   "cell_type": "code",
   "execution_count": 30,
   "id": "b7817c4c",
   "metadata": {},
   "outputs": [],
   "source": [
    "address = \"Four score and seven years ago our fathers brought forth on this continent, a new nation, conceived in Liberty, and dedicated to the proposition that all men are created equal. Now we are engaged in a great civil war, testing whether that nation, or any nation so conceived and so dedicated, can long endure. We are met on a great battle-field of that war. We have come to dedicate a portion of that field, as a final resting place for those who here gave their lives that that nation might live. It is altogether fitting and proper that we should do this. But, in a larger sense, we can not dedicate -- we can not consecrate -- we can not hallow -- this ground. The brave men, living and dead, who struggled here, have consecrated it, far above our poor power to add or detract. The world will little note, nor long remember what we say here, but it can never forget what they did here. It is for us the living, rather, to be dedicated here to the unfinished work which they who fought here have thus far so nobly advanced. It is rather for us to be here dedicated to the great task remaining before us -- that from these honored dead we take increased devotion to that cause for which they gave the last full measure of devotion -- that we here highly resolve that these dead shall not have died in vain -- that this nation, under God, shall have a new birth of freedom -- and that government of the people, by the people, for the people, shall not perish from the earth.\"\n",
    "def counter(input_string):\n",
    "    count_letters = {}\n",
    "    for letter in input_string:\n",
    "        if letter in alphabet:\n",
    "            if letter in count_letters:\n",
    "                count_letters[letter]+=1\n",
    "            else:\n",
    "                count_letters[letter]=1\n",
    "    return count_letters"
   ]
  },
  {
   "cell_type": "code",
   "execution_count": 31,
   "id": "9c580139",
   "metadata": {},
   "outputs": [],
   "source": [
    "address_count = counter(address)"
   ]
  },
  {
   "cell_type": "code",
   "execution_count": 32,
   "id": "4adf5fbf",
   "metadata": {},
   "outputs": [
    {
     "data": {
      "text/plain": [
       "{'F': 1,\n",
       " 'o': 93,\n",
       " 'u': 21,\n",
       " 'r': 79,\n",
       " 's': 44,\n",
       " 'c': 31,\n",
       " 'e': 165,\n",
       " 'a': 102,\n",
       " 'n': 76,\n",
       " 'd': 58,\n",
       " 'v': 24,\n",
       " 'y': 10,\n",
       " 'g': 27,\n",
       " 'f': 26,\n",
       " 't': 124,\n",
       " 'h': 80,\n",
       " 'b': 13,\n",
       " 'i': 65,\n",
       " 'w': 26,\n",
       " 'L': 1,\n",
       " 'p': 15,\n",
       " 'l': 41,\n",
       " 'm': 13,\n",
       " 'q': 1,\n",
       " 'N': 1,\n",
       " 'W': 2,\n",
       " 'I': 3,\n",
       " 'B': 1,\n",
       " 'T': 2,\n",
       " 'k': 3,\n",
       " 'G': 1}"
      ]
     },
     "execution_count": 32,
     "metadata": {},
     "output_type": "execute_result"
    }
   ],
   "source": [
    "address_count"
   ]
  },
  {
   "cell_type": "code",
   "execution_count": 37,
   "id": "9c090a94",
   "metadata": {},
   "outputs": [
    {
     "name": "stdout",
     "output_type": "stream",
     "text": [
      "e\n"
     ]
    }
   ],
   "source": [
    "maximum = 0\n",
    "for letter in address_count:\n",
    "    if address_count[letter] > maximum:\n",
    "        maximum = address_count[letter]\n",
    "        most_freq_letter = letter\n",
    "    \n",
    "print(most_freq_letter)"
   ]
  },
  {
   "cell_type": "code",
   "execution_count": 48,
   "id": "7f3657b9",
   "metadata": {},
   "outputs": [
    {
     "data": {
      "text/plain": [
       "-0.7312715117751976"
      ]
     },
     "execution_count": 48,
     "metadata": {},
     "output_type": "execute_result"
    }
   ],
   "source": [
    "import random\n",
    "\n",
    "random.seed(1) # Fixes the see of the random number generator.\n",
    "\n",
    "def rand():\n",
    "    return random.uniform(-1,1)\n",
    "\n",
    "rand()"
   ]
  },
  {
   "cell_type": "code",
   "execution_count": 49,
   "id": "20758446",
   "metadata": {},
   "outputs": [],
   "source": [
    "import math\n",
    "def distance(x, y):\n",
    "    root = math.sqrt(((y[0]-x[0])**2) + ((y[1]-x[1])**2))\n",
    "    return root       "
   ]
  },
  {
   "cell_type": "code",
   "execution_count": 50,
   "id": "7f73a9fa",
   "metadata": {},
   "outputs": [
    {
     "data": {
      "text/plain": [
       "1.4142135623730951"
      ]
     },
     "execution_count": 50,
     "metadata": {},
     "output_type": "execute_result"
    }
   ],
   "source": [
    "distance((0,0),(1,1))"
   ]
  },
  {
   "cell_type": "code",
   "execution_count": 51,
   "id": "99e16e44",
   "metadata": {},
   "outputs": [],
   "source": [
    "def in_circle(x, origin = [0,0]):\n",
    "    if (distance(x, origin)<1):\n",
    "        return True\n",
    "    else:\n",
    "        return False"
   ]
  },
  {
   "cell_type": "code",
   "execution_count": 52,
   "id": "6e12bab5",
   "metadata": {},
   "outputs": [
    {
     "data": {
      "text/plain": [
       "False"
      ]
     },
     "execution_count": 52,
     "metadata": {},
     "output_type": "execute_result"
    }
   ],
   "source": [
    "in_circle((1,1), (0,0))"
   ]
  },
  {
   "cell_type": "code",
   "execution_count": 53,
   "id": "02bb0e7c",
   "metadata": {},
   "outputs": [
    {
     "name": "stdout",
     "output_type": "stream",
     "text": [
      "0.7792\n"
     ]
    }
   ],
   "source": [
    "import random\n",
    "R = 10000\n",
    "x = []\n",
    "inside = []\n",
    "for i in range(R):\n",
    "    point = [rand(), rand()]\n",
    "    x.append(point)\n",
    "    inside.append(in_circle(point))\n",
    "    \n",
    "print(sum(inside)/R)"
   ]
  },
  {
   "cell_type": "code",
   "execution_count": 112,
   "id": "839c4e67",
   "metadata": {},
   "outputs": [
    {
     "name": "stdout",
     "output_type": "stream",
     "text": [
      "0.6962016260956045\n"
     ]
    }
   ],
   "source": [
    "import random\n",
    "\n",
    "random.seed(1) \n",
    "    \n",
    "R=1000\n",
    "x = [random.random() for i in range(R)]\n",
    "Y = [x] + [moving_window_average(x, i) for i in range(1, 10)]\n",
    "print (Y[5][9])"
   ]
  }
 ],
 "metadata": {
  "kernelspec": {
   "display_name": "Python 3 (ipykernel)",
   "language": "python",
   "name": "python3"
  },
  "language_info": {
   "codemirror_mode": {
    "name": "ipython",
    "version": 3
   },
   "file_extension": ".py",
   "mimetype": "text/x-python",
   "name": "python",
   "nbconvert_exporter": "python",
   "pygments_lexer": "ipython3",
   "version": "3.9.7"
  }
 },
 "nbformat": 4,
 "nbformat_minor": 5
}
