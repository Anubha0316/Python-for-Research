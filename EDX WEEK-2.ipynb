{
 "cells": [
  {
   "cell_type": "markdown",
   "id": "eb891269",
   "metadata": {},
   "source": [
    "# ROUGH-RELATED TO CLASSES AND OBJECTS"
   ]
  },
  {
   "cell_type": "code",
   "execution_count": 14,
   "id": "0940a6be",
   "metadata": {},
   "outputs": [
    {
     "name": "stdout",
     "output_type": "stream",
     "text": [
      "Hello John The age entered by you is  36\n",
      "Hello John The age entered by you is  40\n"
     ]
    }
   ],
   "source": [
    "class person:\n",
    "    def __init__(self,name,age):\n",
    "        self.name=name\n",
    "        self.age=age\n",
    "        \n",
    "    def myfunc(self):\n",
    "        print(\"Hello \"+self.name+\" The age entered by you is \", self.age)\n",
    "        \n",
    "        \n",
    "p1=person(\"John\",36)\n",
    "p1.myfunc()\n",
    "p1.age=40\n",
    "p1.myfunc()\n",
    "del p1.age\n",
    "del p1"
   ]
  },
  {
   "cell_type": "code",
   "execution_count": 15,
   "id": "13bc0749",
   "metadata": {},
   "outputs": [
    {
     "name": "stdout",
     "output_type": "stream",
     "text": [
      "John Abraham\n"
     ]
    }
   ],
   "source": [
    "class persone:\n",
    "    def __init__(self, fname, lname):\n",
    "        self.firstname=fname\n",
    "        self.lastname=lname\n",
    "    def printname(self):\n",
    "        print(self.firstname, self.lastname)\n",
    "        \n",
    "p1=persone(\"John\", \"Abraham\")\n",
    "p1.printname()"
   ]
  },
  {
   "cell_type": "code",
   "execution_count": 16,
   "id": "8ccc9702",
   "metadata": {},
   "outputs": [],
   "source": [
    "class student(persone):\n",
    "    pass"
   ]
  },
  {
   "cell_type": "code",
   "execution_count": 17,
   "id": "07562275",
   "metadata": {},
   "outputs": [
    {
     "name": "stdout",
     "output_type": "stream",
     "text": [
      "Mike Tyson\n"
     ]
    }
   ],
   "source": [
    "stud=student(\"Mike\",\"Tyson\")\n",
    "stud.printname()"
   ]
  },
  {
   "cell_type": "markdown",
   "id": "babee3bb",
   "metadata": {},
   "source": [
    "# WEEK-2 PART-1 "
   ]
  },
  {
   "cell_type": "code",
   "execution_count": 1,
   "id": "aee675e2",
   "metadata": {},
   "outputs": [
    {
     "name": "stdout",
     "output_type": "stream",
     "text": [
      "main:  1 [0, 1, 2, 3]\n",
      "update:  2 [0, 1, 2, 3, 4]\n",
      "main:  1 [0, 1, 2, 3, 4]\n"
     ]
    }
   ],
   "source": [
    "def update(n,x):\n",
    "    n=2\n",
    "    x.append(4)\n",
    "    print(\"update: \",n,x)\n",
    "    \n",
    "def main():\n",
    "    n=1\n",
    "    x=[0,1,2,3]\n",
    "    print(\"main: \",n,x)\n",
    "    update(n,x)\n",
    "    print(\"main: \",n,x)\n",
    "    \n",
    "main()"
   ]
  },
  {
   "cell_type": "code",
   "execution_count": 2,
   "id": "96b462f5",
   "metadata": {},
   "outputs": [
    {
     "name": "stdout",
     "output_type": "stream",
     "text": [
      "2\n",
      "1\n"
     ]
    }
   ],
   "source": [
    "def increment(n):\n",
    "    n+=1\n",
    "    print(n)\n",
    "    \n",
    "n=1\n",
    "increment(n)\n",
    "print(n)"
   ]
  },
  {
   "cell_type": "code",
   "execution_count": 9,
   "id": "5a9e05cc",
   "metadata": {},
   "outputs": [
    {
     "name": "stdout",
     "output_type": "stream",
     "text": [
      "10\n"
     ]
    }
   ],
   "source": [
    "def increment(n):\n",
    "    n+=1\n",
    "    return n\n",
    "    \n",
    "n=1\n",
    "while (n<10):\n",
    "    n=increment(n)\n",
    "    \n",
    "print(n)"
   ]
  },
  {
   "cell_type": "code",
   "execution_count": 10,
   "id": "387bc20d",
   "metadata": {},
   "outputs": [],
   "source": [
    "ml=[5,9,3,6,8,11,4,3]"
   ]
  },
  {
   "cell_type": "code",
   "execution_count": 11,
   "id": "263d7d84",
   "metadata": {},
   "outputs": [],
   "source": [
    "ml.sort()"
   ]
  },
  {
   "cell_type": "code",
   "execution_count": 12,
   "id": "b2ac4913",
   "metadata": {},
   "outputs": [
    {
     "data": {
      "text/plain": [
       "[3, 3, 4, 5, 6, 8, 9, 11]"
      ]
     },
     "execution_count": 12,
     "metadata": {},
     "output_type": "execute_result"
    }
   ],
   "source": [
    "ml"
   ]
  },
  {
   "cell_type": "code",
   "execution_count": 13,
   "id": "486d177b",
   "metadata": {},
   "outputs": [],
   "source": [
    "x = [5,2,9,11,10,2,7]"
   ]
  },
  {
   "cell_type": "code",
   "execution_count": 14,
   "id": "c16e0946",
   "metadata": {},
   "outputs": [
    {
     "data": {
      "text/plain": [
       "2"
      ]
     },
     "execution_count": 14,
     "metadata": {},
     "output_type": "execute_result"
    }
   ],
   "source": [
    "min(x)"
   ]
  },
  {
   "cell_type": "code",
   "execution_count": 15,
   "id": "f698a139",
   "metadata": {},
   "outputs": [
    {
     "data": {
      "text/plain": [
       "11"
      ]
     },
     "execution_count": 15,
     "metadata": {},
     "output_type": "execute_result"
    }
   ],
   "source": [
    "max(x)"
   ]
  },
  {
   "cell_type": "code",
   "execution_count": 16,
   "id": "d903e2b9",
   "metadata": {},
   "outputs": [],
   "source": [
    "x.remove(10)"
   ]
  },
  {
   "cell_type": "code",
   "execution_count": 17,
   "id": "5edd8fd4",
   "metadata": {},
   "outputs": [
    {
     "data": {
      "text/plain": [
       "[5, 2, 9, 11, 2, 7]"
      ]
     },
     "execution_count": 17,
     "metadata": {},
     "output_type": "execute_result"
    }
   ],
   "source": [
    "x"
   ]
  },
  {
   "cell_type": "code",
   "execution_count": 18,
   "id": "0c6e5154",
   "metadata": {},
   "outputs": [],
   "source": [
    "class MyList(list):\n",
    "    def remove_min(self):  #instance methods, name of class instance is self\n",
    "        self.remove(min(self))\n",
    "    def remove_max(self):\n",
    "        self.remove(max(self))"
   ]
  },
  {
   "cell_type": "code",
   "execution_count": 19,
   "id": "c702ee49",
   "metadata": {},
   "outputs": [],
   "source": [
    "x=[10,3,5,1,2,7,6,4,8]"
   ]
  },
  {
   "cell_type": "code",
   "execution_count": 21,
   "id": "743c240e",
   "metadata": {},
   "outputs": [],
   "source": [
    "y=MyList(x)"
   ]
  },
  {
   "cell_type": "code",
   "execution_count": 22,
   "id": "cfb677a8",
   "metadata": {},
   "outputs": [
    {
     "data": {
      "text/plain": [
       "['__add__',\n",
       " '__class__',\n",
       " '__class_getitem__',\n",
       " '__contains__',\n",
       " '__delattr__',\n",
       " '__delitem__',\n",
       " '__dir__',\n",
       " '__doc__',\n",
       " '__eq__',\n",
       " '__format__',\n",
       " '__ge__',\n",
       " '__getattribute__',\n",
       " '__getitem__',\n",
       " '__gt__',\n",
       " '__hash__',\n",
       " '__iadd__',\n",
       " '__imul__',\n",
       " '__init__',\n",
       " '__init_subclass__',\n",
       " '__iter__',\n",
       " '__le__',\n",
       " '__len__',\n",
       " '__lt__',\n",
       " '__mul__',\n",
       " '__ne__',\n",
       " '__new__',\n",
       " '__reduce__',\n",
       " '__reduce_ex__',\n",
       " '__repr__',\n",
       " '__reversed__',\n",
       " '__rmul__',\n",
       " '__setattr__',\n",
       " '__setitem__',\n",
       " '__sizeof__',\n",
       " '__str__',\n",
       " '__subclasshook__',\n",
       " 'append',\n",
       " 'clear',\n",
       " 'copy',\n",
       " 'count',\n",
       " 'extend',\n",
       " 'index',\n",
       " 'insert',\n",
       " 'pop',\n",
       " 'remove',\n",
       " 'reverse',\n",
       " 'sort']"
      ]
     },
     "execution_count": 22,
     "metadata": {},
     "output_type": "execute_result"
    }
   ],
   "source": [
    "dir(x)"
   ]
  },
  {
   "cell_type": "code",
   "execution_count": 23,
   "id": "5c5f8336",
   "metadata": {},
   "outputs": [
    {
     "data": {
      "text/plain": [
       "['__add__',\n",
       " '__class__',\n",
       " '__class_getitem__',\n",
       " '__contains__',\n",
       " '__delattr__',\n",
       " '__delitem__',\n",
       " '__dict__',\n",
       " '__dir__',\n",
       " '__doc__',\n",
       " '__eq__',\n",
       " '__format__',\n",
       " '__ge__',\n",
       " '__getattribute__',\n",
       " '__getitem__',\n",
       " '__gt__',\n",
       " '__hash__',\n",
       " '__iadd__',\n",
       " '__imul__',\n",
       " '__init__',\n",
       " '__init_subclass__',\n",
       " '__iter__',\n",
       " '__le__',\n",
       " '__len__',\n",
       " '__lt__',\n",
       " '__module__',\n",
       " '__mul__',\n",
       " '__ne__',\n",
       " '__new__',\n",
       " '__reduce__',\n",
       " '__reduce_ex__',\n",
       " '__repr__',\n",
       " '__reversed__',\n",
       " '__rmul__',\n",
       " '__setattr__',\n",
       " '__setitem__',\n",
       " '__sizeof__',\n",
       " '__str__',\n",
       " '__subclasshook__',\n",
       " '__weakref__',\n",
       " 'append',\n",
       " 'clear',\n",
       " 'copy',\n",
       " 'count',\n",
       " 'extend',\n",
       " 'index',\n",
       " 'insert',\n",
       " 'pop',\n",
       " 'remove',\n",
       " 'remove_max',\n",
       " 'remove_min',\n",
       " 'reverse',\n",
       " 'sort']"
      ]
     },
     "execution_count": 23,
     "metadata": {},
     "output_type": "execute_result"
    }
   ],
   "source": [
    "dir(y)"
   ]
  },
  {
   "cell_type": "code",
   "execution_count": 24,
   "id": "14d187a2",
   "metadata": {},
   "outputs": [],
   "source": [
    "y.remove_min()"
   ]
  },
  {
   "cell_type": "code",
   "execution_count": 25,
   "id": "fdbeb524",
   "metadata": {},
   "outputs": [
    {
     "data": {
      "text/plain": [
       "[10, 3, 5, 2, 7, 6, 4, 8]"
      ]
     },
     "execution_count": 25,
     "metadata": {},
     "output_type": "execute_result"
    }
   ],
   "source": [
    "y"
   ]
  },
  {
   "cell_type": "code",
   "execution_count": 26,
   "id": "e1522e57",
   "metadata": {},
   "outputs": [],
   "source": [
    "y.remove_max()"
   ]
  },
  {
   "cell_type": "code",
   "execution_count": 27,
   "id": "93043a0d",
   "metadata": {},
   "outputs": [
    {
     "data": {
      "text/plain": [
       "[3, 5, 2, 7, 6, 4, 8]"
      ]
     },
     "execution_count": 27,
     "metadata": {},
     "output_type": "execute_result"
    }
   ],
   "source": [
    "y"
   ]
  },
  {
   "cell_type": "code",
   "execution_count": null,
   "id": "721ec942",
   "metadata": {},
   "outputs": [],
   "source": [
    "class NewList(list):\n",
    "    def remove_max(self):\n",
    "        self.remove(max(self))\n",
    "    def append_sum(self):\n",
    "        self.append(sum(self))\n",
    "\n",
    "x = NewList([1,2,3])\n",
    "while max(x) < 10:\n",
    "    x.remove_max()\n",
    "    x.append_sum()\n",
    "\n",
    "print(x)"
   ]
  },
  {
   "cell_type": "markdown",
   "id": "604e9807",
   "metadata": {},
   "source": [
    "# WEEK-2 PART-2"
   ]
  },
  {
   "cell_type": "code",
   "execution_count": 2,
   "id": "019c1855",
   "metadata": {},
   "outputs": [],
   "source": [
    "import numpy as np"
   ]
  },
  {
   "cell_type": "code",
   "execution_count": 3,
   "id": "5291d938",
   "metadata": {},
   "outputs": [],
   "source": [
    "zero_vector=np.zeros(5)\n",
    "#to create a vector with 1 as its values then we use np.ones() and similarly to create an empty vector we use np.empty()"
   ]
  },
  {
   "cell_type": "code",
   "execution_count": 4,
   "id": "58f5b120",
   "metadata": {},
   "outputs": [],
   "source": [
    "zero_matrix=np.zeros((5,3))\n",
    "#to create a matrix with 1 as its values then we use np.ones() and similarly to create an empty matrix we use np.empty()"
   ]
  },
  {
   "cell_type": "code",
   "execution_count": 5,
   "id": "103df2c1",
   "metadata": {},
   "outputs": [
    {
     "data": {
      "text/plain": [
       "array([0., 0., 0., 0., 0.])"
      ]
     },
     "execution_count": 5,
     "metadata": {},
     "output_type": "execute_result"
    }
   ],
   "source": [
    "zero_vector"
   ]
  },
  {
   "cell_type": "code",
   "execution_count": 6,
   "id": "e4f84ead",
   "metadata": {},
   "outputs": [
    {
     "data": {
      "text/plain": [
       "array([[0., 0., 0.],\n",
       "       [0., 0., 0.],\n",
       "       [0., 0., 0.],\n",
       "       [0., 0., 0.],\n",
       "       [0., 0., 0.]])"
      ]
     },
     "execution_count": 6,
     "metadata": {},
     "output_type": "execute_result"
    }
   ],
   "source": [
    "zero_matrix"
   ]
  },
  {
   "cell_type": "code",
   "execution_count": 7,
   "id": "e28bbd29",
   "metadata": {},
   "outputs": [],
   "source": [
    "x = np.array([1,2,3])"
   ]
  },
  {
   "cell_type": "code",
   "execution_count": 8,
   "id": "8bb22ff7",
   "metadata": {},
   "outputs": [],
   "source": [
    "y = np.array([2,4,6])"
   ]
  },
  {
   "cell_type": "code",
   "execution_count": 9,
   "id": "2c76e4da",
   "metadata": {},
   "outputs": [
    {
     "data": {
      "text/plain": [
       "array([1, 2, 3])"
      ]
     },
     "execution_count": 9,
     "metadata": {},
     "output_type": "execute_result"
    }
   ],
   "source": [
    "x"
   ]
  },
  {
   "cell_type": "code",
   "execution_count": 10,
   "id": "09bedce4",
   "metadata": {},
   "outputs": [
    {
     "data": {
      "text/plain": [
       "array([2, 4, 6])"
      ]
     },
     "execution_count": 10,
     "metadata": {},
     "output_type": "execute_result"
    }
   ],
   "source": [
    "y"
   ]
  },
  {
   "cell_type": "code",
   "execution_count": 11,
   "id": "95611706",
   "metadata": {},
   "outputs": [],
   "source": [
    "arr = np.array([[1,2],[3,4]])"
   ]
  },
  {
   "cell_type": "code",
   "execution_count": 12,
   "id": "a8880ce7",
   "metadata": {},
   "outputs": [
    {
     "data": {
      "text/plain": [
       "array([[1, 2],\n",
       "       [3, 4]])"
      ]
     },
     "execution_count": 12,
     "metadata": {},
     "output_type": "execute_result"
    }
   ],
   "source": [
    "arr"
   ]
  },
  {
   "cell_type": "code",
   "execution_count": 13,
   "id": "a466f938",
   "metadata": {},
   "outputs": [
    {
     "data": {
      "text/plain": [
       "array([[1, 3],\n",
       "       [2, 4]])"
      ]
     },
     "execution_count": 13,
     "metadata": {},
     "output_type": "execute_result"
    }
   ],
   "source": [
    "arr.transpose()"
   ]
  },
  {
   "cell_type": "code",
   "execution_count": 14,
   "id": "67cc6444",
   "metadata": {},
   "outputs": [
    {
     "name": "stdout",
     "output_type": "stream",
     "text": [
      "[[3 5]\n",
      " [6 7]]\n"
     ]
    }
   ],
   "source": [
    "x = np.array([[3,6],[5,7]])\n",
    "y = x.transpose()\n",
    "print(y)"
   ]
  },
  {
   "cell_type": "code",
   "execution_count": 15,
   "id": "278a658a",
   "metadata": {},
   "outputs": [],
   "source": [
    "x = np.array([1,2,3])\n",
    "y = np.array([2,4,6])"
   ]
  },
  {
   "cell_type": "code",
   "execution_count": 16,
   "id": "3cbe5744",
   "metadata": {},
   "outputs": [],
   "source": [
    "X = np.array([[1,2,3],[4,5,6]])\n",
    "Y = np.array([[2,4,6],[8,10,12]])"
   ]
  },
  {
   "cell_type": "code",
   "execution_count": 17,
   "id": "166be3fc",
   "metadata": {},
   "outputs": [
    {
     "data": {
      "text/plain": [
       "2"
      ]
     },
     "execution_count": 17,
     "metadata": {},
     "output_type": "execute_result"
    }
   ],
   "source": [
    "x[1]"
   ]
  },
  {
   "cell_type": "code",
   "execution_count": 18,
   "id": "802c95ca",
   "metadata": {},
   "outputs": [
    {
     "data": {
      "text/plain": [
       "array([1, 2])"
      ]
     },
     "execution_count": 18,
     "metadata": {},
     "output_type": "execute_result"
    }
   ],
   "source": [
    "x[0:2]"
   ]
  },
  {
   "cell_type": "code",
   "execution_count": 19,
   "id": "03c888d7",
   "metadata": {},
   "outputs": [],
   "source": [
    "z=x+y"
   ]
  },
  {
   "cell_type": "code",
   "execution_count": 20,
   "id": "75a3bf47",
   "metadata": {},
   "outputs": [
    {
     "data": {
      "text/plain": [
       "array([3, 6, 9])"
      ]
     },
     "execution_count": 20,
     "metadata": {},
     "output_type": "execute_result"
    }
   ],
   "source": [
    "z"
   ]
  },
  {
   "cell_type": "code",
   "execution_count": 21,
   "id": "ac9733a8",
   "metadata": {},
   "outputs": [
    {
     "data": {
      "text/plain": [
       "array([2, 5])"
      ]
     },
     "execution_count": 21,
     "metadata": {},
     "output_type": "execute_result"
    }
   ],
   "source": [
    "X[:,1] #to get 1st column"
   ]
  },
  {
   "cell_type": "code",
   "execution_count": 22,
   "id": "b1754b4e",
   "metadata": {},
   "outputs": [
    {
     "data": {
      "text/plain": [
       "array([ 6, 12])"
      ]
     },
     "execution_count": 22,
     "metadata": {},
     "output_type": "execute_result"
    }
   ],
   "source": [
    "Y[:,2] #to get 2nd column"
   ]
  },
  {
   "cell_type": "code",
   "execution_count": 23,
   "id": "13d04a8e",
   "metadata": {},
   "outputs": [
    {
     "data": {
      "text/plain": [
       "array([ 8, 17])"
      ]
     },
     "execution_count": 23,
     "metadata": {},
     "output_type": "execute_result"
    }
   ],
   "source": [
    "X[:,1]+Y[:,2]"
   ]
  },
  {
   "cell_type": "code",
   "execution_count": 24,
   "id": "f1d7f421",
   "metadata": {},
   "outputs": [
    {
     "data": {
      "text/plain": [
       "array([4, 5, 6])"
      ]
     },
     "execution_count": 24,
     "metadata": {},
     "output_type": "execute_result"
    }
   ],
   "source": [
    "X[1,:] #to get 1st row of X"
   ]
  },
  {
   "cell_type": "code",
   "execution_count": 25,
   "id": "245a5911",
   "metadata": {},
   "outputs": [
    {
     "data": {
      "text/plain": [
       "array([2, 4, 6])"
      ]
     },
     "execution_count": 25,
     "metadata": {},
     "output_type": "execute_result"
    }
   ],
   "source": [
    "Y[0,:] #to get 0th row of Y"
   ]
  },
  {
   "cell_type": "code",
   "execution_count": 26,
   "id": "ffbdf76e",
   "metadata": {},
   "outputs": [
    {
     "data": {
      "text/plain": [
       "array([4, 5, 6])"
      ]
     },
     "execution_count": 26,
     "metadata": {},
     "output_type": "execute_result"
    }
   ],
   "source": [
    "X[1]"
   ]
  },
  {
   "cell_type": "code",
   "execution_count": 27,
   "id": "a3b69d0a",
   "metadata": {},
   "outputs": [
    {
     "data": {
      "text/plain": [
       "array([1, 2, 3])"
      ]
     },
     "execution_count": 27,
     "metadata": {},
     "output_type": "execute_result"
    }
   ],
   "source": [
    "X[0]"
   ]
  },
  {
   "cell_type": "code",
   "execution_count": 28,
   "id": "aff7d512",
   "metadata": {},
   "outputs": [
    {
     "data": {
      "text/plain": [
       "[2, 4, 6, 8]"
      ]
     },
     "execution_count": 28,
     "metadata": {},
     "output_type": "execute_result"
    }
   ],
   "source": [
    "[2,4]+[6,8]"
   ]
  },
  {
   "cell_type": "code",
   "execution_count": 29,
   "id": "2ac69843",
   "metadata": {},
   "outputs": [
    {
     "data": {
      "text/plain": [
       "array([ 8, 12])"
      ]
     },
     "execution_count": 29,
     "metadata": {},
     "output_type": "execute_result"
    }
   ],
   "source": [
    "np.array([2,4])+np.array([6,8])"
   ]
  },
  {
   "cell_type": "code",
   "execution_count": 30,
   "id": "5cfde356",
   "metadata": {},
   "outputs": [
    {
     "data": {
      "text/plain": [
       "array([2])"
      ]
     },
     "execution_count": 30,
     "metadata": {},
     "output_type": "execute_result"
    }
   ],
   "source": [
    "x = np.array([1,2,5])\n",
    "x[1:2]"
   ]
  },
  {
   "cell_type": "code",
   "execution_count": 31,
   "id": "fdc1c3ae",
   "metadata": {},
   "outputs": [
    {
     "ename": "ValueError",
     "evalue": "operands could not be broadcast together with shapes (2,) (3,) ",
     "output_type": "error",
     "traceback": [
      "\u001b[1;31m---------------------------------------------------------------------------\u001b[0m",
      "\u001b[1;31mValueError\u001b[0m                                Traceback (most recent call last)",
      "\u001b[1;32m~\\AppData\\Local\\Temp/ipykernel_8280/1247335994.py\u001b[0m in \u001b[0;36m<module>\u001b[1;34m\u001b[0m\n\u001b[0;32m      1\u001b[0m \u001b[0ma\u001b[0m \u001b[1;33m=\u001b[0m \u001b[0mnp\u001b[0m\u001b[1;33m.\u001b[0m\u001b[0marray\u001b[0m\u001b[1;33m(\u001b[0m\u001b[1;33m[\u001b[0m\u001b[1;36m1\u001b[0m\u001b[1;33m,\u001b[0m\u001b[1;36m2\u001b[0m\u001b[1;33m]\u001b[0m\u001b[1;33m)\u001b[0m\u001b[1;33m\u001b[0m\u001b[1;33m\u001b[0m\u001b[0m\n\u001b[0;32m      2\u001b[0m \u001b[0mb\u001b[0m \u001b[1;33m=\u001b[0m \u001b[0mnp\u001b[0m\u001b[1;33m.\u001b[0m\u001b[0marray\u001b[0m\u001b[1;33m(\u001b[0m\u001b[1;33m[\u001b[0m\u001b[1;36m3\u001b[0m\u001b[1;33m,\u001b[0m\u001b[1;36m4\u001b[0m\u001b[1;33m,\u001b[0m\u001b[1;36m5\u001b[0m\u001b[1;33m]\u001b[0m\u001b[1;33m)\u001b[0m\u001b[1;33m\u001b[0m\u001b[1;33m\u001b[0m\u001b[0m\n\u001b[1;32m----> 3\u001b[1;33m \u001b[0ma\u001b[0m \u001b[1;33m+\u001b[0m \u001b[0mb\u001b[0m\u001b[1;33m\u001b[0m\u001b[1;33m\u001b[0m\u001b[0m\n\u001b[0m",
      "\u001b[1;31mValueError\u001b[0m: operands could not be broadcast together with shapes (2,) (3,) "
     ]
    }
   ],
   "source": [
    "a = np.array([1,2])\n",
    "b = np.array([3,4,5])\n",
    "a + b"
   ]
  },
  {
   "cell_type": "code",
   "execution_count": 33,
   "id": "b66f1c55",
   "metadata": {},
   "outputs": [],
   "source": [
    "z1 = np.array([1,3,5,7,9])"
   ]
  },
  {
   "cell_type": "code",
   "execution_count": 35,
   "id": "2c3c82e2",
   "metadata": {},
   "outputs": [],
   "source": [
    "z2 = z1 + 1"
   ]
  },
  {
   "cell_type": "code",
   "execution_count": 36,
   "id": "06782a6f",
   "metadata": {},
   "outputs": [
    {
     "data": {
      "text/plain": [
       "array([1, 3, 5, 7, 9])"
      ]
     },
     "execution_count": 36,
     "metadata": {},
     "output_type": "execute_result"
    }
   ],
   "source": [
    "z1"
   ]
  },
  {
   "cell_type": "code",
   "execution_count": 37,
   "id": "23fc6748",
   "metadata": {},
   "outputs": [
    {
     "data": {
      "text/plain": [
       "array([ 2,  4,  6,  8, 10])"
      ]
     },
     "execution_count": 37,
     "metadata": {},
     "output_type": "execute_result"
    }
   ],
   "source": [
    "z2"
   ]
  },
  {
   "cell_type": "code",
   "execution_count": 38,
   "id": "1d5bf1e5",
   "metadata": {},
   "outputs": [],
   "source": [
    "ind = [0,2,3]"
   ]
  },
  {
   "cell_type": "code",
   "execution_count": 39,
   "id": "8c330756",
   "metadata": {},
   "outputs": [
    {
     "data": {
      "text/plain": [
       "array([1, 5, 7])"
      ]
     },
     "execution_count": 39,
     "metadata": {},
     "output_type": "execute_result"
    }
   ],
   "source": [
    "z1[ind]"
   ]
  },
  {
   "cell_type": "code",
   "execution_count": 41,
   "id": "41bc90c5",
   "metadata": {},
   "outputs": [],
   "source": [
    "index = np.array([0,2,3])"
   ]
  },
  {
   "cell_type": "code",
   "execution_count": 42,
   "id": "18e90ceb",
   "metadata": {},
   "outputs": [
    {
     "data": {
      "text/plain": [
       "array([1, 5, 7])"
      ]
     },
     "execution_count": 42,
     "metadata": {},
     "output_type": "execute_result"
    }
   ],
   "source": [
    "z1[index]"
   ]
  },
  {
   "cell_type": "code",
   "execution_count": 43,
   "id": "b85a4b41",
   "metadata": {},
   "outputs": [],
   "source": [
    "z1 = np.array([1,3,5,7,9])"
   ]
  },
  {
   "cell_type": "code",
   "execution_count": 44,
   "id": "e299f5bd",
   "metadata": {},
   "outputs": [
    {
     "data": {
      "text/plain": [
       "array([False, False, False,  True,  True])"
      ]
     },
     "execution_count": 44,
     "metadata": {},
     "output_type": "execute_result"
    }
   ],
   "source": [
    "z1 > 6"
   ]
  },
  {
   "cell_type": "code",
   "execution_count": 45,
   "id": "66949741",
   "metadata": {},
   "outputs": [
    {
     "data": {
      "text/plain": [
       "array([7, 9])"
      ]
     },
     "execution_count": 45,
     "metadata": {},
     "output_type": "execute_result"
    }
   ],
   "source": [
    "z1[z1>6]"
   ]
  },
  {
   "cell_type": "code",
   "execution_count": 46,
   "id": "f1ed6a0e",
   "metadata": {},
   "outputs": [
    {
     "data": {
      "text/plain": [
       "array([ 8, 10])"
      ]
     },
     "execution_count": 46,
     "metadata": {},
     "output_type": "execute_result"
    }
   ],
   "source": [
    "z2[z1>6]"
   ]
  },
  {
   "cell_type": "code",
   "execution_count": 47,
   "id": "5761ecda",
   "metadata": {},
   "outputs": [],
   "source": [
    "ind = z1 > 6"
   ]
  },
  {
   "cell_type": "code",
   "execution_count": 48,
   "id": "020c1808",
   "metadata": {},
   "outputs": [
    {
     "data": {
      "text/plain": [
       "array([7, 9])"
      ]
     },
     "execution_count": 48,
     "metadata": {},
     "output_type": "execute_result"
    }
   ],
   "source": [
    "z1[ind]"
   ]
  },
  {
   "cell_type": "code",
   "execution_count": 49,
   "id": "fe3e971a",
   "metadata": {},
   "outputs": [],
   "source": [
    "z1 = np.array([1,3,5,7,9])"
   ]
  },
  {
   "cell_type": "code",
   "execution_count": 50,
   "id": "5316623c",
   "metadata": {},
   "outputs": [],
   "source": [
    "w = z1[0:3]"
   ]
  },
  {
   "cell_type": "code",
   "execution_count": 51,
   "id": "2c27a0a7",
   "metadata": {},
   "outputs": [
    {
     "data": {
      "text/plain": [
       "array([1, 3, 5])"
      ]
     },
     "execution_count": 51,
     "metadata": {},
     "output_type": "execute_result"
    }
   ],
   "source": [
    "w"
   ]
  },
  {
   "cell_type": "code",
   "execution_count": 52,
   "id": "2622ad58",
   "metadata": {},
   "outputs": [],
   "source": [
    "w[0]=3"
   ]
  },
  {
   "cell_type": "code",
   "execution_count": 53,
   "id": "6da3b8c4",
   "metadata": {},
   "outputs": [
    {
     "data": {
      "text/plain": [
       "array([3, 3, 5])"
      ]
     },
     "execution_count": 53,
     "metadata": {},
     "output_type": "execute_result"
    }
   ],
   "source": [
    "w"
   ]
  },
  {
   "cell_type": "code",
   "execution_count": 54,
   "id": "327b0c1d",
   "metadata": {},
   "outputs": [
    {
     "data": {
      "text/plain": [
       "array([3, 3, 5, 7, 9])"
      ]
     },
     "execution_count": 54,
     "metadata": {},
     "output_type": "execute_result"
    }
   ],
   "source": [
    "z1"
   ]
  },
  {
   "cell_type": "code",
   "execution_count": 55,
   "id": "8e847d31",
   "metadata": {},
   "outputs": [],
   "source": [
    "z1 = np.array([1,3,5,7,9])"
   ]
  },
  {
   "cell_type": "code",
   "execution_count": 56,
   "id": "a24d075d",
   "metadata": {},
   "outputs": [],
   "source": [
    "ind = np.array([0,1,2])"
   ]
  },
  {
   "cell_type": "code",
   "execution_count": 57,
   "id": "f91d7d7e",
   "metadata": {},
   "outputs": [
    {
     "data": {
      "text/plain": [
       "array([1, 3, 5, 7, 9])"
      ]
     },
     "execution_count": 57,
     "metadata": {},
     "output_type": "execute_result"
    }
   ],
   "source": [
    "z1"
   ]
  },
  {
   "cell_type": "code",
   "execution_count": 58,
   "id": "78b0ebc7",
   "metadata": {},
   "outputs": [
    {
     "data": {
      "text/plain": [
       "array([0, 1, 2])"
      ]
     },
     "execution_count": 58,
     "metadata": {},
     "output_type": "execute_result"
    }
   ],
   "source": [
    "ind"
   ]
  },
  {
   "cell_type": "code",
   "execution_count": 59,
   "id": "dbaba8c3",
   "metadata": {},
   "outputs": [],
   "source": [
    "w=z1[ind]"
   ]
  },
  {
   "cell_type": "code",
   "execution_count": 60,
   "id": "0caaface",
   "metadata": {},
   "outputs": [
    {
     "data": {
      "text/plain": [
       "array([1, 3, 5])"
      ]
     },
     "execution_count": 60,
     "metadata": {},
     "output_type": "execute_result"
    }
   ],
   "source": [
    "w"
   ]
  },
  {
   "cell_type": "code",
   "execution_count": 61,
   "id": "d5470f9a",
   "metadata": {},
   "outputs": [],
   "source": [
    "w[0]=3"
   ]
  },
  {
   "cell_type": "code",
   "execution_count": 62,
   "id": "ba3df920",
   "metadata": {},
   "outputs": [
    {
     "data": {
      "text/plain": [
       "array([3, 3, 5])"
      ]
     },
     "execution_count": 62,
     "metadata": {},
     "output_type": "execute_result"
    }
   ],
   "source": [
    "w"
   ]
  },
  {
   "cell_type": "code",
   "execution_count": 63,
   "id": "7eb69302",
   "metadata": {},
   "outputs": [
    {
     "data": {
      "text/plain": [
       "array([1, 3, 5, 7, 9])"
      ]
     },
     "execution_count": 63,
     "metadata": {},
     "output_type": "execute_result"
    }
   ],
   "source": [
    "z1"
   ]
  },
  {
   "cell_type": "code",
   "execution_count": 64,
   "id": "a237db2d",
   "metadata": {},
   "outputs": [
    {
     "data": {
      "text/plain": [
       "array([4, 5])"
      ]
     },
     "execution_count": 64,
     "metadata": {},
     "output_type": "execute_result"
    }
   ],
   "source": [
    "a = np.array([1,2])\n",
    "b = np.array([3,4,5])\n",
    "b[a]"
   ]
  },
  {
   "cell_type": "code",
   "execution_count": 65,
   "id": "8c8d4146",
   "metadata": {},
   "outputs": [
    {
     "data": {
      "text/plain": [
       "False"
      ]
     },
     "execution_count": 65,
     "metadata": {},
     "output_type": "execute_result"
    }
   ],
   "source": [
    "c = b[1:]\n",
    "b[a] is c"
   ]
  },
  {
   "cell_type": "code",
   "execution_count": 66,
   "id": "bad26697",
   "metadata": {},
   "outputs": [
    {
     "data": {
      "text/plain": [
       "array([4, 5])"
      ]
     },
     "execution_count": 66,
     "metadata": {},
     "output_type": "execute_result"
    }
   ],
   "source": [
    "c"
   ]
  },
  {
   "cell_type": "code",
   "execution_count": 67,
   "id": "7640ae38",
   "metadata": {},
   "outputs": [
    {
     "data": {
      "text/plain": [
       "array([  0.        ,  11.11111111,  22.22222222,  33.33333333,\n",
       "        44.44444444,  55.55555556,  66.66666667,  77.77777778,\n",
       "        88.88888889, 100.        ])"
      ]
     },
     "execution_count": 67,
     "metadata": {},
     "output_type": "execute_result"
    }
   ],
   "source": [
    "np.linspace(0,100,10)"
   ]
  },
  {
   "cell_type": "code",
   "execution_count": 68,
   "id": "f93c2b9e",
   "metadata": {},
   "outputs": [
    {
     "data": {
      "text/plain": [
       "array([ 10.        ,  12.91549665,  16.68100537,  21.5443469 ,\n",
       "        27.82559402,  35.93813664,  46.41588834,  59.94842503,\n",
       "        77.42636827, 100.        ])"
      ]
     },
     "execution_count": 68,
     "metadata": {},
     "output_type": "execute_result"
    }
   ],
   "source": [
    "np.logspace(1,2,10)"
   ]
  },
  {
   "cell_type": "code",
   "execution_count": 69,
   "id": "26c8c30b",
   "metadata": {},
   "outputs": [
    {
     "data": {
      "text/plain": [
       "array([250.        , 270.01493472, 291.63225989, 314.98026247,\n",
       "       340.19750004, 367.43362307, 396.85026299, 428.62199143,\n",
       "       462.93735614, 500.        ])"
      ]
     },
     "execution_count": 69,
     "metadata": {},
     "output_type": "execute_result"
    }
   ],
   "source": [
    "np.logspace(np.log10(250), np.log10(500), 10)"
   ]
  },
  {
   "cell_type": "code",
   "execution_count": 72,
   "id": "ecbc9631",
   "metadata": {},
   "outputs": [],
   "source": [
    "X = np.array([[1,2,3],[4,5,6]])"
   ]
  },
  {
   "cell_type": "code",
   "execution_count": 74,
   "id": "3b73ee4c",
   "metadata": {},
   "outputs": [
    {
     "data": {
      "text/plain": [
       "(2, 3)"
      ]
     },
     "execution_count": 74,
     "metadata": {},
     "output_type": "execute_result"
    }
   ],
   "source": [
    "X.shape"
   ]
  },
  {
   "cell_type": "code",
   "execution_count": 75,
   "id": "92191c2d",
   "metadata": {},
   "outputs": [
    {
     "data": {
      "text/plain": [
       "6"
      ]
     },
     "execution_count": 75,
     "metadata": {},
     "output_type": "execute_result"
    }
   ],
   "source": [
    "X.size"
   ]
  },
  {
   "cell_type": "code",
   "execution_count": 76,
   "id": "b6d9bf97",
   "metadata": {},
   "outputs": [],
   "source": [
    "x = np.random.random(10)"
   ]
  },
  {
   "cell_type": "code",
   "execution_count": 81,
   "id": "5be96f9e",
   "metadata": {},
   "outputs": [
    {
     "data": {
      "text/plain": [
       "array([0.53427758, 0.5162693 , 0.01467708, 0.21455813, 0.61318209,\n",
       "       0.0117157 , 0.76169391, 0.34703295, 0.75508783, 0.96584172])"
      ]
     },
     "execution_count": 81,
     "metadata": {},
     "output_type": "execute_result"
    }
   ],
   "source": [
    "x"
   ]
  },
  {
   "cell_type": "code",
   "execution_count": 82,
   "id": "6b9d614a",
   "metadata": {},
   "outputs": [
    {
     "data": {
      "text/plain": [
       "True"
      ]
     },
     "execution_count": 82,
     "metadata": {},
     "output_type": "execute_result"
    }
   ],
   "source": [
    "np.any(x>0.9)"
   ]
  },
  {
   "cell_type": "code",
   "execution_count": 83,
   "id": "f5b5ecbd",
   "metadata": {},
   "outputs": [
    {
     "data": {
      "text/plain": [
       "False"
      ]
     },
     "execution_count": 83,
     "metadata": {},
     "output_type": "execute_result"
    }
   ],
   "source": [
    "np.all(x>=0.1)"
   ]
  },
  {
   "cell_type": "code",
   "execution_count": 84,
   "id": "55a802c7",
   "metadata": {},
   "outputs": [
    {
     "data": {
      "text/plain": [
       "False"
      ]
     },
     "execution_count": 84,
     "metadata": {},
     "output_type": "execute_result"
    }
   ],
   "source": [
    "x = 20\n",
    "not np.any([x%i == 0 for i in range(2, x)])"
   ]
  },
  {
   "cell_type": "code",
   "execution_count": 85,
   "id": "53770d2a",
   "metadata": {},
   "outputs": [],
   "source": [
    "ans = [x%i == 0 for i in range(2, x)]"
   ]
  },
  {
   "cell_type": "code",
   "execution_count": 86,
   "id": "af04856f",
   "metadata": {},
   "outputs": [
    {
     "data": {
      "text/plain": [
       "[True,\n",
       " False,\n",
       " True,\n",
       " True,\n",
       " False,\n",
       " False,\n",
       " False,\n",
       " False,\n",
       " True,\n",
       " False,\n",
       " False,\n",
       " False,\n",
       " False,\n",
       " False,\n",
       " False,\n",
       " False,\n",
       " False,\n",
       " False]"
      ]
     },
     "execution_count": 86,
     "metadata": {},
     "output_type": "execute_result"
    }
   ],
   "source": [
    "ans"
   ]
  },
  {
   "cell_type": "markdown",
   "id": "13e45138",
   "metadata": {},
   "source": [
    "# WEEK-2 PART-3"
   ]
  },
  {
   "cell_type": "code",
   "execution_count": 145,
   "id": "63e6e624",
   "metadata": {},
   "outputs": [],
   "source": [
    "import matplotlib.pyplot as plt"
   ]
  },
  {
   "cell_type": "code",
   "execution_count": 146,
   "id": "146c19b2",
   "metadata": {},
   "outputs": [
    {
     "data": {
      "text/plain": [
       "[<matplotlib.lines.Line2D at 0x278f8b38400>]"
      ]
     },
     "execution_count": 146,
     "metadata": {},
     "output_type": "execute_result"
    },
    {
     "data": {
      "image/png": "[encoded data removed]",
      "text/plain": [
       "<Figure size 432x288 with 1 Axes>"
      ]
     },
     "metadata": {
      "needs_background": "light"
     },
     "output_type": "display_data"
    }
   ],
   "source": [
    "plt.plot([0,1,4,9,16])"
   ]
  },
  {
   "cell_type": "code",
   "execution_count": 147,
   "id": "462d761a",
   "metadata": {},
   "outputs": [
    {
     "data": {
      "image/png": "[encoded data removed]",
      "text/plain": [
       "<Figure size 432x288 with 1 Axes>"
      ]
     },
     "metadata": {
      "needs_background": "light"
     },
     "output_type": "display_data"
    }
   ],
   "source": [
    "plt.plot([0,1,4,9,16]);"
   ]
  },
  {
   "cell_type": "code",
   "execution_count": 148,
   "id": "70185b00",
   "metadata": {},
   "outputs": [],
   "source": [
    "import numpy as np"
   ]
  },
  {
   "cell_type": "code",
   "execution_count": 149,
   "id": "a83e4d4a",
   "metadata": {},
   "outputs": [],
   "source": [
    "x = np.linspace(0,10,20)"
   ]
  },
  {
   "cell_type": "code",
   "execution_count": 150,
   "id": "18a0c9d8",
   "metadata": {},
   "outputs": [],
   "source": [
    "y = x**2.0"
   ]
  },
  {
   "cell_type": "code",
   "execution_count": 151,
   "id": "dc5ecd4f",
   "metadata": {},
   "outputs": [
    {
     "data": {
      "text/plain": [
       "array([ 0.        ,  0.52631579,  1.05263158,  1.57894737,  2.10526316,\n",
       "        2.63157895,  3.15789474,  3.68421053,  4.21052632,  4.73684211,\n",
       "        5.26315789,  5.78947368,  6.31578947,  6.84210526,  7.36842105,\n",
       "        7.89473684,  8.42105263,  8.94736842,  9.47368421, 10.        ])"
      ]
     },
     "execution_count": 151,
     "metadata": {},
     "output_type": "execute_result"
    }
   ],
   "source": [
    "x"
   ]
  },
  {
   "cell_type": "code",
   "execution_count": 152,
   "id": "1b3cf4a5",
   "metadata": {},
   "outputs": [
    {
     "data": {
      "text/plain": [
       "array([  0.        ,   0.27700831,   1.10803324,   2.49307479,\n",
       "         4.43213296,   6.92520776,   9.97229917,  13.5734072 ,\n",
       "        17.72853186,  22.43767313,  27.70083102,  33.51800554,\n",
       "        39.88919668,  46.81440443,  54.29362881,  62.32686981,\n",
       "        70.91412742,  80.05540166,  89.75069252, 100.        ])"
      ]
     },
     "execution_count": 152,
     "metadata": {},
     "output_type": "execute_result"
    }
   ],
   "source": [
    "y"
   ]
  },
  {
   "cell_type": "code",
   "execution_count": 153,
   "id": "cc30d212",
   "metadata": {},
   "outputs": [
    {
     "data": {
      "image/png": "[encoded data removed]",
      "text/plain": [
       "<Figure size 432x288 with 1 Axes>"
      ]
     },
     "metadata": {
      "needs_background": "light"
     },
     "output_type": "display_data"
    }
   ],
   "source": [
    "plt.plot(x,y);"
   ]
  },
  {
   "cell_type": "code",
   "execution_count": 154,
   "id": "7caff240",
   "metadata": {},
   "outputs": [],
   "source": [
    "x = np.linspace(0,10,20)"
   ]
  },
  {
   "cell_type": "code",
   "execution_count": 155,
   "id": "03e8ee81",
   "metadata": {},
   "outputs": [],
   "source": [
    "y1 = x**2.0"
   ]
  },
  {
   "cell_type": "code",
   "execution_count": 156,
   "id": "3693d1b8",
   "metadata": {},
   "outputs": [],
   "source": [
    "y2 = x**1.5"
   ]
  },
  {
   "cell_type": "code",
   "execution_count": 157,
   "id": "e3c14041",
   "metadata": {},
   "outputs": [
    {
     "data": {
      "text/plain": [
       "array([ 0.        ,  0.52631579,  1.05263158,  1.57894737,  2.10526316,\n",
       "        2.63157895,  3.15789474,  3.68421053,  4.21052632,  4.73684211,\n",
       "        5.26315789,  5.78947368,  6.31578947,  6.84210526,  7.36842105,\n",
       "        7.89473684,  8.42105263,  8.94736842,  9.47368421, 10.        ])"
      ]
     },
     "execution_count": 157,
     "metadata": {},
     "output_type": "execute_result"
    }
   ],
   "source": [
    "x"
   ]
  },
  {
   "cell_type": "code",
   "execution_count": 158,
   "id": "e82767bd",
   "metadata": {},
   "outputs": [
    {
     "data": {
      "text/plain": [
       "array([  0.        ,   0.27700831,   1.10803324,   2.49307479,\n",
       "         4.43213296,   6.92520776,   9.97229917,  13.5734072 ,\n",
       "        17.72853186,  22.43767313,  27.70083102,  33.51800554,\n",
       "        39.88919668,  46.81440443,  54.29362881,  62.32686981,\n",
       "        70.91412742,  80.05540166,  89.75069252, 100.        ])"
      ]
     },
     "execution_count": 158,
     "metadata": {},
     "output_type": "execute_result"
    }
   ],
   "source": [
    "y1"
   ]
  },
  {
   "cell_type": "code",
   "execution_count": 159,
   "id": "f1737b6a",
   "metadata": {},
   "outputs": [
    {
     "data": {
      "text/plain": [
       "array([ 0.        ,  0.38182961,  1.07997721,  1.98404483,  3.05463684,\n",
       "        4.26898477,  5.61172621,  7.07158325,  8.6398177 , 10.30939934,\n",
       "       12.07451231, 13.93024088, 15.87235863, 17.89718087, 20.00145789,\n",
       "       22.18229554, 24.43709474, 26.76350449, 29.15938474, 31.6227766 ])"
      ]
     },
     "execution_count": 159,
     "metadata": {},
     "output_type": "execute_result"
    }
   ],
   "source": [
    "y2"
   ]
  },
  {
   "cell_type": "code",
   "execution_count": 160,
   "id": "d8045d16",
   "metadata": {},
   "outputs": [
    {
     "data": {
      "text/plain": [
       "[<matplotlib.lines.Line2D at 0x278fa5723a0>]"
      ]
     },
     "execution_count": 160,
     "metadata": {},
     "output_type": "execute_result"
    },
    {
     "data": {
      "image/png": "[encoded data removed]",
      "text/plain": [
       "<Figure size 432x288 with 1 Axes>"
      ]
     },
     "metadata": {
      "needs_background": "light"
     },
     "output_type": "display_data"
    }
   ],
   "source": [
    "plt.plot(x,y1,\"bo-\")"
   ]
  },
  {
   "cell_type": "code",
   "execution_count": 161,
   "id": "d807ed4d",
   "metadata": {},
   "outputs": [
    {
     "data": {
      "text/plain": [
       "[<matplotlib.lines.Line2D at 0x278fa5d36d0>]"
      ]
     },
     "execution_count": 161,
     "metadata": {},
     "output_type": "execute_result"
    },
    {
     "data": {
      "image/png": "[encoded data removed]",
      "text/plain": [
       "<Figure size 432x288 with 1 Axes>"
      ]
     },
     "metadata": {
      "needs_background": "light"
     },
     "output_type": "display_data"
    }
   ],
   "source": [
    "plt.plot(x,y1,\"bo-\",linewidth=2,markersize=4)"
   ]
  },
  {
   "cell_type": "code",
   "execution_count": 162,
   "id": "40c9df50",
   "metadata": {},
   "outputs": [
    {
     "data": {
      "text/plain": [
       "[<matplotlib.lines.Line2D at 0x278fa634d60>]"
      ]
     },
     "execution_count": 162,
     "metadata": {},
     "output_type": "execute_result"
    },
    {
     "data": {
      "image/png": "[encoded data removed]",
      "text/plain": [
       "<Figure size 432x288 with 1 Axes>"
      ]
     },
     "metadata": {
      "needs_background": "light"
     },
     "output_type": "display_data"
    }
   ],
   "source": [
    "plt.plot(x,y1,\"bo-\",linewidth=2,markersize=12)"
   ]
  },
  {
   "cell_type": "code",
   "execution_count": 163,
   "id": "6ca69cb7",
   "metadata": {},
   "outputs": [
    {
     "data": {
      "text/plain": [
       "[<matplotlib.lines.Line2D at 0x278fa695eb0>]"
      ]
     },
     "execution_count": 163,
     "metadata": {},
     "output_type": "execute_result"
    },
    {
     "data": {
      "image/png": "[encoded data removed]",
      "text/plain": [
       "<Figure size 432x288 with 1 Axes>"
      ]
     },
     "metadata": {
      "needs_background": "light"
     },
     "output_type": "display_data"
    }
   ],
   "source": [
    "plt.plot(x,y2,\"gs-\",linewidth=2,markersize=10)"
   ]
  },
  {
   "cell_type": "code",
   "execution_count": 164,
   "id": "602273e7",
   "metadata": {},
   "outputs": [
    {
     "data": {
      "text/plain": [
       "[<matplotlib.lines.Line2D at 0x278fa7009d0>]"
      ]
     },
     "execution_count": 164,
     "metadata": {},
     "output_type": "execute_result"
    },
    {
     "data": {
      "image/png": "[encoded data removed]",
      "text/plain": [
       "<Figure size 432x288 with 1 Axes>"
      ]
     },
     "metadata": {
      "needs_background": "light"
     },
     "output_type": "display_data"
    }
   ],
   "source": [
    "plt.plot([0,1,2],[0,1,4],\"rd-\")"
   ]
  },
  {
   "cell_type": "code",
   "execution_count": 165,
   "id": "54ffff44",
   "metadata": {},
   "outputs": [
    {
     "data": {
      "image/png": "[encoded data removed]",
      "text/plain": [
       "<Figure size 432x288 with 1 Axes>"
      ]
     },
     "metadata": {
      "needs_background": "light"
     },
     "output_type": "display_data"
    }
   ],
   "source": [
    "x = np.linspace(0,10,20)\n",
    "y1 = x**2.0\n",
    "y2 = x**1.5\n",
    "plt.plot(x,y1,\"bo-\",linewidth=2,markersize=12,label=\"First\")\n",
    "plt.plot(x,y2,\"gs-\",linewidth=2,markersize=10,label=\"Second\")\n",
    "plt.xlabel(\"$x$\")\n",
    "plt.ylabel(\"$Y$\")\n",
    "plt.axis([-0.5,10.5,-5,105])\n",
    "plt.legend(loc=\"upper left\")\n",
    "plt.savefig(\"myplot.pdf\")"
   ]
  },
  {
   "cell_type": "code",
   "execution_count": 166,
   "id": "ca273903",
   "metadata": {},
   "outputs": [
    {
     "name": "stderr",
     "output_type": "stream",
     "text": [
      "C:\\Users\\Anubha\\AppData\\Local\\Temp/ipykernel_8280/2430246351.py:8: UserWarning: Attempted to set non-positive left xlim on a log-scaled axis.\n",
      "Invalid limit will be ignored.\n",
      "  plt.axis([-0.5,10.5,-5,105])\n",
      "C:\\Users\\Anubha\\AppData\\Local\\Temp/ipykernel_8280/2430246351.py:8: UserWarning: Attempted to set non-positive bottom ylim on a log-scaled axis.\n",
      "Invalid limit will be ignored.\n",
      "  plt.axis([-0.5,10.5,-5,105])\n"
     ]
    },
    {
     "data": {
      "image/png": "[encoded data removed]",
      "text/plain": [
       "<Figure size 432x288 with 1 Axes>"
      ]
     },
     "metadata": {
      "needs_background": "light"
     },
     "output_type": "display_data"
    }
   ],
   "source": [
    "x = np.linspace(0,10,20)\n",
    "y1 = x**2.0\n",
    "y2 = x**1.5\n",
    "plt.loglog(x,y1,\"bo-\",linewidth=2,markersize=12,label=\"First\")\n",
    "plt.loglog(x,y2,\"gs-\",linewidth=2,markersize=10,label=\"Second\")\n",
    "plt.xlabel(\"$x$\")\n",
    "plt.ylabel(\"$Y$\")\n",
    "plt.axis([-0.5,10.5,-5,105])\n",
    "plt.legend(loc=\"upper left\")\n",
    "plt.savefig(\"myplot.pdf\")"
   ]
  },
  {
   "cell_type": "code",
   "execution_count": 167,
   "id": "3e328b7f",
   "metadata": {},
   "outputs": [
    {
     "name": "stderr",
     "output_type": "stream",
     "text": [
      "C:\\Users\\Anubha\\AppData\\Local\\Temp/ipykernel_8280/2544036267.py:8: UserWarning: Attempted to set non-positive left xlim on a log-scaled axis.\n",
      "Invalid limit will be ignored.\n",
      "  plt.axis([-0.5,10.5,-5,105])\n",
      "C:\\Users\\Anubha\\AppData\\Local\\Temp/ipykernel_8280/2544036267.py:8: UserWarning: Attempted to set non-positive bottom ylim on a log-scaled axis.\n",
      "Invalid limit will be ignored.\n",
      "  plt.axis([-0.5,10.5,-5,105])\n"
     ]
    },
    {
     "data": {
      "image/png": "[encoded data removed]",
      "text/plain": [
       "<Figure size 432x288 with 1 Axes>"
      ]
     },
     "metadata": {
      "needs_background": "light"
     },
     "output_type": "display_data"
    }
   ],
   "source": [
    "x = np.logspace(-1,1,40)\n",
    "y1 = x**2.0\n",
    "y2 = x**1.5\n",
    "plt.loglog(x,y1,\"bo-\",linewidth=2,markersize=12,label=\"First\")\n",
    "plt.loglog(x,y2,\"gs-\",linewidth=2,markersize=10,label=\"Second\")\n",
    "plt.xlabel(\"$x$\")\n",
    "plt.ylabel(\"$Y$\")\n",
    "plt.axis([-0.5,10.5,-5,105])\n",
    "plt.legend(loc=\"upper left\")\n",
    "plt.savefig(\"myplot.pdf\")"
   ]
  },
  {
   "cell_type": "code",
   "execution_count": 168,
   "id": "2daec535",
   "metadata": {},
   "outputs": [
    {
     "data": {
      "text/plain": [
       "array([ 0.1       ,  0.11253356,  0.12663802,  0.14251027,  0.16037187,\n",
       "        0.18047218,  0.20309176,  0.22854639,  0.25719138,  0.28942661,\n",
       "        0.32570207,  0.36652412,  0.41246264,  0.46415888,  0.52233451,\n",
       "        0.58780161,  0.66147406,  0.7443803 ,  0.83767764,  0.94266846,\n",
       "        1.06081836,  1.19377664,  1.34339933,  1.51177507,  1.70125428,\n",
       "        1.91448198,  2.15443469,  2.42446202,  2.72833338,  3.07029063,\n",
       "        3.45510729,  3.88815518,  4.37547938,  4.92388263,  5.54102033,\n",
       "        6.23550734,  7.01703829,  7.89652287,  8.88623816, 10.        ])"
      ]
     },
     "execution_count": 168,
     "metadata": {},
     "output_type": "execute_result"
    }
   ],
   "source": [
    "x"
   ]
  },
  {
   "cell_type": "code",
   "execution_count": 169,
   "id": "0b8d8177",
   "metadata": {},
   "outputs": [
    {
     "data": {
      "text/plain": [
       "[<matplotlib.lines.Line2D at 0x278faa86100>]"
      ]
     },
     "execution_count": 169,
     "metadata": {},
     "output_type": "execute_result"
    },
    {
     "data": {
      "image/png": "[encoded data removed]",
      "text/plain": [
       "<Figure size 432x288 with 1 Axes>"
      ]
     },
     "metadata": {
      "needs_background": "light"
     },
     "output_type": "display_data"
    }
   ],
   "source": [
    "x = np.logspace(0,1,10)\n",
    "y = x**2\n",
    "plt.loglog(x,y,\"bo-\")"
   ]
  },
  {
   "cell_type": "code",
   "execution_count": 170,
   "id": "1865bfe7",
   "metadata": {},
   "outputs": [],
   "source": [
    "import matplotlib.pyplot as plt"
   ]
  },
  {
   "cell_type": "code",
   "execution_count": 171,
   "id": "579e14de",
   "metadata": {},
   "outputs": [],
   "source": [
    "import numpy as np"
   ]
  },
  {
   "cell_type": "code",
   "execution_count": 172,
   "id": "93530668",
   "metadata": {},
   "outputs": [],
   "source": [
    "x = np.random.normal(size=1000)"
   ]
  },
  {
   "cell_type": "code",
   "execution_count": 173,
   "id": "916724d2",
   "metadata": {},
   "outputs": [
    {
     "data": {
      "image/png": "[encoded data removed]",
      "text/plain": [
       "<Figure size 432x288 with 1 Axes>"
      ]
     },
     "metadata": {
      "needs_background": "light"
     },
     "output_type": "display_data"
    }
   ],
   "source": [
    "plt.hist(x);"
   ]
  },
  {
   "cell_type": "code",
   "execution_count": 174,
   "id": "079535a6",
   "metadata": {},
   "outputs": [
    {
     "data": {
      "image/png": "[encoded data removed]",
      "text/plain": [
       "<Figure size 432x288 with 1 Axes>"
      ]
     },
     "metadata": {
      "needs_background": "light"
     },
     "output_type": "display_data"
    }
   ],
   "source": [
    "plt.hist(x, density=True);"
   ]
  },
  {
   "cell_type": "code",
   "execution_count": 175,
   "id": "7476fa16",
   "metadata": {},
   "outputs": [
    {
     "data": {
      "image/png": "[encoded data removed]",
      "text/plain": [
       "<Figure size 432x288 with 1 Axes>"
      ]
     },
     "metadata": {
      "needs_background": "light"
     },
     "output_type": "display_data"
    }
   ],
   "source": [
    "plt.hist(x, density=True, bins=np.linspace(-5,5,21));"
   ]
  },
  {
   "cell_type": "code",
   "execution_count": 176,
   "id": "eeeb081c",
   "metadata": {},
   "outputs": [],
   "source": [
    "x=np.random.gamma(2,3,100000)"
   ]
  },
  {
   "cell_type": "code",
   "execution_count": 177,
   "id": "ae46cd60",
   "metadata": {},
   "outputs": [
    {
     "data": {
      "text/plain": [
       "(array([8.4230e+03, 1.6709e+04, 1.7208e+04, 1.4953e+04, 1.2024e+04,\n",
       "        9.0210e+03, 6.6240e+03, 4.6690e+03, 3.2860e+03, 2.3000e+03,\n",
       "        1.5700e+03, 1.0200e+03, 7.2700e+02, 5.1100e+02, 3.4100e+02,\n",
       "        2.0800e+02, 1.2400e+02, 9.2000e+01, 6.3000e+01, 4.9000e+01,\n",
       "        3.1000e+01, 1.7000e+01, 1.1000e+01, 5.0000e+00, 4.0000e+00,\n",
       "        5.0000e+00, 2.0000e+00, 0.0000e+00, 1.0000e+00, 2.0000e+00]),\n",
       " array([7.66324127e-03, 1.44805713e+00, 2.88845102e+00, 4.32884490e+00,\n",
       "        5.76923879e+00, 7.20963268e+00, 8.65002657e+00, 1.00904205e+01,\n",
       "        1.15308143e+01, 1.29712082e+01, 1.44116021e+01, 1.58519960e+01,\n",
       "        1.72923899e+01, 1.87327838e+01, 2.01731777e+01, 2.16135716e+01,\n",
       "        2.30539654e+01, 2.44943593e+01, 2.59347532e+01, 2.73751471e+01,\n",
       "        2.88155410e+01, 3.02559349e+01, 3.16963288e+01, 3.31367227e+01,\n",
       "        3.45771165e+01, 3.60175104e+01, 3.74579043e+01, 3.88982982e+01,\n",
       "        4.03386921e+01, 4.17790860e+01, 4.32194799e+01]),\n",
       " <BarContainer object of 30 artists>)"
      ]
     },
     "execution_count": 177,
     "metadata": {},
     "output_type": "execute_result"
    },
    {
     "data": {
      "image/png": "[encoded data removed]",
      "text/plain": [
       "<Figure size 432x288 with 1 Axes>"
      ]
     },
     "metadata": {
      "needs_background": "light"
     },
     "output_type": "display_data"
    }
   ],
   "source": [
    "plt.hist(x,bins=30)"
   ]
  },
  {
   "cell_type": "code",
   "execution_count": 178,
   "id": "8f6825f0",
   "metadata": {},
   "outputs": [
    {
     "data": {
      "text/plain": [
       "(array([5.84770601e-02, 1.16002992e-01, 1.19467322e-01, 1.03811882e-01,\n",
       "        8.34771662e-02, 6.26287023e-02, 4.59874209e-02, 3.24147446e-02,\n",
       "        2.28132043e-02, 1.59678545e-02, 1.08997963e-02, 7.08139634e-03,\n",
       "        5.04723053e-03, 3.54764071e-03, 2.36740799e-03, 1.44404945e-03,\n",
       "        8.60875633e-04, 6.38714179e-04, 4.37380362e-04, 3.40184726e-04,\n",
       "        2.15218908e-04, 1.18023272e-04, 7.63679997e-05, 3.47127271e-05,\n",
       "        2.77701817e-05, 3.47127271e-05, 1.38850909e-05, 0.00000000e+00,\n",
       "        6.94254543e-06, 1.38850909e-05]),\n",
       " array([7.66324127e-03, 1.44805713e+00, 2.88845102e+00, 4.32884490e+00,\n",
       "        5.76923879e+00, 7.20963268e+00, 8.65002657e+00, 1.00904205e+01,\n",
       "        1.15308143e+01, 1.29712082e+01, 1.44116021e+01, 1.58519960e+01,\n",
       "        1.72923899e+01, 1.87327838e+01, 2.01731777e+01, 2.16135716e+01,\n",
       "        2.30539654e+01, 2.44943593e+01, 2.59347532e+01, 2.73751471e+01,\n",
       "        2.88155410e+01, 3.02559349e+01, 3.16963288e+01, 3.31367227e+01,\n",
       "        3.45771165e+01, 3.60175104e+01, 3.74579043e+01, 3.88982982e+01,\n",
       "        4.03386921e+01, 4.17790860e+01, 4.32194799e+01]),\n",
       " <BarContainer object of 30 artists>)"
      ]
     },
     "execution_count": 178,
     "metadata": {},
     "output_type": "execute_result"
    },
    {
     "data": {
      "image/png": "[encoded data removed]",
      "text/plain": [
       "<Figure size 432x288 with 1 Axes>"
      ]
     },
     "metadata": {
      "needs_background": "light"
     },
     "output_type": "display_data"
    }
   ],
   "source": [
    "plt.hist(x,bins=30,density=True)"
   ]
  },
  {
   "cell_type": "code",
   "execution_count": 179,
   "id": "f907cfde",
   "metadata": {},
   "outputs": [
    {
     "data": {
      "text/plain": [
       "(array([  8423.,  25132.,  42340.,  57293.,  69317.,  78338.,  84962.,\n",
       "         89631.,  92917.,  95217.,  96787.,  97807.,  98534.,  99045.,\n",
       "         99386.,  99594.,  99718.,  99810.,  99873.,  99922.,  99953.,\n",
       "         99970.,  99981.,  99986.,  99990.,  99995.,  99997.,  99997.,\n",
       "         99998., 100000.]),\n",
       " array([7.66324127e-03, 1.44805713e+00, 2.88845102e+00, 4.32884490e+00,\n",
       "        5.76923879e+00, 7.20963268e+00, 8.65002657e+00, 1.00904205e+01,\n",
       "        1.15308143e+01, 1.29712082e+01, 1.44116021e+01, 1.58519960e+01,\n",
       "        1.72923899e+01, 1.87327838e+01, 2.01731777e+01, 2.16135716e+01,\n",
       "        2.30539654e+01, 2.44943593e+01, 2.59347532e+01, 2.73751471e+01,\n",
       "        2.88155410e+01, 3.02559349e+01, 3.16963288e+01, 3.31367227e+01,\n",
       "        3.45771165e+01, 3.60175104e+01, 3.74579043e+01, 3.88982982e+01,\n",
       "        4.03386921e+01, 4.17790860e+01, 4.32194799e+01]),\n",
       " <BarContainer object of 30 artists>)"
      ]
     },
     "execution_count": 179,
     "metadata": {},
     "output_type": "execute_result"
    },
    {
     "data": {
      "image/png": "[encoded data removed]",
      "text/plain": [
       "<Figure size 432x288 with 1 Axes>"
      ]
     },
     "metadata": {
      "needs_background": "light"
     },
     "output_type": "display_data"
    }
   ],
   "source": [
    "plt.hist(x,bins=30,cumulative=True)"
   ]
  },
  {
   "cell_type": "code",
   "execution_count": 180,
   "id": "2561771a",
   "metadata": {},
   "outputs": [
    {
     "data": {
      "text/plain": [
       "(array([0.08423, 0.25132, 0.4234 , 0.57293, 0.69317, 0.78338, 0.84962,\n",
       "        0.89631, 0.92917, 0.95217, 0.96787, 0.97807, 0.98534, 0.99045,\n",
       "        0.99386, 0.99594, 0.99718, 0.9981 , 0.99873, 0.99922, 0.99953,\n",
       "        0.9997 , 0.99981, 0.99986, 0.9999 , 0.99995, 0.99997, 0.99997,\n",
       "        0.99998, 1.     ]),\n",
       " array([7.66324127e-03, 1.44805713e+00, 2.88845102e+00, 4.32884490e+00,\n",
       "        5.76923879e+00, 7.20963268e+00, 8.65002657e+00, 1.00904205e+01,\n",
       "        1.15308143e+01, 1.29712082e+01, 1.44116021e+01, 1.58519960e+01,\n",
       "        1.72923899e+01, 1.87327838e+01, 2.01731777e+01, 2.16135716e+01,\n",
       "        2.30539654e+01, 2.44943593e+01, 2.59347532e+01, 2.73751471e+01,\n",
       "        2.88155410e+01, 3.02559349e+01, 3.16963288e+01, 3.31367227e+01,\n",
       "        3.45771165e+01, 3.60175104e+01, 3.74579043e+01, 3.88982982e+01,\n",
       "        4.03386921e+01, 4.17790860e+01, 4.32194799e+01]),\n",
       " [<matplotlib.patches.Polygon at 0x278fab9e2e0>])"
      ]
     },
     "execution_count": 180,
     "metadata": {},
     "output_type": "execute_result"
    },
    {
     "data": {
      "image/png": "[encoded data removed]",
      "text/plain": [
       "<Figure size 432x288 with 1 Axes>"
      ]
     },
     "metadata": {
      "needs_background": "light"
     },
     "output_type": "display_data"
    }
   ],
   "source": [
    "plt.hist(x,bins=30,cumulative=True,density=True,histtype=\"step\")"
   ]
  },
  {
   "cell_type": "code",
   "execution_count": 181,
   "id": "f9b4e3cc",
   "metadata": {},
   "outputs": [
    {
     "data": {
      "text/plain": [
       "(array([0.08423, 0.25132, 0.4234 , 0.57293, 0.69317, 0.78338, 0.84962,\n",
       "        0.89631, 0.92917, 0.95217, 0.96787, 0.97807, 0.98534, 0.99045,\n",
       "        0.99386, 0.99594, 0.99718, 0.9981 , 0.99873, 0.99922, 0.99953,\n",
       "        0.9997 , 0.99981, 0.99986, 0.9999 , 0.99995, 0.99997, 0.99997,\n",
       "        0.99998, 1.     ]),\n",
       " array([7.66324127e-03, 1.44805713e+00, 2.88845102e+00, 4.32884490e+00,\n",
       "        5.76923879e+00, 7.20963268e+00, 8.65002657e+00, 1.00904205e+01,\n",
       "        1.15308143e+01, 1.29712082e+01, 1.44116021e+01, 1.58519960e+01,\n",
       "        1.72923899e+01, 1.87327838e+01, 2.01731777e+01, 2.16135716e+01,\n",
       "        2.30539654e+01, 2.44943593e+01, 2.59347532e+01, 2.73751471e+01,\n",
       "        2.88155410e+01, 3.02559349e+01, 3.16963288e+01, 3.31367227e+01,\n",
       "        3.45771165e+01, 3.60175104e+01, 3.74579043e+01, 3.88982982e+01,\n",
       "        4.03386921e+01, 4.17790860e+01, 4.32194799e+01]),\n",
       " [<matplotlib.patches.Polygon at 0x278fa74dfd0>])"
      ]
     },
     "execution_count": 181,
     "metadata": {},
     "output_type": "execute_result"
    },
    {
     "data": {
      "image/png": "[encoded data removed]",
      "text/plain": [
       "<Figure size 432x288 with 4 Axes>"
      ]
     },
     "metadata": {
      "needs_background": "light"
     },
     "output_type": "display_data"
    }
   ],
   "source": [
    "plt.figure()\n",
    "plt.subplot(221)\n",
    "plt.hist(x,bins=30)\n",
    "plt.subplot(222)\n",
    "plt.hist(x,bins=30,density=True)\n",
    "plt.subplot(223)\n",
    "plt.hist(x,bins=30,cumulative=30)\n",
    "plt.subplot(224)\n",
    "plt.hist(x,bins=30,cumulative=True,density=True,histtype=\"step\")"
   ]
  },
  {
   "cell_type": "code",
   "execution_count": 182,
   "id": "54cf9a00",
   "metadata": {},
   "outputs": [
    {
     "data": {
      "text/plain": [
       "array([-5. , -4.5, -4. , -3.5, -3. , -2.5, -2. , -1.5, -1. , -0.5,  0. ,\n",
       "        0.5,  1. ,  1.5,  2. ,  2.5,  3. ,  3.5,  4. ,  4.5,  5. ])"
      ]
     },
     "execution_count": 182,
     "metadata": {},
     "output_type": "execute_result"
    }
   ],
   "source": [
    "np.linspace(-5,5,21)"
   ]
  },
  {
   "cell_type": "code",
   "execution_count": 183,
   "id": "5fc6e9b3",
   "metadata": {},
   "outputs": [
    {
     "data": {
      "text/plain": [
       "array([-5.  , -4.95, -4.9 , -4.85, -4.8 , -4.75, -4.7 , -4.65, -4.6 ,\n",
       "       -4.55, -4.5 , -4.45, -4.4 , -4.35, -4.3 , -4.25, -4.2 , -4.15,\n",
       "       -4.1 , -4.05, -4.  , -3.95, -3.9 , -3.85, -3.8 , -3.75, -3.7 ,\n",
       "       -3.65, -3.6 , -3.55, -3.5 , -3.45, -3.4 , -3.35, -3.3 , -3.25,\n",
       "       -3.2 , -3.15, -3.1 , -3.05, -3.  , -2.95, -2.9 , -2.85, -2.8 ,\n",
       "       -2.75, -2.7 , -2.65, -2.6 , -2.55, -2.5 , -2.45, -2.4 , -2.35,\n",
       "       -2.3 , -2.25, -2.2 , -2.15, -2.1 , -2.05, -2.  , -1.95, -1.9 ,\n",
       "       -1.85, -1.8 , -1.75, -1.7 , -1.65, -1.6 , -1.55, -1.5 , -1.45,\n",
       "       -1.4 , -1.35, -1.3 , -1.25, -1.2 , -1.15, -1.1 , -1.05, -1.  ,\n",
       "       -0.95, -0.9 , -0.85, -0.8 , -0.75, -0.7 , -0.65, -0.6 , -0.55,\n",
       "       -0.5 , -0.45, -0.4 , -0.35, -0.3 , -0.25, -0.2 , -0.15, -0.1 ,\n",
       "       -0.05,  0.  ,  0.05,  0.1 ,  0.15,  0.2 ,  0.25,  0.3 ,  0.35,\n",
       "        0.4 ,  0.45,  0.5 ,  0.55,  0.6 ,  0.65,  0.7 ,  0.75,  0.8 ,\n",
       "        0.85,  0.9 ,  0.95,  1.  ,  1.05,  1.1 ,  1.15,  1.2 ,  1.25,\n",
       "        1.3 ,  1.35,  1.4 ,  1.45,  1.5 ,  1.55,  1.6 ,  1.65,  1.7 ,\n",
       "        1.75,  1.8 ,  1.85,  1.9 ,  1.95,  2.  ,  2.05,  2.1 ,  2.15,\n",
       "        2.2 ,  2.25,  2.3 ,  2.35,  2.4 ,  2.45,  2.5 ,  2.55,  2.6 ,\n",
       "        2.65,  2.7 ,  2.75,  2.8 ,  2.85,  2.9 ,  2.95,  3.  ,  3.05,\n",
       "        3.1 ,  3.15,  3.2 ,  3.25,  3.3 ,  3.35,  3.4 ,  3.45,  3.5 ,\n",
       "        3.55,  3.6 ,  3.65,  3.7 ,  3.75,  3.8 ,  3.85,  3.9 ,  3.95,\n",
       "        4.  ,  4.05,  4.1 ,  4.15,  4.2 ,  4.25,  4.3 ,  4.35,  4.4 ,\n",
       "        4.45,  4.5 ,  4.55,  4.6 ,  4.65,  4.7 ,  4.75,  4.8 ,  4.85,\n",
       "        4.9 ,  4.95,  5.  ])"
      ]
     },
     "execution_count": 183,
     "metadata": {},
     "output_type": "execute_result"
    }
   ],
   "source": [
    "np.linspace(-5,5,201)"
   ]
  },
  {
   "cell_type": "code",
   "execution_count": 184,
   "id": "e12f9d12",
   "metadata": {},
   "outputs": [
    {
     "data": {
      "text/plain": [
       "<AxesSubplot:>"
      ]
     },
     "execution_count": 184,
     "metadata": {},
     "output_type": "execute_result"
    },
    {
     "data": {
      "image/png": "[encoded data removed]",
      "text/plain": [
       "<Figure size 432x288 with 1 Axes>"
      ]
     },
     "metadata": {
      "needs_background": "light"
     },
     "output_type": "display_data"
    }
   ],
   "source": [
    "plt.subplot(333)"
   ]
  },
  {
   "cell_type": "code",
   "execution_count": 185,
   "id": "e45c090b",
   "metadata": {},
   "outputs": [
    {
     "data": {
      "text/plain": [
       "<AxesSubplot:>"
      ]
     },
     "execution_count": 185,
     "metadata": {},
     "output_type": "execute_result"
    },
    {
     "data": {
      "image/png": "[encoded data removed]",
      "text/plain": [
       "<Figure size 432x288 with 1 Axes>"
      ]
     },
     "metadata": {
      "needs_background": "light"
     },
     "output_type": "display_data"
    }
   ],
   "source": [
    "plt.subplot(3, 3, 3)"
   ]
  },
  {
   "cell_type": "markdown",
   "id": "2dc09af6",
   "metadata": {},
   "source": [
    "# WEEK-2 PART-4"
   ]
  },
  {
   "cell_type": "code",
   "execution_count": 1,
   "id": "06ae7bfc",
   "metadata": {},
   "outputs": [],
   "source": [
    "import random"
   ]
  },
  {
   "cell_type": "code",
   "execution_count": 2,
   "id": "9012d1b4",
   "metadata": {},
   "outputs": [
    {
     "data": {
      "text/plain": [
       "'H'"
      ]
     },
     "execution_count": 2,
     "metadata": {},
     "output_type": "execute_result"
    }
   ],
   "source": [
    "random.choice([\"H\",\"T\"])"
   ]
  },
  {
   "cell_type": "code",
   "execution_count": 3,
   "id": "5ad24e97",
   "metadata": {},
   "outputs": [
    {
     "data": {
      "text/plain": [
       "'T'"
      ]
     },
     "execution_count": 3,
     "metadata": {},
     "output_type": "execute_result"
    }
   ],
   "source": [
    "random.choice([\"H\",\"T\"])"
   ]
  },
  {
   "cell_type": "code",
   "execution_count": 4,
   "id": "02f1b1d9",
   "metadata": {},
   "outputs": [
    {
     "data": {
      "text/plain": [
       "'T'"
      ]
     },
     "execution_count": 4,
     "metadata": {},
     "output_type": "execute_result"
    }
   ],
   "source": [
    "random.choice([\"H\",\"T\"])"
   ]
  },
  {
   "cell_type": "code",
   "execution_count": 5,
   "id": "bf3e9e5a",
   "metadata": {},
   "outputs": [
    {
     "data": {
      "text/plain": [
       "'H'"
      ]
     },
     "execution_count": 5,
     "metadata": {},
     "output_type": "execute_result"
    }
   ],
   "source": [
    "random.choice([\"H\",\"T\"])"
   ]
  },
  {
   "cell_type": "code",
   "execution_count": 6,
   "id": "65b393cf",
   "metadata": {},
   "outputs": [
    {
     "data": {
      "text/plain": [
       "0"
      ]
     },
     "execution_count": 6,
     "metadata": {},
     "output_type": "execute_result"
    }
   ],
   "source": [
    "random.choice([0,1])"
   ]
  },
  {
   "cell_type": "code",
   "execution_count": 7,
   "id": "332f6c53",
   "metadata": {},
   "outputs": [
    {
     "data": {
      "text/plain": [
       "0"
      ]
     },
     "execution_count": 7,
     "metadata": {},
     "output_type": "execute_result"
    }
   ],
   "source": [
    "random.choice([0,1])"
   ]
  },
  {
   "cell_type": "code",
   "execution_count": 8,
   "id": "5c836e25",
   "metadata": {},
   "outputs": [
    {
     "data": {
      "text/plain": [
       "1"
      ]
     },
     "execution_count": 8,
     "metadata": {},
     "output_type": "execute_result"
    }
   ],
   "source": [
    "random.choice([0,1])"
   ]
  },
  {
   "cell_type": "code",
   "execution_count": 9,
   "id": "05eb5ffc",
   "metadata": {},
   "outputs": [
    {
     "data": {
      "text/plain": [
       "0"
      ]
     },
     "execution_count": 9,
     "metadata": {},
     "output_type": "execute_result"
    }
   ],
   "source": [
    "random.choice([0,1])"
   ]
  },
  {
   "cell_type": "code",
   "execution_count": 10,
   "id": "0c7d106e",
   "metadata": {},
   "outputs": [
    {
     "data": {
      "text/plain": [
       "1"
      ]
     },
     "execution_count": 10,
     "metadata": {},
     "output_type": "execute_result"
    }
   ],
   "source": [
    "random.choice([0,1])"
   ]
  },
  {
   "cell_type": "code",
   "execution_count": 11,
   "id": "a45e0e15",
   "metadata": {},
   "outputs": [
    {
     "data": {
      "text/plain": [
       "5"
      ]
     },
     "execution_count": 11,
     "metadata": {},
     "output_type": "execute_result"
    }
   ],
   "source": [
    "random.choice([1,2,3,4,5,6])"
   ]
  },
  {
   "cell_type": "code",
   "execution_count": 12,
   "id": "93fe1452",
   "metadata": {},
   "outputs": [
    {
     "data": {
      "text/plain": [
       "3"
      ]
     },
     "execution_count": 12,
     "metadata": {},
     "output_type": "execute_result"
    }
   ],
   "source": [
    "random.choice([1,2,3,4,5,6])"
   ]
  },
  {
   "cell_type": "code",
   "execution_count": 13,
   "id": "4fef00bc",
   "metadata": {},
   "outputs": [
    {
     "data": {
      "text/plain": [
       "3"
      ]
     },
     "execution_count": 13,
     "metadata": {},
     "output_type": "execute_result"
    }
   ],
   "source": [
    "random.choice([1,2,3,4,5,6])"
   ]
  },
  {
   "cell_type": "code",
   "execution_count": 14,
   "id": "1262c9da",
   "metadata": {},
   "outputs": [
    {
     "data": {
      "text/plain": [
       "4"
      ]
     },
     "execution_count": 14,
     "metadata": {},
     "output_type": "execute_result"
    }
   ],
   "source": [
    "random.choice([1,2,3,4,5,6])"
   ]
  },
  {
   "cell_type": "code",
   "execution_count": 15,
   "id": "4d98ed92",
   "metadata": {},
   "outputs": [
    {
     "data": {
      "text/plain": [
       "4"
      ]
     },
     "execution_count": 15,
     "metadata": {},
     "output_type": "execute_result"
    }
   ],
   "source": [
    "random.choice(range(1,7))"
   ]
  },
  {
   "cell_type": "code",
   "execution_count": 16,
   "id": "5a6c4ada",
   "metadata": {},
   "outputs": [
    {
     "data": {
      "text/plain": [
       "2"
      ]
     },
     "execution_count": 16,
     "metadata": {},
     "output_type": "execute_result"
    }
   ],
   "source": [
    "random.choice(range(1,7))"
   ]
  },
  {
   "cell_type": "code",
   "execution_count": 17,
   "id": "ffdce6ac",
   "metadata": {},
   "outputs": [
    {
     "data": {
      "text/plain": [
       "6"
      ]
     },
     "execution_count": 17,
     "metadata": {},
     "output_type": "execute_result"
    }
   ],
   "source": [
    "random.choice(range(1,7))"
   ]
  },
  {
   "cell_type": "code",
   "execution_count": 18,
   "id": "0aea3c0c",
   "metadata": {},
   "outputs": [
    {
     "data": {
      "text/plain": [
       "4"
      ]
     },
     "execution_count": 18,
     "metadata": {},
     "output_type": "execute_result"
    }
   ],
   "source": [
    "random.choice(range(1,7))"
   ]
  },
  {
   "cell_type": "code",
   "execution_count": 26,
   "id": "d9ca5083",
   "metadata": {},
   "outputs": [
    {
     "data": {
      "text/plain": [
       "range(1, 7)"
      ]
     },
     "execution_count": 26,
     "metadata": {},
     "output_type": "execute_result"
    }
   ],
   "source": [
    "random.choice([range(1,7),range(1,9),range(1,11)])"
   ]
  },
  {
   "cell_type": "code",
   "execution_count": 27,
   "id": "5d37f147",
   "metadata": {},
   "outputs": [
    {
     "data": {
      "text/plain": [
       "range(1, 7)"
      ]
     },
     "execution_count": 27,
     "metadata": {},
     "output_type": "execute_result"
    }
   ],
   "source": [
    "random.choice([range(1,7),range(1,9),range(1,11)])"
   ]
  },
  {
   "cell_type": "code",
   "execution_count": 25,
   "id": "e014a53f",
   "metadata": {},
   "outputs": [
    {
     "data": {
      "text/plain": [
       "range(1, 9)"
      ]
     },
     "execution_count": 25,
     "metadata": {},
     "output_type": "execute_result"
    }
   ],
   "source": [
    "random.choice([range(1,7),range(1,9),range(1,11)])"
   ]
  },
  {
   "cell_type": "code",
   "execution_count": 19,
   "id": "2a5c3c3d",
   "metadata": {},
   "outputs": [
    {
     "data": {
      "text/plain": [
       "4"
      ]
     },
     "execution_count": 19,
     "metadata": {},
     "output_type": "execute_result"
    }
   ],
   "source": [
    "random.choice(random.choice([range(1,7),range(1,9),range(1,11)]))"
   ]
  },
  {
   "cell_type": "code",
   "execution_count": 20,
   "id": "80f50eef",
   "metadata": {},
   "outputs": [
    {
     "data": {
      "text/plain": [
       "3"
      ]
     },
     "execution_count": 20,
     "metadata": {},
     "output_type": "execute_result"
    }
   ],
   "source": [
    "random.choice(random.choice([range(1,7),range(1,9),range(1,11)]))"
   ]
  },
  {
   "cell_type": "code",
   "execution_count": 21,
   "id": "448cfb50",
   "metadata": {},
   "outputs": [
    {
     "data": {
      "text/plain": [
       "5"
      ]
     },
     "execution_count": 21,
     "metadata": {},
     "output_type": "execute_result"
    }
   ],
   "source": [
    "random.choice(random.choice([range(1,7),range(1,9),range(1,11)]))"
   ]
  },
  {
   "cell_type": "code",
   "execution_count": 22,
   "id": "72f36cae",
   "metadata": {},
   "outputs": [
    {
     "data": {
      "text/plain": [
       "1"
      ]
     },
     "execution_count": 22,
     "metadata": {},
     "output_type": "execute_result"
    }
   ],
   "source": [
    "random.choice(random.choice([range(1,7),range(1,9),range(1,11)]))"
   ]
  },
  {
   "cell_type": "code",
   "execution_count": 23,
   "id": "36e960df",
   "metadata": {},
   "outputs": [
    {
     "data": {
      "text/plain": [
       "8"
      ]
     },
     "execution_count": 23,
     "metadata": {},
     "output_type": "execute_result"
    }
   ],
   "source": [
    "random.choice(random.choice([range(1,7),range(1,9),range(1,11)]))"
   ]
  },
  {
   "cell_type": "code",
   "execution_count": 24,
   "id": "08204db9",
   "metadata": {},
   "outputs": [
    {
     "data": {
      "text/plain": [
       "9"
      ]
     },
     "execution_count": 24,
     "metadata": {},
     "output_type": "execute_result"
    }
   ],
   "source": [
    "random.choice(random.choice([range(1,7),range(1,9),range(1,11)]))"
   ]
  },
  {
   "cell_type": "code",
   "execution_count": 28,
   "id": "4c902b8f",
   "metadata": {},
   "outputs": [
    {
     "data": {
      "text/plain": [
       "2"
      ]
     },
     "execution_count": 28,
     "metadata": {},
     "output_type": "execute_result"
    }
   ],
   "source": [
    "random.choice(range(0,10))"
   ]
  },
  {
   "cell_type": "code",
   "execution_count": 29,
   "id": "2fcebbc1",
   "metadata": {},
   "outputs": [
    {
     "data": {
      "text/plain": [
       "2"
      ]
     },
     "execution_count": 29,
     "metadata": {},
     "output_type": "execute_result"
    }
   ],
   "source": [
    "random.choice(list([1,2,3,4]))"
   ]
  },
  {
   "cell_type": "code",
   "execution_count": 30,
   "id": "df4f3562",
   "metadata": {},
   "outputs": [
    {
     "data": {
      "text/plain": [
       "3"
      ]
     },
     "execution_count": 30,
     "metadata": {},
     "output_type": "execute_result"
    }
   ],
   "source": [
    "random.choice(list([1,2,3,4]))"
   ]
  },
  {
   "cell_type": "code",
   "execution_count": 31,
   "id": "9522675e",
   "metadata": {},
   "outputs": [
    {
     "data": {
      "text/plain": [
       "45"
      ]
     },
     "execution_count": 31,
     "metadata": {},
     "output_type": "execute_result"
    }
   ],
   "source": [
    "sum(random.sample(range(10),10))"
   ]
  },
  {
   "cell_type": "code",
   "execution_count": 32,
   "id": "25bd8673",
   "metadata": {},
   "outputs": [
    {
     "ename": "TypeError",
     "evalue": "choice() takes 2 positional arguments but 3 were given",
     "output_type": "error",
     "traceback": [
      "\u001b[1;31m---------------------------------------------------------------------------\u001b[0m",
      "\u001b[1;31mTypeError\u001b[0m                                 Traceback (most recent call last)",
      "\u001b[1;32m~\\AppData\\Local\\Temp/ipykernel_10944/1006724370.py\u001b[0m in \u001b[0;36m<module>\u001b[1;34m\u001b[0m\n\u001b[1;32m----> 1\u001b[1;33m \u001b[0msum\u001b[0m\u001b[1;33m(\u001b[0m\u001b[0mrandom\u001b[0m\u001b[1;33m.\u001b[0m\u001b[0mchoice\u001b[0m\u001b[1;33m(\u001b[0m\u001b[0mrange\u001b[0m\u001b[1;33m(\u001b[0m\u001b[1;36m10\u001b[0m\u001b[1;33m)\u001b[0m\u001b[1;33m,\u001b[0m\u001b[1;36m10\u001b[0m\u001b[1;33m)\u001b[0m\u001b[1;33m)\u001b[0m\u001b[1;33m\u001b[0m\u001b[1;33m\u001b[0m\u001b[0m\n\u001b[0m",
      "\u001b[1;31mTypeError\u001b[0m: choice() takes 2 positional arguments but 3 were given"
     ]
    }
   ],
   "source": [
    "sum(random.choice(range(10),10))"
   ]
  },
  {
   "cell_type": "code",
   "execution_count": 33,
   "id": "a7cb192c",
   "metadata": {},
   "outputs": [
    {
     "data": {
      "text/plain": [
       "36"
      ]
     },
     "execution_count": 33,
     "metadata": {},
     "output_type": "execute_result"
    }
   ],
   "source": [
    "sum(random.choice(range(10)) for i in range(10))"
   ]
  },
  {
   "cell_type": "code",
   "execution_count": 35,
   "id": "76f8f991",
   "metadata": {},
   "outputs": [],
   "source": [
    "import random"
   ]
  },
  {
   "cell_type": "code",
   "execution_count": 36,
   "id": "0b37c883",
   "metadata": {},
   "outputs": [],
   "source": [
    "import numpy as np"
   ]
  },
  {
   "cell_type": "code",
   "execution_count": 38,
   "id": "e154a323",
   "metadata": {},
   "outputs": [],
   "source": [
    "import matplotlib.pyplot as plt"
   ]
  },
  {
   "cell_type": "code",
   "execution_count": 40,
   "id": "8d35bf23",
   "metadata": {},
   "outputs": [
    {
     "data": {
      "image/png": "[encoded data removed]",
      "text/plain": [
       "<Figure size 432x288 with 1 Axes>"
      ]
     },
     "metadata": {
      "needs_background": "light"
     },
     "output_type": "display_data"
    }
   ],
   "source": [
    "rolls=[]\n",
    "for k in range(100):\n",
    "    rolls.append(random.choice([1,2,3,4,5,6]))\n",
    "plt.hist(rolls,bins=np.linspace(0.5,6.5,7));"
   ]
  },
  {
   "cell_type": "code",
   "execution_count": 41,
   "id": "34c9fdd2",
   "metadata": {},
   "outputs": [
    {
     "data": {
      "image/png": "[encoded data removed]",
      "text/plain": [
       "<Figure size 432x288 with 1 Axes>"
      ]
     },
     "metadata": {
      "needs_background": "light"
     },
     "output_type": "display_data"
    }
   ],
   "source": [
    "rolls=[]\n",
    "for k in range(10000):\n",
    "    rolls.append(random.choice([1,2,3,4,5,6]))\n",
    "plt.hist(rolls,bins=np.linspace(0.5,6.5,7));"
   ]
  },
  {
   "cell_type": "code",
   "execution_count": 42,
   "id": "4f011e11",
   "metadata": {},
   "outputs": [
    {
     "data": {
      "image/png": "[encoded data removed]",
      "text/plain": [
       "<Figure size 432x288 with 1 Axes>"
      ]
     },
     "metadata": {
      "needs_background": "light"
     },
     "output_type": "display_data"
    }
   ],
   "source": [
    "rolls=[]\n",
    "for k in range(1000000):\n",
    "    rolls.append(random.choice([1,2,3,4,5,6]))\n",
    "plt.hist(rolls,bins=np.linspace(0.5,6.5,7));"
   ]
  },
  {
   "cell_type": "code",
   "execution_count": 59,
   "id": "06ed790b",
   "metadata": {},
   "outputs": [],
   "source": [
    "ys=[]\n",
    "for reps in range(1000000):\n",
    "    y=0\n",
    "    for k in range(10):\n",
    "        x=random.choice([1,2,3,4,5,6])\n",
    "        y=y+x\n",
    "    ys.append(y)"
   ]
  },
  {
   "cell_type": "code",
   "execution_count": 60,
   "id": "1fd297d3",
   "metadata": {},
   "outputs": [
    {
     "data": {
      "text/plain": [
       "1000000"
      ]
     },
     "execution_count": 60,
     "metadata": {},
     "output_type": "execute_result"
    }
   ],
   "source": [
    "len(ys)"
   ]
  },
  {
   "cell_type": "code",
   "execution_count": 61,
   "id": "21f88363",
   "metadata": {},
   "outputs": [
    {
     "data": {
      "text/plain": [
       "[32,\n",
       " 48,\n",
       " 30,\n",
       " 27,\n",
       " 35,\n",
       " 31,\n",
       " 33,\n",
       " 38,\n",
       " 33,\n",
       " 37,\n",
       " 31,\n",
       " 28,\n",
       " 43,\n",
       " 30,\n",
       " 27,\n",
       " 26,\n",
       " 32,\n",
       " 44,\n",
       " 33,\n",
       " 35,\n",
       " 26,\n",
       " 37,\n",
       " 29,\n",
       " 42,\n",
       " 29,\n",
       " 29,\n",
       " 36,\n",
       " 42,\n",
       " 32,\n",
       " 30,\n",
       " 32,\n",
       " 34,\n",
       " 36,\n",
       " 33,\n",
       " 41,\n",
       " 34,\n",
       " 34,\n",
       " 34,\n",
       " 28,\n",
       " 27,\n",
       " 31,\n",
       " 40,\n",
       " 35,\n",
       " 39,\n",
       " 31,\n",
       " 36,\n",
       " 27,\n",
       " 42,\n",
       " 36,\n",
       " 39,\n",
       " 29,\n",
       " 24,\n",
       " 41,\n",
       " 35,\n",
       " 32,\n",
       " 36,\n",
       " 32,\n",
       " 36,\n",
       " 38,\n",
       " 37,\n",
       " 36,\n",
       " 36,\n",
       " 39,\n",
       " 26,\n",
       " 35,\n",
       " 43,\n",
       " 27,\n",
       " 45,\n",
       " 28,\n",
       " 38,\n",
       " 30,\n",
       " 29,\n",
       " 30,\n",
       " 40,\n",
       " 36,\n",
       " 39,\n",
       " 42,\n",
       " 39,\n",
       " 33,\n",
       " 39,\n",
       " 32,\n",
       " 34,\n",
       " 40,\n",
       " 40,\n",
       " 39,\n",
       " 33,\n",
       " 32,\n",
       " 33,\n",
       " 35,\n",
       " 35,\n",
       " 31,\n",
       " 25,\n",
       " 47,\n",
       " 34,\n",
       " 38,\n",
       " 37,\n",
       " 42,\n",
       " 39,\n",
       " 32,\n",
       " 33,\n",
       " 26,\n",
       " 40,\n",
       " 40,\n",
       " 32,\n",
       " 40,\n",
       " 32,\n",
       " 39,\n",
       " 35,\n",
       " 40,\n",
       " 39,\n",
       " 33,\n",
       " 37,\n",
       " 34,\n",
       " 28,\n",
       " 36,\n",
       " 35,\n",
       " 30,\n",
       " 28,\n",
       " 30,\n",
       " 29,\n",
       " 28,\n",
       " 33,\n",
       " 38,\n",
       " 31,\n",
       " 34,\n",
       " 29,\n",
       " 29,\n",
       " 35,\n",
       " 40,\n",
       " 40,\n",
       " 24,\n",
       " 41,\n",
       " 33,\n",
       " 35,\n",
       " 45,\n",
       " 30,\n",
       " 37,\n",
       " 33,\n",
       " 32,\n",
       " 43,\n",
       " 28,\n",
       " 34,\n",
       " 33,\n",
       " 40,\n",
       " 37,\n",
       " 31,\n",
       " 35,\n",
       " 40,\n",
       " 33,\n",
       " 43,\n",
       " 29,\n",
       " 33,\n",
       " 39,\n",
       " 33,\n",
       " 29,\n",
       " 39,\n",
       " 45,\n",
       " 33,\n",
       " 28,\n",
       " 28,\n",
       " 39,\n",
       " 44,\n",
       " 40,\n",
       " 35,\n",
       " 35,\n",
       " 42,\n",
       " 36,\n",
       " 40,\n",
       " 28,\n",
       " 31,\n",
       " 35,\n",
       " 39,\n",
       " 35,\n",
       " 32,\n",
       " 38,\n",
       " 34,\n",
       " 28,\n",
       " 35,\n",
       " 37,\n",
       " 38,\n",
       " 33,\n",
       " 35,\n",
       " 36,\n",
       " 37,\n",
       " 33,\n",
       " 34,\n",
       " 33,\n",
       " 42,\n",
       " 29,\n",
       " 36,\n",
       " 32,\n",
       " 31,\n",
       " 30,\n",
       " 28,\n",
       " 44,\n",
       " 41,\n",
       " 34,\n",
       " 26,\n",
       " 30,\n",
       " 28,\n",
       " 28,\n",
       " 34,\n",
       " 41,\n",
       " 39,\n",
       " 35,\n",
       " 34,\n",
       " 36,\n",
       " 28,\n",
       " 40,\n",
       " 33,\n",
       " 37,\n",
       " 37,\n",
       " 32,\n",
       " 34,\n",
       " 43,\n",
       " 35,\n",
       " 45,\n",
       " 30,\n",
       " 31,\n",
       " 40,\n",
       " 36,\n",
       " 39,\n",
       " 29,\n",
       " 36,\n",
       " 39,\n",
       " 38,\n",
       " 31,\n",
       " 39,\n",
       " 35,\n",
       " 43,\n",
       " 29,\n",
       " 33,\n",
       " 30,\n",
       " 37,\n",
       " 40,\n",
       " 40,\n",
       " 40,\n",
       " 31,\n",
       " 31,\n",
       " 34,\n",
       " 33,\n",
       " 35,\n",
       " 27,\n",
       " 32,\n",
       " 31,\n",
       " 42,\n",
       " 33,\n",
       " 31,\n",
       " 35,\n",
       " 41,\n",
       " 31,\n",
       " 33,\n",
       " 33,\n",
       " 45,\n",
       " 37,\n",
       " 27,\n",
       " 38,\n",
       " 30,\n",
       " 40,\n",
       " 40,\n",
       " 37,\n",
       " 48,\n",
       " 41,\n",
       " 29,\n",
       " 42,\n",
       " 34,\n",
       " 34,\n",
       " 39,\n",
       " 28,\n",
       " 37,\n",
       " 30,\n",
       " 44,\n",
       " 36,\n",
       " 30,\n",
       " 35,\n",
       " 30,\n",
       " 40,\n",
       " 38,\n",
       " 37,\n",
       " 39,\n",
       " 25,\n",
       " 32,\n",
       " 29,\n",
       " 28,\n",
       " 37,\n",
       " 42,\n",
       " 34,\n",
       " 33,\n",
       " 23,\n",
       " 33,\n",
       " 39,\n",
       " 21,\n",
       " 34,\n",
       " 37,\n",
       " 34,\n",
       " 32,\n",
       " 41,\n",
       " 35,\n",
       " 32,\n",
       " 45,\n",
       " 34,\n",
       " 38,\n",
       " 31,\n",
       " 32,\n",
       " 27,\n",
       " 37,\n",
       " 33,\n",
       " 43,\n",
       " 36,\n",
       " 40,\n",
       " 36,\n",
       " 33,\n",
       " 39,\n",
       " 49,\n",
       " 22,\n",
       " 33,\n",
       " 28,\n",
       " 23,\n",
       " 35,\n",
       " 37,\n",
       " 38,\n",
       " 37,\n",
       " 34,\n",
       " 30,\n",
       " 32,\n",
       " 36,\n",
       " 35,\n",
       " 27,\n",
       " 31,\n",
       " 30,\n",
       " 28,\n",
       " 37,\n",
       " 36,\n",
       " 36,\n",
       " 32,\n",
       " 40,\n",
       " 29,\n",
       " 32,\n",
       " 33,\n",
       " 40,\n",
       " 25,\n",
       " 35,\n",
       " 28,\n",
       " 32,\n",
       " 40,\n",
       " 43,\n",
       " 40,\n",
       " 28,\n",
       " 38,\n",
       " 36,\n",
       " 36,\n",
       " 35,\n",
       " 30,\n",
       " 32,\n",
       " 29,\n",
       " 39,\n",
       " 29,\n",
       " 39,\n",
       " 28,\n",
       " 28,\n",
       " 39,\n",
       " 28,\n",
       " 28,\n",
       " 36,\n",
       " 35,\n",
       " 40,\n",
       " 36,\n",
       " 36,\n",
       " 34,\n",
       " 34,\n",
       " 37,\n",
       " 29,\n",
       " 38,\n",
       " 29,\n",
       " 30,\n",
       " 29,\n",
       " 39,\n",
       " 34,\n",
       " 33,\n",
       " 24,\n",
       " 40,\n",
       " 35,\n",
       " 36,\n",
       " 35,\n",
       " 36,\n",
       " 36,\n",
       " 39,\n",
       " 35,\n",
       " 34,\n",
       " 37,\n",
       " 33,\n",
       " 32,\n",
       " 38,\n",
       " 36,\n",
       " 40,\n",
       " 44,\n",
       " 38,\n",
       " 39,\n",
       " 35,\n",
       " 32,\n",
       " 35,\n",
       " 37,\n",
       " 36,\n",
       " 33,\n",
       " 37,\n",
       " 23,\n",
       " 44,\n",
       " 44,\n",
       " 39,\n",
       " 42,\n",
       " 36,\n",
       " 33,\n",
       " 30,\n",
       " 31,\n",
       " 32,\n",
       " 38,\n",
       " 30,\n",
       " 38,\n",
       " 40,\n",
       " 44,\n",
       " 39,\n",
       " 31,\n",
       " 38,\n",
       " 37,\n",
       " 38,\n",
       " 28,\n",
       " 37,\n",
       " 38,\n",
       " 26,\n",
       " 36,\n",
       " 43,\n",
       " 31,\n",
       " 32,\n",
       " 23,\n",
       " 31,\n",
       " 31,\n",
       " 32,\n",
       " 32,\n",
       " 40,\n",
       " 33,\n",
       " 34,\n",
       " 30,\n",
       " 35,\n",
       " 25,\n",
       " 31,\n",
       " 39,\n",
       " 33,\n",
       " 36,\n",
       " 33,\n",
       " 26,\n",
       " 27,\n",
       " 33,\n",
       " 39,\n",
       " 39,\n",
       " 35,\n",
       " 32,\n",
       " 30,\n",
       " 31,\n",
       " 30,\n",
       " 35,\n",
       " 36,\n",
       " 37,\n",
       " 39,\n",
       " 42,\n",
       " 35,\n",
       " 36,\n",
       " 37,\n",
       " 37,\n",
       " 42,\n",
       " 35,\n",
       " 36,\n",
       " 31,\n",
       " 43,\n",
       " 41,\n",
       " 44,\n",
       " 42,\n",
       " 40,\n",
       " 36,\n",
       " 37,\n",
       " 32,\n",
       " 27,\n",
       " 34,\n",
       " 38,\n",
       " 38,\n",
       " 25,\n",
       " 38,\n",
       " 33,\n",
       " 34,\n",
       " 37,\n",
       " 41,\n",
       " 30,\n",
       " 33,\n",
       " 36,\n",
       " 33,\n",
       " 39,\n",
       " 35,\n",
       " 29,\n",
       " 39,\n",
       " 33,\n",
       " 38,\n",
       " 34,\n",
       " 39,\n",
       " 37,\n",
       " 31,\n",
       " 28,\n",
       " 29,\n",
       " 22,\n",
       " 31,\n",
       " 25,\n",
       " 25,\n",
       " 44,\n",
       " 39,\n",
       " 44,\n",
       " 35,\n",
       " 26,\n",
       " 38,\n",
       " 37,\n",
       " 36,\n",
       " 26,\n",
       " 35,\n",
       " 39,\n",
       " 27,\n",
       " 36,\n",
       " 36,\n",
       " 31,\n",
       " 34,\n",
       " 37,\n",
       " 35,\n",
       " 31,\n",
       " 36,\n",
       " 28,\n",
       " 32,\n",
       " 44,\n",
       " 32,\n",
       " 31,\n",
       " 34,\n",
       " 39,\n",
       " 35,\n",
       " 40,\n",
       " 42,\n",
       " 31,\n",
       " 32,\n",
       " 33,\n",
       " 36,\n",
       " 44,\n",
       " 25,\n",
       " 35,\n",
       " 26,\n",
       " 40,\n",
       " 43,\n",
       " 35,\n",
       " 32,\n",
       " 27,\n",
       " 26,\n",
       " 32,\n",
       " 33,\n",
       " 33,\n",
       " 41,\n",
       " 32,\n",
       " 32,\n",
       " 35,\n",
       " 30,\n",
       " 39,\n",
       " 40,\n",
       " 35,\n",
       " 38,\n",
       " 42,\n",
       " 24,\n",
       " 31,\n",
       " 37,\n",
       " 33,\n",
       " 39,\n",
       " 24,\n",
       " 31,\n",
       " 36,\n",
       " 25,\n",
       " 38,\n",
       " 36,\n",
       " 42,\n",
       " 34,\n",
       " 33,\n",
       " 40,\n",
       " 29,\n",
       " 37,\n",
       " 38,\n",
       " 29,\n",
       " 24,\n",
       " 46,\n",
       " 38,\n",
       " 33,\n",
       " 39,\n",
       " 38,\n",
       " 37,\n",
       " 29,\n",
       " 25,\n",
       " 36,\n",
       " 38,\n",
       " 40,\n",
       " 28,\n",
       " 37,\n",
       " 35,\n",
       " 40,\n",
       " 36,\n",
       " 36,\n",
       " 37,\n",
       " 30,\n",
       " 41,\n",
       " 43,\n",
       " 40,\n",
       " 25,\n",
       " 24,\n",
       " 32,\n",
       " 42,\n",
       " 45,\n",
       " 37,\n",
       " 37,\n",
       " 37,\n",
       " 28,\n",
       " 27,\n",
       " 27,\n",
       " 35,\n",
       " 36,\n",
       " 38,\n",
       " 35,\n",
       " 32,\n",
       " 39,\n",
       " 34,\n",
       " 38,\n",
       " 38,\n",
       " 29,\n",
       " 39,\n",
       " 43,\n",
       " 37,\n",
       " 43,\n",
       " 44,\n",
       " 34,\n",
       " 35,\n",
       " 36,\n",
       " 34,\n",
       " 40,\n",
       " 35,\n",
       " 34,\n",
       " 38,\n",
       " 39,\n",
       " 40,\n",
       " 34,\n",
       " 32,\n",
       " 39,\n",
       " 32,\n",
       " 38,\n",
       " 31,\n",
       " 33,\n",
       " 33,\n",
       " 38,\n",
       " 31,\n",
       " 31,\n",
       " 37,\n",
       " 38,\n",
       " 30,\n",
       " 38,\n",
       " 37,\n",
       " 35,\n",
       " 34,\n",
       " 42,\n",
       " 41,\n",
       " 25,\n",
       " 42,\n",
       " 43,\n",
       " 37,\n",
       " 31,\n",
       " 28,\n",
       " 32,\n",
       " 38,\n",
       " 30,\n",
       " 33,\n",
       " 36,\n",
       " 38,\n",
       " 34,\n",
       " 37,\n",
       " 28,\n",
       " 46,\n",
       " 33,\n",
       " 32,\n",
       " 37,\n",
       " 37,\n",
       " 32,\n",
       " 35,\n",
       " 34,\n",
       " 38,\n",
       " 30,\n",
       " 32,\n",
       " 35,\n",
       " 24,\n",
       " 38,\n",
       " 39,\n",
       " 42,\n",
       " 33,\n",
       " 33,\n",
       " 40,\n",
       " 39,\n",
       " 32,\n",
       " 41,\n",
       " 41,\n",
       " 38,\n",
       " 29,\n",
       " 43,\n",
       " 36,\n",
       " 38,\n",
       " 31,\n",
       " 37,\n",
       " 27,\n",
       " 31,\n",
       " 38,\n",
       " 38,\n",
       " 42,\n",
       " 41,\n",
       " 39,\n",
       " 35,\n",
       " 39,\n",
       " 40,\n",
       " 45,\n",
       " 33,\n",
       " 31,\n",
       " 36,\n",
       " 40,\n",
       " 27,\n",
       " 41,\n",
       " 36,\n",
       " 32,\n",
       " 37,\n",
       " 29,\n",
       " 33,\n",
       " 34,\n",
       " 36,\n",
       " 44,\n",
       " 33,\n",
       " 42,\n",
       " 29,\n",
       " 34,\n",
       " 35,\n",
       " 36,\n",
       " 34,\n",
       " 25,\n",
       " 30,\n",
       " 27,\n",
       " 40,\n",
       " 32,\n",
       " 30,\n",
       " 32,\n",
       " 33,\n",
       " 33,\n",
       " 30,\n",
       " 40,\n",
       " 37,\n",
       " 44,\n",
       " 39,\n",
       " 29,\n",
       " 31,\n",
       " 28,\n",
       " 39,\n",
       " 43,\n",
       " 33,\n",
       " 35,\n",
       " 35,\n",
       " 40,\n",
       " 30,\n",
       " 34,\n",
       " 31,\n",
       " 42,\n",
       " 40,\n",
       " 26,\n",
       " 37,\n",
       " 30,\n",
       " 26,\n",
       " 34,\n",
       " 31,\n",
       " 31,\n",
       " 33,\n",
       " 38,\n",
       " 29,\n",
       " 30,\n",
       " 29,\n",
       " 22,\n",
       " 45,\n",
       " 31,\n",
       " 36,\n",
       " 36,\n",
       " 32,\n",
       " 42,\n",
       " 38,\n",
       " 30,\n",
       " 44,\n",
       " 39,\n",
       " 43,\n",
       " 40,\n",
       " 35,\n",
       " 45,\n",
       " 32,\n",
       " 39,\n",
       " 31,\n",
       " 25,\n",
       " 28,\n",
       " 22,\n",
       " 33,\n",
       " 38,\n",
       " 26,\n",
       " 39,\n",
       " 34,\n",
       " 32,\n",
       " 46,\n",
       " 47,\n",
       " 28,\n",
       " 29,\n",
       " 36,\n",
       " 37,\n",
       " 29,\n",
       " 40,\n",
       " 23,\n",
       " 41,\n",
       " 29,\n",
       " 29,\n",
       " 39,\n",
       " 37,\n",
       " 37,\n",
       " 34,\n",
       " 21,\n",
       " 29,\n",
       " 34,\n",
       " 43,\n",
       " 32,\n",
       " 38,\n",
       " 32,\n",
       " 35,\n",
       " 43,\n",
       " 42,\n",
       " 34,\n",
       " 29,\n",
       " 28,\n",
       " 39,\n",
       " 40,\n",
       " 29,\n",
       " 34,\n",
       " 25,\n",
       " 29,\n",
       " 25,\n",
       " 32,\n",
       " 37,\n",
       " 46,\n",
       " 43,\n",
       " 40,\n",
       " 47,\n",
       " 31,\n",
       " 40,\n",
       " 42,\n",
       " 27,\n",
       " 32,\n",
       " 34,\n",
       " 32,\n",
       " 33,\n",
       " 35,\n",
       " 37,\n",
       " 32,\n",
       " 31,\n",
       " 31,\n",
       " 40,\n",
       " 29,\n",
       " 26,\n",
       " 34,\n",
       " 32,\n",
       " 43,\n",
       " 32,\n",
       " 30,\n",
       " 29,\n",
       " 37,\n",
       " 37,\n",
       " 45,\n",
       " 31,\n",
       " 24,\n",
       " 28,\n",
       " 39,\n",
       " 38,\n",
       " 30,\n",
       " 30,\n",
       " 29,\n",
       " 29,\n",
       " 34,\n",
       " 44,\n",
       " 41,\n",
       " 37,\n",
       " 33,\n",
       " 33,\n",
       " 33,\n",
       " 42,\n",
       " 28,\n",
       " 36,\n",
       " 25,\n",
       " 33,\n",
       " 29,\n",
       " 33,\n",
       " 26,\n",
       " 44,\n",
       " 35,\n",
       " 33,\n",
       " 33,\n",
       " 35,\n",
       " 37,\n",
       " 30,\n",
       " 38,\n",
       " 30,\n",
       " 34,\n",
       " 45,\n",
       " 35,\n",
       " 41,\n",
       " 28,\n",
       " 34,\n",
       " 38,\n",
       " 30,\n",
       " 36,\n",
       " 37,\n",
       " 37,\n",
       " 30,\n",
       " 38,\n",
       " 41,\n",
       " 38,\n",
       " 26,\n",
       " 20,\n",
       " 30,\n",
       " 33,\n",
       " 28,\n",
       " 38,\n",
       " 35,\n",
       " 30,\n",
       " 28,\n",
       " 28,\n",
       " 37,\n",
       " 21,\n",
       " 38,\n",
       " 32,\n",
       " 32,\n",
       " 37,\n",
       " 30,\n",
       " 32,\n",
       " 32,\n",
       " 32,\n",
       " 39,\n",
       " 26,\n",
       " 37,\n",
       " 35,\n",
       " 34,\n",
       " 33,\n",
       " 34,\n",
       " 34,\n",
       " 24,\n",
       " 29,\n",
       " 46,\n",
       " 34,\n",
       " 27,\n",
       " 43,\n",
       " 42,\n",
       " 29,\n",
       " 30,\n",
       " 24,\n",
       " 32,\n",
       " 29,\n",
       " 35,\n",
       " 34,\n",
       " 44,\n",
       " 39,\n",
       " 37,\n",
       " 52,\n",
       " 40,\n",
       " 37,\n",
       " 31,\n",
       " 29,\n",
       " 31,\n",
       " 25,\n",
       " 31,\n",
       " 35,\n",
       " 38,\n",
       " 33,\n",
       " 31,\n",
       " 40,\n",
       " 44,\n",
       " 32,\n",
       " 35,\n",
       " 29,\n",
       " 43,\n",
       " 35,\n",
       " 34,\n",
       " 41,\n",
       " 30,\n",
       " 33,\n",
       " 34,\n",
       " 45,\n",
       " 36,\n",
       " 26,\n",
       " 41,\n",
       " 28,\n",
       " 40,\n",
       " 34,\n",
       " ...]"
      ]
     },
     "execution_count": 61,
     "metadata": {},
     "output_type": "execute_result"
    }
   ],
   "source": [
    "ys"
   ]
  },
  {
   "cell_type": "code",
   "execution_count": 62,
   "id": "157e50c0",
   "metadata": {},
   "outputs": [
    {
     "data": {
      "text/plain": [
       "12"
      ]
     },
     "execution_count": 62,
     "metadata": {},
     "output_type": "execute_result"
    }
   ],
   "source": [
    "min(ys)"
   ]
  },
  {
   "cell_type": "code",
   "execution_count": 63,
   "id": "49182014",
   "metadata": {},
   "outputs": [
    {
     "data": {
      "text/plain": [
       "58"
      ]
     },
     "execution_count": 63,
     "metadata": {},
     "output_type": "execute_result"
    }
   ],
   "source": [
    "max(ys)"
   ]
  },
  {
   "cell_type": "code",
   "execution_count": 64,
   "id": "11b3bc0a",
   "metadata": {},
   "outputs": [
    {
     "data": {
      "image/png": "[encoded data removed]",
      "text/plain": [
       "<Figure size 432x288 with 1 Axes>"
      ]
     },
     "metadata": {
      "needs_background": "light"
     },
     "output_type": "display_data"
    }
   ],
   "source": [
    "plt.hist(ys);"
   ]
  },
  {
   "cell_type": "code",
   "execution_count": 65,
   "id": "1a110eb8",
   "metadata": {},
   "outputs": [
    {
     "data": {
      "text/plain": [
       "4"
      ]
     },
     "execution_count": 65,
     "metadata": {},
     "output_type": "execute_result"
    }
   ],
   "source": [
    "random.choice(list((1,2,3,4)))"
   ]
  },
  {
   "cell_type": "code",
   "execution_count": 66,
   "id": "2705751b",
   "metadata": {},
   "outputs": [
    {
     "data": {
      "text/plain": [
       "1"
      ]
     },
     "execution_count": 66,
     "metadata": {},
     "output_type": "execute_result"
    }
   ],
   "source": [
    "random.choice(list((1,2,3,4)))"
   ]
  },
  {
   "cell_type": "code",
   "execution_count": 67,
   "id": "99d60a1c",
   "metadata": {},
   "outputs": [],
   "source": [
    "import numpy as np"
   ]
  },
  {
   "cell_type": "code",
   "execution_count": 68,
   "id": "10dd1bed",
   "metadata": {},
   "outputs": [
    {
     "data": {
      "text/plain": [
       "0.685108249707617"
      ]
     },
     "execution_count": 68,
     "metadata": {},
     "output_type": "execute_result"
    }
   ],
   "source": [
    "np.random.random()"
   ]
  },
  {
   "cell_type": "code",
   "execution_count": 69,
   "id": "e088dfbb",
   "metadata": {},
   "outputs": [
    {
     "data": {
      "text/plain": [
       "0.2643461021932194"
      ]
     },
     "execution_count": 69,
     "metadata": {},
     "output_type": "execute_result"
    }
   ],
   "source": [
    "np.random.random()"
   ]
  },
  {
   "cell_type": "code",
   "execution_count": 70,
   "id": "f4a47413",
   "metadata": {},
   "outputs": [
    {
     "data": {
      "text/plain": [
       "0.23544629198540246"
      ]
     },
     "execution_count": 70,
     "metadata": {},
     "output_type": "execute_result"
    }
   ],
   "source": [
    "np.random.random()"
   ]
  },
  {
   "cell_type": "code",
   "execution_count": 71,
   "id": "e29a6b18",
   "metadata": {},
   "outputs": [
    {
     "data": {
      "text/plain": [
       "array([0.60873387, 0.78296871, 0.01661043, 0.69661332, 0.93230249,\n",
       "       0.03116339])"
      ]
     },
     "execution_count": 71,
     "metadata": {},
     "output_type": "execute_result"
    }
   ],
   "source": [
    "np.random.random(6)"
   ]
  },
  {
   "cell_type": "code",
   "execution_count": 72,
   "id": "530d91c4",
   "metadata": {},
   "outputs": [
    {
     "data": {
      "text/plain": [
       "array([0.76607817, 0.37435014, 0.51925868, 0.20672311])"
      ]
     },
     "execution_count": 72,
     "metadata": {},
     "output_type": "execute_result"
    }
   ],
   "source": [
    "np.random.random(4)"
   ]
  },
  {
   "cell_type": "code",
   "execution_count": 73,
   "id": "ccb9a41b",
   "metadata": {},
   "outputs": [
    {
     "data": {
      "text/plain": [
       "array([[0.59792104, 0.8383879 , 0.29592311],\n",
       "       [0.62374237, 0.25748009, 0.32371861]])"
      ]
     },
     "execution_count": 73,
     "metadata": {},
     "output_type": "execute_result"
    }
   ],
   "source": [
    "np.random.random((2,3))"
   ]
  },
  {
   "cell_type": "code",
   "execution_count": 74,
   "id": "7ae7a891",
   "metadata": {},
   "outputs": [
    {
     "data": {
      "text/plain": [
       "array([[0.19238763, 0.59024079, 0.7307597 , 0.46604509],\n",
       "       [0.69524151, 0.44110203, 0.26817189, 0.07650328],\n",
       "       [0.00301728, 0.83073333, 0.56655473, 0.5799957 ],\n",
       "       [0.50145347, 0.79099683, 0.02637114, 0.43576027]])"
      ]
     },
     "execution_count": 74,
     "metadata": {},
     "output_type": "execute_result"
    }
   ],
   "source": [
    "np.random.random((4,4))"
   ]
  },
  {
   "cell_type": "code",
   "execution_count": 75,
   "id": "53fb3176",
   "metadata": {},
   "outputs": [
    {
     "data": {
      "text/plain": [
       "0.4113013237206911"
      ]
     },
     "execution_count": 75,
     "metadata": {},
     "output_type": "execute_result"
    }
   ],
   "source": [
    "np.random.normal(0,1)"
   ]
  },
  {
   "cell_type": "code",
   "execution_count": 76,
   "id": "19d1f981",
   "metadata": {},
   "outputs": [
    {
     "data": {
      "text/plain": [
       "0.37821496804742616"
      ]
     },
     "execution_count": 76,
     "metadata": {},
     "output_type": "execute_result"
    }
   ],
   "source": [
    "np.random.normal(0,1)"
   ]
  },
  {
   "cell_type": "code",
   "execution_count": 77,
   "id": "21b5e6a9",
   "metadata": {},
   "outputs": [
    {
     "data": {
      "text/plain": [
       "1.0811642632223464"
      ]
     },
     "execution_count": 77,
     "metadata": {},
     "output_type": "execute_result"
    }
   ],
   "source": [
    "np.random.normal(0,1)"
   ]
  },
  {
   "cell_type": "code",
   "execution_count": 78,
   "id": "647387bb",
   "metadata": {},
   "outputs": [
    {
     "data": {
      "text/plain": [
       "array([-0.60744389,  0.78858223, -1.28859083,  0.19981699, -1.37318821])"
      ]
     },
     "execution_count": 78,
     "metadata": {},
     "output_type": "execute_result"
    }
   ],
   "source": [
    "np.random.normal(0,1,5)"
   ]
  },
  {
   "cell_type": "code",
   "execution_count": 79,
   "id": "1bd948cd",
   "metadata": {},
   "outputs": [
    {
     "data": {
      "text/plain": [
       "array([ 0.53966191,  1.95134125, -1.86186728,  0.10222382, -1.07962696,\n",
       "        0.58424176])"
      ]
     },
     "execution_count": 79,
     "metadata": {},
     "output_type": "execute_result"
    }
   ],
   "source": [
    "np.random.normal(0,1,6)"
   ]
  },
  {
   "cell_type": "code",
   "execution_count": 80,
   "id": "f332dad0",
   "metadata": {},
   "outputs": [
    {
     "data": {
      "text/plain": [
       "array([[-0.26343346,  0.80220786, -0.24275582, -0.44713712, -0.92264928],\n",
       "       [ 0.06557709, -2.05180342,  0.34928702, -1.10742572,  0.87685835]])"
      ]
     },
     "execution_count": 80,
     "metadata": {},
     "output_type": "execute_result"
    }
   ],
   "source": [
    "np.random.normal(0,1,(2,5))"
   ]
  },
  {
   "cell_type": "code",
   "execution_count": 81,
   "id": "3a235bf4",
   "metadata": {},
   "outputs": [
    {
     "data": {
      "text/plain": [
       "6"
      ]
     },
     "execution_count": 81,
     "metadata": {},
     "output_type": "execute_result"
    }
   ],
   "source": [
    "np.random.randint(1,7)"
   ]
  },
  {
   "cell_type": "code",
   "execution_count": 82,
   "id": "70b6fa20",
   "metadata": {},
   "outputs": [
    {
     "data": {
      "text/plain": [
       "1"
      ]
     },
     "execution_count": 82,
     "metadata": {},
     "output_type": "execute_result"
    }
   ],
   "source": [
    "np.random.randint(1,7)"
   ]
  },
  {
   "cell_type": "code",
   "execution_count": 83,
   "id": "189a7f2c",
   "metadata": {},
   "outputs": [
    {
     "data": {
      "text/plain": [
       "2"
      ]
     },
     "execution_count": 83,
     "metadata": {},
     "output_type": "execute_result"
    }
   ],
   "source": [
    "np.random.randint(1,7)"
   ]
  },
  {
   "cell_type": "code",
   "execution_count": 85,
   "id": "91215f34",
   "metadata": {},
   "outputs": [],
   "source": [
    "x = np.random.randint(1,7,(5,3))"
   ]
  },
  {
   "cell_type": "code",
   "execution_count": 86,
   "id": "717f23c9",
   "metadata": {},
   "outputs": [
    {
     "data": {
      "text/plain": [
       "array([[2, 5, 5],\n",
       "       [6, 6, 1],\n",
       "       [6, 2, 5],\n",
       "       [1, 1, 4],\n",
       "       [4, 3, 6]])"
      ]
     },
     "execution_count": 86,
     "metadata": {},
     "output_type": "execute_result"
    }
   ],
   "source": [
    "x"
   ]
  },
  {
   "cell_type": "code",
   "execution_count": 87,
   "id": "a752c41b",
   "metadata": {},
   "outputs": [
    {
     "data": {
      "text/plain": [
       "(5, 3)"
      ]
     },
     "execution_count": 87,
     "metadata": {},
     "output_type": "execute_result"
    }
   ],
   "source": [
    "x.shape"
   ]
  },
  {
   "cell_type": "code",
   "execution_count": 88,
   "id": "87cef20b",
   "metadata": {},
   "outputs": [],
   "source": [
    "np.sum?"
   ]
  },
  {
   "cell_type": "code",
   "execution_count": 89,
   "id": "b3a47923",
   "metadata": {},
   "outputs": [
    {
     "data": {
      "text/plain": [
       "57"
      ]
     },
     "execution_count": 89,
     "metadata": {},
     "output_type": "execute_result"
    }
   ],
   "source": [
    "np.sum(x)"
   ]
  },
  {
   "cell_type": "code",
   "execution_count": 90,
   "id": "83606c96",
   "metadata": {},
   "outputs": [
    {
     "data": {
      "text/plain": [
       "array([19, 17, 21])"
      ]
     },
     "execution_count": 90,
     "metadata": {},
     "output_type": "execute_result"
    }
   ],
   "source": [
    "np.sum(x,axis=0)"
   ]
  },
  {
   "cell_type": "code",
   "execution_count": 91,
   "id": "08d75f40",
   "metadata": {},
   "outputs": [
    {
     "data": {
      "text/plain": [
       "array([12, 13, 13,  6, 13])"
      ]
     },
     "execution_count": 91,
     "metadata": {},
     "output_type": "execute_result"
    }
   ],
   "source": [
    "np.sum(x,axis=1)"
   ]
  },
  {
   "cell_type": "code",
   "execution_count": 96,
   "id": "c3ec1014",
   "metadata": {},
   "outputs": [
    {
     "data": {
      "image/png": "[encoded data removed]",
      "text/plain": [
       "<Figure size 432x288 with 1 Axes>"
      ]
     },
     "metadata": {
      "needs_background": "light"
     },
     "output_type": "display_data"
    }
   ],
   "source": [
    "x = np.random.randint(1,7,(1000000,10))\n",
    "y = np.sum(x,axis=1)\n",
    "plt.hist(y);"
   ]
  },
  {
   "cell_type": "code",
   "execution_count": 98,
   "id": "7e80d3d8",
   "metadata": {},
   "outputs": [
    {
     "data": {
      "text/plain": [
       "array([[[0.74545704, 0.12956335, 0.14749749],\n",
       "        [0.87457218, 0.54859076, 0.8599792 ]],\n",
       "\n",
       "       [[0.30661   , 0.83004478, 0.30071982],\n",
       "        [0.40780311, 0.66335962, 0.36576511]],\n",
       "\n",
       "       [[0.44579766, 0.25473477, 0.29550124],\n",
       "        [0.05214008, 0.5212561 , 0.81951525]],\n",
       "\n",
       "       [[0.51282061, 0.00713749, 0.32518636],\n",
       "        [0.07595553, 0.30982814, 0.33355921]],\n",
       "\n",
       "       [[0.70704145, 0.76900642, 0.20956196],\n",
       "        [0.09957234, 0.4062865 , 0.63247255]]])"
      ]
     },
     "execution_count": 98,
     "metadata": {},
     "output_type": "execute_result"
    }
   ],
   "source": [
    "np.random.random((5,2,3))"
   ]
  },
  {
   "cell_type": "code",
   "execution_count": 99,
   "id": "ee3c181d",
   "metadata": {},
   "outputs": [
    {
     "data": {
      "text/plain": [
       "array([-2.14504074, -0.56670778, -0.34521901])"
      ]
     },
     "execution_count": 99,
     "metadata": {},
     "output_type": "execute_result"
    }
   ],
   "source": [
    "np.random.normal(1,2,3)"
   ]
  },
  {
   "cell_type": "code",
   "execution_count": 100,
   "id": "afcdecdb",
   "metadata": {},
   "outputs": [
    {
     "data": {
      "text/plain": [
       "array([370, 380, 348, 321, 364, 365, 338, 362, 321, 347])"
      ]
     },
     "execution_count": 100,
     "metadata": {},
     "output_type": "execute_result"
    }
   ],
   "source": [
    "np.sum(np.random.randint(1,7,(100,10)), axis=0)"
   ]
  },
  {
   "cell_type": "code",
   "execution_count": 101,
   "id": "9c1ae6b1",
   "metadata": {},
   "outputs": [],
   "source": [
    "import time"
   ]
  },
  {
   "cell_type": "code",
   "execution_count": 103,
   "id": "09d76fc0",
   "metadata": {},
   "outputs": [],
   "source": [
    "start_time = time.time()"
   ]
  },
  {
   "cell_type": "code",
   "execution_count": 104,
   "id": "f2b63db4",
   "metadata": {},
   "outputs": [],
   "source": [
    "end_time = time.time()"
   ]
  },
  {
   "cell_type": "code",
   "execution_count": 105,
   "id": "6bb0aaf9",
   "metadata": {},
   "outputs": [
    {
     "data": {
      "text/plain": [
       "19.183109283447266"
      ]
     },
     "execution_count": 105,
     "metadata": {},
     "output_type": "execute_result"
    }
   ],
   "source": [
    "end_time - start_time"
   ]
  },
  {
   "cell_type": "code",
   "execution_count": 107,
   "id": "220a1166",
   "metadata": {},
   "outputs": [
    {
     "name": "stdout",
     "output_type": "stream",
     "text": [
      "6.346591472625732\n"
     ]
    }
   ],
   "source": [
    "start_time = time.time()\n",
    "ys=[]\n",
    "for reps in range(1000000):\n",
    "    y=0\n",
    "    for k in range(10):\n",
    "        x=random.choice([1,2,3,4,5,6])\n",
    "        y=y+x\n",
    "    ys.append(y)\n",
    "end_time = time.time()\n",
    "print(end_time - start_time)"
   ]
  },
  {
   "cell_type": "code",
   "execution_count": 109,
   "id": "84dbf3cd",
   "metadata": {},
   "outputs": [
    {
     "name": "stdout",
     "output_type": "stream",
     "text": [
      "0.12140965461730957\n"
     ]
    }
   ],
   "source": [
    "start_time = time.time()\n",
    "x = np.random.randint(1,7,(1000000,10))\n",
    "y = np.sum(x,axis=1)\n",
    "end_time = time.time()\n",
    "print(end_time - start_time)"
   ]
  },
  {
   "cell_type": "code",
   "execution_count": 110,
   "id": "4cf5357f",
   "metadata": {},
   "outputs": [],
   "source": [
    "delta_x = np.random.normal(0,1,(2,5))"
   ]
  },
  {
   "cell_type": "code",
   "execution_count": 111,
   "id": "9254723c",
   "metadata": {},
   "outputs": [
    {
     "data": {
      "text/plain": [
       "[<matplotlib.lines.Line2D at 0x11bdc2fca30>]"
      ]
     },
     "execution_count": 111,
     "metadata": {},
     "output_type": "execute_result"
    },
    {
     "data": {
      "image/png": "[encoded data removed]",
      "text/plain": [
       "<Figure size 432x288 with 1 Axes>"
      ]
     },
     "metadata": {
      "needs_background": "light"
     },
     "output_type": "display_data"
    }
   ],
   "source": [
    "plt.plot(delta_x[0], delta_x[1], \"go\")"
   ]
  },
  {
   "cell_type": "code",
   "execution_count": 112,
   "id": "81ce7eb9",
   "metadata": {},
   "outputs": [],
   "source": [
    "x = np.cumsum(delta_x, axis=1)"
   ]
  },
  {
   "cell_type": "code",
   "execution_count": 113,
   "id": "ee69432e",
   "metadata": {},
   "outputs": [
    {
     "data": {
      "text/plain": [
       "array([[-0.54785757, -0.19526811,  0.88850214,  0.68743879,  0.3391812 ],\n",
       "       [-0.55653155, -1.67226541, -2.45609346, -1.33447749, -0.26490359]])"
      ]
     },
     "execution_count": 113,
     "metadata": {},
     "output_type": "execute_result"
    }
   ],
   "source": [
    "x"
   ]
  },
  {
   "cell_type": "code",
   "execution_count": 114,
   "id": "07c5f580",
   "metadata": {},
   "outputs": [
    {
     "data": {
      "text/plain": [
       "array([[-0.54785757,  0.35258946,  1.08377025, -0.20106336, -0.34825759],\n",
       "       [-0.55653155, -1.11573386, -0.78382805,  1.12161597,  1.0695739 ]])"
      ]
     },
     "execution_count": 114,
     "metadata": {},
     "output_type": "execute_result"
    }
   ],
   "source": [
    "delta_x"
   ]
  },
  {
   "cell_type": "code",
   "execution_count": 117,
   "id": "d6135c14",
   "metadata": {},
   "outputs": [
    {
     "data": {
      "text/plain": [
       "[<matplotlib.lines.Line2D at 0x11bdb32b310>]"
      ]
     },
     "execution_count": 117,
     "metadata": {},
     "output_type": "execute_result"
    },
    {
     "data": {
      "image/png": "[encoded data removed]",
      "text/plain": [
       "<Figure size 432x288 with 1 Axes>"
      ]
     },
     "metadata": {
      "needs_background": "light"
     },
     "output_type": "display_data"
    }
   ],
   "source": [
    "x0 = np.array([[0],[0]])\n",
    "delta_x = np.random.normal(0,1,(2,5))\n",
    "x = np.cumsum(delta_x, axis=1)\n",
    "plt.plot(x[0], x[1],\"ro-\")"
   ]
  },
  {
   "cell_type": "code",
   "execution_count": 118,
   "id": "c40bec56",
   "metadata": {},
   "outputs": [],
   "source": [
    "x = np.concatenate((x0, np.cumsum(delta_x, axis=1)),axis=1)"
   ]
  },
  {
   "cell_type": "code",
   "execution_count": 119,
   "id": "e25b779a",
   "metadata": {},
   "outputs": [
    {
     "data": {
      "text/plain": [
       "array([[ 0.        ,  1.96619864,  1.66484023,  2.5099195 ,  2.31650375,\n",
       "         2.42575083],\n",
       "       [ 0.        ,  1.1514307 ,  0.20203437, -0.25291866, -0.93943273,\n",
       "        -0.35466147]])"
      ]
     },
     "execution_count": 119,
     "metadata": {},
     "output_type": "execute_result"
    }
   ],
   "source": [
    "x"
   ]
  },
  {
   "cell_type": "code",
   "execution_count": 120,
   "id": "7300c452",
   "metadata": {},
   "outputs": [
    {
     "data": {
      "text/plain": [
       "[<matplotlib.lines.Line2D at 0x11bdb625700>]"
      ]
     },
     "execution_count": 120,
     "metadata": {},
     "output_type": "execute_result"
    },
    {
     "data": {
      "image/png": "[encoded data removed]",
      "text/plain": [
       "<Figure size 432x288 with 1 Axes>"
      ]
     },
     "metadata": {
      "needs_background": "light"
     },
     "output_type": "display_data"
    }
   ],
   "source": [
    "x0 = np.array([[0],[0]])\n",
    "delta_x = np.random.normal(0,1,(2,5))\n",
    "x = np.concatenate((x0, np.cumsum(delta_x, axis=1)),axis=1)\n",
    "plt.plot(x[0], x[1],\"ro-\")"
   ]
  },
  {
   "cell_type": "code",
   "execution_count": 121,
   "id": "172c7010",
   "metadata": {},
   "outputs": [
    {
     "data": {
      "text/plain": [
       "[<matplotlib.lines.Line2D at 0x11bdb4ee5e0>]"
      ]
     },
     "execution_count": 121,
     "metadata": {},
     "output_type": "execute_result"
    },
    {
     "data": {
      "image/png": "[encoded data removed]",
      "text/plain": [
       "<Figure size 432x288 with 1 Axes>"
      ]
     },
     "metadata": {
      "needs_background": "light"
     },
     "output_type": "display_data"
    }
   ],
   "source": [
    "x0 = np.array([[0],[0]])\n",
    "delta_x = np.random.normal(0,1,(2,100))\n",
    "x = np.concatenate((x0, np.cumsum(delta_x, axis=1)),axis=1)\n",
    "plt.plot(x[0], x[1],\"ro-\")"
   ]
  },
  {
   "cell_type": "code",
   "execution_count": 122,
   "id": "78ba421d",
   "metadata": {},
   "outputs": [],
   "source": [
    "np.concatenate?"
   ]
  },
  {
   "cell_type": "code",
   "execution_count": 124,
   "id": "c27666a0",
   "metadata": {},
   "outputs": [],
   "source": [
    "np.where?"
   ]
  },
  {
   "cell_type": "code",
   "execution_count": 125,
   "id": "38dc02c7",
   "metadata": {},
   "outputs": [
    {
     "data": {
      "text/plain": [
       "array([[0., 0., 0.],\n",
       "       [0., 0., 0.],\n",
       "       [0., 0., 0.]])"
      ]
     },
     "execution_count": 125,
     "metadata": {},
     "output_type": "execute_result"
    }
   ],
   "source": [
    "import numpy as np\n",
    "def create_board():\n",
    "    return np.zeros((3,3))\n",
    "\n",
    "board = create_board()\n",
    "board"
   ]
  },
  {
   "cell_type": "code",
   "execution_count": 126,
   "id": "0163a18a",
   "metadata": {},
   "outputs": [
    {
     "name": "stdout",
     "output_type": "stream",
     "text": [
      "[[1. 0. 0.]\n",
      " [0. 0. 0.]\n",
      " [0. 0. 0.]]\n"
     ]
    }
   ],
   "source": [
    "def place(board,player,position):\n",
    "    if(board[position]==0):\n",
    "        board[position]=player\n",
    "    \n",
    "board = create_board()\n",
    "place(board,1,(0,0))\n",
    "print(board)"
   ]
  },
  {
   "cell_type": "code",
   "execution_count": 127,
   "id": "89de84b7",
   "metadata": {},
   "outputs": [],
   "source": [
    "a = np.where(board==0)"
   ]
  },
  {
   "cell_type": "code",
   "execution_count": 135,
   "id": "3d75a4e5",
   "metadata": {},
   "outputs": [
    {
     "data": {
      "text/plain": [
       "(array([0, 0, 1, 1, 1, 2, 2, 2], dtype=int64),\n",
       " array([1, 2, 0, 1, 2, 0, 1, 2], dtype=int64))"
      ]
     },
     "execution_count": 135,
     "metadata": {},
     "output_type": "execute_result"
    }
   ],
   "source": [
    "a"
   ]
  },
  {
   "cell_type": "code",
   "execution_count": 136,
   "id": "acfeeade",
   "metadata": {},
   "outputs": [],
   "source": [
    "x=list(zip(a[0],a[1]))"
   ]
  },
  {
   "cell_type": "code",
   "execution_count": 137,
   "id": "4cb6083c",
   "metadata": {},
   "outputs": [
    {
     "data": {
      "text/plain": [
       "[(0, 1), (0, 2), (1, 0), (1, 1), (1, 2), (2, 0), (2, 1), (2, 2)]"
      ]
     },
     "execution_count": 137,
     "metadata": {},
     "output_type": "execute_result"
    }
   ],
   "source": [
    "x"
   ]
  },
  {
   "cell_type": "code",
   "execution_count": 141,
   "id": "104dd2ef",
   "metadata": {},
   "outputs": [],
   "source": [
    "np.all?"
   ]
  },
  {
   "cell_type": "code",
   "execution_count": 139,
   "id": "cf66912f",
   "metadata": {},
   "outputs": [],
   "source": [
    "np.diag?"
   ]
  },
  {
   "cell_type": "code",
   "execution_count": 140,
   "id": "a9073a2d",
   "metadata": {},
   "outputs": [],
   "source": [
    "np.fliplr?"
   ]
  }
 ],
 "metadata": {
  "kernelspec": {
   "display_name": "Python 3 (ipykernel)",
   "language": "python",
   "name": "python3"
  },
  "language_info": {
   "codemirror_mode": {
    "name": "ipython",
    "version": 3
   },
   "file_extension": ".py",
   "mimetype": "text/x-python",
   "name": "python",
   "nbconvert_exporter": "python",
   "pygments_lexer": "ipython3",
   "version": "3.9.7"
  }
 },
 "nbformat": 4,
 "nbformat_minor": 5
}
